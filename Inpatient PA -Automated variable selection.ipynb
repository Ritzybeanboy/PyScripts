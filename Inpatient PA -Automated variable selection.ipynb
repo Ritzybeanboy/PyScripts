{
 "cells": [
  {
   "cell_type": "markdown",
   "metadata": {},
   "source": [
    "# Introduction and Summary\n",
    "\n",
    "**Problem Description**\n",
    "* Client estimates that an unplanned, acute inpatient admission incurrs approximately $15,170 in cost to insurers per event.\n",
    "* Given that Client profits from shared savings, this also impacts Client's bottom line.\n",
    "* Since these are unexpected events, Client is only able now to analyze them in hindsight.  Therefore, we examined 1,978,184 \"patient months\" of claims, clinical and demographic patient information from 2016 and 2017 in order to determine if we could find statistical patterns in the data that might allow us to predict which patients are most at risk for these events.\n",
    "\n",
    "**Goals of Project**\n",
    "* The goal is that if we are able to identify the patients most at risk, Client can begin to design potential interventons and treatments to reduce this risk resulting in healthier patients, lower costs, and more shared savings.\n",
    "* Our target for prediction is a patient month in which that patient has an acute, inpatient claim that is coincided on the same calendar date by an ER visit within the next 6 calendar months.\n",
    "\n",
    "**Output of Project**\n",
    "* We fit a statistical model using logistic regression and use this model to test against a holdout set of this data in order to evaluate its performance.  \n",
    "* If the model's performance is acceptable, we will then make predictions for 2018."
   ]
  },
  {
   "cell_type": "markdown",
   "metadata": {},
   "source": [
    "# Import Packages and Settings"
   ]
  },
  {
   "cell_type": "code",
   "execution_count": 1,
   "metadata": {},
   "outputs": [
    {
     "name": "stderr",
     "output_type": "stream",
     "text": [
      "C:\\Users\\bburns\\AppData\\Local\\Continuum\\anaconda3\\lib\\site-packages\\statsmodels\\compat\\pandas.py:56: FutureWarning: The pandas.core.datetools module is deprecated and will be removed in a future version. Please use the pandas.tseries module instead.\n",
      "  from pandas.core import datetools\n"
     ]
    }
   ],
   "source": [
    "import pyodbc\n",
    "import pandas as pd\n",
    "import numpy as np\n",
    "import matplotlib.pyplot as plt\n",
    "import seaborn as sns\n",
    "import scipy as sp\n",
    "from yellowbrick.classifier import ConfusionMatrix\n",
    "from sklearn.metrics import confusion_matrix\n",
    "\n",
    "# Display options\n",
    "pd.options.display.max_columns = None\n",
    "%matplotlib inline\n",
    "sns.set(rc={'figure.figsize':(11.7,8.27)}) # Sets the size of plots to be a little bigger.\n",
    "sns.set_style(\"darkgrid\") # Set style of plots\n",
    "sns.set_context(\"notebook\") # Set plots to format for Jupyter\n",
    "pd.options.display.float_format = '{:,.5f}'.format #Set to display only 5 decimal places\n",
    "\n",
    "#Import module to create our training and test sets.\n",
    "from sklearn.model_selection import train_test_split\n",
    "from sklearn.preprocessing import MinMaxScaler\n",
    "\n",
    "\n",
    "\n",
    "# Machine Learning\n",
    "import statsmodels.api as sm \n",
    "from sklearn.linear_model import LogisticRegression\n",
    "from sklearn.svm import SVC, LinearSVC\n",
    "from sklearn.ensemble import RandomForestClassifier\n",
    "from sklearn.neighbors import KNeighborsClassifier\n",
    "from sklearn.naive_bayes import GaussianNB\n",
    "from sklearn.linear_model import Perceptron\n",
    "from sklearn.linear_model import SGDClassifier\n",
    "from sklearn.tree import DecisionTreeClassifier\n",
    "from sklearn.metrics import roc_curve, roc_auc_score, auc"
   ]
  },
  {
   "cell_type": "code",
   "execution_count": 2,
   "metadata": {},
   "outputs": [
    {
     "data": {
      "application/javascript": [
       "$('<div id=\"toc\"></div>').css({position: 'fixed', top: '120px', left: 0}).appendTo(document.body);\n",
       "$.getScript('https://kmahelona.github.io/ipython_notebook_goodies/ipython_notebook_toc.js');"
      ],
      "text/plain": [
       "<IPython.core.display.Javascript object>"
      ]
     },
     "metadata": {},
     "output_type": "display_data"
    }
   ],
   "source": [
    "%%javascript\n",
    "$('<div id=\"toc\"></div>').css({position: 'fixed', top: '120px', left: 0}).appendTo(document.body);\n",
    "$.getScript('https://kmahelona.github.io/ipython_notebook_goodies/ipython_notebook_toc.js');"
   ]
  },
  {
   "cell_type": "markdown",
   "metadata": {},
   "source": [
    "# Connect to DB and Initialize DataFrames"
   ]
  },
  {
   "cell_type": "code",
   "execution_count": 3,
   "metadata": {
    "collapsed": true
   },
   "outputs": [],
   "source": [
    "con = pyodbc.connect('Trusted_Connection=yes', driver='{SQL Server}', server='dev-sql05', database='Delphi')\n",
    "\n",
    "cur = con.cursor()\n",
    "\n",
    "querystring = 'SELECT * FROM stage_PatientClaimDetail_Combined'\n",
    "\n",
    "df_AcuteInpatient = pd.read_sql(querystring,con)"
   ]
  },
  {
   "cell_type": "code",
   "execution_count": 4,
   "metadata": {
    "collapsed": true
   },
   "outputs": [],
   "source": [
    "# Create dfs for modeling and predictions.\n",
    "    # Modeling set is all data from 2016/2017.\n",
    "    # Predict2018 set is all data from 2018 or later.\n",
    "\n",
    "df_Modeling = df_AcuteInpatient[df_AcuteInpatient.DateMonthlyID < 337]\n",
    "\n",
    "df_Predict2018 = df_AcuteInpatient[df_AcuteInpatient.DateMonthlyID >= 337]\n",
    "\n",
    "# Convert all possible columns to int, ignore if not int (prevents errors in other procs).\n",
    "df_AcuteInpatient = df_AcuteInpatient.apply(pd.to_numeric, errors='ignore')\n",
    "\n",
    "# Create dfs to compare Target vs Non-Target populations.\n",
    "df_Target = df_Modeling[df_Modeling.HasAcuteERIn6Mths == 1]\n",
    "\n",
    "df_NonTarget = df_Modeling[df_Modeling.HasAcuteERIn6Mths == 0]\n"
   ]
  },
  {
   "cell_type": "markdown",
   "metadata": {},
   "source": [
    "## Automated Feature Selection\n",
    "\n",
    "Some vars that have a large number of classes but no obvious correlation will be excluded to keep the list of candidate vars manageable."
   ]
  },
  {
   "cell_type": "code",
   "execution_count": 5,
   "metadata": {
    "collapsed": true
   },
   "outputs": [],
   "source": [
    "# Create new df to analyze features\n",
    "\n",
    "# Make copy of main df for binary variables\n",
    "df_CatFeatures = df_AcuteInpatient.copy(deep=True)\n",
    "\n",
    "# Make copy of main df for numeric vars\n",
    "df_NumFeatures = df_AcuteInpatient.copy(deep=True)"
   ]
  },
  {
   "cell_type": "code",
   "execution_count": 8,
   "metadata": {
    "collapsed": true
   },
   "outputs": [],
   "source": [
    "\n",
    "# Drop non-categorical columns\n",
    "df_CatFeatures = df_CatFeatures[[\n",
    " 'IsCOPD'\n",
    ",'IsDiabetes'\n",
    ",'IsHeartFailure'\n",
    ",'IsHypertension'\n",
    ",'IsChronicKidney'\n",
    ",'HasPreviousAdmit'\n",
    ",'Has3MonthSurgery'\n",
    ",'HasMedicareIns'\n",
    ",'MaritalStatus'\n",
    ",'Over21AgeBracketID'\n",
    ",'HasAcuteERIn6Mths'\n",
    "]]"
   ]
  },
  {
   "cell_type": "code",
   "execution_count": 9,
   "metadata": {
    "collapsed": true
   },
   "outputs": [],
   "source": [
    "# Change categorical columns to Categorical data type\n",
    "df_CatFeatures['MaritalStatus'] = df_CatFeatures['MaritalStatus'].astype('category')\n",
    "df_CatFeatures['Over21AgeBracketID'] = df_CatFeatures['Over21AgeBracketID'].astype('category')"
   ]
  },
  {
   "cell_type": "code",
   "execution_count": 10,
   "metadata": {
    "collapsed": true
   },
   "outputs": [],
   "source": [
    "# Convert categorical to dummies\n",
    "df_CatFeatures = pd.get_dummies(df_CatFeatures)"
   ]
  },
  {
   "cell_type": "code",
   "execution_count": 11,
   "metadata": {
    "collapsed": true
   },
   "outputs": [],
   "source": [
    "# Drop non-numeric columns\n",
    "df_NumFeatures = df_NumFeatures[[\n",
    "'OPPLast6Mths'\n",
    ",'CntInpatient'\n",
    ",'CntIsERClaim'\n",
    ",'HasAcuteERIn6Mths'\n",
    "]]"
   ]
  },
  {
   "cell_type": "code",
   "execution_count": 12,
   "metadata": {
    "collapsed": true
   },
   "outputs": [],
   "source": [
    "# Change any NULLs to 0\n",
    "df_CatFeatures = df_CatFeatures.fillna(0)\n",
    "df_NumFeatures = df_NumFeatures.fillna(0)"
   ]
  },
  {
   "cell_type": "code",
   "execution_count": 13,
   "metadata": {
    "collapsed": true
   },
   "outputs": [],
   "source": [
    "# Add all columns to a new array.\n",
    "cols=df_CatFeatures.columns.values.tolist()\n",
    "\n",
    "XCat=df_CatFeatures[cols]\n",
    "yCat=df_CatFeatures['HasAcuteERIn6Mths']"
   ]
  },
  {
   "cell_type": "code",
   "execution_count": 14,
   "metadata": {
    "collapsed": true
   },
   "outputs": [],
   "source": [
    "# Add all columns to a new array.\n",
    "cols=df_NumFeatures.columns.values.tolist()\n",
    "\n",
    "XNum=df_NumFeatures[cols]\n",
    "yNum=df_NumFeatures['HasAcuteERIn6Mths']"
   ]
  },
  {
   "cell_type": "code",
   "execution_count": 15,
   "metadata": {
    "collapsed": true
   },
   "outputs": [],
   "source": [
    "# Drop target from features for consideration\n",
    "XCat = XCat.drop(columns=['HasAcuteERIn6Mths']) \n",
    "XNum = XNum.drop(columns=['HasAcuteERIn6Mths']) "
   ]
  },
  {
   "cell_type": "code",
   "execution_count": null,
   "metadata": {
    "collapsed": true
   },
   "outputs": [],
   "source": []
  },
  {
   "cell_type": "code",
   "execution_count": 19,
   "metadata": {},
   "outputs": [
    {
     "name": "stdout",
     "output_type": "stream",
     "text": [
      "              Feat_names          Chi2    pval\n",
      "6       HasPreviousAdmit 129,050.73973 0.00000\n",
      "21  Over21AgeBracketID_5  44,589.53248 0.00000\n",
      "8         HasMedicareIns  36,934.69378 0.00000\n",
      "3         IsHeartFailure  35,010.50796 0.00000\n",
      "7       Has3MonthSurgery  26,057.71042 0.00000\n",
      "1                 IsCOPD  19,944.43614 0.00000\n",
      "5        IsChronicKidney  19,549.89638 0.00000\n",
      "15       MaritalStatus_W  19,442.95306 0.00000\n",
      "20  Over21AgeBracketID_4  15,977.17481 0.00000\n",
      "19  Over21AgeBracketID_3   9,325.74892 0.00000\n",
      "18  Over21AgeBracketID_2   7,116.39893 0.00000\n",
      "2             IsDiabetes   6,755.59693 0.00000\n",
      "17  Over21AgeBracketID_1   5,426.08945 0.00000\n",
      "4         IsHypertension   5,180.33504 0.00000\n",
      "11       MaritalStatus_M   4,570.30610 0.00000\n",
      "13       MaritalStatus_S     884.48018 0.00000\n",
      "0               IsAsthma     434.04671 0.00000\n",
      "14       MaritalStatus_U       7.66371 0.00563\n",
      "10       MaritalStatus_D       4.75544 0.02921\n",
      "16       MaritalStatus_X       3.67793 0.05514\n",
      "9        MaritalStatus_        1.06404 0.30230\n",
      "12       MaritalStatus_P       0.05076 0.82174\n"
     ]
    }
   ],
   "source": [
    "from sklearn.feature_selection import SelectKBest, chi2\n",
    "#Features with top Chi^2\n",
    "selector = SelectKBest(chi2, k = 'all')\n",
    "#New dataframe with the selected features for later use in the classifier. fit() method works too, if you want only the feature names and their corresponding scores\n",
    "X_new = selector.fit_transform(XCat, yCat)\n",
    "names = XCat.columns.values[selector.get_support()]\n",
    "scores = selector.scores_[selector.get_support()]\n",
    "pval = selector.pvalues_ [selector.get_support()]\n",
    "names_scores = list(zip(names, scores, pval))\n",
    "ns_df = pd.DataFrame(data = names_scores, columns=['Feat_names', 'Chi2', 'pval'])\n",
    "#Sort the dataframe for better visualization\n",
    "ns_df_sorted = ns_df.sort_values(['Chi2', 'Feat_names'], ascending = [False, True])\n",
    "print(ns_df_sorted)"
   ]
  },
  {
   "cell_type": "code",
   "execution_count": 18,
   "metadata": {},
   "outputs": [
    {
     "name": "stdout",
     "output_type": "stream",
     "text": [
      "     Feat_names      F_Scores    pval\n",
      "1  CntInpatient 436,979.68878 0.00000\n",
      "0  OPPLast6Mths  62,936.24391 0.00000\n",
      "2  CntIsERClaim   1,684.10392 0.00000\n"
     ]
    }
   ],
   "source": [
    "from sklearn.feature_selection import SelectKBest, f_classif\n",
    "#Features with top F-scores\n",
    "selector = SelectKBest(f_classif, k = 'all')\n",
    "#New dataframe with the selected features for later use in the classifier. fit() method works too, if you want only the feature names and their corresponding scores\n",
    "X_new = selector.fit_transform(XNum, yNum)\n",
    "names = XNum.columns.values[selector.get_support()]\n",
    "scores = selector.scores_[selector.get_support()]\n",
    "pval = selector.pvalues_ [selector.get_support()]\n",
    "names_scores = list(zip(names, scores, pval))\n",
    "ns_df = pd.DataFrame(data = names_scores, columns=['Feat_names', 'F_Scores', 'pval'])\n",
    "#Sort the dataframe for better visualization\n",
    "ns_df_sorted = ns_df.sort_values(['F_Scores', 'Feat_names'], ascending = [False, True])\n",
    "print(ns_df_sorted)"
   ]
  },
  {
   "cell_type": "code",
   "execution_count": null,
   "metadata": {
    "collapsed": true
   },
   "outputs": [],
   "source": []
  }
 ],
 "metadata": {
  "kernelspec": {
   "display_name": "Python 3",
   "language": "python",
   "name": "python3"
  },
  "language_info": {
   "codemirror_mode": {
    "name": "ipython",
    "version": 3
   },
   "file_extension": ".py",
   "mimetype": "text/x-python",
   "name": "python",
   "nbconvert_exporter": "python",
   "pygments_lexer": "ipython3",
   "version": "3.6.2"
  }
 },
 "nbformat": 4,
 "nbformat_minor": 2
}
