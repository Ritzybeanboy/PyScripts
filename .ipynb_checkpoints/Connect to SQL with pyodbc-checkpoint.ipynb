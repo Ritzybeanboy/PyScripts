{
 "cells": [
  {
   "cell_type": "code",
   "execution_count": 35,
   "metadata": {
    "collapsed": false
   },
   "outputs": [],
   "source": [
    "import pyodbc\n",
    "\n",
    "con = pyodbc.connect('Trusted_Connection=yes', driver = '{SQL Server}',server = 'smc-sql-2014,1434\\phi ', database = 'DataBridge_Ben')\n",
    "\n",
    "cur = con.cursor()\n",
    "\n",
    "querystring = \"select TOP 1000 * FROM BBAB_ActivePersonDetail\"\n",
    "\n",
    "cur.execute(querystring)\n",
    "\n",
    "result_set = cur.fetchall()"
   ]
  },
  {
   "cell_type": "code",
   "execution_count": 33,
   "metadata": {
    "collapsed": false
   },
   "outputs": [
    {
     "name": "stdout",
     "output_type": "stream",
     "text": [
      "(9159320, 117289, 112, 1, datetime.datetime(1926, 11, 28, 0, 0), 90, '70+', 'Non-Hispanic', 'Female', 'Asian', 'Single Person', None, None, 'Other', 'Single', None, 1, 1, 1, 1, 1, 'SHERMAN', 'CT', '06784', None, None, None, 1, None, 'Undeclared          ', 'Other', 'Undeclared', None, 0, 0, 0, 0, 0, 1, 1, 0, 0, 2, 2, 1, 0, 0, 0, 1, 1, 0, 0, 0, 0, 0, 0, 0, 0)\n"
     ]
    }
   ],
   "source": [
    "print(result_set[1])"
   ]
  },
  {
   "cell_type": "code",
   "execution_count": 36,
   "metadata": {
    "collapsed": false
   },
   "outputs": [
    {
     "name": "stdout",
     "output_type": "stream",
     "text": [
      "ActivePersonKey\n",
      "PersonID\n",
      "DateMonthlyKey\n",
      "IsActive\n",
      "Birthdate\n",
      "YearsOfAge\n",
      "AgeRange\n",
      "EthnicityDesc\n",
      "GenderDescription\n",
      "RaceDesc\n",
      "FamilyTypeDesc\n",
      "PrimaryLanguageDesc\n",
      "SecondaryLanguageDesc\n",
      "EducationDesc\n",
      "MaritalStatusDesc\n",
      "AnnualIncome\n",
      "Student\n",
      "Veteran\n",
      "Farmer\n",
      "Disabled\n",
      "Pregnant\n",
      "City\n",
      "State\n",
      "Zip\n",
      "FPL\n",
      "HouseholdFPL\n",
      "FPLLevelDesc\n",
      "HouseholdSize\n",
      "HouseholdAnnualIncome\n",
      "HousingTypeDesc\n",
      "DwellingTypeDesc\n",
      "HeatingTypeDesc\n",
      "DeceasedDate\n",
      "DSSJobsFirst-TFA\n",
      "DSSSNAPRecipient\n",
      "WIC\n",
      "DSSSAGACash\n",
      "DSSStateSupplement\n",
      "MigrantFarmWorker\n",
      "SeasonalFarmWorker\n",
      "DSSSAGAMedical\n",
      "DSSHusky\n",
      "PurchaseandPrepare\n",
      "Abletowork\n",
      "OnStrike\n",
      "CharterOak\n",
      "Medicare\n",
      "Medicaid\n",
      "Blind\n",
      "HearingImpaired\n",
      "DOCHealthInsurance\n",
      "GenericHealthInsurance\n",
      "PrivateHealthInsurance\n",
      "NoHealthInsurance\n",
      "HUSKYD\n",
      "ProficientCommunicatinginEnglish\n",
      "SocialSecurity\n",
      "SSI\n"
     ]
    }
   ],
   "source": [
    "## Get column names from a table\n",
    "for row in cur.columns(table='BBAB_ActivePersonDetail'):\n",
    "    print(row.column_name)"
   ]
  },
  {
   "cell_type": "code",
   "execution_count": 98,
   "metadata": {
    "collapsed": true
   },
   "outputs": [],
   "source": []
  },
  {
   "cell_type": "code",
   "execution_count": null,
   "metadata": {
    "collapsed": true
   },
   "outputs": [],
   "source": []
  },
  {
   "cell_type": "code",
   "execution_count": null,
   "metadata": {
    "collapsed": true
   },
   "outputs": [],
   "source": []
  },
  {
   "cell_type": "code",
   "execution_count": null,
   "metadata": {
    "collapsed": true
   },
   "outputs": [],
   "source": []
  },
  {
   "cell_type": "code",
   "execution_count": null,
   "metadata": {
    "collapsed": true
   },
   "outputs": [],
   "source": []
  },
  {
   "cell_type": "code",
   "execution_count": null,
   "metadata": {
    "collapsed": true
   },
   "outputs": [],
   "source": []
  },
  {
   "cell_type": "code",
   "execution_count": null,
   "metadata": {
    "collapsed": true
   },
   "outputs": [],
   "source": []
  },
  {
   "cell_type": "code",
   "execution_count": null,
   "metadata": {
    "collapsed": true
   },
   "outputs": [],
   "source": []
  },
  {
   "cell_type": "code",
   "execution_count": null,
   "metadata": {
    "collapsed": true
   },
   "outputs": [],
   "source": []
  },
  {
   "cell_type": "code",
   "execution_count": null,
   "metadata": {
    "collapsed": true
   },
   "outputs": [],
   "source": []
  },
  {
   "cell_type": "code",
   "execution_count": null,
   "metadata": {
    "collapsed": true
   },
   "outputs": [],
   "source": []
  },
  {
   "cell_type": "code",
   "execution_count": null,
   "metadata": {
    "collapsed": true
   },
   "outputs": [],
   "source": []
  }
 ],
 "metadata": {
  "anaconda-cloud": {},
  "kernelspec": {
   "display_name": "Python [Root]",
   "language": "python",
   "name": "Python [Root]"
  },
  "language_info": {
   "codemirror_mode": {
    "name": "ipython",
    "version": 3
   },
   "file_extension": ".py",
   "mimetype": "text/x-python",
   "name": "python",
   "nbconvert_exporter": "python",
   "pygments_lexer": "ipython3",
   "version": "3.5.2"
  }
 },
 "nbformat": 4,
 "nbformat_minor": 0
}
