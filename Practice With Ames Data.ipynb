{
 "cells": [
  {
   "cell_type": "code",
   "execution_count": 2,
   "metadata": {
    "collapsed": false
   },
   "outputs": [
    {
     "name": "stdout",
     "output_type": "stream",
     "text": [
      "{'Street': 'Pave', 'Alley': 'NA', 'Utilities': 'AllPub', 'PoolArea': '0', 'PoolQC': 'NA', 'LandContour': 'Lvl', 'HalfBath': '0', 'BsmtHalfBath': '0', 'TotalBsmtSF': '1080', 'LotConfig': 'Corner', 'CentralAir': 'Y', 'ExterCond': 'TA', 'Condition1': 'Norm', 'GarageYrBlt': '1960', 'MoSold': '5', 'FullBath': '1', 'KitchenAbvGr': '1', 'BsmtCond': 'Gd', 'PavedDrive': 'P', 'EnclosedPorch': '0', 'BedroomAbvGr': '3', 'OpenPorchSF': '62', 'GarageType': 'Attchd', 'Foundation': 'CBlock', 'RoofStyle': 'Hip', 'Condition2': 'Norm', 'LotShape': 'IR1', 'BldgType': '1Fam', 'HeatingQC': 'Fa', 'SalePrice': '215000', 'SaleCondition': 'Normal', 'SID': '1', 'BsmtFinSF2': '0', 'ScreenPorch': '0', 'OverallCond': '5', 'Fireplaces': '2', 'BsmtExposure': 'Gd', 'YearBuilt': '1960', 'RoofMat': 'CompShg', 'BsmtFinType1': 'BLQ', 'MiscFeature': 'NA', 'Fence': 'NA', 'KitchenQual': 'TA', 'LotArea': '31770', 'GarageQual': 'TA', 'WoodDeckSF': '210', 'SubClass': '20', 'Exterior2': 'Plywood', 'MasVnrArea': '112', 'LandSlope': 'Gtl', 'ThreeSsnPorch': '0', 'TotRmsAbvGrd': '7', 'YearRemodel': '1960', 'Functional': 'Typ', 'SaleType': 'WD', 'GarageFinish': 'Fin', 'FirstFlrSF': '1656', 'Electrical': 'SBrkr', 'BsmtUnfSF': '441', 'GarageCars': '2', 'OverallQual': '6', 'BsmtFinType2': 'Unf', 'MiscVal': '0', 'SecondFlrSF': '0', 'GrLivArea': '1656', 'HouseStyle': '1Story', 'GarageArea': '528', 'Exterior1': 'BrkFace', 'ExterQual': 'TA', 'MasVnrType': 'Stone', 'FireplaceQu': 'Gd', 'GarageCond': 'TA', 'Heating': 'GasA', 'LotFrontage': '141', 'BsmtFullBath': '1', 'YrSold': '2010', 'Zoning': 'RL', 'PID': '526301100', 'Neighborhood': 'NAmes', 'BsmtFinSF1': '639', 'BsmtQual': 'TA', 'LowQualFinSF': '0'}\n"
     ]
    }
   ],
   "source": [
    "#Import unicode csv to get dataset\n",
    "import unicodecsv\n",
    "\n",
    "#Create variables to store the filenames\n",
    "Ames_filename = '/Users/bburns/Desktop/Analytics/Data Sets/Ames_Housing_Data.csv'\n",
    "\n",
    "#Load the file row by row using a loop.\n",
    "with open(Ames_filename, 'rb') as f:\n",
    "    reader = unicodecsv.DictReader(f)\n",
    "    AmesData = list(reader)\n",
    "\n",
    "#Print the top line of the data to confirm things are good.\n",
    "print(AmesData[0])"
   ]
  },
  {
   "cell_type": "code",
   "execution_count": 3,
   "metadata": {
    "collapsed": true
   },
   "outputs": [],
   "source": [
    "# Define a function that takes a string and returns an int or None.\n",
    "def parse_maybe_int(i):\n",
    "    if i == '':\n",
    "        return None\n",
    "    else:\n",
    "        return int(i)"
   ]
  },
  {
   "cell_type": "code",
   "execution_count": 4,
   "metadata": {
    "collapsed": false
   },
   "outputs": [
    {
     "ename": "SyntaxError",
     "evalue": "EOL while scanning string literal (<ipython-input-4-4daf992e3e37>, line 3)",
     "output_type": "error",
     "traceback": [
      "\u001b[1;36m  File \u001b[1;32m\"<ipython-input-4-4daf992e3e37>\"\u001b[1;36m, line \u001b[1;32m3\u001b[0m\n\u001b[1;33m    record['PoolArea'] = parse_maybe_int(record['PoolArea])\u001b[0m\n\u001b[1;37m                                                           ^\u001b[0m\n\u001b[1;31mSyntaxError\u001b[0m\u001b[1;31m:\u001b[0m EOL while scanning string literal\n"
     ]
    }
   ],
   "source": [
    "#Change appropriate string data types to ints with function defined above.\n",
    "for record in AmesData:\n",
    "    record['PoolArea'] = parse_maybe_int(record['PoolArea])\n",
    "    record['HalfBath'] = parse_maybe_int(record['HalfBath])\n",
    "    record['BsmtHalfBath'] = parse_maybe_int(record['BsmtHalfBath])\n",
    "    record['TotalBsmtSF'] = parse_maybe_int(record['TotalBsmtSF])\n",
    "    record['GarageYrBlt'] = parse_maybe_int(record['GarageYrBlt])\n",
    "    record['MoSold'] = parse_maybe_int(record['MoSold])\n",
    "    record['FullBath'] = parse_maybe_int(record['FullBath])\n",
    "    record['OpenPorchSF'] = parse_maybe_int(record['OpenPorchSF])\n",
    "    record['SalePrice'] = parse_maybe_int(record['SalePrice])\n",
    "    record['SID'] = parse_maybe_int(record['SID])\n",
    "    record['BsmtFinSF2'] = parse_maybe_int(record['BsmtFinSF2])\n",
    "    record['ScreenPorch'] = parse_maybe_int(record['ScreenPorch])\n",
    "    record['OverallCond'] = parse_maybe_int(record['OverallCond])\n",
    "    record['Fireplaces'] = parse_maybe_int(record['Fireplaces])\n",
    "    record['YearBuilt'] = parse_maybe_int(record['YearBuilt])\n",
    "    record['YearBuilt'] = parse_maybe_int(record['YearBuilt])\n",
    "    record['LotArea'] = parse_maybe_int(record['LotArea])\n",
    "    record['WoodDeckSF'] = parse_maybe_int(record['WoodDeckSF])\n",
    "    record['SubClass'] = parse_maybe_int(record['SubClass])\n",
    "    record['MasVnrArea'] = parse_maybe_int(record['MasVnrArea])\n",
    "    record['PoolArea'] = parse_maybe_int(record['PoolArea])\n",
    "    record['PoolArea'] = parse_maybe_int(record['PoolArea])\n",
    "    record['PoolArea'] = parse_maybe_int(record['PoolArea])\n",
    "    record['PoolArea'] = parse_maybe_int(record['PoolArea])\n",
    "    record['PoolArea'] = parse_maybe_int(record['PoolArea])"
   ]
  },
  {
   "cell_type": "code",
   "execution_count": null,
   "metadata": {
    "collapsed": true
   },
   "outputs": [],
   "source": []
  }
 ],
 "metadata": {
  "kernelspec": {
   "display_name": "Python [Root]",
   "language": "python",
   "name": "Python [Root]"
  },
  "language_info": {
   "codemirror_mode": {
    "name": "ipython",
    "version": 3
   },
   "file_extension": ".py",
   "mimetype": "text/x-python",
   "name": "python",
   "nbconvert_exporter": "python",
   "pygments_lexer": "ipython3",
   "version": "3.5.2"
  }
 },
 "nbformat": 4,
 "nbformat_minor": 0
}
