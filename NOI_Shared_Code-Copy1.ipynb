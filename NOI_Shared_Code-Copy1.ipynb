{
 "cells": [
  {
   "cell_type": "markdown",
   "metadata": {},
   "source": [
    "## INSTRUCTIONS (MAC)\n",
    "\n",
    "1. Make sure to log in to VPN to access the database\n",
    "    -  Connect to Tunnelblick, a GUI to use OpenVPN\n",
    "    -  OpenVPN: password1\n",
    "2. If necessary, this goes in terminal:\n",
    "    -  tsql -S MYMSSQL -U username -P password2\n",
    "3. Must open each SQL query with:\n",
    "    -  conn = pyodbc.connect('DSN=MYMSSQL;UID=username;PWD=password2')\n",
    "    -  cursor = conn.cursor()\n",
    "4. Must close each SQL query with the following to get the query to execute. Cannot leave the cursor open since it will get confused and result in an error.\n",
    "    -  cursor.close()\n",
    "    -  conn.close()"
   ]
  },
  {
   "cell_type": "markdown",
   "metadata": {},
   "source": [
    "# Instructions PC\n",
    "\n",
    "1. VPN in to SMC.\n",
    "2. Must open each SQL query with (uses Windows authentication): \n",
    "    conn = pyodbc.connect('Trusted_Connection=yes', driver = '{SQL Server}',server = 'smc-sql-2014,1434\\phi ', database = 'DataBridge_Ben')\n",
    "    cursor = conn.cursor()\n",
    "3. After setting up connection and cursor, queries can be defined and fetched like so:\n",
    "    querystring = \"select TOP 1000 * FROM BBAB_ActivePersonDetail\"\n",
    "    cursor.execute(querystring)\n",
    "    result_set = cursor.fetchall() \n",
    "4. Have fun!"
   ]
  },
  {
   "cell_type": "markdown",
   "metadata": {},
   "source": [
    "### Helpful Links\n",
    "-  https://github.com/mkleehammer/pyodbc/wiki/Connecting-to-SQL-Server-from-Mac-OSX\n",
    "-  https://github.com/mkleehammer/pyodbc/wiki/Objects\n",
    "-  https://gist.github.com/arvsrao/5432047\n",
    "-  https://medium.com/ibm-data-science-experience/markdown-for-jupyter-notebooks-cheatsheet-386c05aeebed\n",
    "-  http://www.pythonforbeginners.com/cheatsheet/python-glossary\n",
    "-  https://www.codecademy.com/articles/glossary-python\n",
    "-  https://jupyter.brynmawr.edu/services/public/dblank/Jupyter%20Notebook%20Users%20Manual.ipynb#4.-Using-Markdown-Cells-for-Writing\n",
    "-  https://machinelearningmastery.com/quick-and-dirty-data-analysis-with-pandas/\n",
    "-  http://bigdata-madesimple.com/exploratory-data-analysis-in-python-using-pandas-matplotlib-and-numpy/\n",
    "-  http://pythonplot.com/\n",
    "-  https://jakevdp.github.io/PythonDataScienceHandbook/04.14-visualization-with-seaborn.html\n",
    "-  https://tryolabs.com/blog/2017/03/16/pandas-seaborn-a-guide-to-handle-visualize-data-elegantly/\n",
    "-  https://www.datacamp.com/community/tutorials/matplotlib-tutorial-python\n",
    "-  https://elitedatascience.com/python-seaborn-tutorial\n",
    "-  http://hamelg.blogspot.com/2015/12/python-for-data-analysis-index.html?q=python+for+data+analysis\n",
    "-  https://chrisalbon.com/python/data_wrangling/pandas_create_column_using_conditional/\n",
    "-  http://greenteapress.com/wp/think-stats-2e/"
   ]
  },
  {
   "cell_type": "code",
   "execution_count": null,
   "metadata": {},
   "outputs": [],
   "source": [
    "# Connection example for Mac\n",
    "\n",
    "# Enable connection to ODBC databases \n",
    "import pyodbc\n",
    "\n",
    "# Connect to datasource\n",
    "conn = pyodbc.connect('DSN=MYMSSQL;UID=username;PWD=password2!')\n",
    "## the DSN value should be the name of the entry in odbc.ini, not freetds.conf\n",
    "\n",
    "# Create cursor associated with connection\n",
    "cursor = conn.cursor()\n",
    "\n",
    "# Show version of SQL Server\n",
    "version = cursor.execute(\"select @@VERSION\").fetchall()\n",
    "print(version)"
   ]
  },
  {
   "cell_type": "code",
   "execution_count": 1,
   "metadata": {},
   "outputs": [],
   "source": [
    "# Connection and Query String example for PC with Windows Auth\n",
    "import pyodbc\n",
    "import pandas as pd\n",
    "\n",
    "# Connect to datasource\n",
    "conn = pyodbc.connect('Trusted_Connection=yes', driver = '{SQL Server}',server = 'smc-sql-2014,1434\\phi ', database = 'DataBridge_Ben')\n",
    "\n",
    "# Create cursor associated with connection\n",
    "cursor = conn.cursor()"
   ]
  },
  {
   "cell_type": "code",
   "execution_count": 2,
   "metadata": {},
   "outputs": [
    {
     "data": {
      "text/plain": [
       "<pyodbc.Cursor at 0x19a09b60f90>"
      ]
     },
     "execution_count": 2,
     "metadata": {},
     "output_type": "execute_result"
    }
   ],
   "source": [
    "# Query to SQL database that cursor can execute on\n",
    "querystring = \"SELECT TOP 1000 * FROM DataBridge_Ben.dbo.BBABBS_ActivePersonDetail\"\n",
    "\n",
    "# Execute cursor on query string\n",
    "cursor.execute(querystring)"
   ]
  },
  {
   "cell_type": "code",
   "execution_count": null,
   "metadata": {},
   "outputs": [],
   "source": [
    "# Print columns from database\n",
    "columns = [column[0] for column in cursor.description]\n",
    "print(columns)"
   ]
  },
  {
   "cell_type": "code",
   "execution_count": null,
   "metadata": {
    "collapsed": true
   },
   "outputs": [],
   "source": [
    "cursor.close()\n",
    "conn.close()\n",
    "# These are necessary since creating the df a couple cells below requires a new conn"
   ]
  },
  {
   "cell_type": "code",
   "execution_count": null,
   "metadata": {},
   "outputs": [],
   "source": [
    "conn = pyodbc.connect('DSN=MYMSSQL;UID=username;PWD=password2')\n",
    "cursor = conn.cursor()"
   ]
  },
  {
   "cell_type": "code",
   "execution_count": 4,
   "metadata": {},
   "outputs": [],
   "source": [
    "## Use pandas to insert directly into a pandas dataframe\n",
    "import pandas as pd\n",
    "\n",
    "df = pd.read_sql(querystring,conn)"
   ]
  },
  {
   "cell_type": "code",
   "execution_count": null,
   "metadata": {
    "collapsed": true
   },
   "outputs": [],
   "source": [
    "cursor.close()\n",
    "conn.close()\n",
    "# Not sure these are necessary here as the code seems to run just fine without them"
   ]
  },
  {
   "cell_type": "code",
   "execution_count": 5,
   "metadata": {},
   "outputs": [
    {
     "data": {
      "text/html": [
       "<div>\n",
       "<style>\n",
       "    .dataframe thead tr:only-child th {\n",
       "        text-align: right;\n",
       "    }\n",
       "\n",
       "    .dataframe thead th {\n",
       "        text-align: left;\n",
       "    }\n",
       "\n",
       "    .dataframe tbody tr th {\n",
       "        vertical-align: top;\n",
       "    }\n",
       "</style>\n",
       "<table border=\"1\" class=\"dataframe\">\n",
       "  <thead>\n",
       "    <tr style=\"text-align: right;\">\n",
       "      <th></th>\n",
       "      <th>ActivePersonKey</th>\n",
       "      <th>PersonID</th>\n",
       "      <th>DateMonthlyKey</th>\n",
       "      <th>IsActive</th>\n",
       "      <th>YearsOfAge</th>\n",
       "      <th>AnnualIncome</th>\n",
       "      <th>Student</th>\n",
       "      <th>Veteran</th>\n",
       "      <th>Farmer</th>\n",
       "      <th>Disabled</th>\n",
       "      <th>...</th>\n",
       "      <th>Blind</th>\n",
       "      <th>HearingImpaired</th>\n",
       "      <th>DOCHealthInsurance</th>\n",
       "      <th>GenericHealthInsurance</th>\n",
       "      <th>PrivateHealthInsurance</th>\n",
       "      <th>NoHealthInsurance</th>\n",
       "      <th>HUSKYD</th>\n",
       "      <th>ProficientCommunicatinginEnglish</th>\n",
       "      <th>SocialSecurity</th>\n",
       "      <th>SSI</th>\n",
       "    </tr>\n",
       "  </thead>\n",
       "  <tbody>\n",
       "    <tr>\n",
       "      <th>count</th>\n",
       "      <td>5.417660e+05</td>\n",
       "      <td>541766.000000</td>\n",
       "      <td>541766.000000</td>\n",
       "      <td>541766.0</td>\n",
       "      <td>541736.000000</td>\n",
       "      <td>140865.00000</td>\n",
       "      <td>541766.000000</td>\n",
       "      <td>541766.000000</td>\n",
       "      <td>541766.000000</td>\n",
       "      <td>541766.000000</td>\n",
       "      <td>...</td>\n",
       "      <td>541766.000000</td>\n",
       "      <td>541766.000000</td>\n",
       "      <td>541766.000000</td>\n",
       "      <td>541766.000000</td>\n",
       "      <td>541766.000000</td>\n",
       "      <td>541766.000000</td>\n",
       "      <td>541766.0</td>\n",
       "      <td>541766.0</td>\n",
       "      <td>541766.0</td>\n",
       "      <td>541766.0</td>\n",
       "    </tr>\n",
       "    <tr>\n",
       "      <th>mean</th>\n",
       "      <td>6.417104e+06</td>\n",
       "      <td>95067.514340</td>\n",
       "      <td>112.313432</td>\n",
       "      <td>1.0</td>\n",
       "      <td>40.462074</td>\n",
       "      <td>17569.41962</td>\n",
       "      <td>0.022163</td>\n",
       "      <td>0.007289</td>\n",
       "      <td>0.000319</td>\n",
       "      <td>0.050503</td>\n",
       "      <td>...</td>\n",
       "      <td>0.000113</td>\n",
       "      <td>0.000126</td>\n",
       "      <td>0.004533</td>\n",
       "      <td>0.485560</td>\n",
       "      <td>0.004502</td>\n",
       "      <td>0.037660</td>\n",
       "      <td>0.0</td>\n",
       "      <td>0.0</td>\n",
       "      <td>0.0</td>\n",
       "      <td>0.0</td>\n",
       "    </tr>\n",
       "    <tr>\n",
       "      <th>std</th>\n",
       "      <td>3.876540e+06</td>\n",
       "      <td>54445.941499</td>\n",
       "      <td>1.150558</td>\n",
       "      <td>0.0</td>\n",
       "      <td>24.497313</td>\n",
       "      <td>12559.40318</td>\n",
       "      <td>0.147213</td>\n",
       "      <td>0.085065</td>\n",
       "      <td>0.017867</td>\n",
       "      <td>0.218981</td>\n",
       "      <td>...</td>\n",
       "      <td>0.010610</td>\n",
       "      <td>0.011203</td>\n",
       "      <td>0.067177</td>\n",
       "      <td>0.499792</td>\n",
       "      <td>0.066945</td>\n",
       "      <td>0.190373</td>\n",
       "      <td>0.0</td>\n",
       "      <td>0.0</td>\n",
       "      <td>0.0</td>\n",
       "      <td>0.0</td>\n",
       "    </tr>\n",
       "    <tr>\n",
       "      <th>min</th>\n",
       "      <td>1.200000e+01</td>\n",
       "      <td>1.000000</td>\n",
       "      <td>111.000000</td>\n",
       "      <td>1.0</td>\n",
       "      <td>-32.000000</td>\n",
       "      <td>1.00000</td>\n",
       "      <td>0.000000</td>\n",
       "      <td>0.000000</td>\n",
       "      <td>0.000000</td>\n",
       "      <td>0.000000</td>\n",
       "      <td>...</td>\n",
       "      <td>0.000000</td>\n",
       "      <td>0.000000</td>\n",
       "      <td>0.000000</td>\n",
       "      <td>0.000000</td>\n",
       "      <td>0.000000</td>\n",
       "      <td>0.000000</td>\n",
       "      <td>0.0</td>\n",
       "      <td>0.0</td>\n",
       "      <td>0.0</td>\n",
       "      <td>0.0</td>\n",
       "    </tr>\n",
       "    <tr>\n",
       "      <th>25%</th>\n",
       "      <td>2.676476e+06</td>\n",
       "      <td>47741.000000</td>\n",
       "      <td>111.000000</td>\n",
       "      <td>1.0</td>\n",
       "      <td>20.000000</td>\n",
       "      <td>9036.00000</td>\n",
       "      <td>0.000000</td>\n",
       "      <td>0.000000</td>\n",
       "      <td>0.000000</td>\n",
       "      <td>0.000000</td>\n",
       "      <td>...</td>\n",
       "      <td>0.000000</td>\n",
       "      <td>0.000000</td>\n",
       "      <td>0.000000</td>\n",
       "      <td>0.000000</td>\n",
       "      <td>0.000000</td>\n",
       "      <td>0.000000</td>\n",
       "      <td>0.0</td>\n",
       "      <td>0.0</td>\n",
       "      <td>0.0</td>\n",
       "      <td>0.0</td>\n",
       "    </tr>\n",
       "    <tr>\n",
       "      <th>50%</th>\n",
       "      <td>8.198266e+06</td>\n",
       "      <td>96638.000000</td>\n",
       "      <td>112.000000</td>\n",
       "      <td>1.0</td>\n",
       "      <td>39.000000</td>\n",
       "      <td>14933.28000</td>\n",
       "      <td>0.000000</td>\n",
       "      <td>0.000000</td>\n",
       "      <td>0.000000</td>\n",
       "      <td>0.000000</td>\n",
       "      <td>...</td>\n",
       "      <td>0.000000</td>\n",
       "      <td>0.000000</td>\n",
       "      <td>0.000000</td>\n",
       "      <td>0.000000</td>\n",
       "      <td>0.000000</td>\n",
       "      <td>0.000000</td>\n",
       "      <td>0.0</td>\n",
       "      <td>0.0</td>\n",
       "      <td>0.0</td>\n",
       "      <td>0.0</td>\n",
       "    </tr>\n",
       "    <tr>\n",
       "      <th>75%</th>\n",
       "      <td>1.037716e+07</td>\n",
       "      <td>143699.000000</td>\n",
       "      <td>113.000000</td>\n",
       "      <td>1.0</td>\n",
       "      <td>57.000000</td>\n",
       "      <td>22880.00000</td>\n",
       "      <td>0.000000</td>\n",
       "      <td>0.000000</td>\n",
       "      <td>0.000000</td>\n",
       "      <td>0.000000</td>\n",
       "      <td>...</td>\n",
       "      <td>0.000000</td>\n",
       "      <td>0.000000</td>\n",
       "      <td>0.000000</td>\n",
       "      <td>1.000000</td>\n",
       "      <td>0.000000</td>\n",
       "      <td>0.000000</td>\n",
       "      <td>0.0</td>\n",
       "      <td>0.0</td>\n",
       "      <td>0.0</td>\n",
       "      <td>0.0</td>\n",
       "    </tr>\n",
       "    <tr>\n",
       "      <th>max</th>\n",
       "      <td>1.069189e+07</td>\n",
       "      <td>185314.000000</td>\n",
       "      <td>114.000000</td>\n",
       "      <td>1.0</td>\n",
       "      <td>241.000000</td>\n",
       "      <td>581952.00000</td>\n",
       "      <td>1.000000</td>\n",
       "      <td>1.000000</td>\n",
       "      <td>1.000000</td>\n",
       "      <td>1.000000</td>\n",
       "      <td>...</td>\n",
       "      <td>1.000000</td>\n",
       "      <td>1.000000</td>\n",
       "      <td>1.000000</td>\n",
       "      <td>1.000000</td>\n",
       "      <td>1.000000</td>\n",
       "      <td>1.000000</td>\n",
       "      <td>0.0</td>\n",
       "      <td>0.0</td>\n",
       "      <td>0.0</td>\n",
       "      <td>0.0</td>\n",
       "    </tr>\n",
       "  </tbody>\n",
       "</table>\n",
       "<p>8 rows × 40 columns</p>\n",
       "</div>"
      ],
      "text/plain": [
       "       ActivePersonKey       PersonID  DateMonthlyKey  IsActive  \\\n",
       "count     5.417660e+05  541766.000000   541766.000000  541766.0   \n",
       "mean      6.417104e+06   95067.514340      112.313432       1.0   \n",
       "std       3.876540e+06   54445.941499        1.150558       0.0   \n",
       "min       1.200000e+01       1.000000      111.000000       1.0   \n",
       "25%       2.676476e+06   47741.000000      111.000000       1.0   \n",
       "50%       8.198266e+06   96638.000000      112.000000       1.0   \n",
       "75%       1.037716e+07  143699.000000      113.000000       1.0   \n",
       "max       1.069189e+07  185314.000000      114.000000       1.0   \n",
       "\n",
       "          YearsOfAge  AnnualIncome        Student        Veteran  \\\n",
       "count  541736.000000  140865.00000  541766.000000  541766.000000   \n",
       "mean       40.462074   17569.41962       0.022163       0.007289   \n",
       "std        24.497313   12559.40318       0.147213       0.085065   \n",
       "min       -32.000000       1.00000       0.000000       0.000000   \n",
       "25%        20.000000    9036.00000       0.000000       0.000000   \n",
       "50%        39.000000   14933.28000       0.000000       0.000000   \n",
       "75%        57.000000   22880.00000       0.000000       0.000000   \n",
       "max       241.000000  581952.00000       1.000000       1.000000   \n",
       "\n",
       "              Farmer       Disabled    ...             Blind  HearingImpaired  \\\n",
       "count  541766.000000  541766.000000    ...     541766.000000    541766.000000   \n",
       "mean        0.000319       0.050503    ...          0.000113         0.000126   \n",
       "std         0.017867       0.218981    ...          0.010610         0.011203   \n",
       "min         0.000000       0.000000    ...          0.000000         0.000000   \n",
       "25%         0.000000       0.000000    ...          0.000000         0.000000   \n",
       "50%         0.000000       0.000000    ...          0.000000         0.000000   \n",
       "75%         0.000000       0.000000    ...          0.000000         0.000000   \n",
       "max         1.000000       1.000000    ...          1.000000         1.000000   \n",
       "\n",
       "       DOCHealthInsurance  GenericHealthInsurance  PrivateHealthInsurance  \\\n",
       "count       541766.000000           541766.000000           541766.000000   \n",
       "mean             0.004533                0.485560                0.004502   \n",
       "std              0.067177                0.499792                0.066945   \n",
       "min              0.000000                0.000000                0.000000   \n",
       "25%              0.000000                0.000000                0.000000   \n",
       "50%              0.000000                0.000000                0.000000   \n",
       "75%              0.000000                1.000000                0.000000   \n",
       "max              1.000000                1.000000                1.000000   \n",
       "\n",
       "       NoHealthInsurance    HUSKYD  ProficientCommunicatinginEnglish  \\\n",
       "count      541766.000000  541766.0                          541766.0   \n",
       "mean            0.037660       0.0                               0.0   \n",
       "std             0.190373       0.0                               0.0   \n",
       "min             0.000000       0.0                               0.0   \n",
       "25%             0.000000       0.0                               0.0   \n",
       "50%             0.000000       0.0                               0.0   \n",
       "75%             0.000000       0.0                               0.0   \n",
       "max             1.000000       0.0                               0.0   \n",
       "\n",
       "       SocialSecurity       SSI  \n",
       "count        541766.0  541766.0  \n",
       "mean              0.0       0.0  \n",
       "std               0.0       0.0  \n",
       "min               0.0       0.0  \n",
       "25%               0.0       0.0  \n",
       "50%               0.0       0.0  \n",
       "75%               0.0       0.0  \n",
       "max               0.0       0.0  \n",
       "\n",
       "[8 rows x 40 columns]"
      ]
     },
     "execution_count": 5,
     "metadata": {},
     "output_type": "execute_result"
    }
   ],
   "source": [
    "# Get summary statistics for each variable\n",
    "df.describe()"
   ]
  },
  {
   "cell_type": "code",
   "execution_count": null,
   "metadata": {},
   "outputs": [],
   "source": [
    "# View data types of each variable--DeceasedDate has all NULL values\n",
    "df.info() # can also do df.dtypes, but this does not show the number and non-null"
   ]
  },
  {
   "cell_type": "code",
   "execution_count": null,
   "metadata": {},
   "outputs": [],
   "source": [
    "# Quick way to see the frequency of integer variables\n",
    "df.GenderDescription.value_counts()"
   ]
  },
  {
   "cell_type": "code",
   "execution_count": null,
   "metadata": {},
   "outputs": [],
   "source": [
    "df.Veteran.value_counts()"
   ]
  },
  {
   "cell_type": "code",
   "execution_count": null,
   "metadata": {
    "collapsed": true
   },
   "outputs": [],
   "source": [
    "# Import other libraries\n",
    "import numpy as np\n",
    "\n",
    "import matplotlib.pyplot as plt\n",
    "\n",
    "# Use this to ensure the plot actually shows!\n",
    "%matplotlib inline\n",
    "\n",
    "import seaborn as sns"
   ]
  },
  {
   "cell_type": "code",
   "execution_count": null,
   "metadata": {},
   "outputs": [],
   "source": [
    "# Create boxplot\n",
    "plt.style.use = 'default'\n",
    "df.boxplot()"
   ]
  },
  {
   "cell_type": "markdown",
   "metadata": {
    "collapsed": true
   },
   "source": [
    "### Note\n",
    "Adding ; to a plotting method, like df.hist(), suppresses the object output\n",
    "i.e., <matplotlib.axes._subplots.AxesSubplot at 0x1136b1fd0>"
   ]
  },
  {
   "cell_type": "code",
   "execution_count": null,
   "metadata": {},
   "outputs": [],
   "source": [
    "# Create new df excluding ActivePersonKey and PersonID--too many unique values to plot\n",
    "df_new = df.iloc[:,2:]\n",
    "df_new.head() # or tail"
   ]
  },
  {
   "cell_type": "code",
   "execution_count": null,
   "metadata": {},
   "outputs": [],
   "source": [
    "# This is more readable, but a boxplot is not ideal for many of these variables\n",
    "df_new.boxplot();"
   ]
  },
  {
   "cell_type": "code",
   "execution_count": null,
   "metadata": {},
   "outputs": [],
   "source": [
    "df.hist();"
   ]
  },
  {
   "cell_type": "code",
   "execution_count": null,
   "metadata": {},
   "outputs": [],
   "source": [
    "df.groupby('GenericHealthInsurance').AnnualIncome.hist(alpha=0.5, color = \"steelblue\");"
   ]
  },
  {
   "cell_type": "code",
   "execution_count": null,
   "metadata": {},
   "outputs": [],
   "source": [
    "df[df.GenderDescription=='Female'].YearsOfAge.hist(alpha=0.5);"
   ]
  },
  {
   "cell_type": "code",
   "execution_count": null,
   "metadata": {},
   "outputs": [],
   "source": [
    "df[df.GenderDescription=='Male'].YearsOfAge.hist(alpha=0.5);"
   ]
  },
  {
   "cell_type": "code",
   "execution_count": null,
   "metadata": {},
   "outputs": [],
   "source": [
    "df.groupby('GenderDescription').YearsOfAge.hist(alpha=0.5); # Blue = Female, Green = Male"
   ]
  },
  {
   "cell_type": "code",
   "execution_count": null,
   "metadata": {},
   "outputs": [],
   "source": [
    "# See summary stats for ages\n",
    "df['YearsOfAge'].describe()"
   ]
  },
  {
   "cell_type": "code",
   "execution_count": null,
   "metadata": {},
   "outputs": [],
   "source": [
    "df.AgeRange.value_counts()"
   ]
  },
  {
   "cell_type": "code",
   "execution_count": null,
   "metadata": {
    "collapsed": true
   },
   "outputs": [],
   "source": [
    "# NOT THE BEST BINNING TECHNIQUE\n",
    "# Create bins for ages:\n",
    "# 0-17 = minors\n",
    "# 18-25 = young_adults\n",
    "# 26-44 = mid_career\n",
    "# 45-61 = peak_career\n",
    "# 62-75 = ss_eligible\n",
    "# 76+ = elderly\n",
    "bins = [0, 18, 26, 45, 62, 76] # looks like I might have to use range to get ages > 76 to fall in a bin\n",
    "df_new['AgeBins'] = pd.cut(df['YearsOfAge'], bins)"
   ]
  },
  {
   "cell_type": "code",
   "execution_count": null,
   "metadata": {},
   "outputs": [],
   "source": [
    "df_new.head()"
   ]
  },
  {
   "cell_type": "code",
   "execution_count": null,
   "metadata": {
    "collapsed": true
   },
   "outputs": [],
   "source": []
  }
 ],
 "metadata": {
  "kernelspec": {
   "display_name": "Python [Root]",
   "language": "python",
   "name": "Python [Root]"
  },
  "language_info": {
   "codemirror_mode": {
    "name": "ipython",
    "version": 3
   },
   "file_extension": ".py",
   "mimetype": "text/x-python",
   "name": "python",
   "nbconvert_exporter": "python",
   "pygments_lexer": "ipython3",
   "version": "3.5.3"
  }
 },
 "nbformat": 4,
 "nbformat_minor": 2
}
