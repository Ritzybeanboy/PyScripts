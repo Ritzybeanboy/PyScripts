{
 "cells": [
  {
   "cell_type": "markdown",
   "metadata": {},
   "source": [
    "Before we get started, a couple of reminders to keep in mind when using iPython notebooks:\n",
    "\n",
    "- Remember that you can see from the left side of a code cell when it was last run if there is a number within the brackets.\n",
    "- When you start a new notebook session, make sure you run all of the cells up to the point where you last left off. Even if the output is still visible from when you ran the cells in your previous session, the kernel starts in a fresh state so you'll need to reload the data, etc. on a new session.\n",
    "- The previous point is useful to keep in mind if your answers do not match what is expected in the lesson's quizzes. Try reloading the data and run all of the processing steps one by one in order to make sure that you are working with the same variables and data that are at each quiz stage.\n",
    "\n",
    "\n",
    "## Load Data from CSVs"
   ]
  },
  {
   "cell_type": "markdown",
   "metadata": {},
   "source": [
    "Import UnicodeCSV module. \n",
    "Load the engagement and submission data using a for loop.\n",
    "Then print the first row of each.\n",
    "(First method)"
   ]
  },
  {
   "cell_type": "code",
   "execution_count": 1,
   "metadata": {},
   "outputs": [
    {
     "name": "stdout",
     "output_type": "stream",
     "text": [
      "{'days_to_cancel': '65', 'cancel_date': '2015-01-14', 'is_canceled': 'True', 'account_key': '448', 'status': 'canceled', 'is_udacity': 'True', 'join_date': '2014-11-10'}\n",
      "{'acct': '0', 'lessons_completed': '0.0', 'num_courses_visited': '1.0', 'total_minutes_visited': '11.6793745', 'utc_date': '2015-01-09', 'projects_completed': '0.0'}\n",
      "{'processing_state': 'EVALUATED', 'account_key': '256', 'creation_date': '2015-01-14', 'assigned_rating': 'UNGRADED', 'lesson_key': '3176718735', 'completion_date': '2015-01-16'}\n"
     ]
    }
   ],
   "source": [
    "# The 'rb' node is important.  \n",
    "    #'r' means to open the file for reading.\n",
    "    # 'b' dictates the format it will be read in.\n",
    "\n",
    "#Using DictReader means that each row read will be a dictionary.  This allows us to use the headers in the data.    \n",
    "\n",
    "# Using 'with' means that everything that accesses that file must be indented beneath, \n",
    " #and the file will automatically be closed after.\n",
    "\n",
    "    # Import UnicodeCSV module.\n",
    "import unicodecsv\n",
    "\n",
    "    # Put file locations into variables.\n",
    "enrollments_filename = '/Users/bburns/Desktop/Analytics/Data Sets/enrollments.csv'    \n",
    "engagement_filename = '/Users/bburns/Desktop/Analytics/Data Sets/daily_engagement.csv'\n",
    "submissions_filename = '/Users/bburns/Desktop/Analytics/Data Sets/project_submissions.csv'\n",
    " \n",
    "    # Load the engagement and submission data using a for loop.\n",
    "    # Print top row once exiting the loop.\n",
    "\n",
    "with open(enrollments_filename, 'rb') as f:\n",
    "    reader = unicodecsv.DictReader(f)\n",
    "    enrollments = list(reader)\n",
    "print(enrollments[0])\n",
    "    \n",
    "with open(engagement_filename, 'rb') as f:\n",
    "    reader = unicodecsv.DictReader(f)\n",
    "    daily_engagement = list(reader)\n",
    "print(daily_engagement[0])\n",
    " \n",
    "with open(submissions_filename, 'rb') as f:\n",
    "    reader = unicodecsv.DictReader(f)\n",
    "    project_submissions = list(reader)\n",
    "print(project_submissions[0])"
   ]
  },
  {
   "cell_type": "markdown",
   "metadata": {},
   "source": [
    "Method 2 -Write a function to do the above.\n",
    "\n",
    "The only thing that changed between loading the two files above into dicts was the variable name and the file name.\n",
    "We'll write a function called \"read_csv\" that takes the filename as an input and then returns the list of rows.\n"
   ]
  },
  {
   "cell_type": "code",
   "execution_count": null,
   "metadata": {
    "collapsed": true
   },
   "outputs": [],
   "source": [
    "    # Import UnicodeCSV module.\n",
    "import unicodecsv\n",
    "\n",
    "    #Define function\n",
    "def read_csv(filename):\n",
    "        with open(filename, 'rb') as f:\n",
    "            reader = unicodecsv.DictReader(f)\n",
    "            return list(reader)\n",
    "\n",
    "# Read directly into lists.\n",
    "enrollments = read_csv('/Users/bburns/Desktop/Analytics/Data Sets/enrollments.csv')\n",
    "engagement = read_csv('/Users/bburns/Desktop/Analytics/Data Sets/daily_engagement.csv')\n",
    "project_submissions = read_csv('/Users/bburns/Desktop/Analytics/Data Sets/project_submissions.csv')\n",
    "\n",
    "print (enrollments[0])\n",
    "print (engagement[0])\n",
    "print (project_submissions[0])\n"
   ]
  },
  {
   "cell_type": "markdown",
   "metadata": {},
   "source": [
    "## Fixing Data Types"
   ]
  },
  {
   "cell_type": "markdown",
   "metadata": {},
   "source": [
    "CSV files bring everything in as a string, so we'll usually need to convert the data types.\n",
    "This is done by defining functions that then loop over the data (parse_date, parse_maybe_int.\n",
    "Sometimes, an if else will be needed like with dates here so that it will return none if the field is null.\n"
   ]
  },
  {
   "cell_type": "code",
   "execution_count": 2,
   "metadata": {},
   "outputs": [
    {
     "data": {
      "text/plain": [
       "{'account_key': '448',\n",
       " 'cancel_date': datetime.datetime(2015, 1, 14, 0, 0),\n",
       " 'days_to_cancel': 65,\n",
       " 'is_canceled': True,\n",
       " 'is_udacity': True,\n",
       " 'join_date': datetime.datetime(2014, 11, 10, 0, 0),\n",
       " 'status': 'canceled'}"
      ]
     },
     "execution_count": 2,
     "metadata": {},
     "output_type": "execute_result"
    }
   ],
   "source": [
    "from datetime import datetime as dt\n",
    "\n",
    "# Takes a date as a string, and returns a Python datetime object. \n",
    "# If there is no date given, returns None\n",
    "def parse_date(date):\n",
    "    if date == '':\n",
    "        return None\n",
    "    else:\n",
    "        return dt.strptime(date, '%Y-%m-%d')\n",
    "    \n",
    "# Takes a string which is either an empty string or represents an integer,\n",
    "# and returns an int or None.\n",
    "def parse_maybe_int(i):\n",
    "    if i == '':\n",
    "        return None\n",
    "    else:\n",
    "        return int(i)\n",
    "\n",
    "# Clean up the data types in the enrollments table\n",
    "# Checks if is_cancelled is equal to 'True' and changes transforms this frm a string to a boolean.\n",
    "for enrollment in enrollments:\n",
    "    enrollment['cancel_date'] = parse_date(enrollment['cancel_date'])\n",
    "    enrollment['days_to_cancel'] = parse_maybe_int(enrollment['days_to_cancel'])\n",
    "    enrollment['is_canceled'] = enrollment['is_canceled'] == 'True'\n",
    "    enrollment['is_udacity'] = enrollment['is_udacity'] == 'True'\n",
    "    enrollment['join_date'] = parse_date(enrollment['join_date'])\n",
    "    \n",
    "enrollments[0]"
   ]
  },
  {
   "cell_type": "code",
   "execution_count": 3,
   "metadata": {},
   "outputs": [
    {
     "data": {
      "text/plain": [
       "{'acct': '0',\n",
       " 'lessons_completed': 0,\n",
       " 'num_courses_visited': 1,\n",
       " 'projects_completed': 0,\n",
       " 'total_minutes_visited': 11.6793745,\n",
       " 'utc_date': datetime.datetime(2015, 1, 9, 0, 0)}"
      ]
     },
     "execution_count": 3,
     "metadata": {},
     "output_type": "execute_result"
    }
   ],
   "source": [
    "# Clean up the data types in the engagement table\n",
    "for engagement_record in daily_engagement:\n",
    "    #The values in the source have a decimal point and would fail if directly converted to int from string.\n",
    "    #Therefore, they must be converted to float, then to string.\n",
    "    engagement_record['lessons_completed'] = int(float(engagement_record['lessons_completed']))\n",
    "    engagement_record['num_courses_visited'] = int(float(engagement_record['num_courses_visited']))\n",
    "    engagement_record['projects_completed'] = int(float(engagement_record['projects_completed']))\n",
    "    engagement_record['total_minutes_visited'] = float(engagement_record['total_minutes_visited'])\n",
    "    engagement_record['utc_date'] = parse_date(engagement_record['utc_date'])\n",
    "    \n",
    "daily_engagement[0]"
   ]
  },
  {
   "cell_type": "code",
   "execution_count": 4,
   "metadata": {},
   "outputs": [
    {
     "data": {
      "text/plain": [
       "{'account_key': '256',\n",
       " 'assigned_rating': 'UNGRADED',\n",
       " 'completion_date': datetime.datetime(2015, 1, 16, 0, 0),\n",
       " 'creation_date': datetime.datetime(2015, 1, 14, 0, 0),\n",
       " 'lesson_key': '3176718735',\n",
       " 'processing_state': 'EVALUATED'}"
      ]
     },
     "execution_count": 4,
     "metadata": {},
     "output_type": "execute_result"
    }
   ],
   "source": [
    "# Clean up the data types in the submissions table\n",
    "for submission in project_submissions:\n",
    "    submission['completion_date'] = parse_date(submission['completion_date'])\n",
    "    submission['creation_date'] = parse_date(submission['creation_date'])\n",
    "\n",
    "project_submissions[0]"
   ]
  },
  {
   "cell_type": "markdown",
   "metadata": {},
   "source": [
    "Note when running the above cells that we are actively changing the contents of our data variables. If you try to run these cells multiple times in the same session, an error will occur.\n",
    "\n",
    "## Investigating the Data"
   ]
  },
  {
   "cell_type": "code",
   "execution_count": 6,
   "metadata": {},
   "outputs": [
    {
     "name": "stdout",
     "output_type": "stream",
     "text": [
      "1640\n",
      "1302\n",
      "136240\n",
      "1237\n",
      "3642\n",
      "743\n"
     ]
    }
   ],
   "source": [
    "## Find the total number of rows and the number of unique students (account keys)\n",
    "## in each table.\n",
    "\n",
    "#Unique values: METHOD ONE\n",
    "    #create an empty set.  Sets only store unique values.\n",
    "    #Loop through enrollments and add each account_key from each enrollment to the set.\n",
    "    #Check len of set.\n",
    "\n",
    "    \n",
    "# Enrollments \n",
    "enrollment_num_rows = len(enrollments)\n",
    "\n",
    "unique_enrolled_students = set()\n",
    "for enrollment in enrollments:\n",
    "    unique_enrolled_students.add(enrollment['account_key'])\n",
    "\n",
    "enrollment_num_unique_students = len(unique_enrolled_students)\n",
    "print(enrollment_num_rows)\n",
    "print(enrollment_num_unique_students)\n",
    "\n",
    "\n",
    "# Engagements\n",
    "engagement_num_rows = len(daily_engagement)\n",
    "\n",
    "unique_engaged_students = set()\n",
    "for engagement in daily_engagement:\n",
    "    unique_engaged_students.add(engagement['acct'])\n",
    "\n",
    "engagement_num_unique_students = len(unique_engaged_students)\n",
    "print(engagement_num_rows)\n",
    "print(engagement_num_unique_students)\n",
    "\n",
    "\n",
    "# Submissions\n",
    "submission_num_rows = len(project_submissions)\n",
    "\n",
    "unique_submissions_students = set()\n",
    "for submission in project_submissions:\n",
    "    unique_submissions_students.add(submission['account_key'])\n",
    "\n",
    "submission_num_unique_students = len(unique_submissions_students)\n",
    "print(submission_num_rows)\n",
    "print(submission_num_unique_students)\n"
   ]
  },
  {
   "cell_type": "code",
   "execution_count": null,
   "metadata": {
    "collapsed": true
   },
   "outputs": [],
   "source": [
    "#Unique values: METHOD TWO\n",
    "\n",
    "    #Here, we create a distinct set of the dictionary key (account_key) from our dictionary (enrollments) \n",
    "     #and use a for loop to count the set all in one statement.\n",
    "'''\n",
    "enrollment_num_rows = len(enrollments)\n",
    "enrollment_num_unique_students = len(set(x['account_key'] for x in enrollments))  \n",
    "\n",
    "print(enrollment_num_rows)\n",
    "print(enrollment_num_unique_students)\n",
    "\n",
    "'''"
   ]
  },
  {
   "cell_type": "markdown",
   "metadata": {},
   "source": [
    "## Problems in the Data"
   ]
  },
  {
   "cell_type": "code",
   "execution_count": 8,
   "metadata": {
    "collapsed": true
   },
   "outputs": [],
   "source": [
    "## Rename the \"acct\" column in the daily_engagement table to \"account_key\".\n",
    "\n",
    "    #Loop over table to set a new key named 'account_key' equal to 'acct'.\n",
    "    #Delete acct column\n",
    "for engagement_record in daily_engagement:\n",
    "    engagement_record['account_key'] = engagement_record['acct']\n",
    "    del[engagement_record['acct']]\n",
    "    "
   ]
  },
  {
   "cell_type": "code",
   "execution_count": 9,
   "metadata": {},
   "outputs": [
    {
     "data": {
      "text/plain": [
       "'0'"
      ]
     },
     "execution_count": 9,
     "metadata": {},
     "output_type": "execute_result"
    }
   ],
   "source": [
    "    #Verify it worked\n",
    "daily_engagement[0]['account_key']"
   ]
  },
  {
   "cell_type": "markdown",
   "metadata": {},
   "source": [
    "## Missing Engagement Records"
   ]
  },
  {
   "cell_type": "code",
   "execution_count": 10,
   "metadata": {},
   "outputs": [
    {
     "name": "stdout",
     "output_type": "stream",
     "text": [
      "{'days_to_cancel': 0, 'cancel_date': datetime.datetime(2014, 11, 12, 0, 0), 'is_canceled': True, 'account_key': '1219', 'status': 'canceled', 'is_udacity': False, 'join_date': datetime.datetime(2014, 11, 12, 0, 0)}\n"
     ]
    }
   ],
   "source": [
    "#####################################\n",
    "#                 4                 #\n",
    "#####################################\n",
    "\n",
    "## Find any one student enrollments where the student is missing from the daily engagement table.\n",
    "## Output that enrollment.\n",
    "\n",
    "\n",
    "## Create a loop that will...\n",
    "for enrollment in enrollments:  # Loop over the enrollments table\n",
    "    student = enrollment['account_key']  # Find account key for each anrollment\n",
    "    if student not in unique_engaged_students:  # Check if student is not in the engaged student list we created earlier. \n",
    "        print(enrollment)  # If the student is missing from the engaged student list, print the record.\n",
    "        break # Since we only wanted to find one, we then broke from the loop."
   ]
  },
  {
   "cell_type": "markdown",
   "metadata": {},
   "source": [
    "## Checking for More Problem Records"
   ]
  },
  {
   "cell_type": "code",
   "execution_count": 11,
   "metadata": {},
   "outputs": [
    {
     "name": "stdout",
     "output_type": "stream",
     "text": [
      "1\n",
      "{'days_to_cancel': 59, 'cancel_date': datetime.datetime(2015, 3, 10, 0, 0), 'is_canceled': True, 'account_key': '1304', 'status': 'canceled', 'is_udacity': True, 'join_date': datetime.datetime(2015, 1, 10, 0, 0)}\n",
      "2\n",
      "{'days_to_cancel': 99, 'cancel_date': datetime.datetime(2015, 6, 17, 0, 0), 'is_canceled': True, 'account_key': '1304', 'status': 'canceled', 'is_udacity': True, 'join_date': datetime.datetime(2015, 3, 10, 0, 0)}\n",
      "3\n",
      "{'days_to_cancel': None, 'cancel_date': None, 'is_canceled': False, 'account_key': '1101', 'status': 'current', 'is_udacity': True, 'join_date': datetime.datetime(2015, 2, 25, 0, 0)}\n"
     ]
    }
   ],
   "source": [
    "#####################################\n",
    "#                 5                 #\n",
    "#####################################\n",
    "\n",
    "## Find the number of enrolled students missing from the engagement table that remain, if any.\n",
    "\n",
    "surprising_records = 0  # Create a variable to store the number of students we find.\n",
    "\n",
    "for enrollment in enrollments: # Loop over the enrollments table\n",
    "    student = enrollment['account_key']  # Find account key for each anrollment\n",
    "    days_enrolled = enrollment['days_to_cancel']  # Find number of days enrolled for each enrollment.\n",
    "    if student not in unique_engaged_students: # Loop over engaged students table.\n",
    "        if days_enrolled != 0:  # If a student is enrolled for 0 days ...\n",
    "            surprising_records +=1  # Increment the variable we created by one.\n",
    "            print(surprising_records)  # Print the number of missing enrolled students.\n",
    "            print(enrollment)  # Print the records of those students (because there's only 3).\n"
   ]
  },
  {
   "cell_type": "code",
   "execution_count": 12,
   "metadata": {},
   "outputs": [
    {
     "data": {
      "text/plain": [
       "6"
      ]
     },
     "execution_count": 12,
     "metadata": {},
     "output_type": "execute_result"
    }
   ],
   "source": [
    "## This gives us 3 records that we know are test records because the variable is_udacity = True.\n",
    "## We want to remove any records from consideration, so we will store them in another set.\n",
    "## We find there are 6 total test records.\n",
    "\n",
    "udacity_test_accounts = set()\n",
    "for enrollment in enrollments:\n",
    "    if enrollment['is_udacity']:\n",
    "        udacity_test_accounts.add(enrollment['account_key'])\n",
    "\n",
    "len(udacity_test_accounts)\n",
    "\n"
   ]
  },
  {
   "cell_type": "code",
   "execution_count": 13,
   "metadata": {
    "collapsed": true
   },
   "outputs": [],
   "source": [
    "## Next, define a functon to remove udacity test students since we will be removing them from multiple data sets.\n",
    "def remove_udacity_accounts(data):\n",
    "    non_udacity_data = []\n",
    "    for data_point in data:\n",
    "        if data_point['account_key'] not in udacity_test_accounts:\n",
    "            non_udacity_data.append(data_point)\n",
    "    return non_udacity_data"
   ]
  },
  {
   "cell_type": "code",
   "execution_count": 14,
   "metadata": {},
   "outputs": [
    {
     "name": "stdout",
     "output_type": "stream",
     "text": [
      "1622\n",
      "135656\n",
      "3634\n"
     ]
    }
   ],
   "source": [
    "## Apply the function to each data set to remove the test records\n",
    "\n",
    "non_udacity_enrollments = remove_udacity_accounts(enrollments)\n",
    "non_udacity_engagement = remove_udacity_accounts(daily_engagement)\n",
    "non_udacity_submissions = remove_udacity_accounts(project_submissions)\n",
    "\n",
    "# See how many records are left in each set.\n",
    "print (len(non_udacity_enrollments))\n",
    "print (len(non_udacity_engagement))\n",
    "print (len(non_udacity_submissions))\n"
   ]
  },
  {
   "cell_type": "markdown",
   "metadata": {},
   "source": [
    "## Tracking Down the Remaining Problems"
   ]
  },
  {
   "cell_type": "code",
   "execution_count": 15,
   "metadata": {},
   "outputs": [
    {
     "data": {
      "text/plain": [
       "6"
      ]
     },
     "execution_count": 15,
     "metadata": {},
     "output_type": "execute_result"
    }
   ],
   "source": [
    "# Create a set of the account keys for all Udacity test accounts\n",
    "udacity_test_accounts = set()\n",
    "for enrollment in enrollments:\n",
    "    if enrollment['is_udacity']:\n",
    "        udacity_test_accounts.add(enrollment['account_key'])\n",
    "len(udacity_test_accounts)"
   ]
  },
  {
   "cell_type": "code",
   "execution_count": 16,
   "metadata": {
    "collapsed": true
   },
   "outputs": [],
   "source": [
    "# Given some data with an account_key field, removes any records corresponding to Udacity test accounts\n",
    "def remove_udacity_accounts(data):\n",
    "    non_udacity_data = []\n",
    "    for data_point in data:\n",
    "        if data_point['account_key'] not in udacity_test_accounts:\n",
    "            non_udacity_data.append(data_point)\n",
    "    return non_udacity_data"
   ]
  },
  {
   "cell_type": "code",
   "execution_count": 17,
   "metadata": {},
   "outputs": [
    {
     "name": "stdout",
     "output_type": "stream",
     "text": [
      "1622\n",
      "135656\n",
      "3634\n"
     ]
    }
   ],
   "source": [
    "# Remove Udacity test accounts from all three tables\n",
    "non_udacity_enrollments = remove_udacity_accounts(enrollments)\n",
    "non_udacity_engagement = remove_udacity_accounts(daily_engagement)\n",
    "non_udacity_submissions = remove_udacity_accounts(project_submissions)\n",
    "\n",
    "print (len(non_udacity_enrollments))\n",
    "print (len(non_udacity_engagement))\n",
    "print (len(non_udacity_submissions))"
   ]
  },
  {
   "cell_type": "markdown",
   "metadata": {},
   "source": [
    "## Refining the Question"
   ]
  },
  {
   "cell_type": "code",
   "execution_count": 33,
   "metadata": {},
   "outputs": [
    {
     "data": {
      "text/plain": [
       "995"
      ]
     },
     "execution_count": 33,
     "metadata": {},
     "output_type": "execute_result"
    }
   ],
   "source": [
    "#####################################\n",
    "#                 6                 #\n",
    "#####################################\n",
    "\n",
    "## Create a dictionary named paid_students containing all students who either\n",
    "## haven't canceled yet or who remained enrolled for more than 7 days. The keys\n",
    "## should be account keys, and the values should be the date the student enrolled.\n",
    "\n",
    "# The second if statement will check and make sure if a student is enrolled more than once, \n",
    "# we end up with the most recent enrollment date only.\n",
    "\n",
    "paid_students = {}\n",
    "\n",
    "for enrollment in non_udacity_enrollments: # Loop over the new enrollments table.\n",
    "    if not enrollment['is_canceled'] or enrollment['days_to_cancel'] > 7:  # Loop to find records with our conditions.\n",
    "        account_key = enrollment['account_key']  # Grab the account key when we find one.\n",
    "        enrollment_date = enrollment['join_date']  # Grab the enrollment date for the ones we found.\n",
    "\n",
    "        # This piece ensures if a student is enrolled more than once, \n",
    "        # we end up with the most recent enrollment date only.\n",
    "        if account_key not in paid_students or enrollment_date > paid_students[account_key]:\n",
    "            paid_students[account_key] = enrollment_date\n",
    "        \n",
    "    \n",
    "# See how many records that gave us\n",
    "len(paid_students)"
   ]
  },
  {
   "cell_type": "markdown",
   "metadata": {},
   "source": [
    "## Getting Data from First Week"
   ]
  },
  {
   "cell_type": "code",
   "execution_count": 61,
   "metadata": {
    "collapsed": true
   },
   "outputs": [],
   "source": [
    "# Takes a student's join date and the date of a specific engagement record,\n",
    "# and returns True if that engagement record happened within one week\n",
    "# of the student joining.\n",
    "\n",
    "def within_one_week(join_date, engagement_date):\n",
    "    time_delta = engagement_date - join_date\n",
    "    return time_delta.days < 7 and time_delta.days >= 0"
   ]
  },
  {
   "cell_type": "code",
   "execution_count": 62,
   "metadata": {
    "collapsed": true
   },
   "outputs": [],
   "source": [
    "#####################################\n",
    "#                 7                 #\n",
    "#####################################\n",
    "\n",
    "## Create a list of rows from the engagement table including only rows where\n",
    "## the student is one of the paid students you just found, and the date is within\n",
    "## one week of the student's join date.\n",
    "\n",
    "\n",
    "# Write a function to remove students who canceled during the free trial.\n",
    "def remove_free_trial_cancels(data):\n",
    "    new_data = []\n",
    "    for data_point in data:\n",
    "        if data_point['account_key'] in paid_students:\n",
    "            new_data.append(data_point)\n",
    "    return new_data\n",
    "        "
   ]
  },
  {
   "cell_type": "code",
   "execution_count": 63,
   "metadata": {},
   "outputs": [
    {
     "name": "stdout",
     "output_type": "stream",
     "text": [
      "1293\n",
      "134549\n",
      "3618\n"
     ]
    }
   ],
   "source": [
    "# Call function on all of the data sets to remove those canceled students and save results in new variables.\n",
    "\n",
    "paid_enrollments = remove_free_trial_cancels(non_udacity_enrollments)\n",
    "paid_engagement = remove_free_trial_cancels(non_udacity_engagement)\n",
    "paid_submissions = remove_free_trial_cancels(non_udacity_submissions)\n",
    "\n",
    "# See how many rows are being removed\n",
    "print (len(paid_enrollments))\n",
    "print (len(paid_engagement))\n",
    "print (len(paid_submissions))"
   ]
  },
  {
   "cell_type": "code",
   "execution_count": 64,
   "metadata": {},
   "outputs": [
    {
     "data": {
      "text/plain": [
       "6919"
      ]
     },
     "execution_count": 64,
     "metadata": {},
     "output_type": "execute_result"
    }
   ],
   "source": [
    "# Create an empty list to store records we find.\n",
    "paid_engagement_in_first_week = []\n",
    "\n",
    "# Use for loop to...\n",
    "for engagement_record in paid_engagement: # Loop over paid_engagement table\n",
    "    account_key = engagement_record['account_key']  #  Get account_key\n",
    "    join_date = paid_students[account_key]  # Get join_date for studentfrom table we created earlier.\n",
    "    engagement_record_date = engagement_record['utc_date']  #Save date of engagment record.\n",
    "    \n",
    "    # Loop over what we just collected in the first loop to apply our within_one_week function to the variables we collected.\n",
    "    if within_one_week(join_date, engagement_record_date):  # If the function results to True...\n",
    "        paid_engagement_in_first_week.append(engagement_record)  # Add the record to our new list. \n",
    "\n",
    "# See how many we have.\n",
    "len(paid_engagement_in_first_week) "
   ]
  },
  {
   "cell_type": "markdown",
   "metadata": {},
   "source": [
    "## Exploring Student Engagement\n",
    "#### Find the average number of minutes students spend in the classroom each week."
   ]
  },
  {
   "cell_type": "code",
   "execution_count": 65,
   "metadata": {
    "collapsed": true
   },
   "outputs": [],
   "source": [
    "from collections import defaultdict\n",
    "\n",
    "# Create a dictionary of engagement grouped by student.\n",
    "# The keys are account keys, and the values are lists of engagement records.\n",
    "\n",
    "engagement_by_account = defaultdict(list)  # Create a list to store our dictionary of lists. \n",
    "                                            # defaultdict(list) ensures it will store lists, or whatever is specified.\n",
    "                                            # By making it a list, any key that isn't there will return an empty list instead of nothing.\n",
    "    \n",
    "for engagement_record in paid_engagement_in_first_week:  # Loop over records in the first week paid engagement list.\n",
    "    account_key = engagement_record['account_key']  # Get the account key for the engagement_record.\n",
    "    engagement_by_account[account_key].append(engagement_record) # Look up the list of engagement records for that account_key.\n",
    "                                                                # Append engagement record to list of engagement records for that account_key"
   ]
  },
  {
   "cell_type": "code",
   "execution_count": 66,
   "metadata": {
    "collapsed": true
   },
   "outputs": [],
   "source": [
    "# Create a dictionary with the total minutes each student spent in the classroom during the first week.\n",
    "# The keys are account keys, and the values are numbers (total minutes).\n",
    "# This gives us the total minutes for each account_key, rather than a list of the engagements and minutes for each.\n",
    "\n",
    "total_minutes_by_account = {}  # Create a dictionary to store grouped engagement records.\n",
    "\n",
    "for account_key, engagement_for_student in engagement_by_account.items(): # Looping over with items() gives us the key and the value we specified for each entry in dict.\n",
    "    total_minutes = 0 #Initialize number of minutes as 0\n",
    "    for engagement_record in engagement_for_student: # Loop over each engagement record in the list of engagement records for each student.\n",
    "        total_minutes += engagement_record['total_minutes_visited'] # Add up total minutes in each engagement record for each student.\n",
    "    total_minutes_by_account[account_key] = total_minutes # Store the total number of minutes for the each student.\n",
    "    "
   ]
  },
  {
   "cell_type": "code",
   "execution_count": 67,
   "metadata": {},
   "outputs": [
    {
     "name": "stdout",
     "output_type": "stream",
     "text": [
      "Mean: 306.708326753\n",
      "Standard deviation: 412.996933409\n",
      "Minimum: 0.0\n",
      "Maximum: 3564.7332645\n"
     ]
    }
   ],
   "source": [
    "import numpy as np\n",
    "\n",
    "# Summarize the data about minutes spent in the classroom\n",
    "total_minutes = list(total_minutes_by_account.values())\n",
    "print ('Mean:', np.mean(total_minutes))\n",
    "print('Standard deviation:', np.std(total_minutes))\n",
    "print('Minimum:', np.min(total_minutes))\n",
    "print('Maximum:', np.max(total_minutes))"
   ]
  },
  {
   "cell_type": "code",
   "execution_count": null,
   "metadata": {
    "collapsed": true
   },
   "outputs": [],
   "source": []
  },
  {
   "cell_type": "markdown",
   "metadata": {},
   "source": [
    "## Debugging Data Analysis Code"
   ]
  },
  {
   "cell_type": "code",
   "execution_count": null,
   "metadata": {
    "collapsed": true
   },
   "outputs": [],
   "source": [
    "#####################################\n",
    "#                 8                 #\n",
    "#####################################\n",
    "\n",
    "## Go through a similar process as before to see if there is a problem.\n",
    "## Locate at least one surprising piece of data, output it, and take a look at it."
   ]
  },
  {
   "cell_type": "markdown",
   "metadata": {},
   "source": [
    "## Lessons Completed in First Week"
   ]
  },
  {
   "cell_type": "code",
   "execution_count": null,
   "metadata": {
    "collapsed": true
   },
   "outputs": [],
   "source": [
    "#####################################\n",
    "#                 9                 #\n",
    "#####################################\n",
    "\n",
    "## Adapt the code above to find the mean, standard deviation, minimum, and maximum for\n",
    "## the number of lessons completed by each student during the first week. Try creating\n",
    "## one or more functions to re-use the code above."
   ]
  },
  {
   "cell_type": "markdown",
   "metadata": {},
   "source": [
    "## Number of Visits in First Week"
   ]
  },
  {
   "cell_type": "code",
   "execution_count": null,
   "metadata": {
    "collapsed": true
   },
   "outputs": [],
   "source": [
    "######################################\n",
    "#                 10                 #\n",
    "######################################\n",
    "\n",
    "## Find the mean, standard deviation, minimum, and maximum for the number of\n",
    "## days each student visits the classroom during the first week."
   ]
  },
  {
   "cell_type": "markdown",
   "metadata": {},
   "source": [
    "## Splitting out Passing Students"
   ]
  },
  {
   "cell_type": "code",
   "execution_count": null,
   "metadata": {
    "collapsed": true
   },
   "outputs": [],
   "source": [
    "######################################\n",
    "#                 11                 #\n",
    "######################################\n",
    "\n",
    "## Create two lists of engagement data for paid students in the first week.\n",
    "## The first list should contain data for students who eventually pass the\n",
    "## subway project, and the second list should contain data for students\n",
    "## who do not.\n",
    "\n",
    "subway_project_lesson_keys = ['746169184', '3176718735']\n",
    "\n",
    "passing_engagement =\n",
    "non_passing_engagement ="
   ]
  },
  {
   "cell_type": "markdown",
   "metadata": {},
   "source": [
    "## Comparing the Two Student Groups"
   ]
  },
  {
   "cell_type": "code",
   "execution_count": null,
   "metadata": {
    "collapsed": true
   },
   "outputs": [],
   "source": [
    "######################################\n",
    "#                 12                 #\n",
    "######################################\n",
    "\n",
    "## Compute some metrics you're interested in and see how they differ for\n",
    "## students who pass the subway project vs. students who don't. A good\n",
    "## starting point would be the metrics we looked at earlier (minutes spent\n",
    "## in the classroom, lessons completed, and days visited)."
   ]
  },
  {
   "cell_type": "markdown",
   "metadata": {},
   "source": [
    "## Making Histograms"
   ]
  },
  {
   "cell_type": "code",
   "execution_count": null,
   "metadata": {
    "collapsed": true
   },
   "outputs": [],
   "source": [
    "######################################\n",
    "#                 13                 #\n",
    "######################################\n",
    "\n",
    "## Make histograms of the three metrics we looked at earlier for both\n",
    "## students who passed the subway project and students who didn't. You\n",
    "## might also want to make histograms of any other metrics you examined."
   ]
  },
  {
   "cell_type": "markdown",
   "metadata": {},
   "source": [
    "## Improving Plots and Sharing Findings"
   ]
  },
  {
   "cell_type": "code",
   "execution_count": null,
   "metadata": {
    "collapsed": true
   },
   "outputs": [],
   "source": [
    "######################################\n",
    "#                 14                 #\n",
    "######################################\n",
    "\n",
    "## Make a more polished version of at least one of your visualizations\n",
    "## from earlier. Try importing the seaborn library to make the visualization\n",
    "## look better, adding axis labels and a title, and changing one or more\n",
    "## arguments to the hist() function."
   ]
  }
 ],
 "metadata": {
  "anaconda-cloud": {},
  "kernelspec": {
   "display_name": "Python 3",
   "language": "python",
   "name": "python3"
  },
  "language_info": {
   "codemirror_mode": {
    "name": "ipython",
    "version": 3
   },
   "file_extension": ".py",
   "mimetype": "text/x-python",
   "name": "python",
   "nbconvert_exporter": "python",
   "pygments_lexer": "ipython3",
   "version": "3.6.2"
  }
 },
 "nbformat": 4,
 "nbformat_minor": 1
}
