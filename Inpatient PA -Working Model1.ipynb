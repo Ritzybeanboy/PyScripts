{
 "cells": [
  {
   "cell_type": "markdown",
   "metadata": {},
   "source": [
    "# Introduction and Summary\n",
    "\n",
    "**Problem Description**\n",
    "* ProHealth estimates that an unplanned, acute inpatient admission incurrs approximately $15,170 in cost to insurers per event.\n",
    "* Given that ProHealth profits from shared savings, this also impacts ProHealth's bottom line.\n",
    "* Since these are unexpected events, ProHealth is only able now to analyze them in hindsight.  Therefore, we examined 1,978,184 \"patient months\" of claims, clinical and demographic patient information from 2016 and 2017 in order to determine if we could find statistical patterns in the data that might allow us to predict which patients are most at risk for these events.\n",
    "\n",
    "**Goals of Project**\n",
    "* The goal is that if we are able to identify the patients most at risk, ProHealth can begin to design potential interventons and treatments to reduce this risk resulting in healthier patients, lower costs, and more shared savings.\n",
    "* Our target for prediction is a patient month in which that patient has an acute, inpatient claim that is coincided on the same calendar date by an ER visit within the next 6 calendar months.\n",
    "\n",
    "**Output of Project**\n",
    "* We fit a statistical model using logistic regression and use this model to test against a holdout set of this data in order to evaluate its performance.  \n",
    "* If the model's performance is acceptable, we will then make predictions for 2018."
   ]
  },
  {
   "cell_type": "markdown",
   "metadata": {},
   "source": [
    "# Import Packages and Settings"
   ]
  },
  {
   "cell_type": "code",
   "execution_count": 1,
   "metadata": {
    "collapsed": true
   },
   "outputs": [],
   "source": [
    "import pyodbc\n",
    "import pandas as pd\n",
    "import numpy as np\n",
    "import matplotlib.pyplot as plt\n",
    "import seaborn as sns\n",
    "import scipy as sp\n",
    "from yellowbrick.classifier import ConfusionMatrix\n",
    "from sklearn.metrics import confusion_matrix\n",
    "\n",
    "# Display options\n",
    "pd.options.display.max_columns = None\n",
    "%matplotlib inline\n",
    "sns.set(rc={'figure.figsize':(11.7,8.27)}) # Sets the size of plots to be a little bigger.\n",
    "sns.set_style(\"darkgrid\") # Set style of plots\n",
    "sns.set_context(\"notebook\") # Set plots to format for Jupyter\n",
    "pd.options.display.float_format = '{:,.5f}'.format #Set to display only 5 decimal places\n",
    "\n",
    "#Import module to create our training and test sets.\n",
    "from sklearn.model_selection import train_test_split\n",
    "from sklearn.preprocessing import MinMaxScaler\n",
    "\n",
    "\n",
    "\n",
    "# Machine Learning\n",
    "import statsmodels.api as sm \n",
    "from sklearn.linear_model import LogisticRegression\n",
    "from sklearn.svm import SVC, LinearSVC\n",
    "from sklearn.ensemble import RandomForestClassifier\n",
    "from sklearn.neighbors import KNeighborsClassifier\n",
    "from sklearn.naive_bayes import GaussianNB\n",
    "from sklearn.linear_model import Perceptron\n",
    "from sklearn.linear_model import SGDClassifier\n",
    "from sklearn.tree import DecisionTreeClassifier"
   ]
  },
  {
   "cell_type": "code",
   "execution_count": 1,
   "metadata": {},
   "outputs": [
    {
     "data": {
      "application/javascript": [
       "$('<div id=\"toc\"></div>').css({position: 'fixed', top: '120px', left: 0}).appendTo(document.body);\n",
       "$.getScript('https://kmahelona.github.io/ipython_notebook_goodies/ipython_notebook_toc.js');"
      ],
      "text/plain": [
       "<IPython.core.display.Javascript object>"
      ]
     },
     "metadata": {},
     "output_type": "display_data"
    }
   ],
   "source": [
    "%%javascript\n",
    "$('<div id=\"toc\"></div>').css({position: 'fixed', top: '120px', left: 0}).appendTo(document.body);\n",
    "$.getScript('https://kmahelona.github.io/ipython_notebook_goodies/ipython_notebook_toc.js');"
   ]
  },
  {
   "cell_type": "markdown",
   "metadata": {},
   "source": [
    "# Connect to DB and Initialize DataFrames"
   ]
  },
  {
   "cell_type": "code",
   "execution_count": 3,
   "metadata": {
    "collapsed": true
   },
   "outputs": [],
   "source": [
    "con = pyodbc.connect('Trusted_Connection=yes', driver='{SQL Server}', server='dev-sql05', database='Delphi')\n",
    "\n",
    "cur = con.cursor()\n",
    "\n",
    "querystring = 'SELECT * FROM stage_PatientClaimDetail_Combined'\n",
    "\n",
    "df_AcuteInpatient = pd.read_sql(querystring,con)"
   ]
  },
  {
   "cell_type": "code",
   "execution_count": 4,
   "metadata": {
    "collapsed": true
   },
   "outputs": [],
   "source": [
    "# Create dfs for modeling and predictions.\n",
    "    # Modeling set is all data from 2016/2017.\n",
    "    # Predict2018 set is all data from 2018 or later.\n",
    "\n",
    "df_Modeling = df_AcuteInpatient[df_AcuteInpatient.DateMonthlyID < 337]\n",
    "\n",
    "df_Predict2018 = df_AcuteInpatient[df_AcuteInpatient.DateMonthlyID >= 337]\n",
    "\n",
    "# Convert all possible columns to int, ignore if not int (prevents errors in other procs).\n",
    "df_AcuteInpatient = df_AcuteInpatient.apply(pd.to_numeric, errors='ignore')\n",
    "\n",
    "# Create dfs to compare Target vs Non-Target populations.\n",
    "df_Target = df_Modeling[df_Modeling.HasAcuteERIn6Mths == 1]\n",
    "\n",
    "df_NonTarget = df_Modeling[df_Modeling.HasAcuteERIn6Mths == 0]\n"
   ]
  },
  {
   "cell_type": "markdown",
   "metadata": {},
   "source": []
  },
  {
   "cell_type": "markdown",
   "metadata": {},
   "source": []
  },
  {
   "cell_type": "markdown",
   "metadata": {},
   "source": [
    "# Selected EDA"
   ]
  },
  {
   "cell_type": "markdown",
   "metadata": {},
   "source": [
    "## Describe -Target vs Non-Target\n",
    "\n",
    "**Chronic Conditions:**  \n",
    "A lot of these comparisons look big, but when you consider that Heart Failure is 5X more likely in the Target group, but still only has an instance of 10.9% in that population, it's not exactly a smoking gun.  Most of these are a similar situation. \n",
    "    * COPD is 3X the instance in the Target group\n",
    "    * Diabetes is 2X \n",
    "    * Heart Failure more than 5X\n",
    "    * Hypertension 15% more likely\n",
    "    * Chronic Kidney is 2.5X\n",
    "\n",
    "\n",
    "**Other trends:**\n",
    "Trends in number of procedures, age and inpatient/ER claims stand out as biggest indicators so far.\n",
    "    * OPPLast6Mths: Almost 22 on average in Target population, less than 3 in Non-Target pop.  \n",
    "    * OPP3MonthAvg: 4.3 in Target vs 0.6 in Non-Target.\n",
    "    * 35% of Target pop HasPreviousAdmit, vs 5% of Non-Target pop.\n",
    "    * Recent surgery numbers about double for Target pop.\n",
    "    * 63% of target have Medicare vs 29% of Non-Target pop.  With it were more disparate...\n",
    "    * Average age of Target is 79 vs 61\n",
    "    * Target has massively more inpatient claims -Avg of 6 vs 0.09. AcuteInpatient is 5.1 vs .04, Subacute 1.2 vs .05\n",
    "    * Target avg 11.9 ER claims vs 1.2\n",
    "    * Approx 21% chance a patient has had an AcuteER event in previous month vs 0. \n",
    "    \n",
    "\n",
    "**Non-Trends of Interest:** (Columns not shown)\n",
    "    * Target less likely to be Obese.\n",
    "    * Non-Target 2X more likely to have a Collection note.\n",
    "    * Similar rate of DeppressionOrBH in Target vs Non-Target pops."
   ]
  },
  {
   "cell_type": "code",
   "execution_count": 5,
   "metadata": {
    "collapsed": true
   },
   "outputs": [],
   "source": [
    "# Create tables with variables of interest\n",
    "\n",
    "df_Target = df_Target[['IsCOPD', 'IsDiabetes', 'IsHeartFailure', 'IsHypertension', 'IsChronicKidney'\n",
    "                       , 'OPPLast6Mths', 'OPP3MonthAvg', 'HasPreviousAdmit', 'Has1MonthSurgery', 'Has3MonthSurgery'\n",
    "                      , 'HasMedicareIns', 'Age', 'CntInpatient', 'CntIsAcuteInpatient', 'CntIsSubAcuteInpatient'\n",
    "                      , 'CntIsERClaim', 'IsAcuteERPrev', 'HasAcuteERIn6Mths']]\n",
    "\n",
    "df_NonTarget = df_NonTarget[['IsCOPD', 'IsDiabetes', 'IsHeartFailure', 'IsHypertension', 'IsChronicKidney'\n",
    "                       , 'OPPLast6Mths', 'OPP3MonthAvg', 'HasPreviousAdmit', 'Has1MonthSurgery', 'Has3MonthSurgery'\n",
    "                      , 'HasMedicareIns', 'Age', 'CntInpatient', 'CntIsAcuteInpatient', 'CntIsSubAcuteInpatient'\n",
    "                      , 'CntIsERClaim', 'IsAcuteERPrev', 'HasAcuteERIn6Mths']]\n"
   ]
  },
  {
   "cell_type": "code",
   "execution_count": 6,
   "metadata": {
    "scrolled": true
   },
   "outputs": [
    {
     "data": {
      "text/html": [
       "<div>\n",
       "<style scoped>\n",
       "    .dataframe tbody tr th:only-of-type {\n",
       "        vertical-align: middle;\n",
       "    }\n",
       "\n",
       "    .dataframe tbody tr th {\n",
       "        vertical-align: top;\n",
       "    }\n",
       "\n",
       "    .dataframe thead th {\n",
       "        text-align: right;\n",
       "    }\n",
       "</style>\n",
       "<table border=\"1\" class=\"dataframe\">\n",
       "  <thead>\n",
       "    <tr style=\"text-align: right;\">\n",
       "      <th></th>\n",
       "      <th>IsCOPD</th>\n",
       "      <th>IsDiabetes</th>\n",
       "      <th>IsHeartFailure</th>\n",
       "      <th>IsHypertension</th>\n",
       "      <th>IsChronicKidney</th>\n",
       "      <th>OPPLast6Mths</th>\n",
       "      <th>OPP3MonthAvg</th>\n",
       "      <th>HasPreviousAdmit</th>\n",
       "      <th>Has1MonthSurgery</th>\n",
       "      <th>Has3MonthSurgery</th>\n",
       "      <th>HasMedicareIns</th>\n",
       "      <th>Age</th>\n",
       "      <th>CntInpatient</th>\n",
       "      <th>CntIsAcuteInpatient</th>\n",
       "      <th>CntIsSubAcuteInpatient</th>\n",
       "      <th>CntIsERClaim</th>\n",
       "      <th>IsAcuteERPrev</th>\n",
       "      <th>HasAcuteERIn6Mths</th>\n",
       "    </tr>\n",
       "  </thead>\n",
       "  <tbody>\n",
       "    <tr>\n",
       "      <th>count</th>\n",
       "      <td>94,388.00000</td>\n",
       "      <td>94,388.00000</td>\n",
       "      <td>94,388.00000</td>\n",
       "      <td>94,388.00000</td>\n",
       "      <td>94,388.00000</td>\n",
       "      <td>94,388.00000</td>\n",
       "      <td>94,388.00000</td>\n",
       "      <td>94,388.00000</td>\n",
       "      <td>94,388.00000</td>\n",
       "      <td>94,388.00000</td>\n",
       "      <td>94,388.00000</td>\n",
       "      <td>94,388.00000</td>\n",
       "      <td>94,388.00000</td>\n",
       "      <td>94,388.00000</td>\n",
       "      <td>94,388.00000</td>\n",
       "      <td>94,388.00000</td>\n",
       "      <td>94,388.00000</td>\n",
       "      <td>94,388.00000</td>\n",
       "    </tr>\n",
       "    <tr>\n",
       "      <th>mean</th>\n",
       "      <td>0.16143</td>\n",
       "      <td>0.21655</td>\n",
       "      <td>0.11509</td>\n",
       "      <td>0.55816</td>\n",
       "      <td>0.25078</td>\n",
       "      <td>22.18912</td>\n",
       "      <td>4.29413</td>\n",
       "      <td>0.35850</td>\n",
       "      <td>0.31241</td>\n",
       "      <td>0.58281</td>\n",
       "      <td>0.62771</td>\n",
       "      <td>78.99601</td>\n",
       "      <td>6.32441</td>\n",
       "      <td>5.11038</td>\n",
       "      <td>1.21402</td>\n",
       "      <td>11.87546</td>\n",
       "      <td>0.20766</td>\n",
       "      <td>1.00000</td>\n",
       "    </tr>\n",
       "    <tr>\n",
       "      <th>std</th>\n",
       "      <td>0.36793</td>\n",
       "      <td>0.41190</td>\n",
       "      <td>0.31913</td>\n",
       "      <td>0.49661</td>\n",
       "      <td>0.43347</td>\n",
       "      <td>57.64692</td>\n",
       "      <td>11.18132</td>\n",
       "      <td>0.47956</td>\n",
       "      <td>0.46348</td>\n",
       "      <td>0.49310</td>\n",
       "      <td>0.48342</td>\n",
       "      <td>11.65868</td>\n",
       "      <td>12.08617</td>\n",
       "      <td>10.31822</td>\n",
       "      <td>3.59245</td>\n",
       "      <td>29.78952</td>\n",
       "      <td>0.40564</td>\n",
       "      <td>0.00000</td>\n",
       "    </tr>\n",
       "    <tr>\n",
       "      <th>min</th>\n",
       "      <td>0.00000</td>\n",
       "      <td>0.00000</td>\n",
       "      <td>0.00000</td>\n",
       "      <td>0.00000</td>\n",
       "      <td>0.00000</td>\n",
       "      <td>0.00000</td>\n",
       "      <td>0.00000</td>\n",
       "      <td>0.00000</td>\n",
       "      <td>0.00000</td>\n",
       "      <td>0.00000</td>\n",
       "      <td>0.00000</td>\n",
       "      <td>22.00000</td>\n",
       "      <td>0.00000</td>\n",
       "      <td>0.00000</td>\n",
       "      <td>0.00000</td>\n",
       "      <td>0.00000</td>\n",
       "      <td>0.00000</td>\n",
       "      <td>1.00000</td>\n",
       "    </tr>\n",
       "    <tr>\n",
       "      <th>25%</th>\n",
       "      <td>0.00000</td>\n",
       "      <td>0.00000</td>\n",
       "      <td>0.00000</td>\n",
       "      <td>0.00000</td>\n",
       "      <td>0.00000</td>\n",
       "      <td>0.00000</td>\n",
       "      <td>0.00000</td>\n",
       "      <td>0.00000</td>\n",
       "      <td>0.00000</td>\n",
       "      <td>0.00000</td>\n",
       "      <td>0.00000</td>\n",
       "      <td>72.00000</td>\n",
       "      <td>0.00000</td>\n",
       "      <td>0.00000</td>\n",
       "      <td>0.00000</td>\n",
       "      <td>0.00000</td>\n",
       "      <td>0.00000</td>\n",
       "      <td>1.00000</td>\n",
       "    </tr>\n",
       "    <tr>\n",
       "      <th>50%</th>\n",
       "      <td>0.00000</td>\n",
       "      <td>0.00000</td>\n",
       "      <td>0.00000</td>\n",
       "      <td>1.00000</td>\n",
       "      <td>0.00000</td>\n",
       "      <td>0.00000</td>\n",
       "      <td>0.00000</td>\n",
       "      <td>0.00000</td>\n",
       "      <td>0.00000</td>\n",
       "      <td>1.00000</td>\n",
       "      <td>1.00000</td>\n",
       "      <td>81.00000</td>\n",
       "      <td>0.00000</td>\n",
       "      <td>0.00000</td>\n",
       "      <td>0.00000</td>\n",
       "      <td>0.00000</td>\n",
       "      <td>0.00000</td>\n",
       "      <td>1.00000</td>\n",
       "    </tr>\n",
       "    <tr>\n",
       "      <th>75%</th>\n",
       "      <td>0.00000</td>\n",
       "      <td>0.00000</td>\n",
       "      <td>0.00000</td>\n",
       "      <td>1.00000</td>\n",
       "      <td>1.00000</td>\n",
       "      <td>18.00000</td>\n",
       "      <td>3.33333</td>\n",
       "      <td>1.00000</td>\n",
       "      <td>1.00000</td>\n",
       "      <td>1.00000</td>\n",
       "      <td>1.00000</td>\n",
       "      <td>88.00000</td>\n",
       "      <td>11.00000</td>\n",
       "      <td>8.00000</td>\n",
       "      <td>0.00000</td>\n",
       "      <td>20.00000</td>\n",
       "      <td>0.00000</td>\n",
       "      <td>1.00000</td>\n",
       "    </tr>\n",
       "    <tr>\n",
       "      <th>max</th>\n",
       "      <td>1.00000</td>\n",
       "      <td>1.00000</td>\n",
       "      <td>1.00000</td>\n",
       "      <td>1.00000</td>\n",
       "      <td>1.00000</td>\n",
       "      <td>1,193.00000</td>\n",
       "      <td>207.66666</td>\n",
       "      <td>1.00000</td>\n",
       "      <td>1.00000</td>\n",
       "      <td>1.00000</td>\n",
       "      <td>1.00000</td>\n",
       "      <td>111.00000</td>\n",
       "      <td>227.00000</td>\n",
       "      <td>227.00000</td>\n",
       "      <td>86.00000</td>\n",
       "      <td>5,652.00000</td>\n",
       "      <td>1.00000</td>\n",
       "      <td>1.00000</td>\n",
       "    </tr>\n",
       "  </tbody>\n",
       "</table>\n",
       "</div>"
      ],
      "text/plain": [
       "            IsCOPD   IsDiabetes  IsHeartFailure  IsHypertension  \\\n",
       "count 94,388.00000 94,388.00000    94,388.00000    94,388.00000   \n",
       "mean       0.16143      0.21655         0.11509         0.55816   \n",
       "std        0.36793      0.41190         0.31913         0.49661   \n",
       "min        0.00000      0.00000         0.00000         0.00000   \n",
       "25%        0.00000      0.00000         0.00000         0.00000   \n",
       "50%        0.00000      0.00000         0.00000         1.00000   \n",
       "75%        0.00000      0.00000         0.00000         1.00000   \n",
       "max        1.00000      1.00000         1.00000         1.00000   \n",
       "\n",
       "       IsChronicKidney  OPPLast6Mths  OPP3MonthAvg  HasPreviousAdmit  \\\n",
       "count     94,388.00000  94,388.00000  94,388.00000      94,388.00000   \n",
       "mean           0.25078      22.18912       4.29413           0.35850   \n",
       "std            0.43347      57.64692      11.18132           0.47956   \n",
       "min            0.00000       0.00000       0.00000           0.00000   \n",
       "25%            0.00000       0.00000       0.00000           0.00000   \n",
       "50%            0.00000       0.00000       0.00000           0.00000   \n",
       "75%            1.00000      18.00000       3.33333           1.00000   \n",
       "max            1.00000   1,193.00000     207.66666           1.00000   \n",
       "\n",
       "       Has1MonthSurgery  Has3MonthSurgery  HasMedicareIns          Age  \\\n",
       "count      94,388.00000      94,388.00000    94,388.00000 94,388.00000   \n",
       "mean            0.31241           0.58281         0.62771     78.99601   \n",
       "std             0.46348           0.49310         0.48342     11.65868   \n",
       "min             0.00000           0.00000         0.00000     22.00000   \n",
       "25%             0.00000           0.00000         0.00000     72.00000   \n",
       "50%             0.00000           1.00000         1.00000     81.00000   \n",
       "75%             1.00000           1.00000         1.00000     88.00000   \n",
       "max             1.00000           1.00000         1.00000    111.00000   \n",
       "\n",
       "       CntInpatient  CntIsAcuteInpatient  CntIsSubAcuteInpatient  \\\n",
       "count  94,388.00000         94,388.00000            94,388.00000   \n",
       "mean        6.32441              5.11038                 1.21402   \n",
       "std        12.08617             10.31822                 3.59245   \n",
       "min         0.00000              0.00000                 0.00000   \n",
       "25%         0.00000              0.00000                 0.00000   \n",
       "50%         0.00000              0.00000                 0.00000   \n",
       "75%        11.00000              8.00000                 0.00000   \n",
       "max       227.00000            227.00000                86.00000   \n",
       "\n",
       "       CntIsERClaim  IsAcuteERPrev  HasAcuteERIn6Mths  \n",
       "count  94,388.00000   94,388.00000       94,388.00000  \n",
       "mean       11.87546        0.20766            1.00000  \n",
       "std        29.78952        0.40564            0.00000  \n",
       "min         0.00000        0.00000            1.00000  \n",
       "25%         0.00000        0.00000            1.00000  \n",
       "50%         0.00000        0.00000            1.00000  \n",
       "75%        20.00000        0.00000            1.00000  \n",
       "max     5,652.00000        1.00000            1.00000  "
      ]
     },
     "execution_count": 6,
     "metadata": {},
     "output_type": "execute_result"
    }
   ],
   "source": [
    "df_Target.describe()"
   ]
  },
  {
   "cell_type": "code",
   "execution_count": 7,
   "metadata": {
    "scrolled": true
   },
   "outputs": [
    {
     "data": {
      "text/html": [
       "<div>\n",
       "<style scoped>\n",
       "    .dataframe tbody tr th:only-of-type {\n",
       "        vertical-align: middle;\n",
       "    }\n",
       "\n",
       "    .dataframe tbody tr th {\n",
       "        vertical-align: top;\n",
       "    }\n",
       "\n",
       "    .dataframe thead th {\n",
       "        text-align: right;\n",
       "    }\n",
       "</style>\n",
       "<table border=\"1\" class=\"dataframe\">\n",
       "  <thead>\n",
       "    <tr style=\"text-align: right;\">\n",
       "      <th></th>\n",
       "      <th>IsCOPD</th>\n",
       "      <th>IsDiabetes</th>\n",
       "      <th>IsHeartFailure</th>\n",
       "      <th>IsHypertension</th>\n",
       "      <th>IsChronicKidney</th>\n",
       "      <th>OPPLast6Mths</th>\n",
       "      <th>OPP3MonthAvg</th>\n",
       "      <th>HasPreviousAdmit</th>\n",
       "      <th>Has1MonthSurgery</th>\n",
       "      <th>Has3MonthSurgery</th>\n",
       "      <th>HasMedicareIns</th>\n",
       "      <th>Age</th>\n",
       "      <th>CntInpatient</th>\n",
       "      <th>CntIsAcuteInpatient</th>\n",
       "      <th>CntIsSubAcuteInpatient</th>\n",
       "      <th>CntIsERClaim</th>\n",
       "      <th>IsAcuteERPrev</th>\n",
       "      <th>HasAcuteERIn6Mths</th>\n",
       "    </tr>\n",
       "  </thead>\n",
       "  <tbody>\n",
       "    <tr>\n",
       "      <th>count</th>\n",
       "      <td>1,710,496.00000</td>\n",
       "      <td>1,710,496.00000</td>\n",
       "      <td>1,710,496.00000</td>\n",
       "      <td>1,710,496.00000</td>\n",
       "      <td>1,710,496.00000</td>\n",
       "      <td>1,710,496.00000</td>\n",
       "      <td>1,710,496.00000</td>\n",
       "      <td>1,710,496.00000</td>\n",
       "      <td>1,710,496.00000</td>\n",
       "      <td>1,710,496.00000</td>\n",
       "      <td>1,710,496.00000</td>\n",
       "      <td>1,710,496.00000</td>\n",
       "      <td>1,710,496.00000</td>\n",
       "      <td>1,710,496.00000</td>\n",
       "      <td>1,710,496.00000</td>\n",
       "      <td>1,710,496.00000</td>\n",
       "      <td>1,710,496.00000</td>\n",
       "      <td>1,710,496.00000</td>\n",
       "    </tr>\n",
       "    <tr>\n",
       "      <th>mean</th>\n",
       "      <td>0.05106</td>\n",
       "      <td>0.12002</td>\n",
       "      <td>0.01927</td>\n",
       "      <td>0.40780</td>\n",
       "      <td>0.10023</td>\n",
       "      <td>3.34584</td>\n",
       "      <td>0.63979</td>\n",
       "      <td>0.05109</td>\n",
       "      <td>0.14299</td>\n",
       "      <td>0.30231</td>\n",
       "      <td>0.28965</td>\n",
       "      <td>60.77602</td>\n",
       "      <td>0.09046</td>\n",
       "      <td>0.04340</td>\n",
       "      <td>0.04706</td>\n",
       "      <td>1.17900</td>\n",
       "      <td>0.00000</td>\n",
       "      <td>0.00000</td>\n",
       "    </tr>\n",
       "    <tr>\n",
       "      <th>std</th>\n",
       "      <td>0.22012</td>\n",
       "      <td>0.32498</td>\n",
       "      <td>0.13748</td>\n",
       "      <td>0.49143</td>\n",
       "      <td>0.30031</td>\n",
       "      <td>19.77904</td>\n",
       "      <td>3.90872</td>\n",
       "      <td>0.22019</td>\n",
       "      <td>0.35006</td>\n",
       "      <td>0.45926</td>\n",
       "      <td>0.45360</td>\n",
       "      <td>17.42931</td>\n",
       "      <td>1.23565</td>\n",
       "      <td>0.92661</td>\n",
       "      <td>0.69099</td>\n",
       "      <td>85.20124</td>\n",
       "      <td>0.00000</td>\n",
       "      <td>0.00000</td>\n",
       "    </tr>\n",
       "    <tr>\n",
       "      <th>min</th>\n",
       "      <td>0.00000</td>\n",
       "      <td>0.00000</td>\n",
       "      <td>0.00000</td>\n",
       "      <td>0.00000</td>\n",
       "      <td>0.00000</td>\n",
       "      <td>0.00000</td>\n",
       "      <td>0.00000</td>\n",
       "      <td>0.00000</td>\n",
       "      <td>0.00000</td>\n",
       "      <td>0.00000</td>\n",
       "      <td>0.00000</td>\n",
       "      <td>22.00000</td>\n",
       "      <td>0.00000</td>\n",
       "      <td>0.00000</td>\n",
       "      <td>0.00000</td>\n",
       "      <td>0.00000</td>\n",
       "      <td>0.00000</td>\n",
       "      <td>0.00000</td>\n",
       "    </tr>\n",
       "    <tr>\n",
       "      <th>25%</th>\n",
       "      <td>0.00000</td>\n",
       "      <td>0.00000</td>\n",
       "      <td>0.00000</td>\n",
       "      <td>0.00000</td>\n",
       "      <td>0.00000</td>\n",
       "      <td>0.00000</td>\n",
       "      <td>0.00000</td>\n",
       "      <td>0.00000</td>\n",
       "      <td>0.00000</td>\n",
       "      <td>0.00000</td>\n",
       "      <td>0.00000</td>\n",
       "      <td>49.00000</td>\n",
       "      <td>0.00000</td>\n",
       "      <td>0.00000</td>\n",
       "      <td>0.00000</td>\n",
       "      <td>0.00000</td>\n",
       "      <td>0.00000</td>\n",
       "      <td>0.00000</td>\n",
       "    </tr>\n",
       "    <tr>\n",
       "      <th>50%</th>\n",
       "      <td>0.00000</td>\n",
       "      <td>0.00000</td>\n",
       "      <td>0.00000</td>\n",
       "      <td>0.00000</td>\n",
       "      <td>0.00000</td>\n",
       "      <td>0.00000</td>\n",
       "      <td>0.00000</td>\n",
       "      <td>0.00000</td>\n",
       "      <td>0.00000</td>\n",
       "      <td>0.00000</td>\n",
       "      <td>0.00000</td>\n",
       "      <td>62.00000</td>\n",
       "      <td>0.00000</td>\n",
       "      <td>0.00000</td>\n",
       "      <td>0.00000</td>\n",
       "      <td>0.00000</td>\n",
       "      <td>0.00000</td>\n",
       "      <td>0.00000</td>\n",
       "    </tr>\n",
       "    <tr>\n",
       "      <th>75%</th>\n",
       "      <td>0.00000</td>\n",
       "      <td>0.00000</td>\n",
       "      <td>0.00000</td>\n",
       "      <td>1.00000</td>\n",
       "      <td>0.00000</td>\n",
       "      <td>0.00000</td>\n",
       "      <td>0.00000</td>\n",
       "      <td>0.00000</td>\n",
       "      <td>0.00000</td>\n",
       "      <td>1.00000</td>\n",
       "      <td>1.00000</td>\n",
       "      <td>74.00000</td>\n",
       "      <td>0.00000</td>\n",
       "      <td>0.00000</td>\n",
       "      <td>0.00000</td>\n",
       "      <td>0.00000</td>\n",
       "      <td>0.00000</td>\n",
       "      <td>0.00000</td>\n",
       "    </tr>\n",
       "    <tr>\n",
       "      <th>max</th>\n",
       "      <td>1.00000</td>\n",
       "      <td>1.00000</td>\n",
       "      <td>1.00000</td>\n",
       "      <td>1.00000</td>\n",
       "      <td>1.00000</td>\n",
       "      <td>1,348.00000</td>\n",
       "      <td>316.66667</td>\n",
       "      <td>1.00000</td>\n",
       "      <td>1.00000</td>\n",
       "      <td>1.00000</td>\n",
       "      <td>1.00000</td>\n",
       "      <td>116.00000</td>\n",
       "      <td>165.00000</td>\n",
       "      <td>158.00000</td>\n",
       "      <td>88.00000</td>\n",
       "      <td>93,276.00000</td>\n",
       "      <td>0.00000</td>\n",
       "      <td>0.00000</td>\n",
       "    </tr>\n",
       "  </tbody>\n",
       "</table>\n",
       "</div>"
      ],
      "text/plain": [
       "               IsCOPD      IsDiabetes  IsHeartFailure  IsHypertension  \\\n",
       "count 1,710,496.00000 1,710,496.00000 1,710,496.00000 1,710,496.00000   \n",
       "mean          0.05106         0.12002         0.01927         0.40780   \n",
       "std           0.22012         0.32498         0.13748         0.49143   \n",
       "min           0.00000         0.00000         0.00000         0.00000   \n",
       "25%           0.00000         0.00000         0.00000         0.00000   \n",
       "50%           0.00000         0.00000         0.00000         0.00000   \n",
       "75%           0.00000         0.00000         0.00000         1.00000   \n",
       "max           1.00000         1.00000         1.00000         1.00000   \n",
       "\n",
       "       IsChronicKidney    OPPLast6Mths    OPP3MonthAvg  HasPreviousAdmit  \\\n",
       "count  1,710,496.00000 1,710,496.00000 1,710,496.00000   1,710,496.00000   \n",
       "mean           0.10023         3.34584         0.63979           0.05109   \n",
       "std            0.30031        19.77904         3.90872           0.22019   \n",
       "min            0.00000         0.00000         0.00000           0.00000   \n",
       "25%            0.00000         0.00000         0.00000           0.00000   \n",
       "50%            0.00000         0.00000         0.00000           0.00000   \n",
       "75%            0.00000         0.00000         0.00000           0.00000   \n",
       "max            1.00000     1,348.00000       316.66667           1.00000   \n",
       "\n",
       "       Has1MonthSurgery  Has3MonthSurgery  HasMedicareIns             Age  \\\n",
       "count   1,710,496.00000   1,710,496.00000 1,710,496.00000 1,710,496.00000   \n",
       "mean            0.14299           0.30231         0.28965        60.77602   \n",
       "std             0.35006           0.45926         0.45360        17.42931   \n",
       "min             0.00000           0.00000         0.00000        22.00000   \n",
       "25%             0.00000           0.00000         0.00000        49.00000   \n",
       "50%             0.00000           0.00000         0.00000        62.00000   \n",
       "75%             0.00000           1.00000         1.00000        74.00000   \n",
       "max             1.00000           1.00000         1.00000       116.00000   \n",
       "\n",
       "         CntInpatient  CntIsAcuteInpatient  CntIsSubAcuteInpatient  \\\n",
       "count 1,710,496.00000      1,710,496.00000         1,710,496.00000   \n",
       "mean          0.09046              0.04340                 0.04706   \n",
       "std           1.23565              0.92661                 0.69099   \n",
       "min           0.00000              0.00000                 0.00000   \n",
       "25%           0.00000              0.00000                 0.00000   \n",
       "50%           0.00000              0.00000                 0.00000   \n",
       "75%           0.00000              0.00000                 0.00000   \n",
       "max         165.00000            158.00000                88.00000   \n",
       "\n",
       "         CntIsERClaim   IsAcuteERPrev  HasAcuteERIn6Mths  \n",
       "count 1,710,496.00000 1,710,496.00000    1,710,496.00000  \n",
       "mean          1.17900         0.00000            0.00000  \n",
       "std          85.20124         0.00000            0.00000  \n",
       "min           0.00000         0.00000            0.00000  \n",
       "25%           0.00000         0.00000            0.00000  \n",
       "50%           0.00000         0.00000            0.00000  \n",
       "75%           0.00000         0.00000            0.00000  \n",
       "max      93,276.00000         0.00000            0.00000  "
      ]
     },
     "execution_count": 7,
     "metadata": {},
     "output_type": "execute_result"
    }
   ],
   "source": [
    "df_NonTarget.describe()"
   ]
  },
  {
   "cell_type": "markdown",
   "metadata": {},
   "source": [
    "## Age of Population\n",
    "\n",
    "* Target patients are, not surprisingly, skewed toward being older.\n",
    "* What's also interesting is the huge jump in instances right around age 65.  It's possible we could want one model for those over 65 and another for those under.  This is discussed in more detail in Appendix 1."
   ]
  },
  {
   "cell_type": "code",
   "execution_count": 8,
   "metadata": {},
   "outputs": [
    {
     "name": "stderr",
     "output_type": "stream",
     "text": [
      "C:\\Users\\bburns.PROHEALTH.000\\AppData\\Local\\Continuum\\anaconda3\\lib\\site-packages\\matplotlib\\axes\\_axes.py:6462: UserWarning: The 'normed' kwarg is deprecated, and has been replaced by the 'density' kwarg.\n",
      "  warnings.warn(\"The 'normed' kwarg is deprecated, and has been \"\n",
      "C:\\Users\\bburns.PROHEALTH.000\\AppData\\Local\\Continuum\\anaconda3\\lib\\site-packages\\matplotlib\\axes\\_axes.py:6462: UserWarning: The 'normed' kwarg is deprecated, and has been replaced by the 'density' kwarg.\n",
      "  warnings.warn(\"The 'normed' kwarg is deprecated, and has been \"\n"
     ]
    },
    {
     "data": {
      "image/png": "[encoded data removed]",
      "text/plain": [
       "<Figure size 432x288 with 2 Axes>"
      ]
     },
     "metadata": {},
     "output_type": "display_data"
    }
   ],
   "source": [
    "fig, axes = plt.subplots(1, 2)\n",
    "\n",
    "sns.distplot(df_Target['Age'],kde = True, ax=axes[0]).set_title('Target Population')\n",
    "sns.distplot(df_NonTarget['Age'],kde = True, ax=axes[1]).set_title('Non-Target Population');\n"
   ]
  },
  {
   "cell_type": "code",
   "execution_count": 9,
   "metadata": {
    "scrolled": false
   },
   "outputs": [
    {
     "name": "stderr",
     "output_type": "stream",
     "text": [
      "C:\\Users\\bburns.PROHEALTH.000\\AppData\\Local\\Continuum\\anaconda3\\lib\\site-packages\\matplotlib\\axes\\_axes.py:6462: UserWarning: The 'normed' kwarg is deprecated, and has been replaced by the 'density' kwarg.\n",
      "  warnings.warn(\"The 'normed' kwarg is deprecated, and has been \"\n",
      "C:\\Users\\bburns.PROHEALTH.000\\AppData\\Local\\Continuum\\anaconda3\\lib\\site-packages\\matplotlib\\axes\\_axes.py:6462: UserWarning: The 'normed' kwarg is deprecated, and has been replaced by the 'density' kwarg.\n",
      "  warnings.warn(\"The 'normed' kwarg is deprecated, and has been \"\n"
     ]
    },
    {
     "data": {
      "image/png": "[encoded data removed]",
      "text/plain": [
       "<Figure size 432x288 with 1 Axes>"
      ]
     },
     "metadata": {},
     "output_type": "display_data"
    }
   ],
   "source": [
    "sns.distplot(df_Target['Age']);\n",
    "sns.distplot(df_NonTarget['Age']).set_title('Target and Non-Target Population with KDE');"
   ]
  },
  {
   "cell_type": "markdown",
   "metadata": {},
   "source": [
    "### MaritalStatus\n",
    "* MaritalStatus: 13.7% of all Widowed patients.  None other exceeds 5.4%."
   ]
  },
  {
   "cell_type": "code",
   "execution_count": 10,
   "metadata": {
    "scrolled": false
   },
   "outputs": [
    {
     "data": {
      "text/html": [
       "<div>\n",
       "<style scoped>\n",
       "    .dataframe tbody tr th:only-of-type {\n",
       "        vertical-align: middle;\n",
       "    }\n",
       "\n",
       "    .dataframe tbody tr th {\n",
       "        vertical-align: top;\n",
       "    }\n",
       "\n",
       "    .dataframe thead tr th {\n",
       "        text-align: left;\n",
       "    }\n",
       "</style>\n",
       "<table border=\"1\" class=\"dataframe\">\n",
       "  <thead>\n",
       "    <tr>\n",
       "      <th></th>\n",
       "      <th>MaritalStatus</th>\n",
       "      <th colspan=\"2\" halign=\"left\">HasAcuteERIn6Mths</th>\n",
       "    </tr>\n",
       "    <tr>\n",
       "      <th></th>\n",
       "      <th></th>\n",
       "      <th>mean</th>\n",
       "      <th>count</th>\n",
       "    </tr>\n",
       "  </thead>\n",
       "  <tbody>\n",
       "    <tr>\n",
       "      <th>0</th>\n",
       "      <td></td>\n",
       "      <td>0.04100</td>\n",
       "      <td>561</td>\n",
       "    </tr>\n",
       "    <tr>\n",
       "      <th>1</th>\n",
       "      <td>D</td>\n",
       "      <td>0.05363</td>\n",
       "      <td>110153</td>\n",
       "    </tr>\n",
       "    <tr>\n",
       "      <th>2</th>\n",
       "      <td>M</td>\n",
       "      <td>0.03762</td>\n",
       "      <td>1017707</td>\n",
       "    </tr>\n",
       "    <tr>\n",
       "      <th>3</th>\n",
       "      <td>P</td>\n",
       "      <td>0.00000</td>\n",
       "      <td>1</td>\n",
       "    </tr>\n",
       "    <tr>\n",
       "      <th>4</th>\n",
       "      <td>S</td>\n",
       "      <td>0.04068</td>\n",
       "      <td>305541</td>\n",
       "    </tr>\n",
       "    <tr>\n",
       "      <th>5</th>\n",
       "      <td>U</td>\n",
       "      <td>0.01504</td>\n",
       "      <td>266</td>\n",
       "    </tr>\n",
       "    <tr>\n",
       "      <th>6</th>\n",
       "      <td>W</td>\n",
       "      <td>0.13733</td>\n",
       "      <td>123604</td>\n",
       "    </tr>\n",
       "    <tr>\n",
       "      <th>7</th>\n",
       "      <td>X</td>\n",
       "      <td>0.04513</td>\n",
       "      <td>2969</td>\n",
       "    </tr>\n",
       "  </tbody>\n",
       "</table>\n",
       "</div>"
      ],
      "text/plain": [
       "  MaritalStatus HasAcuteERIn6Mths         \n",
       "                             mean    count\n",
       "0                         0.04100      561\n",
       "1             D           0.05363   110153\n",
       "2             M           0.03762  1017707\n",
       "3             P           0.00000        1\n",
       "4             S           0.04068   305541\n",
       "5             U           0.01504      266\n",
       "6             W           0.13733   123604\n",
       "7             X           0.04513     2969"
      ]
     },
     "execution_count": 10,
     "metadata": {},
     "output_type": "execute_result"
    }
   ],
   "source": [
    "# Complete population likelihood of target by MAritalStatus\n",
    "df_Modeling[['MaritalStatus','HasAcuteERIn6Mths']].groupby(['MaritalStatus'], as_index=False).agg(['mean', 'count']).reset_index()"
   ]
  },
  {
   "cell_type": "code",
   "execution_count": 11,
   "metadata": {},
   "outputs": [
    {
     "data": {
      "text/html": [
       "<div>\n",
       "<style scoped>\n",
       "    .dataframe tbody tr th:only-of-type {\n",
       "        vertical-align: middle;\n",
       "    }\n",
       "\n",
       "    .dataframe tbody tr th {\n",
       "        vertical-align: top;\n",
       "    }\n",
       "\n",
       "    .dataframe thead th {\n",
       "        text-align: right;\n",
       "    }\n",
       "</style>\n",
       "<table border=\"1\" class=\"dataframe\">\n",
       "  <thead>\n",
       "    <tr style=\"text-align: right;\">\n",
       "      <th>MaritalStatus</th>\n",
       "      <th></th>\n",
       "      <th>D</th>\n",
       "      <th>M</th>\n",
       "      <th>P</th>\n",
       "      <th>S</th>\n",
       "      <th>U</th>\n",
       "      <th>W</th>\n",
       "      <th>X</th>\n",
       "    </tr>\n",
       "    <tr>\n",
       "      <th>HasAcuteERIn6Mths</th>\n",
       "      <th></th>\n",
       "      <th></th>\n",
       "      <th></th>\n",
       "      <th></th>\n",
       "      <th></th>\n",
       "      <th></th>\n",
       "      <th></th>\n",
       "      <th></th>\n",
       "    </tr>\n",
       "  </thead>\n",
       "  <tbody>\n",
       "    <tr>\n",
       "      <th>0</th>\n",
       "      <td>0.00036</td>\n",
       "      <td>0.07010</td>\n",
       "      <td>0.65863</td>\n",
       "      <td>0.00000</td>\n",
       "      <td>0.19711</td>\n",
       "      <td>0.00018</td>\n",
       "      <td>0.07171</td>\n",
       "      <td>0.00191</td>\n",
       "    </tr>\n",
       "    <tr>\n",
       "      <th>1</th>\n",
       "      <td>0.00031</td>\n",
       "      <td>0.08009</td>\n",
       "      <td>0.51911</td>\n",
       "      <td>0.00000</td>\n",
       "      <td>0.16849</td>\n",
       "      <td>0.00005</td>\n",
       "      <td>0.23013</td>\n",
       "      <td>0.00182</td>\n",
       "    </tr>\n",
       "  </tbody>\n",
       "</table>\n",
       "</div>"
      ],
      "text/plain": [
       "MaritalStatus                   D       M       P       S       U       W  \\\n",
       "HasAcuteERIn6Mths                                                           \n",
       "0                 0.00036 0.07010 0.65863 0.00000 0.19711 0.00018 0.07171   \n",
       "1                 0.00031 0.08009 0.51911 0.00000 0.16849 0.00005 0.23013   \n",
       "\n",
       "MaritalStatus           X  \n",
       "HasAcuteERIn6Mths          \n",
       "0                 0.00191  \n",
       "1                 0.00182  "
      ]
     },
     "execution_count": 11,
     "metadata": {},
     "output_type": "execute_result"
    }
   ],
   "source": [
    "# Cross-tabulated by proportion of each class in Target and NonTarget.\n",
    "pd.crosstab(df_Modeling['HasAcuteERIn6Mths'],df_Modeling['MaritalStatus']).apply(lambda r: r/r.sum(), axis=1)"
   ]
  },
  {
   "cell_type": "markdown",
   "metadata": {},
   "source": [
    "### Over21AgeBracketID\n",
    "* Likelihood increases at highest age bracket from 1.3% at next lowest to over 10%.  \n",
    "* 90% of all Target Patients are in the highest age bracket, which is the \"65 Plus\" age bracket."
   ]
  },
  {
   "cell_type": "code",
   "execution_count": 12,
   "metadata": {
    "scrolled": true
   },
   "outputs": [
    {
     "data": {
      "text/html": [
       "<div>\n",
       "<style scoped>\n",
       "    .dataframe tbody tr th:only-of-type {\n",
       "        vertical-align: middle;\n",
       "    }\n",
       "\n",
       "    .dataframe tbody tr th {\n",
       "        vertical-align: top;\n",
       "    }\n",
       "\n",
       "    .dataframe thead tr th {\n",
       "        text-align: left;\n",
       "    }\n",
       "</style>\n",
       "<table border=\"1\" class=\"dataframe\">\n",
       "  <thead>\n",
       "    <tr>\n",
       "      <th></th>\n",
       "      <th>Over21AgeBracketID</th>\n",
       "      <th colspan=\"2\" halign=\"left\">HasAcuteERIn6Mths</th>\n",
       "    </tr>\n",
       "    <tr>\n",
       "      <th></th>\n",
       "      <th></th>\n",
       "      <th>mean</th>\n",
       "      <th>count</th>\n",
       "    </tr>\n",
       "  </thead>\n",
       "  <tbody>\n",
       "    <tr>\n",
       "      <th>0</th>\n",
       "      <td>1</td>\n",
       "      <td>0.00197</td>\n",
       "      <td>102785</td>\n",
       "    </tr>\n",
       "    <tr>\n",
       "      <th>1</th>\n",
       "      <td>2</td>\n",
       "      <td>0.00351</td>\n",
       "      <td>143897</td>\n",
       "    </tr>\n",
       "    <tr>\n",
       "      <th>2</th>\n",
       "      <td>3</td>\n",
       "      <td>0.00704</td>\n",
       "      <td>218842</td>\n",
       "    </tr>\n",
       "    <tr>\n",
       "      <th>3</th>\n",
       "      <td>4</td>\n",
       "      <td>0.01318</td>\n",
       "      <td>495877</td>\n",
       "    </tr>\n",
       "    <tr>\n",
       "      <th>4</th>\n",
       "      <td>5</td>\n",
       "      <td>0.10149</td>\n",
       "      <td>843483</td>\n",
       "    </tr>\n",
       "  </tbody>\n",
       "</table>\n",
       "</div>"
      ],
      "text/plain": [
       "  Over21AgeBracketID HasAcuteERIn6Mths        \n",
       "                                  mean   count\n",
       "0                  1           0.00197  102785\n",
       "1                  2           0.00351  143897\n",
       "2                  3           0.00704  218842\n",
       "3                  4           0.01318  495877\n",
       "4                  5           0.10149  843483"
      ]
     },
     "execution_count": 12,
     "metadata": {},
     "output_type": "execute_result"
    }
   ],
   "source": [
    "# Complete population likelihood of target by Over21AgeBracketID\n",
    "df_Modeling[['Over21AgeBracketID','HasAcuteERIn6Mths']].groupby(['Over21AgeBracketID'], as_index=False).agg(['mean', 'count']).reset_index()"
   ]
  },
  {
   "cell_type": "code",
   "execution_count": 13,
   "metadata": {},
   "outputs": [
    {
     "data": {
      "text/html": [
       "<div>\n",
       "<style scoped>\n",
       "    .dataframe tbody tr th:only-of-type {\n",
       "        vertical-align: middle;\n",
       "    }\n",
       "\n",
       "    .dataframe tbody tr th {\n",
       "        vertical-align: top;\n",
       "    }\n",
       "\n",
       "    .dataframe thead th {\n",
       "        text-align: right;\n",
       "    }\n",
       "</style>\n",
       "<table border=\"1\" class=\"dataframe\">\n",
       "  <thead>\n",
       "    <tr style=\"text-align: right;\">\n",
       "      <th>Over21AgeBracketID</th>\n",
       "      <th>1</th>\n",
       "      <th>2</th>\n",
       "      <th>3</th>\n",
       "      <th>4</th>\n",
       "      <th>5</th>\n",
       "    </tr>\n",
       "    <tr>\n",
       "      <th>HasAcuteERIn6Mths</th>\n",
       "      <th></th>\n",
       "      <th></th>\n",
       "      <th></th>\n",
       "      <th></th>\n",
       "      <th></th>\n",
       "    </tr>\n",
       "  </thead>\n",
       "  <tbody>\n",
       "    <tr>\n",
       "      <th>0</th>\n",
       "      <td>0.05997</td>\n",
       "      <td>0.08383</td>\n",
       "      <td>0.12704</td>\n",
       "      <td>0.28608</td>\n",
       "      <td>0.44308</td>\n",
       "    </tr>\n",
       "    <tr>\n",
       "      <th>1</th>\n",
       "      <td>0.00214</td>\n",
       "      <td>0.00535</td>\n",
       "      <td>0.01633</td>\n",
       "      <td>0.06927</td>\n",
       "      <td>0.90692</td>\n",
       "    </tr>\n",
       "  </tbody>\n",
       "</table>\n",
       "</div>"
      ],
      "text/plain": [
       "Over21AgeBracketID       1       2       3       4       5\n",
       "HasAcuteERIn6Mths                                         \n",
       "0                  0.05997 0.08383 0.12704 0.28608 0.44308\n",
       "1                  0.00214 0.00535 0.01633 0.06927 0.90692"
      ]
     },
     "execution_count": 13,
     "metadata": {},
     "output_type": "execute_result"
    }
   ],
   "source": [
    "# Cross-tabulated by proportion of Target vs NonTarget\n",
    "pd.crosstab(df_Modeling['HasAcuteERIn6Mths'],df_Modeling['Over21AgeBracketID']).apply(lambda r: r/r.sum(), axis=1)"
   ]
  },
  {
   "cell_type": "markdown",
   "metadata": {},
   "source": [
    "### HasMedicareIns\n",
    "* Almost 63% of target patients have Medicare.\n",
    "* Non-target population is less than half as likely to have Medicare at 29%."
   ]
  },
  {
   "cell_type": "code",
   "execution_count": 14,
   "metadata": {
    "scrolled": true
   },
   "outputs": [
    {
     "data": {
      "text/html": [
       "<div>\n",
       "<style scoped>\n",
       "    .dataframe tbody tr th:only-of-type {\n",
       "        vertical-align: middle;\n",
       "    }\n",
       "\n",
       "    .dataframe tbody tr th {\n",
       "        vertical-align: top;\n",
       "    }\n",
       "\n",
       "    .dataframe thead tr th {\n",
       "        text-align: left;\n",
       "    }\n",
       "</style>\n",
       "<table border=\"1\" class=\"dataframe\">\n",
       "  <thead>\n",
       "    <tr>\n",
       "      <th></th>\n",
       "      <th>HasMedicareIns</th>\n",
       "      <th colspan=\"2\" halign=\"left\">HasAcuteERIn6Mths</th>\n",
       "    </tr>\n",
       "    <tr>\n",
       "      <th></th>\n",
       "      <th></th>\n",
       "      <th>mean</th>\n",
       "      <th>count</th>\n",
       "    </tr>\n",
       "  </thead>\n",
       "  <tbody>\n",
       "    <tr>\n",
       "      <th>0</th>\n",
       "      <td>0</td>\n",
       "      <td>0.02811</td>\n",
       "      <td>1250190</td>\n",
       "    </tr>\n",
       "    <tr>\n",
       "      <th>1</th>\n",
       "      <td>1</td>\n",
       "      <td>0.10681</td>\n",
       "      <td>554694</td>\n",
       "    </tr>\n",
       "  </tbody>\n",
       "</table>\n",
       "</div>"
      ],
      "text/plain": [
       "  HasMedicareIns HasAcuteERIn6Mths         \n",
       "                              mean    count\n",
       "0              0           0.02811  1250190\n",
       "1              1           0.10681   554694"
      ]
     },
     "execution_count": 14,
     "metadata": {},
     "output_type": "execute_result"
    }
   ],
   "source": [
    "# Complete population likelihood of target by HasMedicareIns\n",
    "df_Modeling[['HasMedicareIns','HasAcuteERIn6Mths']].groupby(['HasMedicareIns'], as_index=False).agg(['mean', 'count']).reset_index()"
   ]
  },
  {
   "cell_type": "code",
   "execution_count": 15,
   "metadata": {},
   "outputs": [
    {
     "data": {
      "text/html": [
       "<div>\n",
       "<style scoped>\n",
       "    .dataframe tbody tr th:only-of-type {\n",
       "        vertical-align: middle;\n",
       "    }\n",
       "\n",
       "    .dataframe tbody tr th {\n",
       "        vertical-align: top;\n",
       "    }\n",
       "\n",
       "    .dataframe thead th {\n",
       "        text-align: right;\n",
       "    }\n",
       "</style>\n",
       "<table border=\"1\" class=\"dataframe\">\n",
       "  <thead>\n",
       "    <tr style=\"text-align: right;\">\n",
       "      <th>HasMedicareIns</th>\n",
       "      <th>0</th>\n",
       "      <th>1</th>\n",
       "    </tr>\n",
       "    <tr>\n",
       "      <th>HasAcuteERIn6Mths</th>\n",
       "      <th></th>\n",
       "      <th></th>\n",
       "    </tr>\n",
       "  </thead>\n",
       "  <tbody>\n",
       "    <tr>\n",
       "      <th>0</th>\n",
       "      <td>0.71035</td>\n",
       "      <td>0.28965</td>\n",
       "    </tr>\n",
       "    <tr>\n",
       "      <th>1</th>\n",
       "      <td>0.37229</td>\n",
       "      <td>0.62771</td>\n",
       "    </tr>\n",
       "  </tbody>\n",
       "</table>\n",
       "</div>"
      ],
      "text/plain": [
       "HasMedicareIns          0       1\n",
       "HasAcuteERIn6Mths                \n",
       "0                 0.71035 0.28965\n",
       "1                 0.37229 0.62771"
      ]
     },
     "execution_count": 15,
     "metadata": {},
     "output_type": "execute_result"
    }
   ],
   "source": [
    "# Cross-tabulated by proportion of Target vs NonTarget\n",
    "pd.crosstab(df_Modeling['HasAcuteERIn6Mths'],df_Modeling['HasMedicareIns']).apply(lambda r: r/r.sum(), axis=1)"
   ]
  },
  {
   "cell_type": "markdown",
   "metadata": {},
   "source": [
    "### OPPLast6Mths\n",
    "* Stacked at 0 in both Target and NonTarget population, but beyond that there is a clearly visible trend of higher values for the Target population.\n",
    "* OPPLast6Mths removed from final model due to multicolinearity."
   ]
  },
  {
   "cell_type": "code",
   "execution_count": 16,
   "metadata": {},
   "outputs": [
    {
     "name": "stderr",
     "output_type": "stream",
     "text": [
      "C:\\Users\\bburns.PROHEALTH.000\\AppData\\Local\\Continuum\\anaconda3\\lib\\site-packages\\matplotlib\\axes\\_axes.py:6462: UserWarning: The 'normed' kwarg is deprecated, and has been replaced by the 'density' kwarg.\n",
      "  warnings.warn(\"The 'normed' kwarg is deprecated, and has been \"\n",
      "C:\\Users\\bburns.PROHEALTH.000\\AppData\\Local\\Continuum\\anaconda3\\lib\\site-packages\\matplotlib\\axes\\_axes.py:6462: UserWarning: The 'normed' kwarg is deprecated, and has been replaced by the 'density' kwarg.\n",
      "  warnings.warn(\"The 'normed' kwarg is deprecated, and has been \"\n"
     ]
    },
    {
     "data": {
      "image/png": "[encoded data removed]",
      "text/plain": [
       "<Figure size 432x288 with 1 Axes>"
      ]
     },
     "metadata": {},
     "output_type": "display_data"
    }
   ],
   "source": [
    "df_TargetOPP = df_Target[df_Target['OPPLast6Mths'] <= 379].copy(deep=True)\n",
    "df_NonTargetOPP = df_NonTarget[df_NonTarget['OPPLast6Mths'] <= 379].copy(deep=True)\n",
    "\n",
    "sns.distplot(df_TargetOPP['OPPLast6Mths']);\n",
    "sns.distplot(df_NonTargetOPP['OPPLast6Mths']).set_title('Target and Non-Target Population with KDE');\n",
    "\n",
    "# Complete population likelihood of target by UsualProviderTitle\n",
    "#df_Modeling[['OPPLast6Mths','HasAcuteERIn6Mths']].groupby(['OPPLast6Mths'], as_index=False).agg(['mean', 'count']).reset_index()"
   ]
  },
  {
   "cell_type": "markdown",
   "metadata": {},
   "source": [
    "### CntInpatient\n",
    "* Stacked at 0 in both Target and NonTarget population, but beyond that there is a clearly visible trend of higher values for the Target population."
   ]
  },
  {
   "cell_type": "code",
   "execution_count": 17,
   "metadata": {
    "scrolled": false
   },
   "outputs": [
    {
     "name": "stderr",
     "output_type": "stream",
     "text": [
      "C:\\Users\\bburns.PROHEALTH.000\\AppData\\Local\\Continuum\\anaconda3\\lib\\site-packages\\matplotlib\\axes\\_axes.py:6462: UserWarning: The 'normed' kwarg is deprecated, and has been replaced by the 'density' kwarg.\n",
      "  warnings.warn(\"The 'normed' kwarg is deprecated, and has been \"\n",
      "C:\\Users\\bburns.PROHEALTH.000\\AppData\\Local\\Continuum\\anaconda3\\lib\\site-packages\\matplotlib\\axes\\_axes.py:6462: UserWarning: The 'normed' kwarg is deprecated, and has been replaced by the 'density' kwarg.\n",
      "  warnings.warn(\"The 'normed' kwarg is deprecated, and has been \"\n"
     ]
    },
    {
     "data": {
      "image/png": "[encoded data removed]",
      "text/plain": [
       "<Figure size 432x288 with 1 Axes>"
      ]
     },
     "metadata": {},
     "output_type": "display_data"
    }
   ],
   "source": [
    "sns.distplot(df_Target['CntInpatient']);\n",
    "sns.distplot(df_NonTarget['CntInpatient']).set_title('Target and Non-Target Population with KDE');"
   ]
  },
  {
   "cell_type": "markdown",
   "metadata": {},
   "source": [
    "### CntIsERClaim\n",
    "* Stacked at 0 in both Target and NonTarget population, but beyond that there is a clearly visible trend of higher values for the Target population."
   ]
  },
  {
   "cell_type": "code",
   "execution_count": 18,
   "metadata": {
    "scrolled": false
   },
   "outputs": [
    {
     "name": "stderr",
     "output_type": "stream",
     "text": [
      "C:\\Users\\bburns.PROHEALTH.000\\AppData\\Local\\Continuum\\anaconda3\\lib\\site-packages\\matplotlib\\axes\\_axes.py:6462: UserWarning: The 'normed' kwarg is deprecated, and has been replaced by the 'density' kwarg.\n",
      "  warnings.warn(\"The 'normed' kwarg is deprecated, and has been \"\n",
      "C:\\Users\\bburns.PROHEALTH.000\\AppData\\Local\\Continuum\\anaconda3\\lib\\site-packages\\matplotlib\\axes\\_axes.py:6462: UserWarning: The 'normed' kwarg is deprecated, and has been replaced by the 'density' kwarg.\n",
      "  warnings.warn(\"The 'normed' kwarg is deprecated, and has been \"\n"
     ]
    },
    {
     "data": {
      "image/png": "[encoded data removed]",
      "text/plain": [
       "<Figure size 432x288 with 1 Axes>"
      ]
     },
     "metadata": {},
     "output_type": "display_data"
    }
   ],
   "source": [
    "df_TargetER = df_Target[df_Target['CntIsERClaim'] <= 105].copy(deep=True)\n",
    "df_NonTargetER = df_NonTarget[df_NonTarget['CntIsERClaim'] <= 105].copy(deep=True)\n",
    "\n",
    "sns.distplot(df_TargetER['CntIsERClaim']);\n",
    "sns.distplot(df_NonTargetER['CntIsERClaim']).set_title('Target and Non-Target Population with KDE');"
   ]
  },
  {
   "cell_type": "markdown",
   "metadata": {},
   "source": []
  },
  {
   "cell_type": "markdown",
   "metadata": {},
   "source": []
  },
  {
   "cell_type": "markdown",
   "metadata": {},
   "source": [
    "# Prep Data For Model Fitting"
   ]
  },
  {
   "cell_type": "code",
   "execution_count": 19,
   "metadata": {
    "collapsed": true
   },
   "outputs": [],
   "source": [
    "df_Modeling = df_Modeling[['IsCOPD', 'IsDiabetes', 'IsHeartFailure', 'IsHypertension', 'IsChronicKidney'\n",
    "                       , 'OPPLast6Mths', 'OPP3MonthAvg', 'HasPreviousAdmit', 'Has1MonthSurgery', 'Has3MonthSurgery'\n",
    "                      , 'HasMedicareIns', 'Age', 'CntInpatient', 'CntIsAcuteInpatient', 'CntIsSubAcuteInpatient'\n",
    "                      , 'CntIsERClaim', 'IsAcuteERPrev', 'MaritalStatus', 'Over21AgeBracketID', 'HasAcuteERIn6Mths']]\n",
    "\n",
    "# Change Over21AgeBracketID to Categorical data type\n",
    "df_Modeling['Over21AgeBracketID'] = df_Modeling['Over21AgeBracketID'].astype('category')\n",
    "\n",
    "# Convert MaritalStatus and Over21AgeBracketID to dummy variables.\n",
    "df_Modeling = pd.get_dummies(df_Modeling)\n",
    "\n",
    "# Fill NULLS with 0 to avoid errors.\n",
    "df_Modeling = df_Modeling.fillna(0)\n",
    "\n",
    "# \"Leave One Out\" for each dummy category\n",
    "df_Modeling = df_Modeling.drop(columns=['MaritalStatus_ ', 'Over21AgeBracketID_1']) \n",
    "\n",
    "# Add selected columns to a new array.\n",
    "cols=['IsCOPD', 'IsDiabetes', 'IsHeartFailure', 'IsHypertension', 'IsChronicKidney'\n",
    "      , 'OPPLast6Mths', 'HasPreviousAdmit' , 'Has3MonthSurgery', 'HasMedicareIns'\n",
    "      , 'CntInpatient', 'CntIsERClaim'\n",
    "      , 'MaritalStatus_D', 'MaritalStatus_M', 'MaritalStatus_S', 'MaritalStatus_W'\n",
    "      , 'Over21AgeBracketID_2', 'Over21AgeBracketID_3', 'Over21AgeBracketID_4', 'Over21AgeBracketID_5']\n",
    "\n",
    "# Train set\n",
    "X=df_Modeling[cols]\n",
    "y=df_Modeling['HasAcuteERIn6Mths']\n",
    "\n",
    "# Add intercept\n",
    "X = sm.add_constant(X)"
   ]
  },
  {
   "cell_type": "markdown",
   "metadata": {},
   "source": []
  },
  {
   "cell_type": "markdown",
   "metadata": {},
   "source": []
  },
  {
   "cell_type": "markdown",
   "metadata": {},
   "source": [
    "# SKLearn Logistic Regression Model\n",
    "\n",
    "* As is standard data science practice, the data is split into a training and test set.\n",
    "* The Training set is typically 2/3 of the available data which the algorithm uses to build the model.\n",
    "* The Test set is a \"holdout\" set which the model has not analyzed and can therefore be used to test the model's performance against new data. "
   ]
  },
  {
   "cell_type": "code",
   "execution_count": 20,
   "metadata": {},
   "outputs": [
    {
     "data": {
      "text/plain": [
       "LogisticRegression(C=1.0, class_weight={0: 0.9, 1: 0.1}, dual=False,\n",
       "          fit_intercept=True, intercept_scaling=1, max_iter=100,\n",
       "          multi_class='ovr', n_jobs=1, penalty='l2', random_state=None,\n",
       "          solver='liblinear', tol=0.0001, verbose=0, warm_start=False)"
      ]
     },
     "execution_count": 20,
     "metadata": {},
     "output_type": "execute_result"
    }
   ],
   "source": [
    "# Fit Logistic Regression model with SKLearn\n",
    "X_train, X_test, y_train, y_test = train_test_split(X, y, test_size=0.3, random_state=0)\n",
    "from sklearn.linear_model import LogisticRegression\n",
    "from sklearn import metrics\n",
    "logreg = LogisticRegression(class_weight={0:.9, 1:.1})\n",
    "logreg.fit(X_train, y_train)"
   ]
  },
  {
   "cell_type": "code",
   "execution_count": 21,
   "metadata": {},
   "outputs": [
    {
     "name": "stdout",
     "output_type": "stream",
     "text": [
      "Accuracy of logistic regression classifier on test set: 0.95\n"
     ]
    }
   ],
   "source": [
    "# Accuracy is the proportion of true positives and true negatives vs false positives and false negatives.\n",
    "# In your confusin matrix, it's top-left + bottom-right / total.\n",
    "y_pred = logreg.predict(X_test)\n",
    "print('Accuracy of logistic regression classifier on test set: {:.2f}'.format(logreg.score(X_test, y_test)))"
   ]
  },
  {
   "cell_type": "markdown",
   "metadata": {},
   "source": [
    "## Statsmodels Output\n",
    "\n",
    "* The model is already created above using SKLearn.  However, running this StatsModels procedure gives us some output that is not readily available from SKLearn.\n",
    "* While the model is not specified *exactly* the same as the SKLearn model, this output would indicate if there were certain types of issues, and also gives us a look at some additional parameters."
   ]
  },
  {
   "cell_type": "code",
   "execution_count": 22,
   "metadata": {},
   "outputs": [
    {
     "name": "stdout",
     "output_type": "stream",
     "text": [
      "Optimization terminated successfully.\n",
      "         Current function value: 0.138735\n",
      "         Iterations 10\n",
      "                           Results: Logit\n",
      "=====================================================================\n",
      "Model:                Logit             Pseudo R-squared: 0.323      \n",
      "Dependent Variable:   HasAcuteERIn6Mths AIC:              350600.7810\n",
      "Date:                 2018-08-13 10:51  BIC:              350841.7676\n",
      "No. Observations:     1263418           Log-Likelihood:   -1.7528e+05\n",
      "Df Model:             19                LL-Null:          -2.5874e+05\n",
      "Df Residuals:         1263398           LLR p-value:      0.0000     \n",
      "Converged:            1.0000            Scale:            1.0000     \n",
      "No. Iterations:       10.0000                                        \n",
      "---------------------------------------------------------------------\n",
      "                      Coef.  Std.Err.    z     P>|z|   [0.025  0.975]\n",
      "---------------------------------------------------------------------\n",
      "const                -6.3537   0.0888 -71.5523 0.0000 -6.5278 -6.1797\n",
      "IsCOPD                0.5303   0.0139  38.2295 0.0000  0.5031  0.5575\n",
      "IsDiabetes            0.1221   0.0130   9.3646 0.0000  0.0966  0.1477\n",
      "IsHeartFailure        0.6313   0.0176  35.9264 0.0000  0.5969  0.6658\n",
      "IsHypertension       -0.0582   0.0106  -5.5032 0.0000 -0.0789 -0.0374\n",
      "IsChronicKidney       0.2694   0.0129  20.9113 0.0000  0.2441  0.2946\n",
      "OPPLast6Mths          0.0053   0.0001  50.4793 0.0000  0.0051  0.0055\n",
      "HasPreviousAdmit      1.0606   0.0113  94.2552 0.0000  1.0385  1.0826\n",
      "Has3MonthSurgery      0.7597   0.0096  79.2545 0.0000  0.7409  0.7785\n",
      "HasMedicareIns        0.3764   0.0101  37.1005 0.0000  0.3565  0.3963\n",
      "CntInpatient          0.1910   0.0011 171.4766 0.0000  0.1888  0.1932\n",
      "CntIsERClaim          0.0009   0.0001  10.8808 0.0000  0.0007  0.0010\n",
      "MaritalStatus_D      -0.4013   0.0217 -18.4621 0.0000 -0.4439 -0.3587\n",
      "MaritalStatus_M      -0.6403   0.0132 -48.5957 0.0000 -0.6661 -0.6145\n",
      "MaritalStatus_S      -0.1623   0.0170  -9.5622 0.0000 -0.1955 -0.1290\n",
      "MaritalStatus_W      -0.0738   0.0161  -4.5725 0.0000 -0.1054 -0.0422\n",
      "Over21AgeBracketID_2  0.7223   0.1036   6.9749 0.0000  0.5193  0.9252\n",
      "Over21AgeBracketID_3  1.3652   0.0939  14.5373 0.0000  1.1811  1.5492\n",
      "Over21AgeBracketID_4  1.7848   0.0898  19.8754 0.0000  1.6088  1.9608\n",
      "Over21AgeBracketID_5  3.1725   0.0889  35.6718 0.0000  2.9981  3.3468\n",
      "=====================================================================\n",
      "\n"
     ]
    }
   ],
   "source": [
    "logit_model=sm.Logit(y_train,X_train,weights={0:.9, 1:.1})\n",
    "result=logit_model.fit(maxiter=200)\n",
    "print(result.summary2())"
   ]
  },
  {
   "cell_type": "markdown",
   "metadata": {},
   "source": [
    "## Get Model Parameters\n",
    "* The coefficient is the log odds of the feature.\n",
    "* When exponentiated this gives us the odds ratio, which can be interpreted roughly as \"The odds increase/decrease per unit with all other things being the same.\""
   ]
  },
  {
   "cell_type": "code",
   "execution_count": 28,
   "metadata": {},
   "outputs": [
    {
     "data": {
      "text/html": [
       "<div>\n",
       "<style scoped>\n",
       "    .dataframe tbody tr th:only-of-type {\n",
       "        vertical-align: middle;\n",
       "    }\n",
       "\n",
       "    .dataframe tbody tr th {\n",
       "        vertical-align: top;\n",
       "    }\n",
       "\n",
       "    .dataframe thead th {\n",
       "        text-align: right;\n",
       "    }\n",
       "</style>\n",
       "<table border=\"1\" class=\"dataframe\">\n",
       "  <thead>\n",
       "    <tr style=\"text-align: right;\">\n",
       "      <th></th>\n",
       "      <th>Feature</th>\n",
       "      <th>Coefficient</th>\n",
       "      <th>OddsRatio</th>\n",
       "    </tr>\n",
       "  </thead>\n",
       "  <tbody>\n",
       "    <tr>\n",
       "      <th>0</th>\n",
       "      <td>const</td>\n",
       "      <td>-3.97103</td>\n",
       "      <td>0.01885</td>\n",
       "    </tr>\n",
       "    <tr>\n",
       "      <th>1</th>\n",
       "      <td>IsCOPD</td>\n",
       "      <td>0.51006</td>\n",
       "      <td>1.66540</td>\n",
       "    </tr>\n",
       "    <tr>\n",
       "      <th>2</th>\n",
       "      <td>IsDiabetes</td>\n",
       "      <td>0.11708</td>\n",
       "      <td>1.12421</td>\n",
       "    </tr>\n",
       "    <tr>\n",
       "      <th>3</th>\n",
       "      <td>IsHeartFailure</td>\n",
       "      <td>0.58452</td>\n",
       "      <td>1.79413</td>\n",
       "    </tr>\n",
       "    <tr>\n",
       "      <th>4</th>\n",
       "      <td>IsHypertension</td>\n",
       "      <td>-0.07427</td>\n",
       "      <td>0.92842</td>\n",
       "    </tr>\n",
       "    <tr>\n",
       "      <th>5</th>\n",
       "      <td>IsChronicKidney</td>\n",
       "      <td>0.25788</td>\n",
       "      <td>1.29418</td>\n",
       "    </tr>\n",
       "    <tr>\n",
       "      <th>6</th>\n",
       "      <td>OPPLast6Mths</td>\n",
       "      <td>0.00380</td>\n",
       "      <td>1.00381</td>\n",
       "    </tr>\n",
       "    <tr>\n",
       "      <th>7</th>\n",
       "      <td>HasPreviousAdmit</td>\n",
       "      <td>1.02534</td>\n",
       "      <td>2.78803</td>\n",
       "    </tr>\n",
       "    <tr>\n",
       "      <th>8</th>\n",
       "      <td>Has3MonthSurgery</td>\n",
       "      <td>0.71442</td>\n",
       "      <td>2.04301</td>\n",
       "    </tr>\n",
       "    <tr>\n",
       "      <th>9</th>\n",
       "      <td>HasMedicareIns</td>\n",
       "      <td>0.35418</td>\n",
       "      <td>1.42502</td>\n",
       "    </tr>\n",
       "    <tr>\n",
       "      <th>10</th>\n",
       "      <td>CntInpatient</td>\n",
       "      <td>0.16170</td>\n",
       "      <td>1.17550</td>\n",
       "    </tr>\n",
       "    <tr>\n",
       "      <th>11</th>\n",
       "      <td>CntIsERClaim</td>\n",
       "      <td>0.00029</td>\n",
       "      <td>1.00029</td>\n",
       "    </tr>\n",
       "    <tr>\n",
       "      <th>12</th>\n",
       "      <td>MaritalStatus_D</td>\n",
       "      <td>-0.35293</td>\n",
       "      <td>0.70263</td>\n",
       "    </tr>\n",
       "    <tr>\n",
       "      <th>13</th>\n",
       "      <td>MaritalStatus_M</td>\n",
       "      <td>-0.60923</td>\n",
       "      <td>0.54377</td>\n",
       "    </tr>\n",
       "    <tr>\n",
       "      <th>14</th>\n",
       "      <td>MaritalStatus_S</td>\n",
       "      <td>-0.14944</td>\n",
       "      <td>0.86119</td>\n",
       "    </tr>\n",
       "    <tr>\n",
       "      <th>15</th>\n",
       "      <td>MaritalStatus_W</td>\n",
       "      <td>-0.06478</td>\n",
       "      <td>0.93727</td>\n",
       "    </tr>\n",
       "    <tr>\n",
       "      <th>16</th>\n",
       "      <td>Over21AgeBracketID_2</td>\n",
       "      <td>0.17164</td>\n",
       "      <td>1.18725</td>\n",
       "    </tr>\n",
       "    <tr>\n",
       "      <th>17</th>\n",
       "      <td>Over21AgeBracketID_3</td>\n",
       "      <td>0.86709</td>\n",
       "      <td>2.37998</td>\n",
       "    </tr>\n",
       "    <tr>\n",
       "      <th>18</th>\n",
       "      <td>Over21AgeBracketID_4</td>\n",
       "      <td>1.30406</td>\n",
       "      <td>3.68422</td>\n",
       "    </tr>\n",
       "    <tr>\n",
       "      <th>19</th>\n",
       "      <td>Over21AgeBracketID_5</td>\n",
       "      <td>2.65704</td>\n",
       "      <td>14.25397</td>\n",
       "    </tr>\n",
       "  </tbody>\n",
       "</table>\n",
       "</div>"
      ],
      "text/plain": [
       "                 Feature  Coefficient  OddsRatio\n",
       "0                  const     -3.97103    0.01885\n",
       "1                 IsCOPD      0.51006    1.66540\n",
       "2             IsDiabetes      0.11708    1.12421\n",
       "3         IsHeartFailure      0.58452    1.79413\n",
       "4         IsHypertension     -0.07427    0.92842\n",
       "5        IsChronicKidney      0.25788    1.29418\n",
       "6           OPPLast6Mths      0.00380    1.00381\n",
       "7       HasPreviousAdmit      1.02534    2.78803\n",
       "8       Has3MonthSurgery      0.71442    2.04301\n",
       "9         HasMedicareIns      0.35418    1.42502\n",
       "10          CntInpatient      0.16170    1.17550\n",
       "11          CntIsERClaim      0.00029    1.00029\n",
       "12       MaritalStatus_D     -0.35293    0.70263\n",
       "13       MaritalStatus_M     -0.60923    0.54377\n",
       "14       MaritalStatus_S     -0.14944    0.86119\n",
       "15       MaritalStatus_W     -0.06478    0.93727\n",
       "16  Over21AgeBracketID_2      0.17164    1.18725\n",
       "17  Over21AgeBracketID_3      0.86709    2.37998\n",
       "18  Over21AgeBracketID_4      1.30406    3.68422\n",
       "19  Over21AgeBracketID_5      2.65704   14.25397"
      ]
     },
     "execution_count": 28,
     "metadata": {},
     "output_type": "execute_result"
    }
   ],
   "source": [
    "# Get the coefficient and log odds for each feature\n",
    "# Coefficient is the log odds\n",
    "# Exponentiating the coefficients gives you the odds ratios.\n",
    "\n",
    "# Collect each feature into a list\n",
    "variables=X_train.columns.values.tolist()\n",
    "\n",
    "# Write feature name, coefficient odds ratio of all features to df\n",
    "df_Params = pd.DataFrame(list(zip(variables, logreg.coef_[0], np.exp(logreg.coef_)[0])), columns=['Feature', 'Coefficient', 'OddsRatio'])\n",
    "\n",
    "#Display\n",
    "df_Params"
   ]
  },
  {
   "cell_type": "markdown",
   "metadata": {},
   "source": []
  },
  {
   "cell_type": "markdown",
   "metadata": {},
   "source": []
  },
  {
   "cell_type": "markdown",
   "metadata": {},
   "source": [
    "# Goodness of Fit\n",
    "\n",
    "How well does the model perform against real data from the holdout set?"
   ]
  },
  {
   "cell_type": "markdown",
   "metadata": {},
   "source": [
    "## Cross-Validation"
   ]
  },
  {
   "cell_type": "code",
   "execution_count": 29,
   "metadata": {},
   "outputs": [
    {
     "name": "stdout",
     "output_type": "stream",
     "text": [
      "10-fold cross validation average accuracy: 0.952\n"
     ]
    }
   ],
   "source": [
    "#10-Fold Cross-Validation\n",
    "from sklearn import model_selection\n",
    "from sklearn.model_selection import cross_val_score\n",
    "kfold = model_selection.KFold(n_splits=10, random_state=7)\n",
    "modelCV = LogisticRegression(class_weight={0:.9,1:.1})\n",
    "scoring = 'accuracy'\n",
    "results = model_selection.cross_val_score(modelCV, X_train, y_train, cv=kfold, scoring=scoring)\n",
    "print(\"10-fold cross validation average accuracy: %.3f\" % (results.mean()))"
   ]
  },
  {
   "cell_type": "markdown",
   "metadata": {},
   "source": [
    "## Confusion Matrices"
   ]
  },
  {
   "cell_type": "code",
   "execution_count": 30,
   "metadata": {},
   "outputs": [
    {
     "data": {
      "image/png": "[encoded data removed]",
      "text/plain": [
       "<Figure size 432x288 with 1 Axes>"
      ]
     },
     "metadata": {},
     "output_type": "display_data"
    }
   ],
   "source": [
    "# Confusion Matrix Totals\n",
    "cm = ConfusionMatrix(logreg, classes=[1,0], percent=False)\n",
    "cm.fit(X_train, y_train)\n",
    "cm.score(X_test, y_test)\n",
    "cm.poof()"
   ]
  },
  {
   "cell_type": "code",
   "execution_count": 31,
   "metadata": {},
   "outputs": [
    {
     "data": {
      "image/png": "[encoded data removed]",
      "text/plain": [
       "<Figure size 432x288 with 1 Axes>"
      ]
     },
     "metadata": {},
     "output_type": "display_data"
    }
   ],
   "source": [
    "cm = ConfusionMatrix(logreg, classes=[1,0], percent=True)\n",
    "cm.fit(X_train, y_train)\n",
    "cm.score(X_test, y_test)\n",
    "cm.poof()"
   ]
  },
  {
   "cell_type": "code",
   "execution_count": 32,
   "metadata": {
    "scrolled": true
   },
   "outputs": [
    {
     "name": "stdout",
     "output_type": "stream",
     "text": [
      "             precision    recall  f1-score   support\n",
      "\n",
      "          0       0.95      1.00      0.98    512965\n",
      "          1       0.94      0.09      0.16     28501\n",
      "\n",
      "avg / total       0.95      0.95      0.93    541466\n",
      "\n"
     ]
    }
   ],
   "source": [
    "# Calculate Precision, Recall, F-Measure and Support\n",
    "from sklearn.metrics import classification_report\n",
    "print(classification_report(y_test, y_pred))"
   ]
  },
  {
   "cell_type": "markdown",
   "metadata": {},
   "source": [
    "**Precision** = TP / (TP+FP)\n",
    "    Precision is sort of like accuracy but it looks only at the data you predicted positive.\n",
    "    \n",
    "**Recall** = TP / (TP+FN)\n",
    "    Recall is also sort of like accuracy but it looks only at how you did on the data that actually is positive.\n",
    "\n",
    "**f1-score** = 2 * (precision * recall) / (precision + recall)\n",
    "    The F1 score can be interpreted as a weighted average of the precision and recall, where an F1 score reaches its best value at 1 and worst score at 0."
   ]
  },
  {
   "cell_type": "markdown",
   "metadata": {},
   "source": [
    "## Gains/Lift Chart"
   ]
  },
  {
   "cell_type": "code",
   "execution_count": 33,
   "metadata": {},
   "outputs": [
    {
     "name": "stderr",
     "output_type": "stream",
     "text": [
      "C:\\Users\\bburns.PROHEALTH.000\\AppData\\Local\\Continuum\\anaconda3\\lib\\site-packages\\ipykernel_launcher.py:8: FutureWarning: Method .as_matrix will be removed in a future version. Use .values instead.\n",
      "  \n"
     ]
    },
    {
     "data": {
      "image/png": "[encoded data removed]",
      "text/plain": [
       "<Figure size 720x720 with 1 Axes>"
      ]
     },
     "metadata": {},
     "output_type": "display_data"
    }
   ],
   "source": [
    "#calculate the posterior probabilities for the test sample\n",
    "probas = logreg.predict_proba(X_test)\n",
    "\n",
    "#score for 'presence‘ (positive class value)\n",
    "score = probas[:,1] \n",
    "\n",
    "#transforming in 0/1 (dummy variables) the Y_test vector\n",
    "pos = pd.get_dummies(y_test).as_matrix()\n",
    "\n",
    "#get the second column (index = 1)\n",
    "pos = pos[:,1] \n",
    "\n",
    "#number of “positive” instances\n",
    "npos = np.sum(pos) \n",
    "\n",
    "#indices that would sort according to the score\n",
    "index = np.argsort(score) \n",
    "\n",
    "#invert the indices, first the instances with the highest score\n",
    "index = index[::-1] \n",
    "\n",
    "#sort the class membership according to the indices\n",
    "sort_pos = pos[index] \n",
    "\n",
    "#cumulated sum\n",
    "cpos = np.cumsum(sort_pos) \n",
    "\n",
    "#recall column\n",
    "recall = cpos/npos \n",
    "\n",
    "#nb. of instances into the test set\n",
    "n = y_test.shape[0] \n",
    "\n",
    "#target size\n",
    "target = np.arange(start=1,stop=(n + 1),step=1)\n",
    "\n",
    "#target size in percentage\n",
    "target = target / n \n",
    "\n",
    "# Set size of plot\n",
    "plt.figure(figsize=(10,10))\n",
    "\n",
    "#title and axis labels\n",
    "plt.title('Gain Curve')\n",
    "plt.xlabel('Target Size')\n",
    "plt.ylabel('Recall')\n",
    "\n",
    "#limits in horizontal and vertical axes\n",
    "plt.xlim(0,1)\n",
    "plt.ylim(0,1)\n",
    "\n",
    "#tricks to represent the diagonal\n",
    "plt.scatter(target,target,marker='.',color='blue')\n",
    "\n",
    "#gains curve\n",
    "plt.scatter(target,recall,marker='.',color='red')\n",
    "\n",
    "#show the chart\n",
    "plt.show()"
   ]
  },
  {
   "cell_type": "markdown",
   "metadata": {},
   "source": []
  },
  {
   "cell_type": "markdown",
   "metadata": {},
   "source": []
  },
  {
   "cell_type": "markdown",
   "metadata": {},
   "source": [
    "# Conclusions\n",
    "\n",
    "**Model Performance in Test and Cross-Validation**\n",
    "* Cross-Validated model performance is 95.2% accuracy, with a false positive rate around 1%.\n",
    "* Over the two years from 2016-2017 we predicted 2,482 true positives with only 152 false positives.\n",
    "* Using ProHealth's own estimate of cost incurred for these events, these identified targets represent \\$37,651,940 in cost/risk in the Test data, which can be extrapolated to \\$124,251,402 over the two years 2016 and 2017 if the model had been running during that time. \n",
    "* Assuming a stable enviroment and data provenance, these results should also remain attainable going forward.\n",
    "\n",
    "**Next Steps**\n",
    "* We've included a list of potential model improvements in an appendix below.  Any or all of these improvements may be considered as next steps; the model may also be further implemented as is.\n",
    "* A list of 280 at-risk Patients has been generated for 2018 data.  These are patients that may be considered at-risk now.\n",
    "* Once the model is considered complete or acceptable, business and clinical leaders should begin discussing interventions and treatments for the identified at-risk patients.\n",
    "\n",
    "\n",
    " **Note:** *Current model is specifically weighted with a priority on avoiding false positives.  Other iterations of our modeling identified many more at-risk patients, and also had many more false positives.*"
   ]
  },
  {
   "cell_type": "markdown",
   "metadata": {},
   "source": []
  },
  {
   "cell_type": "markdown",
   "metadata": {},
   "source": []
  },
  {
   "cell_type": "markdown",
   "metadata": {},
   "source": [
    "# Get 2018 Predictions\n",
    "\n",
    "Make new predictions for 2018.  Get list of current at-risk patients."
   ]
  },
  {
   "cell_type": "markdown",
   "metadata": {},
   "source": [
    "## Prep New 2018 Data For Prediction"
   ]
  },
  {
   "cell_type": "code",
   "execution_count": 34,
   "metadata": {
    "collapsed": true
   },
   "outputs": [],
   "source": [
    "df_GetPredict = df_Predict2018[['PatientID', 'DateMonthlyID','IsCOPD', 'IsDiabetes', 'IsHeartFailure', 'IsHypertension', 'IsChronicKidney'\n",
    "                       , 'OPPLast6Mths', 'OPP3MonthAvg', 'HasPreviousAdmit', 'Has1MonthSurgery', 'Has3MonthSurgery'\n",
    "                      , 'HasMedicareIns', 'Age', 'CntInpatient', 'CntIsAcuteInpatient', 'CntIsSubAcuteInpatient'\n",
    "                      , 'CntIsERClaim', 'IsAcuteERPrev', 'MaritalStatus', 'Over21AgeBracketID', 'HasAcuteERIn6Mths']].copy(deep=True)\n",
    "\n",
    "# Change Over21AgeBracketID to Categorical data type\n",
    "df_GetPredict['Over21AgeBracketID'] = df_GetPredict['Over21AgeBracketID'].astype('category')\n",
    "\n",
    "# Convert MaritalStatus and Over21AgeBracketID to dummy variables.\n",
    "df_GetPredict = pd.get_dummies(df_GetPredict)\n",
    "\n",
    "# Fill NULLS with 0 to avoid errors.\n",
    "df_GetPredict = df_GetPredict.fillna(0)\n",
    "\n",
    "# \"Leave One Out\" for each dummy category\n",
    "df_GetPredict = df_GetPredict.drop(columns=['MaritalStatus_ ', 'Over21AgeBracketID_1']) \n",
    "\n",
    "df_GetPredict = df_GetPredict[['IsCOPD', 'IsDiabetes', 'IsHeartFailure', 'IsHypertension', 'IsChronicKidney'\n",
    "                           , 'OPPLast6Mths', 'HasPreviousAdmit' , 'Has3MonthSurgery', 'HasMedicareIns'\n",
    "                           , 'CntInpatient', 'CntIsERClaim'\n",
    "                           , 'MaritalStatus_D', 'MaritalStatus_M', 'MaritalStatus_S', 'MaritalStatus_W'\n",
    "                           , 'Over21AgeBracketID_2', 'Over21AgeBracketID_3', 'Over21AgeBracketID_4', 'Over21AgeBracketID_5'\n",
    "                           ]]\n",
    "\n",
    "# Add intercept\n",
    "df_GetPredict = sm.add_constant(df_GetPredict)"
   ]
  },
  {
   "cell_type": "markdown",
   "metadata": {},
   "source": [
    "## Run 2018 Predictions"
   ]
  },
  {
   "cell_type": "code",
   "execution_count": 35,
   "metadata": {
    "collapsed": true
   },
   "outputs": [],
   "source": [
    "# Get predictions for 2018 data\n",
    "y_pred2018 = logreg.predict(df_GetPredict)\n",
    "\n",
    "# Get probabilities for predictions (comes as list of arrays)\n",
    "y_prob = logreg.predict_proba(df_GetPredict)\n",
    "\n",
    "# Bring list of arrays into columns in a df\n",
    "df_prob = pd.DataFrame(y_prob)\n",
    "\n",
    "# Combine lists into single df (df_prob has two columns)\n",
    "df_LabeledPredictions2018 =  pd.DataFrame(np.column_stack([df_Predict2018['PatientID'], df_Predict2018['DateMonthlyID'], y_pred2018, df_prob]), \n",
    "                                columns=['PatientID', 'DateMonthlyID', 'Prediction', 'Prob0', 'Prob1'])\n",
    "\n",
    "# Save to excel to examine\n",
    "# df_LabeledPredictions2018.to_excel('C:/Users/bburns.PROHEALTH.000/Desktop/Ben Burns/NewPredictions_08122018.xlsx')"
   ]
  },
  {
   "cell_type": "code",
   "execution_count": 36,
   "metadata": {},
   "outputs": [
    {
     "data": {
      "text/plain": [
       "(173300, 5)"
      ]
     },
     "execution_count": 36,
     "metadata": {},
     "output_type": "execute_result"
    }
   ],
   "source": [
    "# Count of total 2018 records prediction was run against.\n",
    "df_LabeledPredictions2018.shape"
   ]
  },
  {
   "cell_type": "code",
   "execution_count": 37,
   "metadata": {},
   "outputs": [
    {
     "data": {
      "text/plain": [
       "280.0"
      ]
     },
     "execution_count": 37,
     "metadata": {},
     "output_type": "execute_result"
    }
   ],
   "source": [
    "# Total number of positive predicitons in the 2018 records.\n",
    "df_LabeledPredictions2018['Prediction'].sum()"
   ]
  },
  {
   "cell_type": "markdown",
   "metadata": {},
   "source": []
  },
  {
   "cell_type": "markdown",
   "metadata": {},
   "source": []
  },
  {
   "cell_type": "markdown",
   "metadata": {},
   "source": [
    "# Appendix1: Potential for Further Improvement\n",
    "\n",
    "Given that this is largely a proof of concept project and one of two main sponsors is leaving the organization soon, there are improvements that can be made to the model just by further analysis of the current effects we've been reviewing.\n",
    "\n",
    "However, below is a list of more substantive improvements (aside from Inspecting Outliers, which falls more under refining the current analysis) that could be undertaken to enhance ProHealth's ability to identify at-risk Patients.  These are loosely presented in order of smallest to greatest expected effort."
   ]
  },
  {
   "cell_type": "markdown",
   "metadata": {},
   "source": [
    "## Inspecting Outliers\n",
    "\n",
    "* OPPLast6Mths, CntInpatient, CntIsAcuteInpatient, CntIsSubAcuteInpatient, CntIsERClaim all have potential outlier values at the far end of their ranges.  Inspecting these and possibly transforming or otherwise \"dealing with\" them could potentially yield better results."
   ]
  },
  {
   "cell_type": "markdown",
   "metadata": {},
   "source": [
    "## Breakout Target Over/Under 65\n",
    "\n",
    "The  major areas of difference that stand out are the Under 65 group is:\n",
    "    * More likely to have IsDeppressionOrBH (43.6% vs 27.4%)\n",
    "    * 13% more likely to be Obese\n",
    "    * MUCH more likely to have Medicaid (76.4% vs 28%)\n",
    "    * More likely to have Collection (37.6% vs 15%)\n",
    "    * More frequent ER claims (15.76 vs 10.93) and Previous ER claims (17.55 vs 11.01)"
   ]
  },
  {
   "cell_type": "markdown",
   "metadata": {},
   "source": [
    "## Claim Lifecycle\n",
    "* Due to time constraints there are still gaps in our knowledge of the specifics around the claim lifecycle.  For example, looking at the predictions, we have only positive predictions for Patients in the early part of the year.  The hypothesis for this effect is that it is likely due to incomplete claim information for very recent claims.\n",
    "\n",
    "* While this does not mean these Patients are no longer at risk because their 6 month prediction window is almost up, it possibly means some lost time or missed opportunities for treatment.  Recommendation would be to work more closely with the business leaders and data owners to either rely less on incomplete claims data, or to better tune the model for more recent claims."
   ]
  },
  {
   "cell_type": "markdown",
   "metadata": {},
   "source": [
    "## Fit a companion-model for Attributed Patients\n",
    "* Attributed members who are not also ProHealth Patients (do not have a ProhHealth ID) are not included in this model.\n",
    "* It is possible that a model could be adapted for these non-Patient Attributed Members, as well.\n",
    "    * Many fields in the model are drawn from claims only: OPPLast6Mths, HasPreviousAdmit, CntInpatient, CntIsERClaim\n",
    "    * Other fields could be adapted from claims data: Age, MaritalStatus (kind of).\n",
    "    * Additional Payor fields may be included."
   ]
  },
  {
   "cell_type": "markdown",
   "metadata": {},
   "source": [
    "## Social Determinant Analysis\n",
    "* While demographic features such as Race, Ethnicity, Gender, etc did not prove particularly predictive, there were strikingly few available features that might be considered social determinants.\n",
    "* Factors such as income, employment status, occupation, housing status, education lever, etc can often be predictive.\n",
    "* Given more time, some of these factors may be derived.\n",
    "* Partnership with social service and nonprofit organizations could also be considered -SMC may be able to help coordinate.\n",
    "* Pop Health and Census data can sometimes be useful in this arena, but is often aggregated by zip code or other geography rather than specific to individual patients."
   ]
  },
  {
   "cell_type": "markdown",
   "metadata": {},
   "source": [
    "## Refinement of Target\n",
    "* Because it is very difficult to label claims according to which are unplanned, specifically, we had to count the acute inpatient claim coinciding with an ER visit to determine if it met our criteria.  \n",
    "* There may be opportunities to further refine this target, or perhaps devise a more sophisticated maner of labeling claims.\n",
    "* Given that this project is technically a \"proof of concept\" there may also be opportunities to refine the target for higher impact and ROI through a rigorous cost-benefit analysis with business and clinical leaders."
   ]
  }
 ],
 "metadata": {
  "kernelspec": {
   "display_name": "Python 3",
   "language": "python",
   "name": "python3"
  },
  "language_info": {
   "codemirror_mode": {
    "name": "ipython",
    "version": 3
   },
   "file_extension": ".py",
   "mimetype": "text/x-python",
   "name": "python",
   "nbconvert_exporter": "python",
   "pygments_lexer": "ipython3",
   "version": "3.6.2"
  }
 },
 "nbformat": 4,
 "nbformat_minor": 2
}
