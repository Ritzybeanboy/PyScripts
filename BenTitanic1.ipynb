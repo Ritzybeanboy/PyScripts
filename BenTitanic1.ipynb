{
 "cells": [
  {
   "cell_type": "markdown",
   "metadata": {
    "colab_type": "text",
    "id": "XJ0J2LJbE4a6"
   },
   "source": [
    "# Import "
   ]
  },
  {
   "cell_type": "code",
   "execution_count": 0,
   "metadata": {
    "colab": {
     "autoexec": {
      "startup": false,
      "wait_interval": 0
     }
    },
    "colab_type": "code",
    "collapsed": true,
    "id": "NUzRX69pCfHc"
   },
   "outputs": [],
   "source": [
    "# This Python 3 environment comes with many helpful analytics libraries installed\n",
    "# It is defined by the kaggle/python docker image: https://github.com/kaggle/docker-python\n",
    "# For example, here's several helpful packages to load in \n",
    "\n",
    "import numpy as np # linear algebra\n",
    "import pandas as pd # data processing, CSV file I/O (e.g. pd.read_csv)\n",
    "from sklearn.linear_model import LogisticRegression #Linear regression proc\n",
    "import matplotlib.pyplot as plt\n",
    "from sklearn.utils import shuffle\n",
    "from sklearn.model_selection import GridSearchCV\n",
    "from sklearn import datasets\n",
    "from sklearn.feature_selection import RFE #Recursive Feature Elimination -Selects variables based on performance in model.\n",
    "\n",
    "# Any results you write to the current directory are saved as output.\n",
    "from subprocess import check_output\n",
    "\n",
    "# Import packages to use for data exploration (graphs/plots)\n",
    "import seaborn as sns\n",
    "import scipy as sp\n",
    "# Get function to calculate SpearmanR coefficient.\n",
    "from scipy.stats import spearmanr\n",
    "\n",
    "# Makes your plots appear in your notebook instead of creating a file somewhere\n",
    "%matplotlib inline\n",
    "\n",
    "#Import module to create our training and test sets.\n",
    "from sklearn.model_selection import train_test_split\n",
    "\n",
    "# Bob XG Boost Imports\n",
    "import xgboost as xgb\n",
    "# Label encoder can be used to normalize labels and to transform non-numerical\n",
    "# labels to numeric, as long as they are hashable and comparable.  \n",
    "# See: http://scikit-learn.org/stable/modules/generated/sklearn.preprocessing.LabelEncoder.html\n",
    "# Hashable means that for every unique input to a function, you get a unique \n",
    "# out.  See: https://www.quora.com/What-are-hashable-types-in-Python\n",
    "from sklearn.preprocessing import LabelEncoder\n",
    "# The TransformerMixin defines the fit and transform methods for our\n",
    "# data transformer... We could write those methods ourselves, but this helps to \n",
    "# ensure that we maintain compatibility with sklearn.  For more info see:\n",
    "# http://scikit-learn.org/stable/modules/generated/sklearn.preprocessing.LabelEncoder.html\n",
    "from sklearn.base import TransformerMixin"
   ]
  },
  {
   "cell_type": "code",
   "execution_count": 2,
   "metadata": {
    "colab": {
     "autoexec": {
      "startup": false,
      "wait_interval": 0
     },
     "base_uri": "https://localhost:8080/",
     "height": 927
    },
    "colab_type": "code",
    "executionInfo": {
     "elapsed": 9826,
     "status": "ok",
     "timestamp": 1524421563299,
     "user": {
      "displayName": "Ben B",
      "photoUrl": "//lh3.googleusercontent.com/-G29XISVoSqE/AAAAAAAAAAI/AAAAAAAAAOM/gok8ZqPgdyo/s50-c-k-no/photo.jpg",
      "userId": "104324383755394097825"
     },
     "user_tz": 240
    },
    "id": "sbMq3a3SEkHA",
    "outputId": "7c9f6867-d869-4664-dc10-d942dc2f3c73"
   },
   "outputs": [
    {
     "name": "stdout",
     "output_type": "stream",
     "text": [
      "Collecting altair==2.0.0rc2\n",
      "  Downloading https://files.pythonhosted.org/packages/31/0a/530675251ae5b05047bf6b4c7759b0f9d1580083b231d57b8ad3e8540472/altair-2.0.0rc2.tar.gz (259kB)\n",
      "\u001b[K    100% |████████████████████████████████| 266kB 2.8MB/s \n",
      "\u001b[?25hRequirement already satisfied: entrypoints in /usr/local/lib/python3.6/dist-packages (from altair==2.0.0rc2)\n",
      "Requirement already satisfied: ipython in /usr/local/lib/python3.6/dist-packages (from altair==2.0.0rc2)\n",
      "Requirement already satisfied: jsonschema in /usr/local/lib/python3.6/dist-packages (from altair==2.0.0rc2)\n",
      "Requirement already satisfied: numpy in /usr/local/lib/python3.6/dist-packages (from altair==2.0.0rc2)\n",
      "Requirement already satisfied: pandas in /usr/local/lib/python3.6/dist-packages (from altair==2.0.0rc2)\n",
      "Collecting pytest (from altair==2.0.0rc2)\n",
      "  Downloading https://files.pythonhosted.org/packages/ed/96/271c93f75212c06e2a7ec3e2fa8a9c90acee0a4838dc05bf379ea09aae31/pytest-3.5.0-py2.py3-none-any.whl (194kB)\n",
      "\u001b[K    100% |████████████████████████████████| 194kB 3.8MB/s \n",
      "\u001b[?25hRequirement already satisfied: six in /usr/local/lib/python3.6/dist-packages (from altair==2.0.0rc2)\n",
      "Collecting toolz (from altair==2.0.0rc2)\n",
      "  Downloading https://files.pythonhosted.org/packages/14/d0/a73c15bbeda3d2e7b381a36afb0d9cd770a9f4adc5d1532691013ba881db/toolz-0.9.0.tar.gz (45kB)\n",
      "\u001b[K    100% |████████████████████████████████| 51kB 5.8MB/s \n",
      "\u001b[?25hCollecting vega_datasets (from altair==2.0.0rc2)\n",
      "  Downloading https://files.pythonhosted.org/packages/c4/fd/97a6f656f178885837c273f41b13725f19a2274b3011da9fa55e914e3d6e/vega_datasets-0.4.1.tar.gz (195kB)\n",
      "\u001b[K    100% |████████████████████████████████| 204kB 3.7MB/s \n",
      "\u001b[?25hRequirement already satisfied: traitlets>=4.2 in /usr/local/lib/python3.6/dist-packages (from ipython->altair==2.0.0rc2)\n",
      "Requirement already satisfied: pexpect; sys_platform != \"win32\" in /usr/local/lib/python3.6/dist-packages (from ipython->altair==2.0.0rc2)\n",
      "Requirement already satisfied: simplegeneric>0.8 in /usr/local/lib/python3.6/dist-packages (from ipython->altair==2.0.0rc2)\n",
      "Requirement already satisfied: prompt-toolkit<2.0.0,>=1.0.4 in /usr/local/lib/python3.6/dist-packages (from ipython->altair==2.0.0rc2)\n",
      "Requirement already satisfied: decorator in /usr/local/lib/python3.6/dist-packages (from ipython->altair==2.0.0rc2)\n",
      "Requirement already satisfied: setuptools>=18.5 in /usr/local/lib/python3.6/dist-packages (from ipython->altair==2.0.0rc2)\n",
      "Requirement already satisfied: pygments in /usr/local/lib/python3.6/dist-packages (from ipython->altair==2.0.0rc2)\n",
      "Requirement already satisfied: pickleshare in /usr/local/lib/python3.6/dist-packages (from ipython->altair==2.0.0rc2)\n",
      "Requirement already satisfied: python-dateutil>=2 in /usr/local/lib/python3.6/dist-packages (from pandas->altair==2.0.0rc2)\n",
      "Requirement already satisfied: pytz>=2011k in /usr/local/lib/python3.6/dist-packages (from pandas->altair==2.0.0rc2)\n",
      "Collecting pluggy<0.7,>=0.5 (from pytest->altair==2.0.0rc2)\n",
      "  Downloading https://files.pythonhosted.org/packages/ba/65/ded3bc40bbf8d887f262f150fbe1ae6637765b5c9534bd55690ed2c0b0f7/pluggy-0.6.0-py3-none-any.whl\n",
      "Collecting py>=1.5.0 (from pytest->altair==2.0.0rc2)\n",
      "  Downloading https://files.pythonhosted.org/packages/67/a5/f77982214dd4c8fd104b066f249adea2c49e25e8703d284382eb5e9ab35a/py-1.5.3-py2.py3-none-any.whl (84kB)\n",
      "\u001b[K    100% |████████████████████████████████| 92kB 7.1MB/s \n",
      "\u001b[?25hCollecting attrs>=17.4.0 (from pytest->altair==2.0.0rc2)\n",
      "  Downloading https://files.pythonhosted.org/packages/b5/60/4e178c1e790fd60f1229a9b3cb2f8bc2f4cc6ff2c8838054c142c70b5adc/attrs-17.4.0-py2.py3-none-any.whl\n",
      "Collecting more-itertools>=4.0.0 (from pytest->altair==2.0.0rc2)\n",
      "  Downloading https://files.pythonhosted.org/packages/7a/46/886917c6a4ce49dd3fff250c01c5abac5390d57992751384fe61befc4877/more_itertools-4.1.0-py3-none-any.whl (47kB)\n",
      "\u001b[K    100% |████████████████████████████████| 51kB 8.1MB/s \n",
      "\u001b[?25hRequirement already satisfied: ipython-genutils in /usr/local/lib/python3.6/dist-packages (from traitlets>=4.2->ipython->altair==2.0.0rc2)\n",
      "Requirement already satisfied: ptyprocess>=0.5 in /usr/local/lib/python3.6/dist-packages (from pexpect; sys_platform != \"win32\"->ipython->altair==2.0.0rc2)\n",
      "Requirement already satisfied: wcwidth in /usr/local/lib/python3.6/dist-packages (from prompt-toolkit<2.0.0,>=1.0.4->ipython->altair==2.0.0rc2)\n",
      "Building wheels for collected packages: altair, toolz, vega-datasets\n",
      "  Running setup.py bdist_wheel for altair ... \u001b[?25ldone\n",
      "\u001b[?25h  Stored in directory: /content/.cache/pip/wheels/1a/fd/6c/d83abf77763e110962c7e9a03c73e335aa0a24c5c897268683\n",
      "  Running setup.py bdist_wheel for toolz ... \u001b[?25ldone\n",
      "\u001b[?25h  Stored in directory: /content/.cache/pip/wheels/f4/0c/f6/ce6b2d1aa459ee97cc3c0f82236302bd62d89c86c700219463\n",
      "  Running setup.py bdist_wheel for vega-datasets ... \u001b[?25ldone\n",
      "\u001b[?25h  Stored in directory: /content/.cache/pip/wheels/0e/62/0f/5e6640ba8fe195498b8567f7d7f0a8d588e3af64a3a23da30e\n",
      "Successfully built altair toolz vega-datasets\n",
      "Installing collected packages: pluggy, py, attrs, more-itertools, pytest, toolz, vega-datasets, altair\n",
      "Successfully installed altair-2.0.0rc2 attrs-17.4.0 more-itertools-4.1.0 pluggy-0.6.0 py-1.5.3 pytest-3.5.0 toolz-0.9.0 vega-datasets-0.4.1\n",
      "\u001b[33mYou are using pip version 9.0.3, however version 10.0.1 is available.\n",
      "You should consider upgrading via the 'pip install --upgrade pip' command.\u001b[0m\n"
     ]
    }
   ],
   "source": [
    "# Import Altair for Data Vis\n",
    "!pip install altair==2.0.0rc2\n",
    "import altair as alt\n",
    "# for colab only run this command once per session\n",
    "alt.renderers.enable('colab')\n"
   ]
  },
  {
   "cell_type": "code",
   "execution_count": 5,
   "metadata": {
    "colab": {
     "autoexec": {
      "startup": false,
      "wait_interval": 0
     },
     "base_uri": "https://localhost:8080/",
     "height": 240,
     "resources": {
      "http://localhost:8080/nbextensions/google.colab/files.js": {
       "data": "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",
       "headers": [
        [
         "content-type",
         "application/javascript"
        ]
       ],
       "ok": true,
       "status": 200,
       "status_text": ""
      }
     }
    },
    "colab_type": "code",
    "executionInfo": {
     "elapsed": 13088,
     "status": "ok",
     "timestamp": 1524421643658,
     "user": {
      "displayName": "Ben B",
      "photoUrl": "//lh3.googleusercontent.com/-G29XISVoSqE/AAAAAAAAAAI/AAAAAAAAAOM/gok8ZqPgdyo/s50-c-k-no/photo.jpg",
      "userId": "104324383755394097825"
     },
     "user_tz": 240
    },
    "id": "RS0kniBpDZty",
    "outputId": "3fc78d79-9c36-4146-90ad-cdae8a19db70"
   },
   "outputs": [
    {
     "data": {
      "text/html": [
       "\n",
       "     <input type=\"file\" id=\"files-5f141176-641c-460a-ab44-d9890567bdf2\" name=\"files[]\" multiple disabled />\n",
       "     <output id=\"result-5f141176-641c-460a-ab44-d9890567bdf2\">\n",
       "      Upload widget is only available when the cell has been executed in the\n",
       "      current browser session. Please rerun this cell to enable.\n",
       "      </output>\n",
       "      <script src=\"/nbextensions/google.colab/files.js\"></script> "
      ],
      "text/plain": [
       "<IPython.core.display.HTML object>"
      ]
     },
     "metadata": {
      "tags": []
     },
     "output_type": "display_data"
    },
    {
     "name": "stdout",
     "output_type": "stream",
     "text": [
      "Saving df_test2.csv to df_test2 (1).csv\n",
      "Saving df_train2.csv to df_train2 (1).csv\n",
      "Saving test.csv to test.csv\n",
      "Saving train.csv to train.csv\n",
      "User uploaded file \"df_test2.csv\" with length 21767 bytes\n",
      "User uploaded file \"df_train2.csv\" with length 43771 bytes\n",
      "User uploaded file \"test.csv\" with length 28629 bytes\n",
      "User uploaded file \"train.csv\" with length 61194 bytes\n"
     ]
    }
   ],
   "source": [
    "# Import files.\n",
    "# This worked by hitting the execute button, and THEN selecting the files from the \"Choose Files\" button.\n",
    "# Every person working on this needs to upload the data files from their computer\n",
    "\n",
    "from google.colab import files\n",
    "\n",
    "uploaded = files.upload()\n",
    "\n",
    "for fn in uploaded.keys():\n",
    "  print('User uploaded file \"{name}\" with length {length} bytes'.format(\n",
    "      name=fn, length=len(uploaded[fn])))"
   ]
  },
  {
   "cell_type": "code",
   "execution_count": 0,
   "metadata": {
    "colab": {
     "autoexec": {
      "startup": false,
      "wait_interval": 0
     }
    },
    "colab_type": "code",
    "collapsed": true,
    "id": "HLYdVw9VEYP5"
   },
   "outputs": [],
   "source": [
    "# Create Data Frames\n",
    "\n",
    "# Test Data\n",
    "df_test = pd.read_csv('./test.csv')\n",
    "df_test2 = pd.read_csv('./df_test2.csv')\n",
    "\n",
    "# Train Data\n",
    "df_train = pd.read_csv('./train.csv')\n",
    "df_train2 = pd.read_csv('./df_train2.csv')\n"
   ]
  },
  {
   "cell_type": "code",
   "execution_count": 0,
   "metadata": {
    "colab": {
     "autoexec": {
      "startup": false,
      "wait_interval": 0
     }
    },
    "colab_type": "code",
    "collapsed": true,
    "id": "aaxykY8hE7ok"
   },
   "outputs": [],
   "source": [
    "# Create test and training set.\n",
    "\n",
    "# Create training and test sets for the data.\n",
    "# df_train2, df_test2 = train_test_split(df_train, test_size=0.33)\n",
    "\n",
    "# df_train2.to_csv('df_train2.csv')\n",
    "# df_test2.to_csv('df_test2.csv')\n",
    "# DOWNLOAD FILES FROM COLLABORATRORY\n",
    "# files.download('df_train2.csv')\n",
    "# files.download('df_test2.csv')"
   ]
  },
  {
   "cell_type": "code",
   "execution_count": 0,
   "metadata": {
    "colab": {
     "autoexec": {
      "startup": false,
      "wait_interval": 0
     }
    },
    "colab_type": "code",
    "collapsed": true,
    "id": "xfNRDJu9rlAE"
   },
   "outputs": [],
   "source": []
  },
  {
   "cell_type": "markdown",
   "metadata": {
    "colab_type": "text",
    "id": "p_XRA0zoGPZb"
   },
   "source": [
    "# EDA Exploratory Data Analysis"
   ]
  },
  {
   "cell_type": "code",
   "execution_count": 0,
   "metadata": {
    "colab": {
     "autoexec": {
      "startup": false,
      "wait_interval": 0
     }
    },
    "colab_type": "code",
    "collapsed": true,
    "id": "Nl5hcbD1FBgy"
   },
   "outputs": [],
   "source": [
    "df_train2.head(20)\n",
    "\n",
    "# Passengers over age 1 who have estimated ages\n",
    "df_train2[(df_train2['Age'] > 1) & ((df_train2[\"Age\"] % 1) > 0)].count()\n",
    "\n",
    "# Passengers with Siblings or Spouses\n",
    "df_train2[df_train2[\"SibSp\"] > 0].sort_values(by=\"Name\")\n",
    "\n",
    "df_train2[df_train2[\"Embarked\"] == \"S\"]"
   ]
  },
  {
   "cell_type": "code",
   "execution_count": 76,
   "metadata": {
    "colab": {
     "autoexec": {
      "startup": false,
      "wait_interval": 0
     },
     "base_uri": "https://localhost:8080/",
     "height": 311
    },
    "colab_type": "code",
    "executionInfo": {
     "elapsed": 837,
     "status": "ok",
     "timestamp": 1524342464090,
     "user": {
      "displayName": "Ben B",
      "photoUrl": "//lh3.googleusercontent.com/-G29XISVoSqE/AAAAAAAAAAI/AAAAAAAAAOM/gok8ZqPgdyo/s50-c-k-no/photo.jpg",
      "userId": "104324383755394097825"
     },
     "user_tz": 240
    },
    "id": "xyZ9QfvVGZqQ",
    "outputId": "c04da036-5211-46a1-ff2f-c8d435171524"
   },
   "outputs": [
    {
     "data": {
      "image/png": "[encoded data removed]",
      "text/plain": [
       "<matplotlib.figure.Figure at 0x7fa2b83828d0>"
      ]
     },
     "metadata": {
      "tags": []
     },
     "output_type": "display_data"
    }
   ],
   "source": [
    "##Correlation heatmap\n",
    "sns.heatmap(df_train2.corr(), square=True);"
   ]
  },
  {
   "cell_type": "code",
   "execution_count": 0,
   "metadata": {
    "colab": {
     "autoexec": {
      "startup": false,
      "wait_interval": 0
     }
    },
    "colab_type": "code",
    "collapsed": true,
    "id": "hjqSPGKiGZs0"
   },
   "outputs": [],
   "source": []
  },
  {
   "cell_type": "code",
   "execution_count": 0,
   "metadata": {
    "colab": {
     "autoexec": {
      "startup": false,
      "wait_interval": 0
     }
    },
    "colab_type": "code",
    "collapsed": true,
    "id": "0pgagc2cFBvR"
   },
   "outputs": [],
   "source": []
  },
  {
   "cell_type": "code",
   "execution_count": 0,
   "metadata": {
    "colab": {
     "autoexec": {
      "startup": false,
      "wait_interval": 0
     }
    },
    "colab_type": "code",
    "collapsed": true,
    "id": "QMma7u6hGY4V"
   },
   "outputs": [],
   "source": []
  },
  {
   "cell_type": "code",
   "execution_count": 0,
   "metadata": {
    "colab": {
     "autoexec": {
      "startup": false,
      "wait_interval": 0
     }
    },
    "colab_type": "code",
    "collapsed": true,
    "id": "SuhBFXEEFByT"
   },
   "outputs": [],
   "source": []
  },
  {
   "cell_type": "code",
   "execution_count": 24,
   "metadata": {
    "colab": {
     "autoexec": {
      "startup": false,
      "wait_interval": 0
     },
     "base_uri": "https://localhost:8080/",
     "height": 387
    },
    "colab_type": "code",
    "executionInfo": {
     "elapsed": 792,
     "status": "ok",
     "timestamp": 1524422599637,
     "user": {
      "displayName": "Ben B",
      "photoUrl": "//lh3.googleusercontent.com/-G29XISVoSqE/AAAAAAAAAAI/AAAAAAAAAOM/gok8ZqPgdyo/s50-c-k-no/photo.jpg",
      "userId": "104324383755394097825"
     },
     "user_tz": 240
    },
    "id": "102WQNaHFB07",
    "outputId": "9daeda06-1c2e-417e-f00f-561b96889bb7"
   },
   "outputs": [
    {
     "name": "stdout",
     "output_type": "stream",
     "text": [
      "<class 'pandas.core.frame.DataFrame'>\n",
      "RangeIndex: 596 entries, 0 to 595\n",
      "Data columns (total 17 columns):\n",
      "Unnamed: 0     596 non-null int64\n",
      "PassengerId    596 non-null int64\n",
      "Survived       596 non-null int64\n",
      "Pclass         596 non-null int64\n",
      "Name           596 non-null object\n",
      "Sex            596 non-null object\n",
      "Age            487 non-null float64\n",
      "SibSp          596 non-null int64\n",
      "Parch          596 non-null int64\n",
      "Ticket         596 non-null object\n",
      "Fare           596 non-null float64\n",
      "Cabin          141 non-null object\n",
      "Embarked       595 non-null object\n",
      "FareRange      582 non-null category\n",
      "IsMale         596 non-null float64\n",
      "AgeRange       487 non-null category\n",
      "ClassSexAge    596 non-null object\n",
      "dtypes: category(2), float64(3), int64(6), object(6)\n",
      "memory usage: 71.5+ KB\n"
     ]
    }
   ],
   "source": [
    "df_train2.info()"
   ]
  },
  {
   "cell_type": "markdown",
   "metadata": {
    "colab_type": "text",
    "id": "f-1plRMpyyLy"
   },
   "source": [
    "# Feature Engineering"
   ]
  },
  {
   "cell_type": "code",
   "execution_count": 0,
   "metadata": {
    "colab": {
     "autoexec": {
      "startup": false,
      "wait_interval": 0
     }
    },
    "colab_type": "code",
    "collapsed": true,
    "id": "qlR7AJrXv1xv"
   },
   "outputs": [],
   "source": [
    "# Since there are many NULL ages, I will impute missing ages based on the average age of similar passengers.\n",
    "# I will group Sex, SibSp, Parch and Pclass to get averages for groups -the assumption is that if these demos are similar than age may be, as well.\n",
    "# Effectively, this gives me an average age for:\n",
    "  # \"Lower class men with no children/parents or spouse/sibling on board\"\n",
    "  # \"Middle class women with no children and one spouse/sibling on board\"\n",
    "  # Etc...\n",
    "\n",
    "\n",
    "# TRAIN DATA\n",
    "# Create df with only passengers that have age so we can get averages.\n",
    "df_trainAge = df_train2.loc[df_train2['Age'].isnull() == 0].copy(deep=True)\n",
    "\n",
    "# Create new df that groups columns and gets average age by group.\n",
    "# reset_index reverts the output back to a table that can be easily joined.  Otherwise,. the indexes would be offset.\n",
    "df_trainAge2 = df_trainAge[['Sex', 'SibSp', 'Parch', 'Pclass', 'Age']].groupby(['Sex', 'SibSp', 'Parch', 'Pclass']).mean().reset_index()\n",
    "\n",
    "# Merge the new average column back in with the others.\n",
    "df_train3 = pd.merge(left=df_train2, right=df_trainAge2, how='left', on=['Sex', 'SibSp', 'Parch', 'Pclass'])\n",
    "\n",
    "# Update Age column with the average is the Age column is null.\n",
    "df_train3['Age_x'] = np.where(df_train3['Age_x'].isnull(),df_train3['Age_y'], df_train3['Age_x'])\n",
    "\n",
    "\n",
    "# Clean up by dropping Age_y and renaming Age_x to Age.\n",
    "df_train3.drop(labels=['Age_y'], inplace=True, axis=1)\n",
    "df_train3 = df_train3.rename(columns={'Age_x':'Age'})\n",
    "\n"
   ]
  },
  {
   "cell_type": "code",
   "execution_count": 0,
   "metadata": {
    "colab": {
     "autoexec": {
      "startup": false,
      "wait_interval": 0
     }
    },
    "colab_type": "code",
    "collapsed": true,
    "id": "UL3x7st3y4gg"
   },
   "outputs": [],
   "source": [
    "# Create bins for Fare.\n",
    "df_train3['FareRange'] = pd.cut(df_train3['Fare'], [0, 8, 13, 26, 60, 110, 150, 600])"
   ]
  },
  {
   "cell_type": "code",
   "execution_count": 0,
   "metadata": {
    "colab": {
     "autoexec": {
      "startup": false,
      "wait_interval": 0
     }
    },
    "colab_type": "code",
    "collapsed": true,
    "id": "n7xBbU0zy4jW"
   },
   "outputs": [],
   "source": [
    "# Set gender to a binary.\n",
    "df_train3.loc[df_train3['Sex'] == 'female', 'IsMale'] = 0\n",
    "df_train3.loc[df_train3['Sex'] == 'male', 'IsMale'] = 1"
   ]
  },
  {
   "cell_type": "code",
   "execution_count": 0,
   "metadata": {
    "colab": {
     "autoexec": {
      "startup": false,
      "wait_interval": 0
     }
    },
    "colab_type": "code",
    "collapsed": true,
    "id": "zoBXpT6ay4l9"
   },
   "outputs": [],
   "source": [
    "# Create bins for Age.\n",
    "df_train3['AgeRange'] = pd.cut(df_train3['Age'], [0,5,10,15,20,25,30,35,40,45,50,55,60,65,70,75,80,85]);"
   ]
  },
  {
   "cell_type": "code",
   "execution_count": 0,
   "metadata": {
    "colab": {
     "autoexec": {
      "startup": false,
      "wait_interval": 0
     }
    },
    "colab_type": "code",
    "collapsed": true,
    "id": "jVpmqfulnttn"
   },
   "outputs": [],
   "source": [
    "# Create variable to put AgeRange, Pclass and Sex into categories.\n",
    "df_train3['ClassSexAge'] = df_train3['Pclass'].astype(str) + df_train3['Sex'] + df_train3['AgeRange'].astype(str)"
   ]
  },
  {
   "cell_type": "code",
   "execution_count": 0,
   "metadata": {
    "colab": {
     "autoexec": {
      "startup": false,
      "wait_interval": 0
     }
    },
    "colab_type": "code",
    "collapsed": true,
    "id": "8QctKthMsLQV"
   },
   "outputs": [],
   "source": [
    "# Set flag to determine if passenger has any family on board or none.\n",
    "df_train3['HasFamilyOnboard'] = np.where((df_train3['SibSp'] + df_train3['Parch']) > 0, 1, 0) "
   ]
  },
  {
   "cell_type": "code",
   "execution_count": 0,
   "metadata": {
    "colab": {
     "autoexec": {
      "startup": false,
      "wait_interval": 0
     }
    },
    "colab_type": "code",
    "collapsed": true,
    "id": "nSJO-HFkt8Nk"
   },
   "outputs": [],
   "source": [
    "# Set binary to determine if passenger has a cabin or not.\n",
    "df_train3.loc[df_train3['Cabin'].isnull() == 1, 'HasCabin'] = 0\n",
    "df_train3.loc[df_train3['Cabin'].isnull() == 0, 'HasCabin'] = 1"
   ]
  },
  {
   "cell_type": "code",
   "execution_count": 194,
   "metadata": {
    "colab": {
     "autoexec": {
      "startup": false,
      "wait_interval": 0
     },
     "base_uri": "https://localhost:8080/",
     "height": 451
    },
    "colab_type": "code",
    "executionInfo": {
     "elapsed": 723,
     "status": "ok",
     "timestamp": 1524440308812,
     "user": {
      "displayName": "Ben B",
      "photoUrl": "//lh3.googleusercontent.com/-G29XISVoSqE/AAAAAAAAAAI/AAAAAAAAAOM/gok8ZqPgdyo/s50-c-k-no/photo.jpg",
      "userId": "104324383755394097825"
     },
     "user_tz": 240
    },
    "id": "E4WqNjsv5nEx",
    "outputId": "4943eecd-34c5-478c-cc3e-2896b7eb8335"
   },
   "outputs": [
    {
     "data": {
      "text/html": [
       "<div>\n",
       "<style scoped>\n",
       "    .dataframe tbody tr th:only-of-type {\n",
       "        vertical-align: middle;\n",
       "    }\n",
       "\n",
       "    .dataframe tbody tr th {\n",
       "        vertical-align: top;\n",
       "    }\n",
       "\n",
       "    .dataframe thead th {\n",
       "        text-align: right;\n",
       "    }\n",
       "</style>\n",
       "<table border=\"1\" class=\"dataframe\">\n",
       "  <thead>\n",
       "    <tr style=\"text-align: right;\">\n",
       "      <th></th>\n",
       "      <th>Unnamed: 0</th>\n",
       "      <th>PassengerId</th>\n",
       "      <th>Survived</th>\n",
       "      <th>Pclass</th>\n",
       "      <th>Name</th>\n",
       "      <th>Sex</th>\n",
       "      <th>Age</th>\n",
       "      <th>SibSp</th>\n",
       "      <th>Parch</th>\n",
       "      <th>Ticket</th>\n",
       "      <th>Fare</th>\n",
       "      <th>Cabin</th>\n",
       "      <th>Embarked</th>\n",
       "      <th>FareRange</th>\n",
       "      <th>IsMale</th>\n",
       "      <th>AgeRange</th>\n",
       "      <th>ClassSexAge</th>\n",
       "      <th>HasFamilyOnboard</th>\n",
       "      <th>HasCabin</th>\n",
       "    </tr>\n",
       "  </thead>\n",
       "  <tbody>\n",
       "    <tr>\n",
       "      <th>0</th>\n",
       "      <td>369</td>\n",
       "      <td>370</td>\n",
       "      <td>1</td>\n",
       "      <td>1</td>\n",
       "      <td>Aubart, Mme. Leontine Pauline</td>\n",
       "      <td>female</td>\n",
       "      <td>24.000000</td>\n",
       "      <td>0</td>\n",
       "      <td>0</td>\n",
       "      <td>PC 17477</td>\n",
       "      <td>69.300</td>\n",
       "      <td>B35</td>\n",
       "      <td>C</td>\n",
       "      <td>(60, 110]</td>\n",
       "      <td>0.0</td>\n",
       "      <td>(20, 25]</td>\n",
       "      <td>1female(20, 25]</td>\n",
       "      <td>0</td>\n",
       "      <td>1.0</td>\n",
       "    </tr>\n",
       "    <tr>\n",
       "      <th>1</th>\n",
       "      <td>348</td>\n",
       "      <td>349</td>\n",
       "      <td>1</td>\n",
       "      <td>3</td>\n",
       "      <td>Coutts, Master. William Loch \"William\"</td>\n",
       "      <td>male</td>\n",
       "      <td>3.000000</td>\n",
       "      <td>1</td>\n",
       "      <td>1</td>\n",
       "      <td>C.A. 37671</td>\n",
       "      <td>15.900</td>\n",
       "      <td>NaN</td>\n",
       "      <td>S</td>\n",
       "      <td>(13, 26]</td>\n",
       "      <td>1.0</td>\n",
       "      <td>(0, 5]</td>\n",
       "      <td>3male(0, 5]</td>\n",
       "      <td>1</td>\n",
       "      <td>0.0</td>\n",
       "    </tr>\n",
       "    <tr>\n",
       "      <th>2</th>\n",
       "      <td>816</td>\n",
       "      <td>817</td>\n",
       "      <td>0</td>\n",
       "      <td>3</td>\n",
       "      <td>Heininen, Miss. Wendla Maria</td>\n",
       "      <td>female</td>\n",
       "      <td>23.000000</td>\n",
       "      <td>0</td>\n",
       "      <td>0</td>\n",
       "      <td>STON/O2. 3101290</td>\n",
       "      <td>7.925</td>\n",
       "      <td>NaN</td>\n",
       "      <td>S</td>\n",
       "      <td>(0, 8]</td>\n",
       "      <td>0.0</td>\n",
       "      <td>(20, 25]</td>\n",
       "      <td>3female(20, 25]</td>\n",
       "      <td>0</td>\n",
       "      <td>0.0</td>\n",
       "    </tr>\n",
       "    <tr>\n",
       "      <th>3</th>\n",
       "      <td>264</td>\n",
       "      <td>265</td>\n",
       "      <td>0</td>\n",
       "      <td>3</td>\n",
       "      <td>Henry, Miss. Delia</td>\n",
       "      <td>female</td>\n",
       "      <td>23.766667</td>\n",
       "      <td>0</td>\n",
       "      <td>0</td>\n",
       "      <td>382649</td>\n",
       "      <td>7.750</td>\n",
       "      <td>NaN</td>\n",
       "      <td>Q</td>\n",
       "      <td>(0, 8]</td>\n",
       "      <td>0.0</td>\n",
       "      <td>(20, 25]</td>\n",
       "      <td>3female(20, 25]</td>\n",
       "      <td>0</td>\n",
       "      <td>0.0</td>\n",
       "    </tr>\n",
       "    <tr>\n",
       "      <th>4</th>\n",
       "      <td>805</td>\n",
       "      <td>806</td>\n",
       "      <td>0</td>\n",
       "      <td>3</td>\n",
       "      <td>Johansson, Mr. Karl Johan</td>\n",
       "      <td>male</td>\n",
       "      <td>31.000000</td>\n",
       "      <td>0</td>\n",
       "      <td>0</td>\n",
       "      <td>347063</td>\n",
       "      <td>7.775</td>\n",
       "      <td>NaN</td>\n",
       "      <td>S</td>\n",
       "      <td>(0, 8]</td>\n",
       "      <td>1.0</td>\n",
       "      <td>(30, 35]</td>\n",
       "      <td>3male(30, 35]</td>\n",
       "      <td>0</td>\n",
       "      <td>0.0</td>\n",
       "    </tr>\n",
       "  </tbody>\n",
       "</table>\n",
       "</div>"
      ],
      "text/plain": [
       "   Unnamed: 0  PassengerId  Survived  Pclass  \\\n",
       "0         369          370         1       1   \n",
       "1         348          349         1       3   \n",
       "2         816          817         0       3   \n",
       "3         264          265         0       3   \n",
       "4         805          806         0       3   \n",
       "\n",
       "                                     Name     Sex        Age  SibSp  Parch  \\\n",
       "0           Aubart, Mme. Leontine Pauline  female  24.000000      0      0   \n",
       "1  Coutts, Master. William Loch \"William\"    male   3.000000      1      1   \n",
       "2            Heininen, Miss. Wendla Maria  female  23.000000      0      0   \n",
       "3                      Henry, Miss. Delia  female  23.766667      0      0   \n",
       "4               Johansson, Mr. Karl Johan    male  31.000000      0      0   \n",
       "\n",
       "             Ticket    Fare Cabin Embarked  FareRange  IsMale  AgeRange  \\\n",
       "0          PC 17477  69.300   B35        C  (60, 110]     0.0  (20, 25]   \n",
       "1        C.A. 37671  15.900   NaN        S   (13, 26]     1.0    (0, 5]   \n",
       "2  STON/O2. 3101290   7.925   NaN        S     (0, 8]     0.0  (20, 25]   \n",
       "3            382649   7.750   NaN        Q     (0, 8]     0.0  (20, 25]   \n",
       "4            347063   7.775   NaN        S     (0, 8]     1.0  (30, 35]   \n",
       "\n",
       "       ClassSexAge  HasFamilyOnboard  HasCabin  \n",
       "0  1female(20, 25]                 0       1.0  \n",
       "1      3male(0, 5]                 1       0.0  \n",
       "2  3female(20, 25]                 0       0.0  \n",
       "3  3female(20, 25]                 0       0.0  \n",
       "4    3male(30, 35]                 0       0.0  "
      ]
     },
     "execution_count": 194,
     "metadata": {
      "tags": []
     },
     "output_type": "execute_result"
    }
   ],
   "source": [
    "\n",
    "df_train3.head()"
   ]
  },
  {
   "cell_type": "markdown",
   "metadata": {
    "colab_type": "text",
    "id": "x4ls_Y6CHauz"
   },
   "source": [
    "## Post Feature Engineering EDA"
   ]
  },
  {
   "cell_type": "code",
   "execution_count": 99,
   "metadata": {
    "colab": {
     "autoexec": {
      "startup": false,
      "wait_interval": 0
     },
     "base_uri": "https://localhost:8080/",
     "height": 1075
    },
    "colab_type": "code",
    "executionInfo": {
     "elapsed": 688,
     "status": "ok",
     "timestamp": 1524431133886,
     "user": {
      "displayName": "Ben B",
      "photoUrl": "//lh3.googleusercontent.com/-G29XISVoSqE/AAAAAAAAAAI/AAAAAAAAAOM/gok8ZqPgdyo/s50-c-k-no/photo.jpg",
      "userId": "104324383755394097825"
     },
     "user_tz": 240
    },
    "id": "OahIPkIwy4oj",
    "outputId": "bcc1fef8-f825-4855-9df4-df8e0e809b69"
   },
   "outputs": [
    {
     "data": {
      "text/plain": [
       "ClassSexAge      Survived\n",
       "1female(0, 5]    0            1\n",
       "1female(15, 20]  1           10\n",
       "1female(20, 25]  0            1\n",
       "                 1            7\n",
       "1female(25, 30]  1            6\n",
       "1female(30, 35]  1           10\n",
       "1female(35, 40]  1           12\n",
       "1female(40, 45]  1            4\n",
       "1female(45, 50]  0            1\n",
       "                 1            5\n",
       "1female(50, 55]  1            5\n",
       "1female(55, 60]  1            4\n",
       "1female(60, 65]  1            2\n",
       "1male(0, 5]      1            2\n",
       "1male(10, 15]    1            1\n",
       "1male(15, 20]    0            2\n",
       "1male(20, 25]    0            4\n",
       "                 1            1\n",
       "1male(25, 30]    0            4\n",
       "                 1            4\n",
       "1male(30, 35]    0            2\n",
       "                 1            5\n",
       "1male(35, 40]    0            5\n",
       "                 1            5\n",
       "1male(40, 45]    0           11\n",
       "                 1            6\n",
       "1male(45, 50]    0           10\n",
       "                 1            3\n",
       "1male(50, 55]    0            4\n",
       "                 1            2\n",
       "                             ..\n",
       "3female(35, 40]  0            3\n",
       "                 1            1\n",
       "3female(40, 45]  0            2\n",
       "3female(45, 50]  0            1\n",
       "3female(5, 10]   0            6\n",
       "3female(60, 65]  1            1\n",
       "3femalenan       0            1\n",
       "3male(0, 5]      0            7\n",
       "                 1            4\n",
       "3male(10, 15]    0            3\n",
       "3male(15, 20]    0           31\n",
       "                 1            5\n",
       "3male(20, 25]    0           32\n",
       "                 1            4\n",
       "3male(25, 30]    0           72\n",
       "                 1           11\n",
       "3male(30, 35]    0           20\n",
       "                 1            3\n",
       "3male(35, 40]    0           12\n",
       "                 1            1\n",
       "3male(40, 45]    0           10\n",
       "                 1            1\n",
       "3male(45, 50]    0            4\n",
       "3male(5, 10]     0            4\n",
       "                 1            2\n",
       "3male(50, 55]    0            2\n",
       "3male(55, 60]    0            2\n",
       "3male(60, 65]    0            2\n",
       "3male(70, 75]    0            1\n",
       "3malenan         0            3\n",
       "Length: 105, dtype: int64"
      ]
     },
     "execution_count": 99,
     "metadata": {
      "tags": []
     },
     "output_type": "execute_result"
    }
   ],
   "source": [
    "df_train3.groupby(['ClassSexAge','Survived']).size()\n"
   ]
  },
  {
   "cell_type": "code",
   "execution_count": 101,
   "metadata": {
    "colab": {
     "autoexec": {
      "startup": false,
      "wait_interval": 0
     },
     "base_uri": "https://localhost:8080/",
     "height": 185
    },
    "colab_type": "code",
    "executionInfo": {
     "elapsed": 657,
     "status": "ok",
     "timestamp": 1524431444911,
     "user": {
      "displayName": "Ben B",
      "photoUrl": "//lh3.googleusercontent.com/-G29XISVoSqE/AAAAAAAAAAI/AAAAAAAAAOM/gok8ZqPgdyo/s50-c-k-no/photo.jpg",
      "userId": "104324383755394097825"
     },
     "user_tz": 240
    },
    "id": "2NCRKsWIy4rC",
    "outputId": "aa29d517-af78-49be-fad9-ce8145614fc9"
   },
   "outputs": [
    {
     "data": {
      "text/plain": [
       "IsMale  HasFamilyOnboard  Survived\n",
       "0.0     0                 0            18\n",
       "                          1            69\n",
       "        1                 0            31\n",
       "                          1            86\n",
       "1.0     0                 0           232\n",
       "                          1            44\n",
       "        1                 0            82\n",
       "                          1            34\n",
       "dtype: int64"
      ]
     },
     "execution_count": 101,
     "metadata": {
      "tags": []
     },
     "output_type": "execute_result"
    }
   ],
   "source": [
    "df_train3.groupby(['IsMale','HasFamilyOnboard','Survived']).size()"
   ]
  },
  {
   "cell_type": "code",
   "execution_count": 102,
   "metadata": {
    "colab": {
     "autoexec": {
      "startup": false,
      "wait_interval": 0
     },
     "base_uri": "https://localhost:8080/",
     "height": 941
    },
    "colab_type": "code",
    "executionInfo": {
     "elapsed": 904,
     "status": "ok",
     "timestamp": 1524431576058,
     "user": {
      "displayName": "Ben B",
      "photoUrl": "//lh3.googleusercontent.com/-G29XISVoSqE/AAAAAAAAAAI/AAAAAAAAAOM/gok8ZqPgdyo/s50-c-k-no/photo.jpg",
      "userId": "104324383755394097825"
     },
     "user_tz": 240
    },
    "id": "GfT2AuFsy4ti",
    "outputId": "1d53fbb6-d96c-43d9-93ac-b859885f50f3"
   },
   "outputs": [
    {
     "data": {
      "text/plain": [
       "IsMale  AgeRange  Survived\n",
       "0.0     (0, 5]    0            2\n",
       "                  1           12\n",
       "        (5, 10]   0            6\n",
       "                  1            2\n",
       "        (10, 15]  0            3\n",
       "                  1            3\n",
       "        (15, 20]  0            8\n",
       "                  1           20\n",
       "        (20, 25]  0           12\n",
       "                  1           32\n",
       "        (25, 30]  0            8\n",
       "                  1           20\n",
       "        (30, 35]  0            1\n",
       "                  1           23\n",
       "        (35, 40]  0            3\n",
       "                  1           15\n",
       "        (40, 45]  0            2\n",
       "                  1            8\n",
       "        (45, 50]  0            2\n",
       "                  1            8\n",
       "        (50, 55]  1            5\n",
       "        (55, 60]  0            1\n",
       "                  1            4\n",
       "        (60, 65]  1            3\n",
       "1.0     (0, 5]    0            7\n",
       "                  1           14\n",
       "        (5, 10]   0            4\n",
       "                  1            3\n",
       "        (10, 15]  0            3\n",
       "                  1            1\n",
       "        (15, 20]  0           38\n",
       "                  1            6\n",
       "        (20, 25]  0           49\n",
       "                  1            5\n",
       "        (25, 30]  0           81\n",
       "                  1           15\n",
       "        (30, 35]  0           39\n",
       "                  1           12\n",
       "        (35, 40]  0           24\n",
       "                  1            6\n",
       "        (40, 45]  0           23\n",
       "                  1            8\n",
       "        (45, 50]  0           17\n",
       "                  1            3\n",
       "        (50, 55]  0            9\n",
       "                  1            2\n",
       "        (55, 60]  0            6\n",
       "                  1            1\n",
       "        (60, 65]  0            7\n",
       "                  1            1\n",
       "        (65, 70]  0            1\n",
       "        (70, 75]  0            3\n",
       "        (75, 80]  1            1\n",
       "dtype: int64"
      ]
     },
     "execution_count": 102,
     "metadata": {
      "tags": []
     },
     "output_type": "execute_result"
    }
   ],
   "source": [
    "df_train3.groupby(['IsMale','AgeRange','Survived']).size()"
   ]
  },
  {
   "cell_type": "code",
   "execution_count": 103,
   "metadata": {
    "colab": {
     "autoexec": {
      "startup": false,
      "wait_interval": 0
     },
     "base_uri": "https://localhost:8080/",
     "height": 286
    },
    "colab_type": "code",
    "executionInfo": {
     "elapsed": 788,
     "status": "ok",
     "timestamp": 1524431771747,
     "user": {
      "displayName": "Ben B",
      "photoUrl": "//lh3.googleusercontent.com/-G29XISVoSqE/AAAAAAAAAAI/AAAAAAAAAOM/gok8ZqPgdyo/s50-c-k-no/photo.jpg",
      "userId": "104324383755394097825"
     },
     "user_tz": 240
    },
    "id": "KVL3NN-Fy4v5",
    "outputId": "855c2924-18fc-4b68-c7c8-72ae4cdff8bb"
   },
   "outputs": [
    {
     "data": {
      "text/plain": [
       "FareRange   Survived\n",
       "(0, 8]      0           111\n",
       "            1            34\n",
       "(8, 13]     0            93\n",
       "            1            34\n",
       "(13, 26]    0            61\n",
       "            1            48\n",
       "(26, 60]    0            56\n",
       "            1            60\n",
       "(60, 110]   0            21\n",
       "            1            31\n",
       "(110, 150]  0             3\n",
       "            1            11\n",
       "(150, 600]  0             5\n",
       "            1            14\n",
       "dtype: int64"
      ]
     },
     "execution_count": 103,
     "metadata": {
      "tags": []
     },
     "output_type": "execute_result"
    }
   ],
   "source": [
    "df_train3.groupby(['FareRange','Survived']).size()"
   ]
  },
  {
   "cell_type": "markdown",
   "metadata": {
    "colab_type": "text",
    "id": "2vjYmIY4FDrg"
   },
   "source": [
    "# Ben's Playground"
   ]
  },
  {
   "cell_type": "markdown",
   "metadata": {
    "colab_type": "text",
    "id": "9055zX0LOyHf"
   },
   "source": [
    "Because of the way I created all of these extra categorical variables, I'll need to change them into \"dummy\" variables so that the algorithm can use them in computation.  Remember:  Categorical variables aren't numeric so you can't do math with them, which is what the algorithm needs to do. A dummy variable is when you take each possible category from a categorical variable and convert it to it's own binary.  This, instead of being varchars that the algo can't do anything with, gives the algo a 0 or 1 representation of every record as in or out of each category in the categorical variable."
   ]
  },
  {
   "cell_type": "code",
   "execution_count": 0,
   "metadata": {
    "colab": {
     "autoexec": {
      "startup": false,
      "wait_interval": 0
     }
    },
    "colab_type": "code",
    "collapsed": true,
    "id": "LBuvPa9COKcO"
   },
   "outputs": [],
   "source": [
    "# First, drop columns I don't need.\n",
    "\n",
    "df_train4 = df_train3.copy(deep=True)\n",
    "\n",
    "df_train4.drop(labels=['Unnamed: 0','PassengerId', 'Pclass', 'Name', 'Sex', 'Age', 'SibSp', 'Parch', 'Ticket', 'Fare', 'Cabin', 'Embarked', 'IsMale'], inplace=True, axis=1)\n",
    "\n",
    "df_train4 = pd.get_dummies(df_train4)\n"
   ]
  },
  {
   "cell_type": "code",
   "execution_count": 126,
   "metadata": {
    "colab": {
     "autoexec": {
      "startup": false,
      "wait_interval": 0
     },
     "base_uri": "https://localhost:8080/",
     "height": 261
    },
    "colab_type": "code",
    "executionInfo": {
     "elapsed": 671,
     "status": "ok",
     "timestamp": 1524433226146,
     "user": {
      "displayName": "Ben B",
      "photoUrl": "//lh3.googleusercontent.com/-G29XISVoSqE/AAAAAAAAAAI/AAAAAAAAAOM/gok8ZqPgdyo/s50-c-k-no/photo.jpg",
      "userId": "104324383755394097825"
     },
     "user_tz": 240
    },
    "id": "W-_zKppCOKfM",
    "outputId": "95c01cc7-3785-401b-b34e-3f7d69d1363d"
   },
   "outputs": [
    {
     "data": {
      "text/html": [
       "<div>\n",
       "<style scoped>\n",
       "    .dataframe tbody tr th:only-of-type {\n",
       "        vertical-align: middle;\n",
       "    }\n",
       "\n",
       "    .dataframe tbody tr th {\n",
       "        vertical-align: top;\n",
       "    }\n",
       "\n",
       "    .dataframe thead th {\n",
       "        text-align: right;\n",
       "    }\n",
       "</style>\n",
       "<table border=\"1\" class=\"dataframe\">\n",
       "  <thead>\n",
       "    <tr style=\"text-align: right;\">\n",
       "      <th></th>\n",
       "      <th>Survived</th>\n",
       "      <th>HasFamilyOnboard</th>\n",
       "      <th>HasCabin</th>\n",
       "      <th>FareRange_(0, 8]</th>\n",
       "      <th>FareRange_(8, 13]</th>\n",
       "      <th>FareRange_(13, 26]</th>\n",
       "      <th>FareRange_(26, 60]</th>\n",
       "      <th>FareRange_(60, 110]</th>\n",
       "      <th>FareRange_(110, 150]</th>\n",
       "      <th>FareRange_(150, 600]</th>\n",
       "      <th>...</th>\n",
       "      <th>ClassSexAge_3male(30, 35]</th>\n",
       "      <th>ClassSexAge_3male(35, 40]</th>\n",
       "      <th>ClassSexAge_3male(40, 45]</th>\n",
       "      <th>ClassSexAge_3male(45, 50]</th>\n",
       "      <th>ClassSexAge_3male(5, 10]</th>\n",
       "      <th>ClassSexAge_3male(50, 55]</th>\n",
       "      <th>ClassSexAge_3male(55, 60]</th>\n",
       "      <th>ClassSexAge_3male(60, 65]</th>\n",
       "      <th>ClassSexAge_3male(70, 75]</th>\n",
       "      <th>ClassSexAge_3malenan</th>\n",
       "    </tr>\n",
       "  </thead>\n",
       "  <tbody>\n",
       "    <tr>\n",
       "      <th>0</th>\n",
       "      <td>1</td>\n",
       "      <td>0</td>\n",
       "      <td>1.0</td>\n",
       "      <td>0</td>\n",
       "      <td>0</td>\n",
       "      <td>0</td>\n",
       "      <td>0</td>\n",
       "      <td>1</td>\n",
       "      <td>0</td>\n",
       "      <td>0</td>\n",
       "      <td>...</td>\n",
       "      <td>0</td>\n",
       "      <td>0</td>\n",
       "      <td>0</td>\n",
       "      <td>0</td>\n",
       "      <td>0</td>\n",
       "      <td>0</td>\n",
       "      <td>0</td>\n",
       "      <td>0</td>\n",
       "      <td>0</td>\n",
       "      <td>0</td>\n",
       "    </tr>\n",
       "    <tr>\n",
       "      <th>1</th>\n",
       "      <td>1</td>\n",
       "      <td>1</td>\n",
       "      <td>0.0</td>\n",
       "      <td>0</td>\n",
       "      <td>0</td>\n",
       "      <td>1</td>\n",
       "      <td>0</td>\n",
       "      <td>0</td>\n",
       "      <td>0</td>\n",
       "      <td>0</td>\n",
       "      <td>...</td>\n",
       "      <td>0</td>\n",
       "      <td>0</td>\n",
       "      <td>0</td>\n",
       "      <td>0</td>\n",
       "      <td>0</td>\n",
       "      <td>0</td>\n",
       "      <td>0</td>\n",
       "      <td>0</td>\n",
       "      <td>0</td>\n",
       "      <td>0</td>\n",
       "    </tr>\n",
       "    <tr>\n",
       "      <th>2</th>\n",
       "      <td>0</td>\n",
       "      <td>0</td>\n",
       "      <td>0.0</td>\n",
       "      <td>1</td>\n",
       "      <td>0</td>\n",
       "      <td>0</td>\n",
       "      <td>0</td>\n",
       "      <td>0</td>\n",
       "      <td>0</td>\n",
       "      <td>0</td>\n",
       "      <td>...</td>\n",
       "      <td>0</td>\n",
       "      <td>0</td>\n",
       "      <td>0</td>\n",
       "      <td>0</td>\n",
       "      <td>0</td>\n",
       "      <td>0</td>\n",
       "      <td>0</td>\n",
       "      <td>0</td>\n",
       "      <td>0</td>\n",
       "      <td>0</td>\n",
       "    </tr>\n",
       "    <tr>\n",
       "      <th>3</th>\n",
       "      <td>0</td>\n",
       "      <td>0</td>\n",
       "      <td>0.0</td>\n",
       "      <td>1</td>\n",
       "      <td>0</td>\n",
       "      <td>0</td>\n",
       "      <td>0</td>\n",
       "      <td>0</td>\n",
       "      <td>0</td>\n",
       "      <td>0</td>\n",
       "      <td>...</td>\n",
       "      <td>0</td>\n",
       "      <td>0</td>\n",
       "      <td>0</td>\n",
       "      <td>0</td>\n",
       "      <td>0</td>\n",
       "      <td>0</td>\n",
       "      <td>0</td>\n",
       "      <td>0</td>\n",
       "      <td>0</td>\n",
       "      <td>0</td>\n",
       "    </tr>\n",
       "    <tr>\n",
       "      <th>4</th>\n",
       "      <td>0</td>\n",
       "      <td>0</td>\n",
       "      <td>0.0</td>\n",
       "      <td>1</td>\n",
       "      <td>0</td>\n",
       "      <td>0</td>\n",
       "      <td>0</td>\n",
       "      <td>0</td>\n",
       "      <td>0</td>\n",
       "      <td>0</td>\n",
       "      <td>...</td>\n",
       "      <td>1</td>\n",
       "      <td>0</td>\n",
       "      <td>0</td>\n",
       "      <td>0</td>\n",
       "      <td>0</td>\n",
       "      <td>0</td>\n",
       "      <td>0</td>\n",
       "      <td>0</td>\n",
       "      <td>0</td>\n",
       "      <td>0</td>\n",
       "    </tr>\n",
       "  </tbody>\n",
       "</table>\n",
       "<p>5 rows × 103 columns</p>\n",
       "</div>"
      ],
      "text/plain": [
       "   Survived  HasFamilyOnboard  HasCabin  FareRange_(0, 8]  FareRange_(8, 13]  \\\n",
       "0         1                 0       1.0                 0                  0   \n",
       "1         1                 1       0.0                 0                  0   \n",
       "2         0                 0       0.0                 1                  0   \n",
       "3         0                 0       0.0                 1                  0   \n",
       "4         0                 0       0.0                 1                  0   \n",
       "\n",
       "   FareRange_(13, 26]  FareRange_(26, 60]  FareRange_(60, 110]  \\\n",
       "0                   0                   0                    1   \n",
       "1                   1                   0                    0   \n",
       "2                   0                   0                    0   \n",
       "3                   0                   0                    0   \n",
       "4                   0                   0                    0   \n",
       "\n",
       "   FareRange_(110, 150]  FareRange_(150, 600]          ...           \\\n",
       "0                     0                     0          ...            \n",
       "1                     0                     0          ...            \n",
       "2                     0                     0          ...            \n",
       "3                     0                     0          ...            \n",
       "4                     0                     0          ...            \n",
       "\n",
       "   ClassSexAge_3male(30, 35]  ClassSexAge_3male(35, 40]  \\\n",
       "0                          0                          0   \n",
       "1                          0                          0   \n",
       "2                          0                          0   \n",
       "3                          0                          0   \n",
       "4                          1                          0   \n",
       "\n",
       "   ClassSexAge_3male(40, 45]  ClassSexAge_3male(45, 50]  \\\n",
       "0                          0                          0   \n",
       "1                          0                          0   \n",
       "2                          0                          0   \n",
       "3                          0                          0   \n",
       "4                          0                          0   \n",
       "\n",
       "   ClassSexAge_3male(5, 10]  ClassSexAge_3male(50, 55]  \\\n",
       "0                         0                          0   \n",
       "1                         0                          0   \n",
       "2                         0                          0   \n",
       "3                         0                          0   \n",
       "4                         0                          0   \n",
       "\n",
       "   ClassSexAge_3male(55, 60]  ClassSexAge_3male(60, 65]  \\\n",
       "0                          0                          0   \n",
       "1                          0                          0   \n",
       "2                          0                          0   \n",
       "3                          0                          0   \n",
       "4                          0                          0   \n",
       "\n",
       "   ClassSexAge_3male(70, 75]  ClassSexAge_3malenan  \n",
       "0                          0                     0  \n",
       "1                          0                     0  \n",
       "2                          0                     0  \n",
       "3                          0                     0  \n",
       "4                          0                     0  \n",
       "\n",
       "[5 rows x 103 columns]"
      ]
     },
     "execution_count": 126,
     "metadata": {
      "tags": []
     },
     "output_type": "execute_result"
    }
   ],
   "source": [
    "df_train4.head()"
   ]
  },
  {
   "cell_type": "markdown",
   "metadata": {
    "colab_type": "text",
    "id": "wfAHKVsRW60I"
   },
   "source": [
    "#### Final Data Prep for Modeling"
   ]
  },
  {
   "cell_type": "markdown",
   "metadata": {
    "colab_type": "text",
    "id": "usJu4P-Dv9P2"
   },
   "source": [
    "First, I need to prep my test data exactly the way I did my train data.  This time I use the original, unsplit test file."
   ]
  },
  {
   "cell_type": "code",
   "execution_count": 0,
   "metadata": {
    "colab": {
     "autoexec": {
      "startup": false,
      "wait_interval": 0
     }
    },
    "colab_type": "code",
    "collapsed": true,
    "id": "xV_8stT-YaOm"
   },
   "outputs": [],
   "source": [
    "\n",
    "# TEST DATA\n",
    "\n",
    "# Create df with only passengers that have age so we can get averages.\n",
    "df_testAge = df_test.loc[df_test['Age'].isnull() == 0].copy(deep=True)\n",
    "\n",
    "# Create new df that groups columns and gets average age by group.\n",
    "# reset_index reverts the output back to a table that can be easily joined.  Otherwise,. the indexes would be offset.\n",
    "df_testAge2 = df_testAge[['Sex', 'SibSp', 'Parch', 'Pclass', 'Age']].groupby(['Sex', 'SibSp', 'Parch', 'Pclass']).mean().reset_index()\n",
    "\n",
    "# Merge the new average column back in with the others.\n",
    "df_test3 = pd.merge(left=df_test, right=df_testAge2, how='left', on=['Sex', 'SibSp', 'Parch', 'Pclass'])\n",
    "\n",
    "# Update Age column with the average is the Age column is null.\n",
    "df_test3['Age_x'] = np.where(df_test3['Age_x'].isnull(),df_test3['Age_y'], df_test3['Age_x'])\n",
    "\n",
    "\n",
    "# Clean up by dropping Age_y and renaming Age_x to Age.\n",
    "df_test3.drop(labels=['Age_y'], inplace=True, axis=1)\n",
    "df_test3 = df_test3.rename(columns={'Age_x':'Age'})\n",
    "\n",
    "# Create bins for Fare.\n",
    "df_test3['FareRange'] = pd.cut(df_test3['Fare'], [0, 8, 13, 26, 60, 110, 150, 600])\n",
    "\n",
    "# Set gender to a binary.\n",
    "df_test3.loc[df_test3['Sex'] == 'female', 'IsMale'] = 0\n",
    "df_test3.loc[df_test3['Sex'] == 'male', 'IsMale'] = 1\n",
    "\n",
    "\n",
    "# Create bins for Age.\n",
    "df_test3['AgeRange'] = pd.cut(df_test3['Age'], [0,5,10,15,20,25,30,35,40,45,50,55,60,65,70,75,80,85]);\n",
    "\n",
    "# Create variable to put AgeRange, Pclass and Sex into categories.\n",
    "df_test3['ClassSexAge'] = df_test3['Pclass'].astype(str) + df_test3['Sex'] + df_test3['AgeRange'].astype(str)\n",
    "\n",
    "\n",
    "# Set flag to determine if passenger has any family on board or none.\n",
    "df_test3['HasFamilyOnboard'] = np.where((df_test3['SibSp'] + df_test3['Parch']) > 0, 1, 0) \n",
    "\n",
    "\n",
    "# Set binary to determine if passenger has a cabin or not.\n",
    "df_test3.loc[df_test3['Cabin'].isnull() == 1, 'HasCabin'] = 0\n",
    "df_test3.loc[df_test3['Cabin'].isnull() == 0, 'HasCabin'] = 1\n",
    "\n",
    "\n",
    "# First, drop columns I don't need.\n",
    "\n",
    "df_test4 = df_test3.copy(deep=True)\n",
    "\n",
    "# Keep PassengerID this time so we can rejoin the prediction to the file\n",
    "df_test4.drop(labels=['Pclass', 'Name', 'Sex', 'Age', 'SibSp', 'Parch', 'Ticket', 'Fare', 'Cabin', 'Embarked', 'IsMale'], inplace=True, axis=1)\n",
    "\n",
    "df_test4 = pd.get_dummies(df_test4)"
   ]
  },
  {
   "cell_type": "code",
   "execution_count": 206,
   "metadata": {
    "colab": {
     "autoexec": {
      "startup": false,
      "wait_interval": 0
     },
     "base_uri": "https://localhost:8080/",
     "height": 261
    },
    "colab_type": "code",
    "executionInfo": {
     "elapsed": 764,
     "status": "ok",
     "timestamp": 1524441239198,
     "user": {
      "displayName": "Ben B",
      "photoUrl": "//lh3.googleusercontent.com/-G29XISVoSqE/AAAAAAAAAAI/AAAAAAAAAOM/gok8ZqPgdyo/s50-c-k-no/photo.jpg",
      "userId": "104324383755394097825"
     },
     "user_tz": 240
    },
    "id": "kukSIhOzvhrO",
    "outputId": "4492d790-4207-4102-8b7b-e64e9d117d28"
   },
   "outputs": [
    {
     "data": {
      "text/html": [
       "<div>\n",
       "<style scoped>\n",
       "    .dataframe tbody tr th:only-of-type {\n",
       "        vertical-align: middle;\n",
       "    }\n",
       "\n",
       "    .dataframe tbody tr th {\n",
       "        vertical-align: top;\n",
       "    }\n",
       "\n",
       "    .dataframe thead th {\n",
       "        text-align: right;\n",
       "    }\n",
       "</style>\n",
       "<table border=\"1\" class=\"dataframe\">\n",
       "  <thead>\n",
       "    <tr style=\"text-align: right;\">\n",
       "      <th></th>\n",
       "      <th>PassengerId</th>\n",
       "      <th>HasFamilyOnboard</th>\n",
       "      <th>HasCabin</th>\n",
       "      <th>FareRange_(0, 8]</th>\n",
       "      <th>FareRange_(8, 13]</th>\n",
       "      <th>FareRange_(13, 26]</th>\n",
       "      <th>FareRange_(26, 60]</th>\n",
       "      <th>FareRange_(60, 110]</th>\n",
       "      <th>FareRange_(110, 150]</th>\n",
       "      <th>FareRange_(150, 600]</th>\n",
       "      <th>...</th>\n",
       "      <th>ClassSexAge_3male(15, 20]</th>\n",
       "      <th>ClassSexAge_3male(20, 25]</th>\n",
       "      <th>ClassSexAge_3male(25, 30]</th>\n",
       "      <th>ClassSexAge_3male(30, 35]</th>\n",
       "      <th>ClassSexAge_3male(35, 40]</th>\n",
       "      <th>ClassSexAge_3male(40, 45]</th>\n",
       "      <th>ClassSexAge_3male(45, 50]</th>\n",
       "      <th>ClassSexAge_3male(5, 10]</th>\n",
       "      <th>ClassSexAge_3male(60, 65]</th>\n",
       "      <th>ClassSexAge_3malenan</th>\n",
       "    </tr>\n",
       "  </thead>\n",
       "  <tbody>\n",
       "    <tr>\n",
       "      <th>0</th>\n",
       "      <td>892</td>\n",
       "      <td>0</td>\n",
       "      <td>0.0</td>\n",
       "      <td>1</td>\n",
       "      <td>0</td>\n",
       "      <td>0</td>\n",
       "      <td>0</td>\n",
       "      <td>0</td>\n",
       "      <td>0</td>\n",
       "      <td>0</td>\n",
       "      <td>...</td>\n",
       "      <td>0</td>\n",
       "      <td>0</td>\n",
       "      <td>0</td>\n",
       "      <td>1</td>\n",
       "      <td>0</td>\n",
       "      <td>0</td>\n",
       "      <td>0</td>\n",
       "      <td>0</td>\n",
       "      <td>0</td>\n",
       "      <td>0</td>\n",
       "    </tr>\n",
       "    <tr>\n",
       "      <th>1</th>\n",
       "      <td>893</td>\n",
       "      <td>1</td>\n",
       "      <td>0.0</td>\n",
       "      <td>1</td>\n",
       "      <td>0</td>\n",
       "      <td>0</td>\n",
       "      <td>0</td>\n",
       "      <td>0</td>\n",
       "      <td>0</td>\n",
       "      <td>0</td>\n",
       "      <td>...</td>\n",
       "      <td>0</td>\n",
       "      <td>0</td>\n",
       "      <td>0</td>\n",
       "      <td>0</td>\n",
       "      <td>0</td>\n",
       "      <td>0</td>\n",
       "      <td>0</td>\n",
       "      <td>0</td>\n",
       "      <td>0</td>\n",
       "      <td>0</td>\n",
       "    </tr>\n",
       "    <tr>\n",
       "      <th>2</th>\n",
       "      <td>894</td>\n",
       "      <td>0</td>\n",
       "      <td>0.0</td>\n",
       "      <td>0</td>\n",
       "      <td>1</td>\n",
       "      <td>0</td>\n",
       "      <td>0</td>\n",
       "      <td>0</td>\n",
       "      <td>0</td>\n",
       "      <td>0</td>\n",
       "      <td>...</td>\n",
       "      <td>0</td>\n",
       "      <td>0</td>\n",
       "      <td>0</td>\n",
       "      <td>0</td>\n",
       "      <td>0</td>\n",
       "      <td>0</td>\n",
       "      <td>0</td>\n",
       "      <td>0</td>\n",
       "      <td>0</td>\n",
       "      <td>0</td>\n",
       "    </tr>\n",
       "    <tr>\n",
       "      <th>3</th>\n",
       "      <td>895</td>\n",
       "      <td>0</td>\n",
       "      <td>0.0</td>\n",
       "      <td>0</td>\n",
       "      <td>1</td>\n",
       "      <td>0</td>\n",
       "      <td>0</td>\n",
       "      <td>0</td>\n",
       "      <td>0</td>\n",
       "      <td>0</td>\n",
       "      <td>...</td>\n",
       "      <td>0</td>\n",
       "      <td>0</td>\n",
       "      <td>1</td>\n",
       "      <td>0</td>\n",
       "      <td>0</td>\n",
       "      <td>0</td>\n",
       "      <td>0</td>\n",
       "      <td>0</td>\n",
       "      <td>0</td>\n",
       "      <td>0</td>\n",
       "    </tr>\n",
       "    <tr>\n",
       "      <th>4</th>\n",
       "      <td>896</td>\n",
       "      <td>1</td>\n",
       "      <td>0.0</td>\n",
       "      <td>0</td>\n",
       "      <td>1</td>\n",
       "      <td>0</td>\n",
       "      <td>0</td>\n",
       "      <td>0</td>\n",
       "      <td>0</td>\n",
       "      <td>0</td>\n",
       "      <td>...</td>\n",
       "      <td>0</td>\n",
       "      <td>0</td>\n",
       "      <td>0</td>\n",
       "      <td>0</td>\n",
       "      <td>0</td>\n",
       "      <td>0</td>\n",
       "      <td>0</td>\n",
       "      <td>0</td>\n",
       "      <td>0</td>\n",
       "      <td>0</td>\n",
       "    </tr>\n",
       "  </tbody>\n",
       "</table>\n",
       "<p>5 rows × 96 columns</p>\n",
       "</div>"
      ],
      "text/plain": [
       "   PassengerId  HasFamilyOnboard  HasCabin  FareRange_(0, 8]  \\\n",
       "0          892                 0       0.0                 1   \n",
       "1          893                 1       0.0                 1   \n",
       "2          894                 0       0.0                 0   \n",
       "3          895                 0       0.0                 0   \n",
       "4          896                 1       0.0                 0   \n",
       "\n",
       "   FareRange_(8, 13]  FareRange_(13, 26]  FareRange_(26, 60]  \\\n",
       "0                  0                   0                   0   \n",
       "1                  0                   0                   0   \n",
       "2                  1                   0                   0   \n",
       "3                  1                   0                   0   \n",
       "4                  1                   0                   0   \n",
       "\n",
       "   FareRange_(60, 110]  FareRange_(110, 150]  FareRange_(150, 600]  \\\n",
       "0                    0                     0                     0   \n",
       "1                    0                     0                     0   \n",
       "2                    0                     0                     0   \n",
       "3                    0                     0                     0   \n",
       "4                    0                     0                     0   \n",
       "\n",
       "           ...           ClassSexAge_3male(15, 20]  ClassSexAge_3male(20, 25]  \\\n",
       "0          ...                                   0                          0   \n",
       "1          ...                                   0                          0   \n",
       "2          ...                                   0                          0   \n",
       "3          ...                                   0                          0   \n",
       "4          ...                                   0                          0   \n",
       "\n",
       "   ClassSexAge_3male(25, 30]  ClassSexAge_3male(30, 35]  \\\n",
       "0                          0                          1   \n",
       "1                          0                          0   \n",
       "2                          0                          0   \n",
       "3                          1                          0   \n",
       "4                          0                          0   \n",
       "\n",
       "   ClassSexAge_3male(35, 40]  ClassSexAge_3male(40, 45]  \\\n",
       "0                          0                          0   \n",
       "1                          0                          0   \n",
       "2                          0                          0   \n",
       "3                          0                          0   \n",
       "4                          0                          0   \n",
       "\n",
       "   ClassSexAge_3male(45, 50]  ClassSexAge_3male(5, 10]  \\\n",
       "0                          0                         0   \n",
       "1                          0                         0   \n",
       "2                          0                         0   \n",
       "3                          0                         0   \n",
       "4                          0                         0   \n",
       "\n",
       "   ClassSexAge_3male(60, 65]  ClassSexAge_3malenan  \n",
       "0                          0                     0  \n",
       "1                          0                     0  \n",
       "2                          0                     0  \n",
       "3                          0                     0  \n",
       "4                          0                     0  \n",
       "\n",
       "[5 rows x 96 columns]"
      ]
     },
     "execution_count": 206,
     "metadata": {
      "tags": []
     },
     "output_type": "execute_result"
    }
   ],
   "source": [
    "df_test4.head()"
   ]
  },
  {
   "cell_type": "markdown",
   "metadata": {
    "colab_type": "text",
    "id": "mRvjEwayxMFE"
   },
   "source": [
    "Now we can prep for the modeling."
   ]
  },
  {
   "cell_type": "code",
   "execution_count": 0,
   "metadata": {
    "colab": {
     "autoexec": {
      "startup": false,
      "wait_interval": 0
     }
    },
    "colab_type": "code",
    "collapsed": true,
    "id": "7aaOk052OKhz"
   },
   "outputs": [],
   "source": [
    "# Create an array with all of the predictors I want (Be sure to exclude the target!).\n",
    "data_variables=df_train4.columns.values.tolist()\n",
    "t = ['Survived']\n",
    "cols=[i for i in data_variables if i not in t]\n",
    "\n",
    "# Use the array I just created wih the column names to prep my input for my model, separating predictors and target.\n",
    "# Note:  This is a very common format using big-X for my predictors and small-y for my target.\n",
    "\n",
    "X=df_train4[cols]\n",
    "y=df_train4[t]\n"
   ]
  },
  {
   "cell_type": "code",
   "execution_count": 0,
   "metadata": {
    "colab": {
     "autoexec": {
      "startup": false,
      "wait_interval": 0
     }
    },
    "colab_type": "code",
    "collapsed": true,
    "id": "SkprFWxOYcot"
   },
   "outputs": [],
   "source": [
    "X = X.astype('float64')\n",
    "y = y.astype('float64')"
   ]
  },
  {
   "cell_type": "markdown",
   "metadata": {
    "colab_type": "text",
    "id": "lIZJkEGlUhsR"
   },
   "source": [
    "### Logistic Regression with SKLearn.\n",
    "\n",
    "The first one is just to show what my training data got me.  The second one gives me my actual predictions."
   ]
  },
  {
   "cell_type": "code",
   "execution_count": 207,
   "metadata": {
    "colab": {
     "autoexec": {
      "startup": false,
      "wait_interval": 0
     },
     "base_uri": "https://localhost:8080/",
     "height": 71
    },
    "colab_type": "code",
    "executionInfo": {
     "elapsed": 778,
     "status": "ok",
     "timestamp": 1524441305335,
     "user": {
      "displayName": "Ben B",
      "photoUrl": "//lh3.googleusercontent.com/-G29XISVoSqE/AAAAAAAAAAI/AAAAAAAAAOM/gok8ZqPgdyo/s50-c-k-no/photo.jpg",
      "userId": "104324383755394097825"
     },
     "user_tz": 240
    },
    "id": "R_dPrTrIUuGD",
    "outputId": "284c5042-396f-4dae-f9a5-ead9cab9f5d6"
   },
   "outputs": [
    {
     "name": "stderr",
     "output_type": "stream",
     "text": [
      "/usr/local/lib/python3.6/dist-packages/sklearn/utils/validation.py:578: DataConversionWarning: A column-vector y was passed when a 1d array was expected. Please change the shape of y to (n_samples, ), for example using ravel().\n",
      "  y = column_or_1d(y, warn=True)\n"
     ]
    }
   ],
   "source": [
    "from sklearn.linear_model import LogisticRegression\n",
    "from sklearn import metrics\n",
    "logreg = LogisticRegression()\n",
    "logreg.fit(X, y)\n",
    "y_pred = logreg.predict(X)\n"
   ]
  },
  {
   "cell_type": "code",
   "execution_count": 208,
   "metadata": {
    "colab": {
     "autoexec": {
      "startup": false,
      "wait_interval": 0
     },
     "base_uri": "https://localhost:8080/",
     "height": 34
    },
    "colab_type": "code",
    "executionInfo": {
     "elapsed": 981,
     "status": "ok",
     "timestamp": 1524441317557,
     "user": {
      "displayName": "Ben B",
      "photoUrl": "//lh3.googleusercontent.com/-G29XISVoSqE/AAAAAAAAAAI/AAAAAAAAAOM/gok8ZqPgdyo/s50-c-k-no/photo.jpg",
      "userId": "104324383755394097825"
     },
     "user_tz": 240
    },
    "id": "yYnK4fHPUuI0",
    "outputId": "7a3f8dbf-ea01-4ccb-d99e-47360bb33cac"
   },
   "outputs": [
    {
     "name": "stdout",
     "output_type": "stream",
     "text": [
      "Accuracy of logistic regression classifier on train set: 0.85\n"
     ]
    }
   ],
   "source": [
    "print('Accuracy of logistic regression classifier on train set: {:.2f}'.format(logreg.score(X, y)))"
   ]
  },
  {
   "cell_type": "code",
   "execution_count": 203,
   "metadata": {
    "colab": {
     "autoexec": {
      "startup": false,
      "wait_interval": 0
     },
     "base_uri": "https://localhost:8080/",
     "height": 51
    },
    "colab_type": "code",
    "executionInfo": {
     "elapsed": 639,
     "status": "ok",
     "timestamp": 1524441137400,
     "user": {
      "displayName": "Ben B",
      "photoUrl": "//lh3.googleusercontent.com/-G29XISVoSqE/AAAAAAAAAAI/AAAAAAAAAOM/gok8ZqPgdyo/s50-c-k-no/photo.jpg",
      "userId": "104324383755394097825"
     },
     "user_tz": 240
    },
    "id": "cbXiQKWSUuL8",
    "outputId": "f04227f5-21b1-46a9-c5c6-8c472ec887ca"
   },
   "outputs": [
    {
     "name": "stdout",
     "output_type": "stream",
     "text": [
      "[[337  26]\n",
      " [ 66 167]]\n"
     ]
    }
   ],
   "source": [
    "from sklearn.metrics import confusion_matrix\n",
    "confusion_matrix = confusion_matrix(y, y_pred)\n",
    "print(confusion_matrix)"
   ]
  },
  {
   "cell_type": "code",
   "execution_count": 204,
   "metadata": {
    "colab": {
     "autoexec": {
      "startup": false,
      "wait_interval": 0
     },
     "base_uri": "https://localhost:8080/",
     "height": 294
    },
    "colab_type": "code",
    "executionInfo": {
     "elapsed": 1154,
     "status": "ok",
     "timestamp": 1524441141557,
     "user": {
      "displayName": "Ben B",
      "photoUrl": "//lh3.googleusercontent.com/-G29XISVoSqE/AAAAAAAAAAI/AAAAAAAAAOM/gok8ZqPgdyo/s50-c-k-no/photo.jpg",
      "userId": "104324383755394097825"
     },
     "user_tz": 240
    },
    "id": "NZ5JNMAdUuQY",
    "outputId": "6ebf9ed0-9332-44cd-d9ac-09aa911233ea"
   },
   "outputs": [
    {
     "data": {
      "image/png": "[encoded data removed]",
      "text/plain": [
       "<matplotlib.figure.Figure at 0x7f806d5ac048>"
      ]
     },
     "metadata": {
      "tags": []
     },
     "output_type": "display_data"
    }
   ],
   "source": [
    "# ROC Curve\n",
    "# The ROC curve measures the tradeoff between selecting as many True Positives as possible while avoiding False Positives.\n",
    "from sklearn.metrics import roc_auc_score\n",
    "from sklearn.metrics import roc_curve\n",
    "logit_roc_auc = roc_auc_score(y, logreg.predict(X))\n",
    "fpr, tpr, thresholds = roc_curve(y, logreg.predict_proba(X)[:,1])\n",
    "plt.figure()\n",
    "plt.plot(fpr, tpr, label='Logistic Regression (area = %0.2f)' % logit_roc_auc)\n",
    "plt.plot([0, 1], [0, 1],'r--')\n",
    "plt.xlim([0.0, 1.0])\n",
    "plt.ylim([0.0, 1.05])\n",
    "plt.xlabel('False Positive Rate')\n",
    "plt.ylabel('True Positive Rate')\n",
    "plt.title('Receiver operating characteristic')\n",
    "plt.legend(loc=\"lower right\")\n",
    "plt.savefig('Log_ROC')\n",
    "plt.show()"
   ]
  },
  {
   "cell_type": "markdown",
   "metadata": {
    "colab_type": "text",
    "id": "us8DHIcg5ukF"
   },
   "source": [
    "##### Final Model and Predictions"
   ]
  },
  {
   "cell_type": "code",
   "execution_count": 0,
   "metadata": {
    "colab": {
     "autoexec": {
      "startup": false,
      "wait_interval": 0
     }
    },
    "colab_type": "code",
    "collapsed": true,
    "id": "NYicwg_5zDXl"
   },
   "outputs": [],
   "source": [
    "# Find and drop any columns that are in one set and not the other.\n",
    "# There are some combinations of the ClassSexAge variable that are not in either the train or test files.  It will cause an error if I try to model with mismatched columns.\n",
    "\n",
    "traincols = X.columns\n",
    "testcols = df_test4.columns\n",
    "\n",
    "missingcols1 = list(set(traincols) - set(testcols))\n",
    "\n",
    "missingcols2 = list(set(testcols) - set(traincols))\n"
   ]
  },
  {
   "cell_type": "code",
   "execution_count": 241,
   "metadata": {
    "colab": {
     "autoexec": {
      "startup": false,
      "wait_interval": 0
     },
     "base_uri": "https://localhost:8080/",
     "height": 54
    },
    "colab_type": "code",
    "executionInfo": {
     "elapsed": 657,
     "status": "ok",
     "timestamp": 1524442945372,
     "user": {
      "displayName": "Ben B",
      "photoUrl": "//lh3.googleusercontent.com/-G29XISVoSqE/AAAAAAAAAAI/AAAAAAAAAOM/gok8ZqPgdyo/s50-c-k-no/photo.jpg",
      "userId": "104324383755394097825"
     },
     "user_tz": 240
    },
    "id": "4iJ-LqeX290i",
    "outputId": "86d22280-5a41-40b7-9368-8b7d24b48eb4"
   },
   "outputs": [
    {
     "name": "stdout",
     "output_type": "stream",
     "text": [
      "['ClassSexAge_1male(0, 5]', 'ClassSexAge_1male(75, 80]', 'ClassSexAge_3female(10, 15]', 'ClassSexAge_3male(55, 60]', 'ClassSexAge_3male(50, 55]', 'ClassSexAge_2male(50, 55]', 'ClassSexAge_1female(0, 5]', 'ClassSexAge_3female(60, 65]', 'ClassSexAge_1male(70, 75]', 'ClassSexAge_2male(65, 70]', 'ClassSexAge_3male(70, 75]']\n"
     ]
    }
   ],
   "source": [
    "\n",
    "print(missingcols1)"
   ]
  },
  {
   "cell_type": "code",
   "execution_count": 242,
   "metadata": {
    "colab": {
     "autoexec": {
      "startup": false,
      "wait_interval": 0
     },
     "base_uri": "https://localhost:8080/",
     "height": 34
    },
    "colab_type": "code",
    "executionInfo": {
     "elapsed": 759,
     "status": "ok",
     "timestamp": 1524442964909,
     "user": {
      "displayName": "Ben B",
      "photoUrl": "//lh3.googleusercontent.com/-G29XISVoSqE/AAAAAAAAAAI/AAAAAAAAAOM/gok8ZqPgdyo/s50-c-k-no/photo.jpg",
      "userId": "104324383755394097825"
     },
     "user_tz": 240
    },
    "id": "FfJkGlGO4Xrm",
    "outputId": "219716c2-3a8f-4521-bf63-a4543f6b6175"
   },
   "outputs": [
    {
     "name": "stdout",
     "output_type": "stream",
     "text": [
      "['ClassSexAge_2male(10, 15]', 'ClassSexAge_1female(75, 80]', 'PassengerId', 'ClassSexAge_1male(5, 10]', 'ClassSexAge_1male(65, 70]']\n"
     ]
    }
   ],
   "source": [
    "print(missingcols2)"
   ]
  },
  {
   "cell_type": "code",
   "execution_count": 0,
   "metadata": {
    "colab": {
     "autoexec": {
      "startup": false,
      "wait_interval": 0
     }
    },
    "colab_type": "code",
    "collapsed": true,
    "id": "erHnIoLx6uFs"
   },
   "outputs": [],
   "source": [
    "\n",
    "X.drop(labels=['ClassSexAge_1male(0, 5]', 'ClassSexAge_1male(75, 80]', 'ClassSexAge_3female(10, 15]', 'ClassSexAge_3male(55, 60]', 'ClassSexAge_3male(50, 55]', 'ClassSexAge_2male(50, 55]', 'ClassSexAge_1female(0, 5]', 'ClassSexAge_3female(60, 65]', 'ClassSexAge_1male(70, 75]', 'ClassSexAge_2male(65, 70]', 'ClassSexAge_3male(70, 75]'], inplace=True, axis=1)\n",
    "\n",
    "df_test4.drop(labels=['ClassSexAge_2male(10, 15]', 'ClassSexAge_1female(75, 80]', 'PassengerId', 'ClassSexAge_1male(5, 10]', 'ClassSexAge_1male(65, 70]'], inplace=True, axis=1)\n",
    "\n"
   ]
  },
  {
   "cell_type": "code",
   "execution_count": 250,
   "metadata": {
    "colab": {
     "autoexec": {
      "startup": false,
      "wait_interval": 0
     },
     "base_uri": "https://localhost:8080/",
     "height": 87
    },
    "colab_type": "code",
    "executionInfo": {
     "elapsed": 668,
     "status": "ok",
     "timestamp": 1524443864857,
     "user": {
      "displayName": "Ben B",
      "photoUrl": "//lh3.googleusercontent.com/-G29XISVoSqE/AAAAAAAAAAI/AAAAAAAAAOM/gok8ZqPgdyo/s50-c-k-no/photo.jpg",
      "userId": "104324383755394097825"
     },
     "user_tz": 240
    },
    "id": "x6OArOZtzDp9",
    "outputId": "3c0550b7-2a2b-4370-9c5c-8e5e47ab407b"
   },
   "outputs": [
    {
     "name": "stderr",
     "output_type": "stream",
     "text": [
      "/usr/local/lib/python3.6/dist-packages/sklearn/utils/validation.py:578: DataConversionWarning: A column-vector y was passed when a 1d array was expected. Please change the shape of y to (n_samples, ), for example using ravel().\n",
      "  y = column_or_1d(y, warn=True)\n"
     ]
    },
    {
     "data": {
      "text/plain": [
       "84.56"
      ]
     },
     "execution_count": 250,
     "metadata": {
      "tags": []
     },
     "output_type": "execute_result"
    }
   ],
   "source": [
    "# Setting what we created above to a more recognizable name.\n",
    "X_test = df_test4\n",
    "\n",
    "  # NOTE: I'm using the same X and y from above, but with the mismatched columns removed from X.\n",
    "\n",
    "# This will run the model and give me an accuracy score at the bottom.\n",
    "logreg = LogisticRegression()\n",
    "logreg.fit(X, y)\n",
    "Y_pred = logreg.predict(X_test)\n",
    "acc_log = round(logreg.score(X, y) * 100, 2)\n",
    "acc_log"
   ]
  },
  {
   "cell_type": "code",
   "execution_count": 0,
   "metadata": {
    "colab": {
     "autoexec": {
      "startup": false,
      "wait_interval": 0
     }
    },
    "colab_type": "code",
    "collapsed": true,
    "id": "rg0sbzUOUuTT"
   },
   "outputs": [],
   "source": [
    "logreg = LogisticRegression()\n",
    "logreg.fit(X, y)\n",
    "Y_pred = logreg.predict(X_test)\n",
    "acc_log = round(logreg.score(X_train, Y_train) * 100, 2)\n",
    "acc_log\n"
   ]
  },
  {
   "cell_type": "code",
   "execution_count": 0,
   "metadata": {
    "colab": {
     "autoexec": {
      "startup": false,
      "wait_interval": 0
     }
    },
    "colab_type": "code",
    "collapsed": true,
    "id": "JDVF8DNQOKrL"
   },
   "outputs": [],
   "source": [
    "# Prep my submission\n",
    "\n",
    "submission = pd.DataFrame({\n",
    "        \"PassengerId\": df_test[\"PassengerId\"],\n",
    "        \"Survived\": Y_pred\n",
    "    })\n",
    "\n",
    "submission.to_csv('TitanicSubmission.csv')\n",
    "\n",
    "# DOWNLOAD FILES FROM COLLABORATRORY\n",
    "files.download('TitanicSubmission.csv')\n"
   ]
  },
  {
   "cell_type": "code",
   "execution_count": 254,
   "metadata": {
    "colab": {
     "autoexec": {
      "startup": false,
      "wait_interval": 0
     },
     "base_uri": "https://localhost:8080/",
     "height": 1527
    },
    "colab_type": "code",
    "executionInfo": {
     "elapsed": 652,
     "status": "ok",
     "timestamp": 1524444087764,
     "user": {
      "displayName": "Ben B",
      "photoUrl": "//lh3.googleusercontent.com/-G29XISVoSqE/AAAAAAAAAAI/AAAAAAAAAOM/gok8ZqPgdyo/s50-c-k-no/photo.jpg",
      "userId": "104324383755394097825"
     },
     "user_tz": 240
    },
    "id": "psTkK9g2FB9k",
    "outputId": "b32ae3c0-d4d1-4983-cfb5-6828a65ec55b",
    "scrolled": true
   },
   "outputs": [
    {
     "data": {
      "text/html": [
       "<div>\n",
       "<style scoped>\n",
       "    .dataframe tbody tr th:only-of-type {\n",
       "        vertical-align: middle;\n",
       "    }\n",
       "\n",
       "    .dataframe tbody tr th {\n",
       "        vertical-align: top;\n",
       "    }\n",
       "\n",
       "    .dataframe thead th {\n",
       "        text-align: right;\n",
       "    }\n",
       "</style>\n",
       "<table border=\"1\" class=\"dataframe\">\n",
       "  <thead>\n",
       "    <tr style=\"text-align: right;\">\n",
       "      <th></th>\n",
       "      <th>PassengerId</th>\n",
       "      <th>Survived</th>\n",
       "    </tr>\n",
       "  </thead>\n",
       "  <tbody>\n",
       "    <tr>\n",
       "      <th>0</th>\n",
       "      <td>892</td>\n",
       "      <td>0.0</td>\n",
       "    </tr>\n",
       "    <tr>\n",
       "      <th>1</th>\n",
       "      <td>893</td>\n",
       "      <td>0.0</td>\n",
       "    </tr>\n",
       "    <tr>\n",
       "      <th>2</th>\n",
       "      <td>894</td>\n",
       "      <td>0.0</td>\n",
       "    </tr>\n",
       "    <tr>\n",
       "      <th>3</th>\n",
       "      <td>895</td>\n",
       "      <td>0.0</td>\n",
       "    </tr>\n",
       "    <tr>\n",
       "      <th>4</th>\n",
       "      <td>896</td>\n",
       "      <td>1.0</td>\n",
       "    </tr>\n",
       "    <tr>\n",
       "      <th>5</th>\n",
       "      <td>897</td>\n",
       "      <td>0.0</td>\n",
       "    </tr>\n",
       "    <tr>\n",
       "      <th>6</th>\n",
       "      <td>898</td>\n",
       "      <td>0.0</td>\n",
       "    </tr>\n",
       "    <tr>\n",
       "      <th>7</th>\n",
       "      <td>899</td>\n",
       "      <td>0.0</td>\n",
       "    </tr>\n",
       "    <tr>\n",
       "      <th>8</th>\n",
       "      <td>900</td>\n",
       "      <td>0.0</td>\n",
       "    </tr>\n",
       "    <tr>\n",
       "      <th>9</th>\n",
       "      <td>901</td>\n",
       "      <td>0.0</td>\n",
       "    </tr>\n",
       "    <tr>\n",
       "      <th>10</th>\n",
       "      <td>902</td>\n",
       "      <td>0.0</td>\n",
       "    </tr>\n",
       "    <tr>\n",
       "      <th>11</th>\n",
       "      <td>903</td>\n",
       "      <td>0.0</td>\n",
       "    </tr>\n",
       "    <tr>\n",
       "      <th>12</th>\n",
       "      <td>904</td>\n",
       "      <td>1.0</td>\n",
       "    </tr>\n",
       "    <tr>\n",
       "      <th>13</th>\n",
       "      <td>905</td>\n",
       "      <td>1.0</td>\n",
       "    </tr>\n",
       "    <tr>\n",
       "      <th>14</th>\n",
       "      <td>906</td>\n",
       "      <td>1.0</td>\n",
       "    </tr>\n",
       "    <tr>\n",
       "      <th>15</th>\n",
       "      <td>907</td>\n",
       "      <td>1.0</td>\n",
       "    </tr>\n",
       "    <tr>\n",
       "      <th>16</th>\n",
       "      <td>908</td>\n",
       "      <td>0.0</td>\n",
       "    </tr>\n",
       "    <tr>\n",
       "      <th>17</th>\n",
       "      <td>909</td>\n",
       "      <td>0.0</td>\n",
       "    </tr>\n",
       "    <tr>\n",
       "      <th>18</th>\n",
       "      <td>910</td>\n",
       "      <td>0.0</td>\n",
       "    </tr>\n",
       "    <tr>\n",
       "      <th>19</th>\n",
       "      <td>911</td>\n",
       "      <td>0.0</td>\n",
       "    </tr>\n",
       "    <tr>\n",
       "      <th>20</th>\n",
       "      <td>912</td>\n",
       "      <td>0.0</td>\n",
       "    </tr>\n",
       "    <tr>\n",
       "      <th>21</th>\n",
       "      <td>913</td>\n",
       "      <td>0.0</td>\n",
       "    </tr>\n",
       "    <tr>\n",
       "      <th>22</th>\n",
       "      <td>914</td>\n",
       "      <td>1.0</td>\n",
       "    </tr>\n",
       "    <tr>\n",
       "      <th>23</th>\n",
       "      <td>915</td>\n",
       "      <td>0.0</td>\n",
       "    </tr>\n",
       "    <tr>\n",
       "      <th>24</th>\n",
       "      <td>916</td>\n",
       "      <td>1.0</td>\n",
       "    </tr>\n",
       "    <tr>\n",
       "      <th>25</th>\n",
       "      <td>917</td>\n",
       "      <td>0.0</td>\n",
       "    </tr>\n",
       "    <tr>\n",
       "      <th>26</th>\n",
       "      <td>918</td>\n",
       "      <td>1.0</td>\n",
       "    </tr>\n",
       "    <tr>\n",
       "      <th>27</th>\n",
       "      <td>919</td>\n",
       "      <td>0.0</td>\n",
       "    </tr>\n",
       "    <tr>\n",
       "      <th>28</th>\n",
       "      <td>920</td>\n",
       "      <td>0.0</td>\n",
       "    </tr>\n",
       "    <tr>\n",
       "      <th>29</th>\n",
       "      <td>921</td>\n",
       "      <td>0.0</td>\n",
       "    </tr>\n",
       "    <tr>\n",
       "      <th>30</th>\n",
       "      <td>922</td>\n",
       "      <td>0.0</td>\n",
       "    </tr>\n",
       "    <tr>\n",
       "      <th>31</th>\n",
       "      <td>923</td>\n",
       "      <td>0.0</td>\n",
       "    </tr>\n",
       "    <tr>\n",
       "      <th>32</th>\n",
       "      <td>924</td>\n",
       "      <td>1.0</td>\n",
       "    </tr>\n",
       "    <tr>\n",
       "      <th>33</th>\n",
       "      <td>925</td>\n",
       "      <td>0.0</td>\n",
       "    </tr>\n",
       "    <tr>\n",
       "      <th>34</th>\n",
       "      <td>926</td>\n",
       "      <td>1.0</td>\n",
       "    </tr>\n",
       "    <tr>\n",
       "      <th>35</th>\n",
       "      <td>927</td>\n",
       "      <td>0.0</td>\n",
       "    </tr>\n",
       "    <tr>\n",
       "      <th>36</th>\n",
       "      <td>928</td>\n",
       "      <td>1.0</td>\n",
       "    </tr>\n",
       "    <tr>\n",
       "      <th>37</th>\n",
       "      <td>929</td>\n",
       "      <td>1.0</td>\n",
       "    </tr>\n",
       "    <tr>\n",
       "      <th>38</th>\n",
       "      <td>930</td>\n",
       "      <td>0.0</td>\n",
       "    </tr>\n",
       "    <tr>\n",
       "      <th>39</th>\n",
       "      <td>931</td>\n",
       "      <td>0.0</td>\n",
       "    </tr>\n",
       "    <tr>\n",
       "      <th>40</th>\n",
       "      <td>932</td>\n",
       "      <td>0.0</td>\n",
       "    </tr>\n",
       "    <tr>\n",
       "      <th>41</th>\n",
       "      <td>933</td>\n",
       "      <td>1.0</td>\n",
       "    </tr>\n",
       "    <tr>\n",
       "      <th>42</th>\n",
       "      <td>934</td>\n",
       "      <td>0.0</td>\n",
       "    </tr>\n",
       "    <tr>\n",
       "      <th>43</th>\n",
       "      <td>935</td>\n",
       "      <td>1.0</td>\n",
       "    </tr>\n",
       "    <tr>\n",
       "      <th>44</th>\n",
       "      <td>936</td>\n",
       "      <td>1.0</td>\n",
       "    </tr>\n",
       "    <tr>\n",
       "      <th>45</th>\n",
       "      <td>937</td>\n",
       "      <td>0.0</td>\n",
       "    </tr>\n",
       "    <tr>\n",
       "      <th>46</th>\n",
       "      <td>938</td>\n",
       "      <td>0.0</td>\n",
       "    </tr>\n",
       "    <tr>\n",
       "      <th>47</th>\n",
       "      <td>939</td>\n",
       "      <td>0.0</td>\n",
       "    </tr>\n",
       "    <tr>\n",
       "      <th>48</th>\n",
       "      <td>940</td>\n",
       "      <td>1.0</td>\n",
       "    </tr>\n",
       "    <tr>\n",
       "      <th>49</th>\n",
       "      <td>941</td>\n",
       "      <td>0.0</td>\n",
       "    </tr>\n",
       "  </tbody>\n",
       "</table>\n",
       "</div>"
      ],
      "text/plain": [
       "    PassengerId  Survived\n",
       "0           892       0.0\n",
       "1           893       0.0\n",
       "2           894       0.0\n",
       "3           895       0.0\n",
       "4           896       1.0\n",
       "5           897       0.0\n",
       "6           898       0.0\n",
       "7           899       0.0\n",
       "8           900       0.0\n",
       "9           901       0.0\n",
       "10          902       0.0\n",
       "11          903       0.0\n",
       "12          904       1.0\n",
       "13          905       1.0\n",
       "14          906       1.0\n",
       "15          907       1.0\n",
       "16          908       0.0\n",
       "17          909       0.0\n",
       "18          910       0.0\n",
       "19          911       0.0\n",
       "20          912       0.0\n",
       "21          913       0.0\n",
       "22          914       1.0\n",
       "23          915       0.0\n",
       "24          916       1.0\n",
       "25          917       0.0\n",
       "26          918       1.0\n",
       "27          919       0.0\n",
       "28          920       0.0\n",
       "29          921       0.0\n",
       "30          922       0.0\n",
       "31          923       0.0\n",
       "32          924       1.0\n",
       "33          925       0.0\n",
       "34          926       1.0\n",
       "35          927       0.0\n",
       "36          928       1.0\n",
       "37          929       1.0\n",
       "38          930       0.0\n",
       "39          931       0.0\n",
       "40          932       0.0\n",
       "41          933       1.0\n",
       "42          934       0.0\n",
       "43          935       1.0\n",
       "44          936       1.0\n",
       "45          937       0.0\n",
       "46          938       0.0\n",
       "47          939       0.0\n",
       "48          940       1.0\n",
       "49          941       0.0"
      ]
     },
     "execution_count": 254,
     "metadata": {
      "tags": []
     },
     "output_type": "execute_result"
    }
   ],
   "source": []
  },
  {
   "cell_type": "markdown",
   "metadata": {
    "colab_type": "text",
    "id": "HKWDSTHlFJBe"
   },
   "source": [
    "# Bob's Playground"
   ]
  },
  {
   "cell_type": "markdown",
   "metadata": {
    "colab_type": "text",
    "id": "6upRJTQOO0nk"
   },
   "source": [
    "**Examine who is crew, does this data set have crew members?**\n",
    "\n",
    "*Check out ship's officers*\n",
    "\n",
    "Edward John Smith was the commander of the Titanic.\n",
    "\n",
    "Henry Tingle Wilde was a lieutenant aboard the Titanic.\n",
    "\n",
    "William McMaster Murdoch was a lieutenant aboard the Titanic.\n",
    "\n",
    "Charles Herbert Lightroller was a lieutenant aboard the Titanic"
   ]
  },
  {
   "cell_type": "code",
   "execution_count": 33,
   "metadata": {
    "colab": {
     "autoexec": {
      "startup": false,
      "wait_interval": 0
     },
     "base_uri": "https://localhost:8080/",
     "height": 49
    },
    "colab_type": "code",
    "executionInfo": {
     "elapsed": 416,
     "status": "ok",
     "timestamp": 1524333864184,
     "user": {
      "displayName": "Robert Sullivan",
      "photoUrl": "https://lh3.googleusercontent.com/a/default-user=s128",
      "userId": "114220296581702706949"
     },
     "user_tz": 240
    },
    "id": "2MuJcrn_FCIf",
    "outputId": "c1e5bc0c-337b-47e2-eeb7-17b5eb101b12"
   },
   "outputs": [
    {
     "data": {
      "text/html": [
       "<div>\n",
       "<style scoped>\n",
       "    .dataframe tbody tr th:only-of-type {\n",
       "        vertical-align: middle;\n",
       "    }\n",
       "\n",
       "    .dataframe tbody tr th {\n",
       "        vertical-align: top;\n",
       "    }\n",
       "\n",
       "    .dataframe thead th {\n",
       "        text-align: right;\n",
       "    }\n",
       "</style>\n",
       "<table border=\"1\" class=\"dataframe\">\n",
       "  <thead>\n",
       "    <tr style=\"text-align: right;\">\n",
       "      <th></th>\n",
       "      <th>PassengerId</th>\n",
       "      <th>Pclass</th>\n",
       "      <th>Name</th>\n",
       "      <th>Sex</th>\n",
       "      <th>Age</th>\n",
       "      <th>SibSp</th>\n",
       "      <th>Parch</th>\n",
       "      <th>Ticket</th>\n",
       "      <th>Fare</th>\n",
       "      <th>Cabin</th>\n",
       "      <th>Embarked</th>\n",
       "    </tr>\n",
       "  </thead>\n",
       "  <tbody>\n",
       "  </tbody>\n",
       "</table>\n",
       "</div>"
      ],
      "text/plain": [
       "Empty DataFrame\n",
       "Columns: [PassengerId, Pclass, Name, Sex, Age, SibSp, Parch, Ticket, Fare, Cabin, Embarked]\n",
       "Index: []"
      ]
     },
     "execution_count": 33,
     "metadata": {
      "tags": []
     },
     "output_type": "execute_result"
    }
   ],
   "source": [
    "# str contains looks for values in a data frame, case= False\n",
    "# means we won't worry about case when looking for the pattern\n",
    "# to match.\n",
    "df_train[(df_train[\"Name\"]).str.contains(\"Smith\", case=\"False\")] \n",
    "df_train[(df_train[\"Name\"]).str.contains(\"Wilde\", case=\"False\")]\n",
    "df_train[(df_train[\"Name\"]).str.contains(\"Murdoch\", case=\"False\")]\n",
    "df_train[(df_train[\"Name\"]).str.contains(\"Lightroller\", case=\"False\")]"
   ]
  },
  {
   "cell_type": "markdown",
   "metadata": {
    "colab_type": "text",
    "id": "kzUH7FtjQ_uY"
   },
   "source": [
    "It doesn't appear that we have any ship officers in the dataset.\n",
    "\n",
    "*Check out the ship's deck crew*\n",
    "\n",
    "James and John Anderson were \"Able Seaman\" on the Titanic.\n",
    "\n",
    "Joseph Henry Bailey was the \"Master-at-arms\" on the Titanic.\n",
    "\n",
    "Walter Wynn was a \"Quartermaster\" on the Titanic."
   ]
  },
  {
   "cell_type": "code",
   "execution_count": 20,
   "metadata": {
    "colab": {
     "autoexec": {
      "startup": false,
      "wait_interval": 0
     },
     "base_uri": "https://localhost:8080/",
     "height": 49
    },
    "colab_type": "code",
    "executionInfo": {
     "elapsed": 324,
     "status": "ok",
     "timestamp": 1524332363426,
     "user": {
      "displayName": "Robert Sullivan",
      "photoUrl": "https://lh3.googleusercontent.com/a/default-user=s128",
      "userId": "114220296581702706949"
     },
     "user_tz": 240
    },
    "id": "a0_4UuSqFCNo",
    "outputId": "5e55a050-5ae7-469e-fc44-754ceeab046a"
   },
   "outputs": [
    {
     "data": {
      "text/html": [
       "<div>\n",
       "<style scoped>\n",
       "    .dataframe tbody tr th:only-of-type {\n",
       "        vertical-align: middle;\n",
       "    }\n",
       "\n",
       "    .dataframe tbody tr th {\n",
       "        vertical-align: top;\n",
       "    }\n",
       "\n",
       "    .dataframe thead th {\n",
       "        text-align: right;\n",
       "    }\n",
       "</style>\n",
       "<table border=\"1\" class=\"dataframe\">\n",
       "  <thead>\n",
       "    <tr style=\"text-align: right;\">\n",
       "      <th></th>\n",
       "      <th>PassengerId</th>\n",
       "      <th>Survived</th>\n",
       "      <th>Pclass</th>\n",
       "      <th>Name</th>\n",
       "      <th>Sex</th>\n",
       "      <th>Age</th>\n",
       "      <th>SibSp</th>\n",
       "      <th>Parch</th>\n",
       "      <th>Ticket</th>\n",
       "      <th>Fare</th>\n",
       "      <th>Cabin</th>\n",
       "      <th>Embarked</th>\n",
       "    </tr>\n",
       "  </thead>\n",
       "  <tbody>\n",
       "  </tbody>\n",
       "</table>\n",
       "</div>"
      ],
      "text/plain": [
       "Empty DataFrame\n",
       "Columns: [PassengerId, Survived, Pclass, Name, Sex, Age, SibSp, Parch, Ticket, Fare, Cabin, Embarked]\n",
       "Index: []"
      ]
     },
     "execution_count": 20,
     "metadata": {
      "tags": []
     },
     "output_type": "execute_result"
    }
   ],
   "source": [
    "df_train[(df_train[\"Name\"]).str.contains(\"Anderson\", case=\"False\")] \n",
    "df_train[(df_train[\"Name\"]).str.contains(\"Bailey\", case=\"False\")]\n",
    "df_train[(df_train[\"Name\"]).str.contains(\"Wynn\", case=\"False\")] "
   ]
  },
  {
   "cell_type": "markdown",
   "metadata": {
    "colab_type": "text",
    "id": "rLktJ7a9ShNC"
   },
   "source": [
    "It doesn't appear that we have any ship officer in the dataset.\n",
    "\n",
    "*Check out the ship's engineering crew*\n",
    "\n",
    "Charles Edward Biggs was a fireman aboard the Titanic.\n",
    "\n",
    "James Carter was a fireman/stoker aboard the Titanic.\n",
    "\n",
    "James Bertram Gosling was a trimmer aboard the Titanic."
   ]
  },
  {
   "cell_type": "code",
   "execution_count": 0,
   "metadata": {
    "colab": {
     "autoexec": {
      "startup": false,
      "wait_interval": 0
     }
    },
    "colab_type": "code",
    "collapsed": true,
    "id": "PRxhxP9_TxPw"
   },
   "outputs": [],
   "source": [
    "df_train[(df_train[\"Name\"]).str.contains(\"Biggs\", case=\"False\")] \n",
    "df_train[(df_train[\"Name\"]).str.contains(\"Carter\", case=\"False\")]\n",
    "df_train[(df_train[\"Name\"]).str.contains(\"Gosling\", case=\"False\")]"
   ]
  },
  {
   "cell_type": "markdown",
   "metadata": {
    "colab_type": "text",
    "id": "kom_Y_nLULvY"
   },
   "source": [
    "It doesn't appear that we have any ship engineers in the dataset.\n",
    "\n",
    "*Check out the ship's victualling crew* - the victualling crew were the chefs/housekeepers of the Titanic\n",
    "\n",
    "Robert Spencer Allan was a bedroom steward aboard the Titanic.\n",
    "\n",
    "Alfred Best was a saloon steward aboard the Titanic.\n",
    "\n",
    "William Ernest Ings was a scullion aboard the Titanic.\n"
   ]
  },
  {
   "cell_type": "code",
   "execution_count": 32,
   "metadata": {
    "colab": {
     "autoexec": {
      "startup": false,
      "wait_interval": 0
     },
     "base_uri": "https://localhost:8080/",
     "height": 49
    },
    "colab_type": "code",
    "executionInfo": {
     "elapsed": 266,
     "status": "ok",
     "timestamp": 1524333823728,
     "user": {
      "displayName": "Robert Sullivan",
      "photoUrl": "https://lh3.googleusercontent.com/a/default-user=s128",
      "userId": "114220296581702706949"
     },
     "user_tz": 240
    },
    "id": "WqbXfFc7TxcQ",
    "outputId": "d93e6df6-0c03-4627-cea3-1b65724a1d06"
   },
   "outputs": [
    {
     "data": {
      "text/html": [
       "<div>\n",
       "<style scoped>\n",
       "    .dataframe tbody tr th:only-of-type {\n",
       "        vertical-align: middle;\n",
       "    }\n",
       "\n",
       "    .dataframe tbody tr th {\n",
       "        vertical-align: top;\n",
       "    }\n",
       "\n",
       "    .dataframe thead th {\n",
       "        text-align: right;\n",
       "    }\n",
       "</style>\n",
       "<table border=\"1\" class=\"dataframe\">\n",
       "  <thead>\n",
       "    <tr style=\"text-align: right;\">\n",
       "      <th></th>\n",
       "      <th>PassengerId</th>\n",
       "      <th>Survived</th>\n",
       "      <th>Pclass</th>\n",
       "      <th>Name</th>\n",
       "      <th>Sex</th>\n",
       "      <th>Age</th>\n",
       "      <th>SibSp</th>\n",
       "      <th>Parch</th>\n",
       "      <th>Ticket</th>\n",
       "      <th>Fare</th>\n",
       "      <th>Cabin</th>\n",
       "      <th>Embarked</th>\n",
       "    </tr>\n",
       "  </thead>\n",
       "  <tbody>\n",
       "  </tbody>\n",
       "</table>\n",
       "</div>"
      ],
      "text/plain": [
       "Empty DataFrame\n",
       "Columns: [PassengerId, Survived, Pclass, Name, Sex, Age, SibSp, Parch, Ticket, Fare, Cabin, Embarked]\n",
       "Index: []"
      ]
     },
     "execution_count": 32,
     "metadata": {
      "tags": []
     },
     "output_type": "execute_result"
    }
   ],
   "source": [
    "df_train[(df_train[\"Name\"]).str.contains(\"Allan\", case=\"False\")]\n",
    "df_train[(df_train[\"Name\"]).str.contains(\"Best\", case=\"False\")]\n",
    "df_train[(df_train[\"Name\"]).str.contains(\"Chisholm\", case=\"False\")] "
   ]
  },
  {
   "cell_type": "markdown",
   "metadata": {
    "colab_type": "text",
    "id": "kggSWTmrWpCU"
   },
   "source": [
    "It doesn't appear that we have any of the victualling crew in the dataset..."
   ]
  },
  {
   "cell_type": "markdown",
   "metadata": {
    "colab_type": "text",
    "id": "43GSjeVCuO_4"
   },
   "source": [
    "# XGBoost Stuff\n",
    "\n",
    "What is XGBoost? Basically super-powered decision trees.... I still don't really understand.\n",
    "\n",
    "Here is an explanation from a \"kaggle master\": [XGBoost Explanation](http://blog.kaggle.com/2017/01/23/a-kaggle-master-explains-gradient-boosting/)\n",
    "\n",
    "And another from \"Machine Learning Mastery\": [MLM XGB](https://machinelearningmastery.com/gentle-introduction-xgboost-applied-machine-learning/)"
   ]
  },
  {
   "cell_type": "code",
   "execution_count": 0,
   "metadata": {
    "colab": {
     "autoexec": {
      "startup": false,
      "wait_interval": 0
     }
    },
    "colab_type": "code",
    "collapsed": true,
    "id": "i9pHhHAxTxfY"
   },
   "outputs": [],
   "source": [
    "# impute missing values using the median for numeric columns and the most\n",
    "# common value for string columns.\n",
    "# based on: http://stackoverflow.com/a/25562948\n",
    "class DataFrameImputer(TransformerMixin):\n",
    "  def fit(self, X, y=None):\n",
    "    self.fill = pd.Series([X[c].value_counts().index[0]\n",
    "                         if X[c].dtype == np.dtype('O') else X[c].median() for c in X],\n",
    "                         index=X.columns)\n",
    "    return self\n",
    "  def transform(self, X, y=None):\n",
    "    return X.fillna(self.fill)"
   ]
  },
  {
   "cell_type": "code",
   "execution_count": 0,
   "metadata": {
    "colab": {
     "autoexec": {
      "startup": false,
      "wait_interval": 0
     }
    },
    "colab_type": "code",
    "collapsed": true,
    "id": "q0-jG00DOu0Y"
   },
   "outputs": [],
   "source": [
    "feature_columns_to_use = ['Pclass', 'Sex', 'Age', 'Fare', 'Parch']\n",
    "nonnumeric_columns = ['Sex']"
   ]
  },
  {
   "cell_type": "code",
   "execution_count": 0,
   "metadata": {
    "colab": {
     "autoexec": {
      "startup": false,
      "wait_interval": 0
     }
    },
    "colab_type": "code",
    "collapsed": true,
    "id": "LCquN2yXSYct"
   },
   "outputs": [],
   "source": [
    "# Join the features from train and test together before imputing missing values,\n",
    "# in case their distribution is slightly different\n",
    "bob_big_X = df_train2[feature_columns_to_use].append(df_test2[feature_columns_to_use])\n",
    "bob_big_X_imputed = DataFrameImputer().fit_transform(bob_big_X)"
   ]
  },
  {
   "cell_type": "code",
   "execution_count": 0,
   "metadata": {
    "colab": {
     "autoexec": {
      "startup": false,
      "wait_interval": 0
     }
    },
    "colab_type": "code",
    "collapsed": true,
    "id": "iZ0uK5dR3kzi"
   },
   "outputs": [],
   "source": [
    "# XGBoost doesn't (yet) handle categorical features automatically, so we need to change\n",
    "# them to columns of integer values.\n",
    "# See http://scikit-learn.org/stable/modules/preprocessing.html#preprocessing for more\n",
    "# details and options\n",
    "le = LabelEncoder()\n",
    "for feature in nonnumeric_columns:\n",
    "    bob_big_X_imputed[feature] = le.fit_transform(bob_big_X_imputed[feature])\n"
   ]
  },
  {
   "cell_type": "code",
   "execution_count": 0,
   "metadata": {
    "colab": {
     "autoexec": {
      "startup": false,
      "wait_interval": 0
     }
    },
    "colab_type": "code",
    "collapsed": true,
    "id": "Oesq1uJl4Itw"
   },
   "outputs": [],
   "source": [
    "# Prepare the inputs for the model\n",
    "bob_train_X = bob_big_X_imputed[0:df_train2.shape[0]].as_matrix()\n",
    "bob_test_X = bob_big_X_imputed[df_train2.shape[0]::].as_matrix()\n",
    "bob_train_y = df_train2['Survived']\n"
   ]
  },
  {
   "cell_type": "code",
   "execution_count": 48,
   "metadata": {
    "colab": {
     "autoexec": {
      "startup": false,
      "wait_interval": 0
     },
     "base_uri": "https://localhost:8080/",
     "height": 75
    },
    "colab_type": "code",
    "executionInfo": {
     "elapsed": 298,
     "status": "ok",
     "timestamp": 1524342374994,
     "user": {
      "displayName": "Robert Sullivan",
      "photoUrl": "https://lh3.googleusercontent.com/a/default-user=s128",
      "userId": "114220296581702706949"
     },
     "user_tz": 240
    },
    "id": "AOkPm-Ph4epC",
    "outputId": "0bbdce7a-2994-46e4-ec2f-87288ed557e6"
   },
   "outputs": [
    {
     "name": "stderr",
     "output_type": "stream",
     "text": [
      "/usr/local/lib/python3.6/dist-packages/sklearn/preprocessing/label.py:151: DeprecationWarning: The truth value of an empty array is ambiguous. Returning False, but in future this will result in an error. Use `array.size > 0` to check that an array is not empty.\n",
      "  if diff:\n"
     ]
    }
   ],
   "source": [
    "# You can experiment with many other options here, using the same .fit() and .predict()\n",
    "# methods; see http://scikit-learn.org\n",
    "# This example uses the current build of XGBoost, from https://github.com/dmlc/xgboost\n",
    "gbm = xgb.XGBClassifier(max_depth=3, n_estimators=300, learning_rate=0.05).fit(bob_train_X, bob_train_y)\n",
    "predictions = gbm.predict(bob_test_X)"
   ]
  },
  {
   "cell_type": "code",
   "execution_count": 51,
   "metadata": {
    "colab": {
     "autoexec": {
      "startup": false,
      "wait_interval": 0
     },
     "base_uri": "https://localhost:8080/",
     "height": 1992
    },
    "colab_type": "code",
    "executionInfo": {
     "elapsed": 372,
     "status": "ok",
     "timestamp": 1524342832014,
     "user": {
      "displayName": "Robert Sullivan",
      "photoUrl": "https://lh3.googleusercontent.com/a/default-user=s128",
      "userId": "114220296581702706949"
     },
     "user_tz": 240
    },
    "id": "rB49wvKW4e2a",
    "outputId": "350eeb8b-7ae8-4137-95dc-18e5985d4d87",
    "scrolled": true
   },
   "outputs": [
    {
     "data": {
      "text/html": [
       "<div>\n",
       "<style scoped>\n",
       "    .dataframe tbody tr th:only-of-type {\n",
       "        vertical-align: middle;\n",
       "    }\n",
       "\n",
       "    .dataframe tbody tr th {\n",
       "        vertical-align: top;\n",
       "    }\n",
       "\n",
       "    .dataframe thead th {\n",
       "        text-align: right;\n",
       "    }\n",
       "</style>\n",
       "<table border=\"1\" class=\"dataframe\">\n",
       "  <thead>\n",
       "    <tr style=\"text-align: right;\">\n",
       "      <th></th>\n",
       "      <th>PassengerId</th>\n",
       "      <th>Survived</th>\n",
       "    </tr>\n",
       "  </thead>\n",
       "  <tbody>\n",
       "    <tr>\n",
       "      <th>0</th>\n",
       "      <td>251</td>\n",
       "      <td>0</td>\n",
       "    </tr>\n",
       "    <tr>\n",
       "      <th>1</th>\n",
       "      <td>145</td>\n",
       "      <td>0</td>\n",
       "    </tr>\n",
       "    <tr>\n",
       "      <th>2</th>\n",
       "      <td>444</td>\n",
       "      <td>1</td>\n",
       "    </tr>\n",
       "    <tr>\n",
       "      <th>3</th>\n",
       "      <td>309</td>\n",
       "      <td>0</td>\n",
       "    </tr>\n",
       "    <tr>\n",
       "      <th>4</th>\n",
       "      <td>654</td>\n",
       "      <td>1</td>\n",
       "    </tr>\n",
       "    <tr>\n",
       "      <th>5</th>\n",
       "      <td>52</td>\n",
       "      <td>0</td>\n",
       "    </tr>\n",
       "    <tr>\n",
       "      <th>6</th>\n",
       "      <td>206</td>\n",
       "      <td>1</td>\n",
       "    </tr>\n",
       "    <tr>\n",
       "      <th>7</th>\n",
       "      <td>402</td>\n",
       "      <td>0</td>\n",
       "    </tr>\n",
       "    <tr>\n",
       "      <th>8</th>\n",
       "      <td>589</td>\n",
       "      <td>0</td>\n",
       "    </tr>\n",
       "    <tr>\n",
       "      <th>9</th>\n",
       "      <td>852</td>\n",
       "      <td>0</td>\n",
       "    </tr>\n",
       "    <tr>\n",
       "      <th>10</th>\n",
       "      <td>577</td>\n",
       "      <td>1</td>\n",
       "    </tr>\n",
       "    <tr>\n",
       "      <th>11</th>\n",
       "      <td>214</td>\n",
       "      <td>0</td>\n",
       "    </tr>\n",
       "    <tr>\n",
       "      <th>12</th>\n",
       "      <td>850</td>\n",
       "      <td>1</td>\n",
       "    </tr>\n",
       "    <tr>\n",
       "      <th>13</th>\n",
       "      <td>754</td>\n",
       "      <td>0</td>\n",
       "    </tr>\n",
       "    <tr>\n",
       "      <th>14</th>\n",
       "      <td>165</td>\n",
       "      <td>0</td>\n",
       "    </tr>\n",
       "    <tr>\n",
       "      <th>15</th>\n",
       "      <td>47</td>\n",
       "      <td>0</td>\n",
       "    </tr>\n",
       "    <tr>\n",
       "      <th>16</th>\n",
       "      <td>168</td>\n",
       "      <td>0</td>\n",
       "    </tr>\n",
       "    <tr>\n",
       "      <th>17</th>\n",
       "      <td>591</td>\n",
       "      <td>0</td>\n",
       "    </tr>\n",
       "    <tr>\n",
       "      <th>18</th>\n",
       "      <td>269</td>\n",
       "      <td>1</td>\n",
       "    </tr>\n",
       "    <tr>\n",
       "      <th>19</th>\n",
       "      <td>141</td>\n",
       "      <td>1</td>\n",
       "    </tr>\n",
       "    <tr>\n",
       "      <th>20</th>\n",
       "      <td>229</td>\n",
       "      <td>0</td>\n",
       "    </tr>\n",
       "    <tr>\n",
       "      <th>21</th>\n",
       "      <td>296</td>\n",
       "      <td>0</td>\n",
       "    </tr>\n",
       "    <tr>\n",
       "      <th>22</th>\n",
       "      <td>794</td>\n",
       "      <td>1</td>\n",
       "    </tr>\n",
       "    <tr>\n",
       "      <th>23</th>\n",
       "      <td>855</td>\n",
       "      <td>1</td>\n",
       "    </tr>\n",
       "    <tr>\n",
       "      <th>24</th>\n",
       "      <td>672</td>\n",
       "      <td>0</td>\n",
       "    </tr>\n",
       "    <tr>\n",
       "      <th>25</th>\n",
       "      <td>890</td>\n",
       "      <td>0</td>\n",
       "    </tr>\n",
       "    <tr>\n",
       "      <th>26</th>\n",
       "      <td>154</td>\n",
       "      <td>0</td>\n",
       "    </tr>\n",
       "    <tr>\n",
       "      <th>27</th>\n",
       "      <td>584</td>\n",
       "      <td>0</td>\n",
       "    </tr>\n",
       "    <tr>\n",
       "      <th>28</th>\n",
       "      <td>759</td>\n",
       "      <td>0</td>\n",
       "    </tr>\n",
       "    <tr>\n",
       "      <th>29</th>\n",
       "      <td>488</td>\n",
       "      <td>0</td>\n",
       "    </tr>\n",
       "    <tr>\n",
       "      <th>...</th>\n",
       "      <td>...</td>\n",
       "      <td>...</td>\n",
       "    </tr>\n",
       "    <tr>\n",
       "      <th>265</th>\n",
       "      <td>639</td>\n",
       "      <td>0</td>\n",
       "    </tr>\n",
       "    <tr>\n",
       "      <th>266</th>\n",
       "      <td>856</td>\n",
       "      <td>0</td>\n",
       "    </tr>\n",
       "    <tr>\n",
       "      <th>267</th>\n",
       "      <td>331</td>\n",
       "      <td>0</td>\n",
       "    </tr>\n",
       "    <tr>\n",
       "      <th>268</th>\n",
       "      <td>723</td>\n",
       "      <td>0</td>\n",
       "    </tr>\n",
       "    <tr>\n",
       "      <th>269</th>\n",
       "      <td>241</td>\n",
       "      <td>0</td>\n",
       "    </tr>\n",
       "    <tr>\n",
       "      <th>270</th>\n",
       "      <td>322</td>\n",
       "      <td>0</td>\n",
       "    </tr>\n",
       "    <tr>\n",
       "      <th>271</th>\n",
       "      <td>218</td>\n",
       "      <td>0</td>\n",
       "    </tr>\n",
       "    <tr>\n",
       "      <th>272</th>\n",
       "      <td>835</td>\n",
       "      <td>0</td>\n",
       "    </tr>\n",
       "    <tr>\n",
       "      <th>273</th>\n",
       "      <td>849</td>\n",
       "      <td>0</td>\n",
       "    </tr>\n",
       "    <tr>\n",
       "      <th>274</th>\n",
       "      <td>519</td>\n",
       "      <td>1</td>\n",
       "    </tr>\n",
       "    <tr>\n",
       "      <th>275</th>\n",
       "      <td>360</td>\n",
       "      <td>0</td>\n",
       "    </tr>\n",
       "    <tr>\n",
       "      <th>276</th>\n",
       "      <td>421</td>\n",
       "      <td>0</td>\n",
       "    </tr>\n",
       "    <tr>\n",
       "      <th>277</th>\n",
       "      <td>884</td>\n",
       "      <td>0</td>\n",
       "    </tr>\n",
       "    <tr>\n",
       "      <th>278</th>\n",
       "      <td>511</td>\n",
       "      <td>0</td>\n",
       "    </tr>\n",
       "    <tr>\n",
       "      <th>279</th>\n",
       "      <td>225</td>\n",
       "      <td>0</td>\n",
       "    </tr>\n",
       "    <tr>\n",
       "      <th>280</th>\n",
       "      <td>59</td>\n",
       "      <td>1</td>\n",
       "    </tr>\n",
       "    <tr>\n",
       "      <th>281</th>\n",
       "      <td>611</td>\n",
       "      <td>0</td>\n",
       "    </tr>\n",
       "    <tr>\n",
       "      <th>282</th>\n",
       "      <td>658</td>\n",
       "      <td>1</td>\n",
       "    </tr>\n",
       "    <tr>\n",
       "      <th>283</th>\n",
       "      <td>614</td>\n",
       "      <td>0</td>\n",
       "    </tr>\n",
       "    <tr>\n",
       "      <th>284</th>\n",
       "      <td>14</td>\n",
       "      <td>0</td>\n",
       "    </tr>\n",
       "    <tr>\n",
       "      <th>285</th>\n",
       "      <td>468</td>\n",
       "      <td>0</td>\n",
       "    </tr>\n",
       "    <tr>\n",
       "      <th>286</th>\n",
       "      <td>389</td>\n",
       "      <td>0</td>\n",
       "    </tr>\n",
       "    <tr>\n",
       "      <th>287</th>\n",
       "      <td>800</td>\n",
       "      <td>0</td>\n",
       "    </tr>\n",
       "    <tr>\n",
       "      <th>288</th>\n",
       "      <td>827</td>\n",
       "      <td>1</td>\n",
       "    </tr>\n",
       "    <tr>\n",
       "      <th>289</th>\n",
       "      <td>761</td>\n",
       "      <td>0</td>\n",
       "    </tr>\n",
       "    <tr>\n",
       "      <th>290</th>\n",
       "      <td>187</td>\n",
       "      <td>1</td>\n",
       "    </tr>\n",
       "    <tr>\n",
       "      <th>291</th>\n",
       "      <td>237</td>\n",
       "      <td>0</td>\n",
       "    </tr>\n",
       "    <tr>\n",
       "      <th>292</th>\n",
       "      <td>748</td>\n",
       "      <td>1</td>\n",
       "    </tr>\n",
       "    <tr>\n",
       "      <th>293</th>\n",
       "      <td>142</td>\n",
       "      <td>1</td>\n",
       "    </tr>\n",
       "    <tr>\n",
       "      <th>294</th>\n",
       "      <td>874</td>\n",
       "      <td>0</td>\n",
       "    </tr>\n",
       "  </tbody>\n",
       "</table>\n",
       "<p>295 rows × 2 columns</p>\n",
       "</div>"
      ],
      "text/plain": [
       "     PassengerId  Survived\n",
       "0            251         0\n",
       "1            145         0\n",
       "2            444         1\n",
       "3            309         0\n",
       "4            654         1\n",
       "5             52         0\n",
       "6            206         1\n",
       "7            402         0\n",
       "8            589         0\n",
       "9            852         0\n",
       "10           577         1\n",
       "11           214         0\n",
       "12           850         1\n",
       "13           754         0\n",
       "14           165         0\n",
       "15            47         0\n",
       "16           168         0\n",
       "17           591         0\n",
       "18           269         1\n",
       "19           141         1\n",
       "20           229         0\n",
       "21           296         0\n",
       "22           794         1\n",
       "23           855         1\n",
       "24           672         0\n",
       "25           890         0\n",
       "26           154         0\n",
       "27           584         0\n",
       "28           759         0\n",
       "29           488         0\n",
       "..           ...       ...\n",
       "265          639         0\n",
       "266          856         0\n",
       "267          331         0\n",
       "268          723         0\n",
       "269          241         0\n",
       "270          322         0\n",
       "271          218         0\n",
       "272          835         0\n",
       "273          849         0\n",
       "274          519         1\n",
       "275          360         0\n",
       "276          421         0\n",
       "277          884         0\n",
       "278          511         0\n",
       "279          225         0\n",
       "280           59         1\n",
       "281          611         0\n",
       "282          658         1\n",
       "283          614         0\n",
       "284           14         0\n",
       "285          468         0\n",
       "286          389         0\n",
       "287          800         0\n",
       "288          827         1\n",
       "289          761         0\n",
       "290          187         1\n",
       "291          237         0\n",
       "292          748         1\n",
       "293          142         1\n",
       "294          874         0\n",
       "\n",
       "[295 rows x 2 columns]"
      ]
     },
     "execution_count": 51,
     "metadata": {
      "tags": []
     },
     "output_type": "execute_result"
    }
   ],
   "source": [
    "# Kaggle needs the submission to have a certain format;\n",
    "# see https://www.kaggle.com/c/titanic-gettingStarted/download/gendermodel.csv\n",
    "# for an example of what it's supposed to look like.\n",
    "bob_submission = pd.DataFrame({ 'PassengerId': df_test2['PassengerId'],\n",
    "                            'Survived': predictions })\n",
    "bob_submission"
   ]
  },
  {
   "cell_type": "code",
   "execution_count": 0,
   "metadata": {
    "colab": {
     "autoexec": {
      "startup": false,
      "wait_interval": 0
     }
    },
    "colab_type": "code",
    "collapsed": true,
    "id": "APPW8gyf4e-o"
   },
   "outputs": [],
   "source": []
  },
  {
   "cell_type": "code",
   "execution_count": 0,
   "metadata": {
    "colab": {
     "autoexec": {
      "startup": false,
      "wait_interval": 0
     }
    },
    "colab_type": "code",
    "collapsed": true,
    "id": "N3K6aTcW4fCU"
   },
   "outputs": [],
   "source": []
  },
  {
   "cell_type": "markdown",
   "metadata": {
    "colab_type": "text",
    "id": "ucaeuEFMpJje"
   },
   "source": [
    "# Mark's Playground"
   ]
  },
  {
   "cell_type": "code",
   "execution_count": 84,
   "metadata": {
    "colab": {
     "autoexec": {
      "startup": false,
      "wait_interval": 0
     },
     "base_uri": "https://localhost:8080/",
     "height": 163
    },
    "colab_type": "code",
    "executionInfo": {
     "elapsed": 351,
     "status": "error",
     "timestamp": 1524339433542,
     "user": {
      "displayName": "Mark Henderson",
      "photoUrl": "//lh3.googleusercontent.com/-Jx-0fO7r92k/AAAAAAAAAAI/AAAAAAAAAAw/VsW7jFDcD2Y/s50-c-k-no/photo.jpg",
      "userId": "111519055822856672982"
     },
     "user_tz": 240
    },
    "id": "d6cVqyp2pLAQ",
    "outputId": "dec00655-7088-46d6-f1e7-c64cbd0ad250"
   },
   "outputs": [
    {
     "ename": "NameError",
     "evalue": "ignored",
     "output_type": "error",
     "traceback": [
      "\u001b[0;31m---------------------------------------------------------------------------\u001b[0m",
      "\u001b[0;31mNameError\u001b[0m                                 Traceback (most recent call last)",
      "\u001b[0;32m<ipython-input-84-c51aaf46186b>\u001b[0m in \u001b[0;36m<module>\u001b[0;34m()\u001b[0m\n\u001b[0;32m----> 1\u001b[0;31m \u001b[0mdf_train2\u001b[0m\u001b[0;34m\u001b[0m\u001b[0m\n\u001b[0m",
      "\u001b[0;31mNameError\u001b[0m: name 'df_train2' is not defined"
     ]
    }
   ],
   "source": [
    "df_train2"
   ]
  },
  {
   "cell_type": "code",
   "execution_count": 0,
   "metadata": {
    "colab": {
     "autoexec": {
      "startup": false,
      "wait_interval": 0
     }
    },
    "colab_type": "code",
    "collapsed": true,
    "id": "H_fnFzeXtcyP"
   },
   "outputs": [],
   "source": []
  }
 ],
 "metadata": {
  "colab": {
   "collapsed_sections": [],
   "default_view": {},
   "name": "Kaggle_Titanic.ipynb",
   "provenance": [],
   "toc_visible": true,
   "version": "0.3.2",
   "views": {}
  },
  "kernelspec": {
   "display_name": "Python 3",
   "language": "python",
   "name": "python3"
  },
  "language_info": {
   "codemirror_mode": {
    "name": "ipython",
    "version": 3
   },
   "file_extension": ".py",
   "mimetype": "text/x-python",
   "name": "python",
   "nbconvert_exporter": "python",
   "pygments_lexer": "ipython3",
   "version": "3.6.2"
  }
 },
 "nbformat": 4,
 "nbformat_minor": 1
}
