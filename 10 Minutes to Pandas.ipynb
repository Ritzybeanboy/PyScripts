{
 "cells": [
  {
   "cell_type": "markdown",
   "metadata": {},
   "source": [
    "This is a short introduction to pandas, geared mainly for new users. You can see more complex recipes in the Cookbook\n",
    "\n",
    "Customarily, we import as follows:\n"
   ]
  },
  {
   "cell_type": "code",
   "execution_count": 190,
   "metadata": {
    "collapsed": true
   },
   "outputs": [],
   "source": [
    "%matplotlib inline\n",
    "#Above command allows plots to be shown inline.\n",
    "\n",
    "import pandas as pd\n",
    "import numpy as np\n",
    "import matplotlib.pyplot as plt"
   ]
  },
  {
   "cell_type": "markdown",
   "metadata": {},
   "source": [
    "Object Creation\n",
    "\n",
    "Creating a Series by passing a list of values, letting pandas create a default integer index:"
   ]
  },
  {
   "cell_type": "code",
   "execution_count": 3,
   "metadata": {
    "collapsed": false
   },
   "outputs": [],
   "source": [
    "s = pd.Series([1,3,5,np.nan,6,8])"
   ]
  },
  {
   "cell_type": "code",
   "execution_count": 4,
   "metadata": {
    "collapsed": false
   },
   "outputs": [
    {
     "data": {
      "text/plain": [
       "0    1.0\n",
       "1    3.0\n",
       "2    5.0\n",
       "3    NaN\n",
       "4    6.0\n",
       "5    8.0\n",
       "dtype: float64"
      ]
     },
     "execution_count": 4,
     "metadata": {},
     "output_type": "execute_result"
    }
   ],
   "source": [
    "s"
   ]
  },
  {
   "cell_type": "markdown",
   "metadata": {},
   "source": [
    "Creating a DataFrame by passing a numpy array, with a datetime index and labeled columns:"
   ]
  },
  {
   "cell_type": "code",
   "execution_count": 5,
   "metadata": {
    "collapsed": true
   },
   "outputs": [],
   "source": [
    "dates = pd.date_range('20130101', periods=6)\n"
   ]
  },
  {
   "cell_type": "code",
   "execution_count": 6,
   "metadata": {
    "collapsed": false
   },
   "outputs": [
    {
     "data": {
      "text/plain": [
       "DatetimeIndex(['2013-01-01', '2013-01-02', '2013-01-03', '2013-01-04',\n",
       "               '2013-01-05', '2013-01-06'],\n",
       "              dtype='datetime64[ns]', freq='D')"
      ]
     },
     "execution_count": 6,
     "metadata": {},
     "output_type": "execute_result"
    }
   ],
   "source": [
    "dates"
   ]
  },
  {
   "cell_type": "code",
   "execution_count": 7,
   "metadata": {
    "collapsed": true
   },
   "outputs": [],
   "source": [
    "df = pd.DataFrame(np.random.randn(6,4), index=dates,columns=list('ABCD'))\n",
    "\n",
    "#df = pd.DataFrame(np.random.randn(6,4),\n",
    "    #Defines what is in the cells of the dataframe\n",
    "\n",
    "#index=dates,\n",
    "    #Defines that the index values (rows) will be taken from the variable 'dates' we defined above.\n",
    "\n",
    "#columns=list('ABCD'))\n",
    "    #Defines the columns."
   ]
  },
  {
   "cell_type": "code",
   "execution_count": 8,
   "metadata": {
    "collapsed": false
   },
   "outputs": [
    {
     "data": {
      "text/html": [
       "<div>\n",
       "<table border=\"1\" class=\"dataframe\">\n",
       "  <thead>\n",
       "    <tr style=\"text-align: right;\">\n",
       "      <th></th>\n",
       "      <th>A</th>\n",
       "      <th>B</th>\n",
       "      <th>C</th>\n",
       "      <th>D</th>\n",
       "    </tr>\n",
       "  </thead>\n",
       "  <tbody>\n",
       "    <tr>\n",
       "      <th>2013-01-01</th>\n",
       "      <td>0.030809</td>\n",
       "      <td>-0.987374</td>\n",
       "      <td>-1.176340</td>\n",
       "      <td>0.351017</td>\n",
       "    </tr>\n",
       "    <tr>\n",
       "      <th>2013-01-02</th>\n",
       "      <td>-0.553716</td>\n",
       "      <td>1.247471</td>\n",
       "      <td>-1.988367</td>\n",
       "      <td>-0.209985</td>\n",
       "    </tr>\n",
       "    <tr>\n",
       "      <th>2013-01-03</th>\n",
       "      <td>-0.670835</td>\n",
       "      <td>-0.551412</td>\n",
       "      <td>-0.163361</td>\n",
       "      <td>-0.182903</td>\n",
       "    </tr>\n",
       "    <tr>\n",
       "      <th>2013-01-04</th>\n",
       "      <td>0.384647</td>\n",
       "      <td>1.482012</td>\n",
       "      <td>0.453092</td>\n",
       "      <td>0.323812</td>\n",
       "    </tr>\n",
       "    <tr>\n",
       "      <th>2013-01-05</th>\n",
       "      <td>-0.689040</td>\n",
       "      <td>1.852333</td>\n",
       "      <td>-0.400498</td>\n",
       "      <td>-1.933439</td>\n",
       "    </tr>\n",
       "    <tr>\n",
       "      <th>2013-01-06</th>\n",
       "      <td>0.994081</td>\n",
       "      <td>0.915482</td>\n",
       "      <td>-0.616533</td>\n",
       "      <td>-0.594060</td>\n",
       "    </tr>\n",
       "  </tbody>\n",
       "</table>\n",
       "</div>"
      ],
      "text/plain": [
       "                   A         B         C         D\n",
       "2013-01-01  0.030809 -0.987374 -1.176340  0.351017\n",
       "2013-01-02 -0.553716  1.247471 -1.988367 -0.209985\n",
       "2013-01-03 -0.670835 -0.551412 -0.163361 -0.182903\n",
       "2013-01-04  0.384647  1.482012  0.453092  0.323812\n",
       "2013-01-05 -0.689040  1.852333 -0.400498 -1.933439\n",
       "2013-01-06  0.994081  0.915482 -0.616533 -0.594060"
      ]
     },
     "execution_count": 8,
     "metadata": {},
     "output_type": "execute_result"
    }
   ],
   "source": [
    "df"
   ]
  },
  {
   "cell_type": "markdown",
   "metadata": {},
   "source": [
    "Creating a DataFrame by passing a dict of objects that can be converted to series-like."
   ]
  },
  {
   "cell_type": "code",
   "execution_count": 19,
   "metadata": {
    "collapsed": false
   },
   "outputs": [],
   "source": [
    "df2 = pd.DataFrame({'A' : 1.,\n",
    "                    'B' : pd.Timestamp('20130102'),\n",
    "                    'C' : pd.Series(1,index=list(range(4)),dtype='float32'),\n",
    "                    'D' : np.array([3] * 4,dtype='int32'),\n",
    "                    'E' : pd.Categorical(['test','train','test','train']),\n",
    "                    'F' : 'foo' })"
   ]
  },
  {
   "cell_type": "code",
   "execution_count": 20,
   "metadata": {
    "collapsed": false
   },
   "outputs": [
    {
     "data": {
      "text/html": [
       "<div>\n",
       "<table border=\"1\" class=\"dataframe\">\n",
       "  <thead>\n",
       "    <tr style=\"text-align: right;\">\n",
       "      <th></th>\n",
       "      <th>A</th>\n",
       "      <th>B</th>\n",
       "      <th>C</th>\n",
       "      <th>D</th>\n",
       "      <th>E</th>\n",
       "      <th>F</th>\n",
       "    </tr>\n",
       "  </thead>\n",
       "  <tbody>\n",
       "    <tr>\n",
       "      <th>0</th>\n",
       "      <td>1.0</td>\n",
       "      <td>2013-01-02</td>\n",
       "      <td>1.0</td>\n",
       "      <td>3</td>\n",
       "      <td>test</td>\n",
       "      <td>foo</td>\n",
       "    </tr>\n",
       "    <tr>\n",
       "      <th>1</th>\n",
       "      <td>1.0</td>\n",
       "      <td>2013-01-02</td>\n",
       "      <td>1.0</td>\n",
       "      <td>3</td>\n",
       "      <td>train</td>\n",
       "      <td>foo</td>\n",
       "    </tr>\n",
       "    <tr>\n",
       "      <th>2</th>\n",
       "      <td>1.0</td>\n",
       "      <td>2013-01-02</td>\n",
       "      <td>1.0</td>\n",
       "      <td>3</td>\n",
       "      <td>test</td>\n",
       "      <td>foo</td>\n",
       "    </tr>\n",
       "    <tr>\n",
       "      <th>3</th>\n",
       "      <td>1.0</td>\n",
       "      <td>2013-01-02</td>\n",
       "      <td>1.0</td>\n",
       "      <td>3</td>\n",
       "      <td>train</td>\n",
       "      <td>foo</td>\n",
       "    </tr>\n",
       "  </tbody>\n",
       "</table>\n",
       "</div>"
      ],
      "text/plain": [
       "     A          B    C  D      E    F\n",
       "0  1.0 2013-01-02  1.0  3   test  foo\n",
       "1  1.0 2013-01-02  1.0  3  train  foo\n",
       "2  1.0 2013-01-02  1.0  3   test  foo\n",
       "3  1.0 2013-01-02  1.0  3  train  foo"
      ]
     },
     "execution_count": 20,
     "metadata": {},
     "output_type": "execute_result"
    }
   ],
   "source": [
    "df2"
   ]
  },
  {
   "cell_type": "code",
   "execution_count": 22,
   "metadata": {
    "collapsed": false
   },
   "outputs": [
    {
     "data": {
      "text/plain": [
       "A           float64\n",
       "B    datetime64[ns]\n",
       "C           float32\n",
       "D             int32\n",
       "E          category\n",
       "F            object\n",
       "dtype: object"
      ]
     },
     "execution_count": 22,
     "metadata": {},
     "output_type": "execute_result"
    }
   ],
   "source": [
    "#All have specific dtypes\n",
    "df2.dtypes"
   ]
  },
  {
   "cell_type": "markdown",
   "metadata": {},
   "source": [
    "If you’re using IPython, tab completion for column names (as well as public attributes) is automatically enabled. Here’s a subset of the attributes that will be completed:\n",
    "\n",
    "In [13]: df2.<TAB>\n",
    "\n",
    "df2.A                  df2.boxplot\n",
    "\n",
    "df2.abs                df2.C\n",
    "\n",
    "df2.add                df2.clip\n",
    "\n",
    "df2.add_prefix         df2.clip_lower\n",
    "\n",
    "df2.add_suffix         df2.clip_upper\n",
    "\n",
    "df2.align              df2.columns\n",
    "\n",
    "df2.all                df2.combine\n",
    "\n",
    "df2.any                df2.combineAdd\n",
    "\n",
    "df2.append             df2.combine_first\n",
    "\n",
    "df2.apply              df2.combineMult\n",
    "\n",
    "df2.applymap           df2.compound\n",
    "\n",
    "df2.as_blocks          df2.consolidate\n",
    "\n",
    "df2.asfreq             df2.convert_objects\n",
    "\n",
    "df2.as_matrix          df2.copy\n",
    "\n",
    "df2.astype             df2.corr\n",
    "\n",
    "df2.at                 df2.corrwith\n",
    "\n",
    "df2.at_time            df2.count\n",
    "\n",
    "df2.axes               df2.cov\n",
    "\n",
    "df2.B                  df2.cummax\n",
    "\n",
    "df2.between_time       df2.cummin\n",
    "\n",
    "df2.bfill              df2.cumprod\n",
    "\n",
    "df2.blocks             df2.cumsum\n",
    "\n",
    "df2.bool               df2.D\n"
   ]
  },
  {
   "cell_type": "markdown",
   "metadata": {},
   "source": [
    "Viewing Data"
   ]
  },
  {
   "cell_type": "code",
   "execution_count": 29,
   "metadata": {
    "collapsed": false
   },
   "outputs": [
    {
     "data": {
      "text/html": [
       "<div>\n",
       "<table border=\"1\" class=\"dataframe\">\n",
       "  <thead>\n",
       "    <tr style=\"text-align: right;\">\n",
       "      <th></th>\n",
       "      <th>A</th>\n",
       "      <th>B</th>\n",
       "      <th>C</th>\n",
       "      <th>D</th>\n",
       "    </tr>\n",
       "  </thead>\n",
       "  <tbody>\n",
       "    <tr>\n",
       "      <th>2013-01-01</th>\n",
       "      <td>0.030809</td>\n",
       "      <td>-0.987374</td>\n",
       "      <td>-1.176340</td>\n",
       "      <td>0.351017</td>\n",
       "    </tr>\n",
       "    <tr>\n",
       "      <th>2013-01-02</th>\n",
       "      <td>-0.553716</td>\n",
       "      <td>1.247471</td>\n",
       "      <td>-1.988367</td>\n",
       "      <td>-0.209985</td>\n",
       "    </tr>\n",
       "  </tbody>\n",
       "</table>\n",
       "</div>"
      ],
      "text/plain": [
       "                   A         B         C         D\n",
       "2013-01-01  0.030809 -0.987374 -1.176340  0.351017\n",
       "2013-01-02 -0.553716  1.247471 -1.988367 -0.209985"
      ]
     },
     "execution_count": 29,
     "metadata": {},
     "output_type": "execute_result"
    }
   ],
   "source": [
    "#See top and bottom rows of the frame.\n",
    "#The number in parens determines how many rows willl be seen.  Blank is all.\n",
    "\n",
    "df.head(2)"
   ]
  },
  {
   "cell_type": "code",
   "execution_count": 28,
   "metadata": {
    "collapsed": false
   },
   "outputs": [
    {
     "data": {
      "text/html": [
       "<div>\n",
       "<table border=\"1\" class=\"dataframe\">\n",
       "  <thead>\n",
       "    <tr style=\"text-align: right;\">\n",
       "      <th></th>\n",
       "      <th>A</th>\n",
       "      <th>B</th>\n",
       "      <th>C</th>\n",
       "      <th>D</th>\n",
       "    </tr>\n",
       "  </thead>\n",
       "  <tbody>\n",
       "    <tr>\n",
       "      <th>2013-01-04</th>\n",
       "      <td>0.384647</td>\n",
       "      <td>1.482012</td>\n",
       "      <td>0.453092</td>\n",
       "      <td>0.323812</td>\n",
       "    </tr>\n",
       "    <tr>\n",
       "      <th>2013-01-05</th>\n",
       "      <td>-0.689040</td>\n",
       "      <td>1.852333</td>\n",
       "      <td>-0.400498</td>\n",
       "      <td>-1.933439</td>\n",
       "    </tr>\n",
       "    <tr>\n",
       "      <th>2013-01-06</th>\n",
       "      <td>0.994081</td>\n",
       "      <td>0.915482</td>\n",
       "      <td>-0.616533</td>\n",
       "      <td>-0.594060</td>\n",
       "    </tr>\n",
       "  </tbody>\n",
       "</table>\n",
       "</div>"
      ],
      "text/plain": [
       "                   A         B         C         D\n",
       "2013-01-04  0.384647  1.482012  0.453092  0.323812\n",
       "2013-01-05 -0.689040  1.852333 -0.400498 -1.933439\n",
       "2013-01-06  0.994081  0.915482 -0.616533 -0.594060"
      ]
     },
     "execution_count": 28,
     "metadata": {},
     "output_type": "execute_result"
    }
   ],
   "source": [
    "df.tail(3)"
   ]
  },
  {
   "cell_type": "markdown",
   "metadata": {},
   "source": [
    "Display the index, columns, and the underlying numpy data."
   ]
  },
  {
   "cell_type": "code",
   "execution_count": 33,
   "metadata": {
    "collapsed": false
   },
   "outputs": [
    {
     "data": {
      "text/plain": [
       "DatetimeIndex(['2013-01-01', '2013-01-02', '2013-01-03', '2013-01-04',\n",
       "               '2013-01-05', '2013-01-06'],\n",
       "              dtype='datetime64[ns]', freq='D')"
      ]
     },
     "execution_count": 33,
     "metadata": {},
     "output_type": "execute_result"
    }
   ],
   "source": [
    "df.index"
   ]
  },
  {
   "cell_type": "code",
   "execution_count": 31,
   "metadata": {
    "collapsed": false
   },
   "outputs": [
    {
     "data": {
      "text/plain": [
       "Index(['A', 'B', 'C', 'D'], dtype='object')"
      ]
     },
     "execution_count": 31,
     "metadata": {},
     "output_type": "execute_result"
    }
   ],
   "source": [
    "df.columns"
   ]
  },
  {
   "cell_type": "code",
   "execution_count": 32,
   "metadata": {
    "collapsed": false
   },
   "outputs": [
    {
     "data": {
      "text/plain": [
       "array([[ 0.03080858, -0.98737445, -1.17634037,  0.3510171 ],\n",
       "       [-0.55371574,  1.24747097, -1.98836736, -0.2099845 ],\n",
       "       [-0.67083525, -0.55141182, -0.16336078, -0.18290252],\n",
       "       [ 0.38464688,  1.48201221,  0.45309171,  0.32381194],\n",
       "       [-0.68904012,  1.8523334 , -0.40049794, -1.93343899],\n",
       "       [ 0.99408113,  0.91548167, -0.61653277, -0.5940599 ]])"
      ]
     },
     "execution_count": 32,
     "metadata": {},
     "output_type": "execute_result"
    }
   ],
   "source": [
    "df.values"
   ]
  },
  {
   "cell_type": "markdown",
   "metadata": {},
   "source": [
    "Describe shows a quick statistic summary of your data"
   ]
  },
  {
   "cell_type": "code",
   "execution_count": 34,
   "metadata": {
    "collapsed": false
   },
   "outputs": [
    {
     "data": {
      "text/html": [
       "<div>\n",
       "<table border=\"1\" class=\"dataframe\">\n",
       "  <thead>\n",
       "    <tr style=\"text-align: right;\">\n",
       "      <th></th>\n",
       "      <th>A</th>\n",
       "      <th>B</th>\n",
       "      <th>C</th>\n",
       "      <th>D</th>\n",
       "    </tr>\n",
       "  </thead>\n",
       "  <tbody>\n",
       "    <tr>\n",
       "      <th>count</th>\n",
       "      <td>6.000000</td>\n",
       "      <td>6.000000</td>\n",
       "      <td>6.000000</td>\n",
       "      <td>6.000000</td>\n",
       "    </tr>\n",
       "    <tr>\n",
       "      <th>mean</th>\n",
       "      <td>-0.084009</td>\n",
       "      <td>0.659752</td>\n",
       "      <td>-0.648668</td>\n",
       "      <td>-0.374259</td>\n",
       "    </tr>\n",
       "    <tr>\n",
       "      <th>std</th>\n",
       "      <td>0.682078</td>\n",
       "      <td>1.156643</td>\n",
       "      <td>0.846788</td>\n",
       "      <td>0.843361</td>\n",
       "    </tr>\n",
       "    <tr>\n",
       "      <th>min</th>\n",
       "      <td>-0.689040</td>\n",
       "      <td>-0.987374</td>\n",
       "      <td>-1.988367</td>\n",
       "      <td>-1.933439</td>\n",
       "    </tr>\n",
       "    <tr>\n",
       "      <th>25%</th>\n",
       "      <td>-0.641555</td>\n",
       "      <td>-0.184688</td>\n",
       "      <td>-1.036388</td>\n",
       "      <td>-0.498041</td>\n",
       "    </tr>\n",
       "    <tr>\n",
       "      <th>50%</th>\n",
       "      <td>-0.261454</td>\n",
       "      <td>1.081476</td>\n",
       "      <td>-0.508515</td>\n",
       "      <td>-0.196444</td>\n",
       "    </tr>\n",
       "    <tr>\n",
       "      <th>75%</th>\n",
       "      <td>0.296187</td>\n",
       "      <td>1.423377</td>\n",
       "      <td>-0.222645</td>\n",
       "      <td>0.197133</td>\n",
       "    </tr>\n",
       "    <tr>\n",
       "      <th>max</th>\n",
       "      <td>0.994081</td>\n",
       "      <td>1.852333</td>\n",
       "      <td>0.453092</td>\n",
       "      <td>0.351017</td>\n",
       "    </tr>\n",
       "  </tbody>\n",
       "</table>\n",
       "</div>"
      ],
      "text/plain": [
       "              A         B         C         D\n",
       "count  6.000000  6.000000  6.000000  6.000000\n",
       "mean  -0.084009  0.659752 -0.648668 -0.374259\n",
       "std    0.682078  1.156643  0.846788  0.843361\n",
       "min   -0.689040 -0.987374 -1.988367 -1.933439\n",
       "25%   -0.641555 -0.184688 -1.036388 -0.498041\n",
       "50%   -0.261454  1.081476 -0.508515 -0.196444\n",
       "75%    0.296187  1.423377 -0.222645  0.197133\n",
       "max    0.994081  1.852333  0.453092  0.351017"
      ]
     },
     "execution_count": 34,
     "metadata": {},
     "output_type": "execute_result"
    }
   ],
   "source": [
    "df.describe()"
   ]
  },
  {
   "cell_type": "markdown",
   "metadata": {},
   "source": [
    "Transposing your data"
   ]
  },
  {
   "cell_type": "code",
   "execution_count": 36,
   "metadata": {
    "collapsed": false
   },
   "outputs": [
    {
     "data": {
      "text/html": [
       "<div>\n",
       "<table border=\"1\" class=\"dataframe\">\n",
       "  <thead>\n",
       "    <tr style=\"text-align: right;\">\n",
       "      <th></th>\n",
       "      <th>2013-01-01 00:00:00</th>\n",
       "      <th>2013-01-02 00:00:00</th>\n",
       "      <th>2013-01-03 00:00:00</th>\n",
       "      <th>2013-01-04 00:00:00</th>\n",
       "      <th>2013-01-05 00:00:00</th>\n",
       "      <th>2013-01-06 00:00:00</th>\n",
       "    </tr>\n",
       "  </thead>\n",
       "  <tbody>\n",
       "    <tr>\n",
       "      <th>A</th>\n",
       "      <td>0.030809</td>\n",
       "      <td>-0.553716</td>\n",
       "      <td>-0.670835</td>\n",
       "      <td>0.384647</td>\n",
       "      <td>-0.689040</td>\n",
       "      <td>0.994081</td>\n",
       "    </tr>\n",
       "    <tr>\n",
       "      <th>B</th>\n",
       "      <td>-0.987374</td>\n",
       "      <td>1.247471</td>\n",
       "      <td>-0.551412</td>\n",
       "      <td>1.482012</td>\n",
       "      <td>1.852333</td>\n",
       "      <td>0.915482</td>\n",
       "    </tr>\n",
       "    <tr>\n",
       "      <th>C</th>\n",
       "      <td>-1.176340</td>\n",
       "      <td>-1.988367</td>\n",
       "      <td>-0.163361</td>\n",
       "      <td>0.453092</td>\n",
       "      <td>-0.400498</td>\n",
       "      <td>-0.616533</td>\n",
       "    </tr>\n",
       "    <tr>\n",
       "      <th>D</th>\n",
       "      <td>0.351017</td>\n",
       "      <td>-0.209985</td>\n",
       "      <td>-0.182903</td>\n",
       "      <td>0.323812</td>\n",
       "      <td>-1.933439</td>\n",
       "      <td>-0.594060</td>\n",
       "    </tr>\n",
       "  </tbody>\n",
       "</table>\n",
       "</div>"
      ],
      "text/plain": [
       "   2013-01-01  2013-01-02  2013-01-03  2013-01-04  2013-01-05  2013-01-06\n",
       "A    0.030809   -0.553716   -0.670835    0.384647   -0.689040    0.994081\n",
       "B   -0.987374    1.247471   -0.551412    1.482012    1.852333    0.915482\n",
       "C   -1.176340   -1.988367   -0.163361    0.453092   -0.400498   -0.616533\n",
       "D    0.351017   -0.209985   -0.182903    0.323812   -1.933439   -0.594060"
      ]
     },
     "execution_count": 36,
     "metadata": {},
     "output_type": "execute_result"
    }
   ],
   "source": [
    "df.T"
   ]
  },
  {
   "cell_type": "markdown",
   "metadata": {},
   "source": [
    "Sorting by an axis."
   ]
  },
  {
   "cell_type": "code",
   "execution_count": 42,
   "metadata": {
    "collapsed": false
   },
   "outputs": [
    {
     "data": {
      "text/html": [
       "<div>\n",
       "<table border=\"1\" class=\"dataframe\">\n",
       "  <thead>\n",
       "    <tr style=\"text-align: right;\">\n",
       "      <th></th>\n",
       "      <th>D</th>\n",
       "      <th>C</th>\n",
       "      <th>B</th>\n",
       "      <th>A</th>\n",
       "    </tr>\n",
       "  </thead>\n",
       "  <tbody>\n",
       "    <tr>\n",
       "      <th>2013-01-01</th>\n",
       "      <td>0.351017</td>\n",
       "      <td>-1.176340</td>\n",
       "      <td>-0.987374</td>\n",
       "      <td>0.030809</td>\n",
       "    </tr>\n",
       "    <tr>\n",
       "      <th>2013-01-02</th>\n",
       "      <td>-0.209985</td>\n",
       "      <td>-1.988367</td>\n",
       "      <td>1.247471</td>\n",
       "      <td>-0.553716</td>\n",
       "    </tr>\n",
       "    <tr>\n",
       "      <th>2013-01-03</th>\n",
       "      <td>-0.182903</td>\n",
       "      <td>-0.163361</td>\n",
       "      <td>-0.551412</td>\n",
       "      <td>-0.670835</td>\n",
       "    </tr>\n",
       "    <tr>\n",
       "      <th>2013-01-04</th>\n",
       "      <td>0.323812</td>\n",
       "      <td>0.453092</td>\n",
       "      <td>1.482012</td>\n",
       "      <td>0.384647</td>\n",
       "    </tr>\n",
       "    <tr>\n",
       "      <th>2013-01-05</th>\n",
       "      <td>-1.933439</td>\n",
       "      <td>-0.400498</td>\n",
       "      <td>1.852333</td>\n",
       "      <td>-0.689040</td>\n",
       "    </tr>\n",
       "    <tr>\n",
       "      <th>2013-01-06</th>\n",
       "      <td>-0.594060</td>\n",
       "      <td>-0.616533</td>\n",
       "      <td>0.915482</td>\n",
       "      <td>0.994081</td>\n",
       "    </tr>\n",
       "  </tbody>\n",
       "</table>\n",
       "</div>"
      ],
      "text/plain": [
       "                   D         C         B         A\n",
       "2013-01-01  0.351017 -1.176340 -0.987374  0.030809\n",
       "2013-01-02 -0.209985 -1.988367  1.247471 -0.553716\n",
       "2013-01-03 -0.182903 -0.163361 -0.551412 -0.670835\n",
       "2013-01-04  0.323812  0.453092  1.482012  0.384647\n",
       "2013-01-05 -1.933439 -0.400498  1.852333 -0.689040\n",
       "2013-01-06 -0.594060 -0.616533  0.915482  0.994081"
      ]
     },
     "execution_count": 42,
     "metadata": {},
     "output_type": "execute_result"
    }
   ],
   "source": [
    "df.sort_index(axis=1,ascending=False)\n",
    "#axis=0 will sort by the X axis instead."
   ]
  },
  {
   "cell_type": "markdown",
   "metadata": {},
   "source": [
    "Sorting by values."
   ]
  },
  {
   "cell_type": "code",
   "execution_count": 43,
   "metadata": {
    "collapsed": false
   },
   "outputs": [
    {
     "data": {
      "text/html": [
       "<div>\n",
       "<table border=\"1\" class=\"dataframe\">\n",
       "  <thead>\n",
       "    <tr style=\"text-align: right;\">\n",
       "      <th></th>\n",
       "      <th>A</th>\n",
       "      <th>B</th>\n",
       "      <th>C</th>\n",
       "      <th>D</th>\n",
       "    </tr>\n",
       "  </thead>\n",
       "  <tbody>\n",
       "    <tr>\n",
       "      <th>2013-01-01</th>\n",
       "      <td>0.030809</td>\n",
       "      <td>-0.987374</td>\n",
       "      <td>-1.176340</td>\n",
       "      <td>0.351017</td>\n",
       "    </tr>\n",
       "    <tr>\n",
       "      <th>2013-01-03</th>\n",
       "      <td>-0.670835</td>\n",
       "      <td>-0.551412</td>\n",
       "      <td>-0.163361</td>\n",
       "      <td>-0.182903</td>\n",
       "    </tr>\n",
       "    <tr>\n",
       "      <th>2013-01-06</th>\n",
       "      <td>0.994081</td>\n",
       "      <td>0.915482</td>\n",
       "      <td>-0.616533</td>\n",
       "      <td>-0.594060</td>\n",
       "    </tr>\n",
       "    <tr>\n",
       "      <th>2013-01-02</th>\n",
       "      <td>-0.553716</td>\n",
       "      <td>1.247471</td>\n",
       "      <td>-1.988367</td>\n",
       "      <td>-0.209985</td>\n",
       "    </tr>\n",
       "    <tr>\n",
       "      <th>2013-01-04</th>\n",
       "      <td>0.384647</td>\n",
       "      <td>1.482012</td>\n",
       "      <td>0.453092</td>\n",
       "      <td>0.323812</td>\n",
       "    </tr>\n",
       "    <tr>\n",
       "      <th>2013-01-05</th>\n",
       "      <td>-0.689040</td>\n",
       "      <td>1.852333</td>\n",
       "      <td>-0.400498</td>\n",
       "      <td>-1.933439</td>\n",
       "    </tr>\n",
       "  </tbody>\n",
       "</table>\n",
       "</div>"
      ],
      "text/plain": [
       "                   A         B         C         D\n",
       "2013-01-01  0.030809 -0.987374 -1.176340  0.351017\n",
       "2013-01-03 -0.670835 -0.551412 -0.163361 -0.182903\n",
       "2013-01-06  0.994081  0.915482 -0.616533 -0.594060\n",
       "2013-01-02 -0.553716  1.247471 -1.988367 -0.209985\n",
       "2013-01-04  0.384647  1.482012  0.453092  0.323812\n",
       "2013-01-05 -0.689040  1.852333 -0.400498 -1.933439"
      ]
     },
     "execution_count": 43,
     "metadata": {},
     "output_type": "execute_result"
    }
   ],
   "source": [
    "df.sort_values(by='B')"
   ]
  },
  {
   "cell_type": "markdown",
   "metadata": {},
   "source": [
    "Selection\n",
    "\n",
    "Note:While standard Python / Numpy expressions for selecting and setting are intuitive and come in handy for interactive work, for production code, we recommend the optimized pandas data access methods, .at, .iat, .loc, .iloc and .ix."
   ]
  },
  {
   "cell_type": "markdown",
   "metadata": {},
   "source": [
    "Selecting a single column, which yields a Series, equivalent to df.A"
   ]
  },
  {
   "cell_type": "code",
   "execution_count": 48,
   "metadata": {
    "collapsed": false
   },
   "outputs": [
    {
     "data": {
      "text/plain": [
       "2013-01-01    0.030809\n",
       "2013-01-02   -0.553716\n",
       "2013-01-03   -0.670835\n",
       "2013-01-04    0.384647\n",
       "2013-01-05   -0.689040\n",
       "2013-01-06    0.994081\n",
       "Freq: D, Name: A, dtype: float64"
      ]
     },
     "execution_count": 48,
     "metadata": {},
     "output_type": "execute_result"
    }
   ],
   "source": [
    "df['A']"
   ]
  },
  {
   "cell_type": "markdown",
   "metadata": {},
   "source": [
    "Selecting via [], which slices the rows."
   ]
  },
  {
   "cell_type": "code",
   "execution_count": 50,
   "metadata": {
    "collapsed": false
   },
   "outputs": [
    {
     "data": {
      "text/html": [
       "<div>\n",
       "<table border=\"1\" class=\"dataframe\">\n",
       "  <thead>\n",
       "    <tr style=\"text-align: right;\">\n",
       "      <th></th>\n",
       "      <th>A</th>\n",
       "      <th>B</th>\n",
       "      <th>C</th>\n",
       "      <th>D</th>\n",
       "    </tr>\n",
       "  </thead>\n",
       "  <tbody>\n",
       "    <tr>\n",
       "      <th>2013-01-01</th>\n",
       "      <td>0.030809</td>\n",
       "      <td>-0.987374</td>\n",
       "      <td>-1.176340</td>\n",
       "      <td>0.351017</td>\n",
       "    </tr>\n",
       "    <tr>\n",
       "      <th>2013-01-02</th>\n",
       "      <td>-0.553716</td>\n",
       "      <td>1.247471</td>\n",
       "      <td>-1.988367</td>\n",
       "      <td>-0.209985</td>\n",
       "    </tr>\n",
       "    <tr>\n",
       "      <th>2013-01-03</th>\n",
       "      <td>-0.670835</td>\n",
       "      <td>-0.551412</td>\n",
       "      <td>-0.163361</td>\n",
       "      <td>-0.182903</td>\n",
       "    </tr>\n",
       "  </tbody>\n",
       "</table>\n",
       "</div>"
      ],
      "text/plain": [
       "                   A         B         C         D\n",
       "2013-01-01  0.030809 -0.987374 -1.176340  0.351017\n",
       "2013-01-02 -0.553716  1.247471 -1.988367 -0.209985\n",
       "2013-01-03 -0.670835 -0.551412 -0.163361 -0.182903"
      ]
     },
     "execution_count": 50,
     "metadata": {},
     "output_type": "execute_result"
    }
   ],
   "source": [
    "df[0:3]"
   ]
  },
  {
   "cell_type": "code",
   "execution_count": 54,
   "metadata": {
    "collapsed": false
   },
   "outputs": [
    {
     "data": {
      "text/html": [
       "<div>\n",
       "<table border=\"1\" class=\"dataframe\">\n",
       "  <thead>\n",
       "    <tr style=\"text-align: right;\">\n",
       "      <th></th>\n",
       "      <th>A</th>\n",
       "      <th>B</th>\n",
       "      <th>C</th>\n",
       "      <th>D</th>\n",
       "    </tr>\n",
       "  </thead>\n",
       "  <tbody>\n",
       "    <tr>\n",
       "      <th>2013-01-02</th>\n",
       "      <td>-0.553716</td>\n",
       "      <td>1.247471</td>\n",
       "      <td>-1.988367</td>\n",
       "      <td>-0.209985</td>\n",
       "    </tr>\n",
       "    <tr>\n",
       "      <th>2013-01-03</th>\n",
       "      <td>-0.670835</td>\n",
       "      <td>-0.551412</td>\n",
       "      <td>-0.163361</td>\n",
       "      <td>-0.182903</td>\n",
       "    </tr>\n",
       "    <tr>\n",
       "      <th>2013-01-04</th>\n",
       "      <td>0.384647</td>\n",
       "      <td>1.482012</td>\n",
       "      <td>0.453092</td>\n",
       "      <td>0.323812</td>\n",
       "    </tr>\n",
       "  </tbody>\n",
       "</table>\n",
       "</div>"
      ],
      "text/plain": [
       "                   A         B         C         D\n",
       "2013-01-02 -0.553716  1.247471 -1.988367 -0.209985\n",
       "2013-01-03 -0.670835 -0.551412 -0.163361 -0.182903\n",
       "2013-01-04  0.384647  1.482012  0.453092  0.323812"
      ]
     },
     "execution_count": 54,
     "metadata": {},
     "output_type": "execute_result"
    }
   ],
   "source": [
    "df['20130102':'20130104']"
   ]
  },
  {
   "cell_type": "markdown",
   "metadata": {},
   "source": [
    "Selection by Label\n",
    "\n",
    "For getting a cross section using a label"
   ]
  },
  {
   "cell_type": "code",
   "execution_count": 55,
   "metadata": {
    "collapsed": false
   },
   "outputs": [
    {
     "data": {
      "text/plain": [
       "A    0.030809\n",
       "B   -0.987374\n",
       "C   -1.176340\n",
       "D    0.351017\n",
       "Name: 2013-01-01 00:00:00, dtype: float64"
      ]
     },
     "execution_count": 55,
     "metadata": {},
     "output_type": "execute_result"
    }
   ],
   "source": [
    "df.loc[dates[0]]\n",
    "#Returns the row for the 0-index column."
   ]
  },
  {
   "cell_type": "markdown",
   "metadata": {},
   "source": [
    "Selecting on a multi-axis by label"
   ]
  },
  {
   "cell_type": "code",
   "execution_count": 56,
   "metadata": {
    "collapsed": false
   },
   "outputs": [
    {
     "data": {
      "text/html": [
       "<div>\n",
       "<table border=\"1\" class=\"dataframe\">\n",
       "  <thead>\n",
       "    <tr style=\"text-align: right;\">\n",
       "      <th></th>\n",
       "      <th>A</th>\n",
       "      <th>B</th>\n",
       "    </tr>\n",
       "  </thead>\n",
       "  <tbody>\n",
       "    <tr>\n",
       "      <th>2013-01-01</th>\n",
       "      <td>0.030809</td>\n",
       "      <td>-0.987374</td>\n",
       "    </tr>\n",
       "    <tr>\n",
       "      <th>2013-01-02</th>\n",
       "      <td>-0.553716</td>\n",
       "      <td>1.247471</td>\n",
       "    </tr>\n",
       "    <tr>\n",
       "      <th>2013-01-03</th>\n",
       "      <td>-0.670835</td>\n",
       "      <td>-0.551412</td>\n",
       "    </tr>\n",
       "    <tr>\n",
       "      <th>2013-01-04</th>\n",
       "      <td>0.384647</td>\n",
       "      <td>1.482012</td>\n",
       "    </tr>\n",
       "    <tr>\n",
       "      <th>2013-01-05</th>\n",
       "      <td>-0.689040</td>\n",
       "      <td>1.852333</td>\n",
       "    </tr>\n",
       "    <tr>\n",
       "      <th>2013-01-06</th>\n",
       "      <td>0.994081</td>\n",
       "      <td>0.915482</td>\n",
       "    </tr>\n",
       "  </tbody>\n",
       "</table>\n",
       "</div>"
      ],
      "text/plain": [
       "                   A         B\n",
       "2013-01-01  0.030809 -0.987374\n",
       "2013-01-02 -0.553716  1.247471\n",
       "2013-01-03 -0.670835 -0.551412\n",
       "2013-01-04  0.384647  1.482012\n",
       "2013-01-05 -0.689040  1.852333\n",
       "2013-01-06  0.994081  0.915482"
      ]
     },
     "execution_count": 56,
     "metadata": {},
     "output_type": "execute_result"
    }
   ],
   "source": [
    "df.loc[:,['A','B']]"
   ]
  },
  {
   "cell_type": "markdown",
   "metadata": {},
   "source": [
    "Showing label slicing, both endpoints are included"
   ]
  },
  {
   "cell_type": "code",
   "execution_count": 57,
   "metadata": {
    "collapsed": false
   },
   "outputs": [
    {
     "data": {
      "text/html": [
       "<div>\n",
       "<table border=\"1\" class=\"dataframe\">\n",
       "  <thead>\n",
       "    <tr style=\"text-align: right;\">\n",
       "      <th></th>\n",
       "      <th>A</th>\n",
       "      <th>B</th>\n",
       "    </tr>\n",
       "  </thead>\n",
       "  <tbody>\n",
       "    <tr>\n",
       "      <th>2013-01-02</th>\n",
       "      <td>-0.553716</td>\n",
       "      <td>1.247471</td>\n",
       "    </tr>\n",
       "    <tr>\n",
       "      <th>2013-01-03</th>\n",
       "      <td>-0.670835</td>\n",
       "      <td>-0.551412</td>\n",
       "    </tr>\n",
       "    <tr>\n",
       "      <th>2013-01-04</th>\n",
       "      <td>0.384647</td>\n",
       "      <td>1.482012</td>\n",
       "    </tr>\n",
       "  </tbody>\n",
       "</table>\n",
       "</div>"
      ],
      "text/plain": [
       "                   A         B\n",
       "2013-01-02 -0.553716  1.247471\n",
       "2013-01-03 -0.670835 -0.551412\n",
       "2013-01-04  0.384647  1.482012"
      ]
     },
     "execution_count": 57,
     "metadata": {},
     "output_type": "execute_result"
    }
   ],
   "source": [
    "df.loc['20130102':'20130104',['A','B']]"
   ]
  },
  {
   "cell_type": "markdown",
   "metadata": {},
   "source": [
    "Reduction in the dimensions of the returned object"
   ]
  },
  {
   "cell_type": "code",
   "execution_count": 59,
   "metadata": {
    "collapsed": false
   },
   "outputs": [
    {
     "data": {
      "text/plain": [
       "A   -0.553716\n",
       "B    1.247471\n",
       "Name: 2013-01-02 00:00:00, dtype: float64"
      ]
     },
     "execution_count": 59,
     "metadata": {},
     "output_type": "execute_result"
    }
   ],
   "source": [
    "df.loc['20130102',['A','B']]"
   ]
  },
  {
   "cell_type": "markdown",
   "metadata": {},
   "source": [
    "For getting a scalar value"
   ]
  },
  {
   "cell_type": "code",
   "execution_count": 61,
   "metadata": {
    "collapsed": false
   },
   "outputs": [
    {
     "data": {
      "text/plain": [
       "0.030808580474807484"
      ]
     },
     "execution_count": 61,
     "metadata": {},
     "output_type": "execute_result"
    }
   ],
   "source": [
    "df.loc[dates[0],'A']"
   ]
  },
  {
   "cell_type": "markdown",
   "metadata": {},
   "source": [
    "For getting fast access to a scalar (equiv to the prior method)"
   ]
  },
  {
   "cell_type": "code",
   "execution_count": 62,
   "metadata": {
    "collapsed": false
   },
   "outputs": [
    {
     "data": {
      "text/plain": [
       "0.030808580474807484"
      ]
     },
     "execution_count": 62,
     "metadata": {},
     "output_type": "execute_result"
    }
   ],
   "source": [
    "df.at[dates[0],'A']"
   ]
  },
  {
   "cell_type": "markdown",
   "metadata": {},
   "source": [
    "Selection via position:\n",
    "\n",
    "Select via the position of the passed integers"
   ]
  },
  {
   "cell_type": "code",
   "execution_count": 63,
   "metadata": {
    "collapsed": false
   },
   "outputs": [
    {
     "data": {
      "text/plain": [
       "A    0.384647\n",
       "B    1.482012\n",
       "C    0.453092\n",
       "D    0.323812\n",
       "Name: 2013-01-04 00:00:00, dtype: float64"
      ]
     },
     "execution_count": 63,
     "metadata": {},
     "output_type": "execute_result"
    }
   ],
   "source": [
    "df.iloc[3]"
   ]
  },
  {
   "cell_type": "markdown",
   "metadata": {},
   "source": [
    "By integer slices, acting similar to numpy/python"
   ]
  },
  {
   "cell_type": "code",
   "execution_count": 64,
   "metadata": {
    "collapsed": false
   },
   "outputs": [
    {
     "data": {
      "text/html": [
       "<div>\n",
       "<table border=\"1\" class=\"dataframe\">\n",
       "  <thead>\n",
       "    <tr style=\"text-align: right;\">\n",
       "      <th></th>\n",
       "      <th>A</th>\n",
       "      <th>B</th>\n",
       "    </tr>\n",
       "  </thead>\n",
       "  <tbody>\n",
       "    <tr>\n",
       "      <th>2013-01-04</th>\n",
       "      <td>0.384647</td>\n",
       "      <td>1.482012</td>\n",
       "    </tr>\n",
       "    <tr>\n",
       "      <th>2013-01-05</th>\n",
       "      <td>-0.689040</td>\n",
       "      <td>1.852333</td>\n",
       "    </tr>\n",
       "  </tbody>\n",
       "</table>\n",
       "</div>"
      ],
      "text/plain": [
       "                   A         B\n",
       "2013-01-04  0.384647  1.482012\n",
       "2013-01-05 -0.689040  1.852333"
      ]
     },
     "execution_count": 64,
     "metadata": {},
     "output_type": "execute_result"
    }
   ],
   "source": [
    "df.iloc[3:5,0:2]"
   ]
  },
  {
   "cell_type": "markdown",
   "metadata": {},
   "source": [
    "By lists of integer position locations, similar to the numpy/python style"
   ]
  },
  {
   "cell_type": "code",
   "execution_count": 65,
   "metadata": {
    "collapsed": false
   },
   "outputs": [
    {
     "data": {
      "text/html": [
       "<div>\n",
       "<table border=\"1\" class=\"dataframe\">\n",
       "  <thead>\n",
       "    <tr style=\"text-align: right;\">\n",
       "      <th></th>\n",
       "      <th>A</th>\n",
       "      <th>C</th>\n",
       "    </tr>\n",
       "  </thead>\n",
       "  <tbody>\n",
       "    <tr>\n",
       "      <th>2013-01-02</th>\n",
       "      <td>-0.553716</td>\n",
       "      <td>-1.988367</td>\n",
       "    </tr>\n",
       "    <tr>\n",
       "      <th>2013-01-03</th>\n",
       "      <td>-0.670835</td>\n",
       "      <td>-0.163361</td>\n",
       "    </tr>\n",
       "    <tr>\n",
       "      <th>2013-01-05</th>\n",
       "      <td>-0.689040</td>\n",
       "      <td>-0.400498</td>\n",
       "    </tr>\n",
       "  </tbody>\n",
       "</table>\n",
       "</div>"
      ],
      "text/plain": [
       "                   A         C\n",
       "2013-01-02 -0.553716 -1.988367\n",
       "2013-01-03 -0.670835 -0.163361\n",
       "2013-01-05 -0.689040 -0.400498"
      ]
     },
     "execution_count": 65,
     "metadata": {},
     "output_type": "execute_result"
    }
   ],
   "source": [
    "df.iloc[[1,2,4],[0,2]]"
   ]
  },
  {
   "cell_type": "markdown",
   "metadata": {},
   "source": [
    "For slicing rows explicitly"
   ]
  },
  {
   "cell_type": "code",
   "execution_count": 66,
   "metadata": {
    "collapsed": false
   },
   "outputs": [
    {
     "data": {
      "text/html": [
       "<div>\n",
       "<table border=\"1\" class=\"dataframe\">\n",
       "  <thead>\n",
       "    <tr style=\"text-align: right;\">\n",
       "      <th></th>\n",
       "      <th>A</th>\n",
       "      <th>B</th>\n",
       "      <th>C</th>\n",
       "      <th>D</th>\n",
       "    </tr>\n",
       "  </thead>\n",
       "  <tbody>\n",
       "    <tr>\n",
       "      <th>2013-01-02</th>\n",
       "      <td>-0.553716</td>\n",
       "      <td>1.247471</td>\n",
       "      <td>-1.988367</td>\n",
       "      <td>-0.209985</td>\n",
       "    </tr>\n",
       "    <tr>\n",
       "      <th>2013-01-03</th>\n",
       "      <td>-0.670835</td>\n",
       "      <td>-0.551412</td>\n",
       "      <td>-0.163361</td>\n",
       "      <td>-0.182903</td>\n",
       "    </tr>\n",
       "  </tbody>\n",
       "</table>\n",
       "</div>"
      ],
      "text/plain": [
       "                   A         B         C         D\n",
       "2013-01-02 -0.553716  1.247471 -1.988367 -0.209985\n",
       "2013-01-03 -0.670835 -0.551412 -0.163361 -0.182903"
      ]
     },
     "execution_count": 66,
     "metadata": {},
     "output_type": "execute_result"
    }
   ],
   "source": [
    "df.iloc[1:3,:]"
   ]
  },
  {
   "cell_type": "markdown",
   "metadata": {},
   "source": [
    "For slicing columns explicitly"
   ]
  },
  {
   "cell_type": "code",
   "execution_count": 67,
   "metadata": {
    "collapsed": false
   },
   "outputs": [
    {
     "data": {
      "text/html": [
       "<div>\n",
       "<table border=\"1\" class=\"dataframe\">\n",
       "  <thead>\n",
       "    <tr style=\"text-align: right;\">\n",
       "      <th></th>\n",
       "      <th>B</th>\n",
       "      <th>C</th>\n",
       "    </tr>\n",
       "  </thead>\n",
       "  <tbody>\n",
       "    <tr>\n",
       "      <th>2013-01-01</th>\n",
       "      <td>-0.987374</td>\n",
       "      <td>-1.176340</td>\n",
       "    </tr>\n",
       "    <tr>\n",
       "      <th>2013-01-02</th>\n",
       "      <td>1.247471</td>\n",
       "      <td>-1.988367</td>\n",
       "    </tr>\n",
       "    <tr>\n",
       "      <th>2013-01-03</th>\n",
       "      <td>-0.551412</td>\n",
       "      <td>-0.163361</td>\n",
       "    </tr>\n",
       "    <tr>\n",
       "      <th>2013-01-04</th>\n",
       "      <td>1.482012</td>\n",
       "      <td>0.453092</td>\n",
       "    </tr>\n",
       "    <tr>\n",
       "      <th>2013-01-05</th>\n",
       "      <td>1.852333</td>\n",
       "      <td>-0.400498</td>\n",
       "    </tr>\n",
       "    <tr>\n",
       "      <th>2013-01-06</th>\n",
       "      <td>0.915482</td>\n",
       "      <td>-0.616533</td>\n",
       "    </tr>\n",
       "  </tbody>\n",
       "</table>\n",
       "</div>"
      ],
      "text/plain": [
       "                   B         C\n",
       "2013-01-01 -0.987374 -1.176340\n",
       "2013-01-02  1.247471 -1.988367\n",
       "2013-01-03 -0.551412 -0.163361\n",
       "2013-01-04  1.482012  0.453092\n",
       "2013-01-05  1.852333 -0.400498\n",
       "2013-01-06  0.915482 -0.616533"
      ]
     },
     "execution_count": 67,
     "metadata": {},
     "output_type": "execute_result"
    }
   ],
   "source": [
    "df.iloc[:,1:3]"
   ]
  },
  {
   "cell_type": "markdown",
   "metadata": {},
   "source": [
    "For getting a value explicitly"
   ]
  },
  {
   "cell_type": "code",
   "execution_count": 68,
   "metadata": {
    "collapsed": false
   },
   "outputs": [
    {
     "data": {
      "text/plain": [
       "1.2474709744065822"
      ]
     },
     "execution_count": 68,
     "metadata": {},
     "output_type": "execute_result"
    }
   ],
   "source": [
    "df.iloc[1,1]"
   ]
  },
  {
   "cell_type": "markdown",
   "metadata": {},
   "source": [
    "For getting fast access to a scalar (equiv to the prior method)"
   ]
  },
  {
   "cell_type": "code",
   "execution_count": 69,
   "metadata": {
    "collapsed": false
   },
   "outputs": [
    {
     "data": {
      "text/plain": [
       "1.2474709744065822"
      ]
     },
     "execution_count": 69,
     "metadata": {},
     "output_type": "execute_result"
    }
   ],
   "source": [
    "df.iat[1,1]"
   ]
  },
  {
   "cell_type": "markdown",
   "metadata": {},
   "source": [
    "Boolean Indexing\n",
    "\n",
    "Using a single column’s values to select data."
   ]
  },
  {
   "cell_type": "code",
   "execution_count": 70,
   "metadata": {
    "collapsed": false
   },
   "outputs": [
    {
     "data": {
      "text/html": [
       "<div>\n",
       "<table border=\"1\" class=\"dataframe\">\n",
       "  <thead>\n",
       "    <tr style=\"text-align: right;\">\n",
       "      <th></th>\n",
       "      <th>A</th>\n",
       "      <th>B</th>\n",
       "      <th>C</th>\n",
       "      <th>D</th>\n",
       "    </tr>\n",
       "  </thead>\n",
       "  <tbody>\n",
       "    <tr>\n",
       "      <th>2013-01-01</th>\n",
       "      <td>0.030809</td>\n",
       "      <td>-0.987374</td>\n",
       "      <td>-1.176340</td>\n",
       "      <td>0.351017</td>\n",
       "    </tr>\n",
       "    <tr>\n",
       "      <th>2013-01-04</th>\n",
       "      <td>0.384647</td>\n",
       "      <td>1.482012</td>\n",
       "      <td>0.453092</td>\n",
       "      <td>0.323812</td>\n",
       "    </tr>\n",
       "    <tr>\n",
       "      <th>2013-01-06</th>\n",
       "      <td>0.994081</td>\n",
       "      <td>0.915482</td>\n",
       "      <td>-0.616533</td>\n",
       "      <td>-0.594060</td>\n",
       "    </tr>\n",
       "  </tbody>\n",
       "</table>\n",
       "</div>"
      ],
      "text/plain": [
       "                   A         B         C         D\n",
       "2013-01-01  0.030809 -0.987374 -1.176340  0.351017\n",
       "2013-01-04  0.384647  1.482012  0.453092  0.323812\n",
       "2013-01-06  0.994081  0.915482 -0.616533 -0.594060"
      ]
     },
     "execution_count": 70,
     "metadata": {},
     "output_type": "execute_result"
    }
   ],
   "source": [
    "df[df.A>0]"
   ]
  },
  {
   "cell_type": "markdown",
   "metadata": {},
   "source": [
    "A WHERE operation for getting"
   ]
  },
  {
   "cell_type": "code",
   "execution_count": 71,
   "metadata": {
    "collapsed": false
   },
   "outputs": [
    {
     "data": {
      "text/html": [
       "<div>\n",
       "<table border=\"1\" class=\"dataframe\">\n",
       "  <thead>\n",
       "    <tr style=\"text-align: right;\">\n",
       "      <th></th>\n",
       "      <th>A</th>\n",
       "      <th>B</th>\n",
       "      <th>C</th>\n",
       "      <th>D</th>\n",
       "    </tr>\n",
       "  </thead>\n",
       "  <tbody>\n",
       "    <tr>\n",
       "      <th>2013-01-01</th>\n",
       "      <td>0.030809</td>\n",
       "      <td>NaN</td>\n",
       "      <td>NaN</td>\n",
       "      <td>0.351017</td>\n",
       "    </tr>\n",
       "    <tr>\n",
       "      <th>2013-01-02</th>\n",
       "      <td>NaN</td>\n",
       "      <td>1.247471</td>\n",
       "      <td>NaN</td>\n",
       "      <td>NaN</td>\n",
       "    </tr>\n",
       "    <tr>\n",
       "      <th>2013-01-03</th>\n",
       "      <td>NaN</td>\n",
       "      <td>NaN</td>\n",
       "      <td>NaN</td>\n",
       "      <td>NaN</td>\n",
       "    </tr>\n",
       "    <tr>\n",
       "      <th>2013-01-04</th>\n",
       "      <td>0.384647</td>\n",
       "      <td>1.482012</td>\n",
       "      <td>0.453092</td>\n",
       "      <td>0.323812</td>\n",
       "    </tr>\n",
       "    <tr>\n",
       "      <th>2013-01-05</th>\n",
       "      <td>NaN</td>\n",
       "      <td>1.852333</td>\n",
       "      <td>NaN</td>\n",
       "      <td>NaN</td>\n",
       "    </tr>\n",
       "    <tr>\n",
       "      <th>2013-01-06</th>\n",
       "      <td>0.994081</td>\n",
       "      <td>0.915482</td>\n",
       "      <td>NaN</td>\n",
       "      <td>NaN</td>\n",
       "    </tr>\n",
       "  </tbody>\n",
       "</table>\n",
       "</div>"
      ],
      "text/plain": [
       "                   A         B         C         D\n",
       "2013-01-01  0.030809       NaN       NaN  0.351017\n",
       "2013-01-02       NaN  1.247471       NaN       NaN\n",
       "2013-01-03       NaN       NaN       NaN       NaN\n",
       "2013-01-04  0.384647  1.482012  0.453092  0.323812\n",
       "2013-01-05       NaN  1.852333       NaN       NaN\n",
       "2013-01-06  0.994081  0.915482       NaN       NaN"
      ]
     },
     "execution_count": 71,
     "metadata": {},
     "output_type": "execute_result"
    }
   ],
   "source": [
    "df[df>0]"
   ]
  },
  {
   "cell_type": "markdown",
   "metadata": {},
   "source": [
    "Using the isin() method for filtering"
   ]
  },
  {
   "cell_type": "code",
   "execution_count": 72,
   "metadata": {
    "collapsed": true
   },
   "outputs": [],
   "source": [
    "#Adding a column to filter on\n",
    "df2 = df.copy()"
   ]
  },
  {
   "cell_type": "code",
   "execution_count": 75,
   "metadata": {
    "collapsed": true
   },
   "outputs": [],
   "source": [
    "#Adding values to filter on\n",
    "df2['E'] = ['one', 'one','two','three','four','three']"
   ]
  },
  {
   "cell_type": "code",
   "execution_count": 76,
   "metadata": {
    "collapsed": false
   },
   "outputs": [
    {
     "data": {
      "text/html": [
       "<div>\n",
       "<table border=\"1\" class=\"dataframe\">\n",
       "  <thead>\n",
       "    <tr style=\"text-align: right;\">\n",
       "      <th></th>\n",
       "      <th>A</th>\n",
       "      <th>B</th>\n",
       "      <th>C</th>\n",
       "      <th>D</th>\n",
       "      <th>E</th>\n",
       "    </tr>\n",
       "  </thead>\n",
       "  <tbody>\n",
       "    <tr>\n",
       "      <th>2013-01-01</th>\n",
       "      <td>0.030809</td>\n",
       "      <td>-0.987374</td>\n",
       "      <td>-1.176340</td>\n",
       "      <td>0.351017</td>\n",
       "      <td>one</td>\n",
       "    </tr>\n",
       "    <tr>\n",
       "      <th>2013-01-02</th>\n",
       "      <td>-0.553716</td>\n",
       "      <td>1.247471</td>\n",
       "      <td>-1.988367</td>\n",
       "      <td>-0.209985</td>\n",
       "      <td>one</td>\n",
       "    </tr>\n",
       "    <tr>\n",
       "      <th>2013-01-03</th>\n",
       "      <td>-0.670835</td>\n",
       "      <td>-0.551412</td>\n",
       "      <td>-0.163361</td>\n",
       "      <td>-0.182903</td>\n",
       "      <td>two</td>\n",
       "    </tr>\n",
       "    <tr>\n",
       "      <th>2013-01-04</th>\n",
       "      <td>0.384647</td>\n",
       "      <td>1.482012</td>\n",
       "      <td>0.453092</td>\n",
       "      <td>0.323812</td>\n",
       "      <td>three</td>\n",
       "    </tr>\n",
       "    <tr>\n",
       "      <th>2013-01-05</th>\n",
       "      <td>-0.689040</td>\n",
       "      <td>1.852333</td>\n",
       "      <td>-0.400498</td>\n",
       "      <td>-1.933439</td>\n",
       "      <td>four</td>\n",
       "    </tr>\n",
       "    <tr>\n",
       "      <th>2013-01-06</th>\n",
       "      <td>0.994081</td>\n",
       "      <td>0.915482</td>\n",
       "      <td>-0.616533</td>\n",
       "      <td>-0.594060</td>\n",
       "      <td>three</td>\n",
       "    </tr>\n",
       "  </tbody>\n",
       "</table>\n",
       "</div>"
      ],
      "text/plain": [
       "                   A         B         C         D      E\n",
       "2013-01-01  0.030809 -0.987374 -1.176340  0.351017    one\n",
       "2013-01-02 -0.553716  1.247471 -1.988367 -0.209985    one\n",
       "2013-01-03 -0.670835 -0.551412 -0.163361 -0.182903    two\n",
       "2013-01-04  0.384647  1.482012  0.453092  0.323812  three\n",
       "2013-01-05 -0.689040  1.852333 -0.400498 -1.933439   four\n",
       "2013-01-06  0.994081  0.915482 -0.616533 -0.594060  three"
      ]
     },
     "execution_count": 76,
     "metadata": {},
     "output_type": "execute_result"
    }
   ],
   "source": [
    "df2"
   ]
  },
  {
   "cell_type": "code",
   "execution_count": 80,
   "metadata": {
    "collapsed": false
   },
   "outputs": [
    {
     "data": {
      "text/html": [
       "<div>\n",
       "<table border=\"1\" class=\"dataframe\">\n",
       "  <thead>\n",
       "    <tr style=\"text-align: right;\">\n",
       "      <th></th>\n",
       "      <th>A</th>\n",
       "      <th>B</th>\n",
       "      <th>C</th>\n",
       "      <th>D</th>\n",
       "      <th>E</th>\n",
       "    </tr>\n",
       "  </thead>\n",
       "  <tbody>\n",
       "    <tr>\n",
       "      <th>2013-01-03</th>\n",
       "      <td>-0.670835</td>\n",
       "      <td>-0.551412</td>\n",
       "      <td>-0.163361</td>\n",
       "      <td>-0.182903</td>\n",
       "      <td>two</td>\n",
       "    </tr>\n",
       "    <tr>\n",
       "      <th>2013-01-05</th>\n",
       "      <td>-0.689040</td>\n",
       "      <td>1.852333</td>\n",
       "      <td>-0.400498</td>\n",
       "      <td>-1.933439</td>\n",
       "      <td>four</td>\n",
       "    </tr>\n",
       "  </tbody>\n",
       "</table>\n",
       "</div>"
      ],
      "text/plain": [
       "                   A         B         C         D     E\n",
       "2013-01-03 -0.670835 -0.551412 -0.163361 -0.182903   two\n",
       "2013-01-05 -0.689040  1.852333 -0.400498 -1.933439  four"
      ]
     },
     "execution_count": 80,
     "metadata": {},
     "output_type": "execute_result"
    }
   ],
   "source": [
    "df2[df2['E'].isin(['two','four'])]"
   ]
  },
  {
   "cell_type": "markdown",
   "metadata": {},
   "source": [
    "Setting\n",
    "\n",
    "Setting a new column automatically aligns the data by the indexes"
   ]
  },
  {
   "cell_type": "code",
   "execution_count": 81,
   "metadata": {
    "collapsed": true
   },
   "outputs": [],
   "source": [
    "s1 = pd.Series([1,2,3,4,5,6], index=pd.date_range('20130102', periods=6))"
   ]
  },
  {
   "cell_type": "code",
   "execution_count": 100,
   "metadata": {
    "collapsed": true
   },
   "outputs": [],
   "source": [
    "df['F']=s1"
   ]
  },
  {
   "cell_type": "code",
   "execution_count": 101,
   "metadata": {
    "collapsed": false
   },
   "outputs": [
    {
     "data": {
      "text/plain": [
       "2013-01-02    1\n",
       "2013-01-03    2\n",
       "2013-01-04    3\n",
       "2013-01-05    4\n",
       "2013-01-06    5\n",
       "2013-01-07    6\n",
       "Freq: D, dtype: int64"
      ]
     },
     "execution_count": 101,
     "metadata": {},
     "output_type": "execute_result"
    }
   ],
   "source": [
    "s1"
   ]
  },
  {
   "cell_type": "markdown",
   "metadata": {},
   "source": [
    "Setting values by label"
   ]
  },
  {
   "cell_type": "code",
   "execution_count": 102,
   "metadata": {
    "collapsed": true
   },
   "outputs": [],
   "source": [
    "df.at[dates[0],'A'] = 0"
   ]
  },
  {
   "cell_type": "code",
   "execution_count": 103,
   "metadata": {
    "collapsed": false
   },
   "outputs": [
    {
     "data": {
      "text/html": [
       "<div>\n",
       "<table border=\"1\" class=\"dataframe\">\n",
       "  <thead>\n",
       "    <tr style=\"text-align: right;\">\n",
       "      <th></th>\n",
       "      <th>A</th>\n",
       "      <th>B</th>\n",
       "      <th>C</th>\n",
       "      <th>D</th>\n",
       "      <th>F</th>\n",
       "    </tr>\n",
       "  </thead>\n",
       "  <tbody>\n",
       "    <tr>\n",
       "      <th>2013-01-01</th>\n",
       "      <td>0.000000</td>\n",
       "      <td>0.000000</td>\n",
       "      <td>-1.176340</td>\n",
       "      <td>5</td>\n",
       "      <td>NaN</td>\n",
       "    </tr>\n",
       "    <tr>\n",
       "      <th>2013-01-02</th>\n",
       "      <td>-0.553716</td>\n",
       "      <td>1.247471</td>\n",
       "      <td>-1.988367</td>\n",
       "      <td>5</td>\n",
       "      <td>1.0</td>\n",
       "    </tr>\n",
       "    <tr>\n",
       "      <th>2013-01-03</th>\n",
       "      <td>-0.670835</td>\n",
       "      <td>-0.551412</td>\n",
       "      <td>-0.163361</td>\n",
       "      <td>5</td>\n",
       "      <td>2.0</td>\n",
       "    </tr>\n",
       "    <tr>\n",
       "      <th>2013-01-04</th>\n",
       "      <td>0.384647</td>\n",
       "      <td>1.482012</td>\n",
       "      <td>0.453092</td>\n",
       "      <td>5</td>\n",
       "      <td>3.0</td>\n",
       "    </tr>\n",
       "    <tr>\n",
       "      <th>2013-01-05</th>\n",
       "      <td>-0.689040</td>\n",
       "      <td>1.852333</td>\n",
       "      <td>-0.400498</td>\n",
       "      <td>5</td>\n",
       "      <td>4.0</td>\n",
       "    </tr>\n",
       "    <tr>\n",
       "      <th>2013-01-06</th>\n",
       "      <td>0.994081</td>\n",
       "      <td>0.915482</td>\n",
       "      <td>-0.616533</td>\n",
       "      <td>5</td>\n",
       "      <td>5.0</td>\n",
       "    </tr>\n",
       "  </tbody>\n",
       "</table>\n",
       "</div>"
      ],
      "text/plain": [
       "                   A         B         C  D    F\n",
       "2013-01-01  0.000000  0.000000 -1.176340  5  NaN\n",
       "2013-01-02 -0.553716  1.247471 -1.988367  5  1.0\n",
       "2013-01-03 -0.670835 -0.551412 -0.163361  5  2.0\n",
       "2013-01-04  0.384647  1.482012  0.453092  5  3.0\n",
       "2013-01-05 -0.689040  1.852333 -0.400498  5  4.0\n",
       "2013-01-06  0.994081  0.915482 -0.616533  5  5.0"
      ]
     },
     "execution_count": 103,
     "metadata": {},
     "output_type": "execute_result"
    }
   ],
   "source": [
    "df"
   ]
  },
  {
   "cell_type": "markdown",
   "metadata": {},
   "source": [
    "Setting values by position"
   ]
  },
  {
   "cell_type": "code",
   "execution_count": 104,
   "metadata": {
    "collapsed": true
   },
   "outputs": [],
   "source": [
    "df.iat[0,1] = 0"
   ]
  },
  {
   "cell_type": "code",
   "execution_count": 105,
   "metadata": {
    "collapsed": false
   },
   "outputs": [
    {
     "data": {
      "text/html": [
       "<div>\n",
       "<table border=\"1\" class=\"dataframe\">\n",
       "  <thead>\n",
       "    <tr style=\"text-align: right;\">\n",
       "      <th></th>\n",
       "      <th>A</th>\n",
       "      <th>B</th>\n",
       "      <th>C</th>\n",
       "      <th>D</th>\n",
       "      <th>F</th>\n",
       "    </tr>\n",
       "  </thead>\n",
       "  <tbody>\n",
       "    <tr>\n",
       "      <th>2013-01-01</th>\n",
       "      <td>0.000000</td>\n",
       "      <td>0.000000</td>\n",
       "      <td>-1.176340</td>\n",
       "      <td>5</td>\n",
       "      <td>NaN</td>\n",
       "    </tr>\n",
       "    <tr>\n",
       "      <th>2013-01-02</th>\n",
       "      <td>-0.553716</td>\n",
       "      <td>1.247471</td>\n",
       "      <td>-1.988367</td>\n",
       "      <td>5</td>\n",
       "      <td>1.0</td>\n",
       "    </tr>\n",
       "    <tr>\n",
       "      <th>2013-01-03</th>\n",
       "      <td>-0.670835</td>\n",
       "      <td>-0.551412</td>\n",
       "      <td>-0.163361</td>\n",
       "      <td>5</td>\n",
       "      <td>2.0</td>\n",
       "    </tr>\n",
       "    <tr>\n",
       "      <th>2013-01-04</th>\n",
       "      <td>0.384647</td>\n",
       "      <td>1.482012</td>\n",
       "      <td>0.453092</td>\n",
       "      <td>5</td>\n",
       "      <td>3.0</td>\n",
       "    </tr>\n",
       "    <tr>\n",
       "      <th>2013-01-05</th>\n",
       "      <td>-0.689040</td>\n",
       "      <td>1.852333</td>\n",
       "      <td>-0.400498</td>\n",
       "      <td>5</td>\n",
       "      <td>4.0</td>\n",
       "    </tr>\n",
       "    <tr>\n",
       "      <th>2013-01-06</th>\n",
       "      <td>0.994081</td>\n",
       "      <td>0.915482</td>\n",
       "      <td>-0.616533</td>\n",
       "      <td>5</td>\n",
       "      <td>5.0</td>\n",
       "    </tr>\n",
       "  </tbody>\n",
       "</table>\n",
       "</div>"
      ],
      "text/plain": [
       "                   A         B         C  D    F\n",
       "2013-01-01  0.000000  0.000000 -1.176340  5  NaN\n",
       "2013-01-02 -0.553716  1.247471 -1.988367  5  1.0\n",
       "2013-01-03 -0.670835 -0.551412 -0.163361  5  2.0\n",
       "2013-01-04  0.384647  1.482012  0.453092  5  3.0\n",
       "2013-01-05 -0.689040  1.852333 -0.400498  5  4.0\n",
       "2013-01-06  0.994081  0.915482 -0.616533  5  5.0"
      ]
     },
     "execution_count": 105,
     "metadata": {},
     "output_type": "execute_result"
    }
   ],
   "source": [
    "df"
   ]
  },
  {
   "cell_type": "markdown",
   "metadata": {},
   "source": [
    "Setting by assigning numpy array"
   ]
  },
  {
   "cell_type": "code",
   "execution_count": 106,
   "metadata": {
    "collapsed": true
   },
   "outputs": [],
   "source": [
    "df.loc[:,'D'] = np.array([5] * len(df))"
   ]
  },
  {
   "cell_type": "code",
   "execution_count": 107,
   "metadata": {
    "collapsed": false
   },
   "outputs": [
    {
     "data": {
      "text/html": [
       "<div>\n",
       "<table border=\"1\" class=\"dataframe\">\n",
       "  <thead>\n",
       "    <tr style=\"text-align: right;\">\n",
       "      <th></th>\n",
       "      <th>A</th>\n",
       "      <th>B</th>\n",
       "      <th>C</th>\n",
       "      <th>D</th>\n",
       "      <th>F</th>\n",
       "    </tr>\n",
       "  </thead>\n",
       "  <tbody>\n",
       "    <tr>\n",
       "      <th>2013-01-01</th>\n",
       "      <td>0.000000</td>\n",
       "      <td>0.000000</td>\n",
       "      <td>-1.176340</td>\n",
       "      <td>5</td>\n",
       "      <td>NaN</td>\n",
       "    </tr>\n",
       "    <tr>\n",
       "      <th>2013-01-02</th>\n",
       "      <td>-0.553716</td>\n",
       "      <td>1.247471</td>\n",
       "      <td>-1.988367</td>\n",
       "      <td>5</td>\n",
       "      <td>1.0</td>\n",
       "    </tr>\n",
       "    <tr>\n",
       "      <th>2013-01-03</th>\n",
       "      <td>-0.670835</td>\n",
       "      <td>-0.551412</td>\n",
       "      <td>-0.163361</td>\n",
       "      <td>5</td>\n",
       "      <td>2.0</td>\n",
       "    </tr>\n",
       "    <tr>\n",
       "      <th>2013-01-04</th>\n",
       "      <td>0.384647</td>\n",
       "      <td>1.482012</td>\n",
       "      <td>0.453092</td>\n",
       "      <td>5</td>\n",
       "      <td>3.0</td>\n",
       "    </tr>\n",
       "    <tr>\n",
       "      <th>2013-01-05</th>\n",
       "      <td>-0.689040</td>\n",
       "      <td>1.852333</td>\n",
       "      <td>-0.400498</td>\n",
       "      <td>5</td>\n",
       "      <td>4.0</td>\n",
       "    </tr>\n",
       "    <tr>\n",
       "      <th>2013-01-06</th>\n",
       "      <td>0.994081</td>\n",
       "      <td>0.915482</td>\n",
       "      <td>-0.616533</td>\n",
       "      <td>5</td>\n",
       "      <td>5.0</td>\n",
       "    </tr>\n",
       "  </tbody>\n",
       "</table>\n",
       "</div>"
      ],
      "text/plain": [
       "                   A         B         C  D    F\n",
       "2013-01-01  0.000000  0.000000 -1.176340  5  NaN\n",
       "2013-01-02 -0.553716  1.247471 -1.988367  5  1.0\n",
       "2013-01-03 -0.670835 -0.551412 -0.163361  5  2.0\n",
       "2013-01-04  0.384647  1.482012  0.453092  5  3.0\n",
       "2013-01-05 -0.689040  1.852333 -0.400498  5  4.0\n",
       "2013-01-06  0.994081  0.915482 -0.616533  5  5.0"
      ]
     },
     "execution_count": 107,
     "metadata": {},
     "output_type": "execute_result"
    }
   ],
   "source": [
    "df"
   ]
  },
  {
   "cell_type": "markdown",
   "metadata": {},
   "source": [
    "A where operation with setting."
   ]
  },
  {
   "cell_type": "code",
   "execution_count": 109,
   "metadata": {
    "collapsed": false
   },
   "outputs": [
    {
     "data": {
      "text/html": [
       "<div>\n",
       "<table border=\"1\" class=\"dataframe\">\n",
       "  <thead>\n",
       "    <tr style=\"text-align: right;\">\n",
       "      <th></th>\n",
       "      <th>A</th>\n",
       "      <th>B</th>\n",
       "      <th>C</th>\n",
       "      <th>D</th>\n",
       "      <th>F</th>\n",
       "    </tr>\n",
       "  </thead>\n",
       "  <tbody>\n",
       "    <tr>\n",
       "      <th>2013-01-01</th>\n",
       "      <td>0.000000</td>\n",
       "      <td>0.000000</td>\n",
       "      <td>-1.176340</td>\n",
       "      <td>-5</td>\n",
       "      <td>NaN</td>\n",
       "    </tr>\n",
       "    <tr>\n",
       "      <th>2013-01-02</th>\n",
       "      <td>-0.553716</td>\n",
       "      <td>-1.247471</td>\n",
       "      <td>-1.988367</td>\n",
       "      <td>-5</td>\n",
       "      <td>-1.0</td>\n",
       "    </tr>\n",
       "    <tr>\n",
       "      <th>2013-01-03</th>\n",
       "      <td>-0.670835</td>\n",
       "      <td>-0.551412</td>\n",
       "      <td>-0.163361</td>\n",
       "      <td>-5</td>\n",
       "      <td>-2.0</td>\n",
       "    </tr>\n",
       "    <tr>\n",
       "      <th>2013-01-04</th>\n",
       "      <td>-0.384647</td>\n",
       "      <td>-1.482012</td>\n",
       "      <td>-0.453092</td>\n",
       "      <td>-5</td>\n",
       "      <td>-3.0</td>\n",
       "    </tr>\n",
       "    <tr>\n",
       "      <th>2013-01-05</th>\n",
       "      <td>-0.689040</td>\n",
       "      <td>-1.852333</td>\n",
       "      <td>-0.400498</td>\n",
       "      <td>-5</td>\n",
       "      <td>-4.0</td>\n",
       "    </tr>\n",
       "    <tr>\n",
       "      <th>2013-01-06</th>\n",
       "      <td>-0.994081</td>\n",
       "      <td>-0.915482</td>\n",
       "      <td>-0.616533</td>\n",
       "      <td>-5</td>\n",
       "      <td>-5.0</td>\n",
       "    </tr>\n",
       "  </tbody>\n",
       "</table>\n",
       "</div>"
      ],
      "text/plain": [
       "                   A         B         C  D    F\n",
       "2013-01-01  0.000000  0.000000 -1.176340 -5  NaN\n",
       "2013-01-02 -0.553716 -1.247471 -1.988367 -5 -1.0\n",
       "2013-01-03 -0.670835 -0.551412 -0.163361 -5 -2.0\n",
       "2013-01-04 -0.384647 -1.482012 -0.453092 -5 -3.0\n",
       "2013-01-05 -0.689040 -1.852333 -0.400498 -5 -4.0\n",
       "2013-01-06 -0.994081 -0.915482 -0.616533 -5 -5.0"
      ]
     },
     "execution_count": 109,
     "metadata": {},
     "output_type": "execute_result"
    }
   ],
   "source": [
    "df2 = df.copy()\n",
    "\n",
    "df2[df2 > 0] = -df2\n",
    "\n",
    "df2"
   ]
  },
  {
   "cell_type": "markdown",
   "metadata": {},
   "source": [
    "Missing Data\n",
    "\n",
    "pandas primarily uses the value np.nan to represent missing data. It is by default not included in computations. See the Missing Data section\n",
    "\n",
    "Reindexing allows you to change/add/delete the index on a specified axis. This returns a copy of the data."
   ]
  },
  {
   "cell_type": "code",
   "execution_count": 113,
   "metadata": {
    "collapsed": false
   },
   "outputs": [
    {
     "data": {
      "text/html": [
       "<div>\n",
       "<table border=\"1\" class=\"dataframe\">\n",
       "  <thead>\n",
       "    <tr style=\"text-align: right;\">\n",
       "      <th></th>\n",
       "      <th>A</th>\n",
       "      <th>B</th>\n",
       "      <th>C</th>\n",
       "      <th>D</th>\n",
       "      <th>F</th>\n",
       "      <th>E</th>\n",
       "    </tr>\n",
       "  </thead>\n",
       "  <tbody>\n",
       "    <tr>\n",
       "      <th>2013-01-01</th>\n",
       "      <td>0.000000</td>\n",
       "      <td>0.000000</td>\n",
       "      <td>-1.176340</td>\n",
       "      <td>5</td>\n",
       "      <td>NaN</td>\n",
       "      <td>1.0</td>\n",
       "    </tr>\n",
       "    <tr>\n",
       "      <th>2013-01-02</th>\n",
       "      <td>-0.553716</td>\n",
       "      <td>1.247471</td>\n",
       "      <td>-1.988367</td>\n",
       "      <td>5</td>\n",
       "      <td>1.0</td>\n",
       "      <td>1.0</td>\n",
       "    </tr>\n",
       "    <tr>\n",
       "      <th>2013-01-03</th>\n",
       "      <td>-0.670835</td>\n",
       "      <td>-0.551412</td>\n",
       "      <td>-0.163361</td>\n",
       "      <td>5</td>\n",
       "      <td>2.0</td>\n",
       "      <td>NaN</td>\n",
       "    </tr>\n",
       "    <tr>\n",
       "      <th>2013-01-04</th>\n",
       "      <td>0.384647</td>\n",
       "      <td>1.482012</td>\n",
       "      <td>0.453092</td>\n",
       "      <td>5</td>\n",
       "      <td>3.0</td>\n",
       "      <td>NaN</td>\n",
       "    </tr>\n",
       "  </tbody>\n",
       "</table>\n",
       "</div>"
      ],
      "text/plain": [
       "                   A         B         C  D    F    E\n",
       "2013-01-01  0.000000  0.000000 -1.176340  5  NaN  1.0\n",
       "2013-01-02 -0.553716  1.247471 -1.988367  5  1.0  1.0\n",
       "2013-01-03 -0.670835 -0.551412 -0.163361  5  2.0  NaN\n",
       "2013-01-04  0.384647  1.482012  0.453092  5  3.0  NaN"
      ]
     },
     "execution_count": 113,
     "metadata": {},
     "output_type": "execute_result"
    }
   ],
   "source": [
    "df1 = df.reindex(index=dates[0:4], columns=list(df.columns) + ['E'])\n",
    "\n",
    "df1.loc[dates[0]:dates[1],'E']=1\n",
    "\n",
    "df1"
   ]
  },
  {
   "cell_type": "markdown",
   "metadata": {},
   "source": [
    "To drop any rows that have missing data"
   ]
  },
  {
   "cell_type": "code",
   "execution_count": 114,
   "metadata": {
    "collapsed": false
   },
   "outputs": [
    {
     "data": {
      "text/html": [
       "<div>\n",
       "<table border=\"1\" class=\"dataframe\">\n",
       "  <thead>\n",
       "    <tr style=\"text-align: right;\">\n",
       "      <th></th>\n",
       "      <th>A</th>\n",
       "      <th>B</th>\n",
       "      <th>C</th>\n",
       "      <th>D</th>\n",
       "      <th>F</th>\n",
       "      <th>E</th>\n",
       "    </tr>\n",
       "  </thead>\n",
       "  <tbody>\n",
       "    <tr>\n",
       "      <th>2013-01-02</th>\n",
       "      <td>-0.553716</td>\n",
       "      <td>1.247471</td>\n",
       "      <td>-1.988367</td>\n",
       "      <td>5</td>\n",
       "      <td>1.0</td>\n",
       "      <td>1.0</td>\n",
       "    </tr>\n",
       "  </tbody>\n",
       "</table>\n",
       "</div>"
      ],
      "text/plain": [
       "                   A         B         C  D    F    E\n",
       "2013-01-02 -0.553716  1.247471 -1.988367  5  1.0  1.0"
      ]
     },
     "execution_count": 114,
     "metadata": {},
     "output_type": "execute_result"
    }
   ],
   "source": [
    "df1.dropna(how='any')"
   ]
  },
  {
   "cell_type": "markdown",
   "metadata": {},
   "source": [
    "Filling missing data"
   ]
  },
  {
   "cell_type": "code",
   "execution_count": 115,
   "metadata": {
    "collapsed": false
   },
   "outputs": [
    {
     "data": {
      "text/html": [
       "<div>\n",
       "<table border=\"1\" class=\"dataframe\">\n",
       "  <thead>\n",
       "    <tr style=\"text-align: right;\">\n",
       "      <th></th>\n",
       "      <th>A</th>\n",
       "      <th>B</th>\n",
       "      <th>C</th>\n",
       "      <th>D</th>\n",
       "      <th>F</th>\n",
       "      <th>E</th>\n",
       "    </tr>\n",
       "  </thead>\n",
       "  <tbody>\n",
       "    <tr>\n",
       "      <th>2013-01-01</th>\n",
       "      <td>0.000000</td>\n",
       "      <td>0.000000</td>\n",
       "      <td>-1.176340</td>\n",
       "      <td>5</td>\n",
       "      <td>5.0</td>\n",
       "      <td>1.0</td>\n",
       "    </tr>\n",
       "    <tr>\n",
       "      <th>2013-01-02</th>\n",
       "      <td>-0.553716</td>\n",
       "      <td>1.247471</td>\n",
       "      <td>-1.988367</td>\n",
       "      <td>5</td>\n",
       "      <td>1.0</td>\n",
       "      <td>1.0</td>\n",
       "    </tr>\n",
       "    <tr>\n",
       "      <th>2013-01-03</th>\n",
       "      <td>-0.670835</td>\n",
       "      <td>-0.551412</td>\n",
       "      <td>-0.163361</td>\n",
       "      <td>5</td>\n",
       "      <td>2.0</td>\n",
       "      <td>5.0</td>\n",
       "    </tr>\n",
       "    <tr>\n",
       "      <th>2013-01-04</th>\n",
       "      <td>0.384647</td>\n",
       "      <td>1.482012</td>\n",
       "      <td>0.453092</td>\n",
       "      <td>5</td>\n",
       "      <td>3.0</td>\n",
       "      <td>5.0</td>\n",
       "    </tr>\n",
       "  </tbody>\n",
       "</table>\n",
       "</div>"
      ],
      "text/plain": [
       "                   A         B         C  D    F    E\n",
       "2013-01-01  0.000000  0.000000 -1.176340  5  5.0  1.0\n",
       "2013-01-02 -0.553716  1.247471 -1.988367  5  1.0  1.0\n",
       "2013-01-03 -0.670835 -0.551412 -0.163361  5  2.0  5.0\n",
       "2013-01-04  0.384647  1.482012  0.453092  5  3.0  5.0"
      ]
     },
     "execution_count": 115,
     "metadata": {},
     "output_type": "execute_result"
    }
   ],
   "source": [
    "df1.fillna(value=5)"
   ]
  },
  {
   "cell_type": "markdown",
   "metadata": {},
   "source": [
    "To get the boolean mask where values are nan"
   ]
  },
  {
   "cell_type": "code",
   "execution_count": 116,
   "metadata": {
    "collapsed": false
   },
   "outputs": [
    {
     "data": {
      "text/html": [
       "<div>\n",
       "<table border=\"1\" class=\"dataframe\">\n",
       "  <thead>\n",
       "    <tr style=\"text-align: right;\">\n",
       "      <th></th>\n",
       "      <th>A</th>\n",
       "      <th>B</th>\n",
       "      <th>C</th>\n",
       "      <th>D</th>\n",
       "      <th>F</th>\n",
       "      <th>E</th>\n",
       "    </tr>\n",
       "  </thead>\n",
       "  <tbody>\n",
       "    <tr>\n",
       "      <th>2013-01-01</th>\n",
       "      <td>False</td>\n",
       "      <td>False</td>\n",
       "      <td>False</td>\n",
       "      <td>False</td>\n",
       "      <td>True</td>\n",
       "      <td>False</td>\n",
       "    </tr>\n",
       "    <tr>\n",
       "      <th>2013-01-02</th>\n",
       "      <td>False</td>\n",
       "      <td>False</td>\n",
       "      <td>False</td>\n",
       "      <td>False</td>\n",
       "      <td>False</td>\n",
       "      <td>False</td>\n",
       "    </tr>\n",
       "    <tr>\n",
       "      <th>2013-01-03</th>\n",
       "      <td>False</td>\n",
       "      <td>False</td>\n",
       "      <td>False</td>\n",
       "      <td>False</td>\n",
       "      <td>False</td>\n",
       "      <td>True</td>\n",
       "    </tr>\n",
       "    <tr>\n",
       "      <th>2013-01-04</th>\n",
       "      <td>False</td>\n",
       "      <td>False</td>\n",
       "      <td>False</td>\n",
       "      <td>False</td>\n",
       "      <td>False</td>\n",
       "      <td>True</td>\n",
       "    </tr>\n",
       "  </tbody>\n",
       "</table>\n",
       "</div>"
      ],
      "text/plain": [
       "                A      B      C      D      F      E\n",
       "2013-01-01  False  False  False  False   True  False\n",
       "2013-01-02  False  False  False  False  False  False\n",
       "2013-01-03  False  False  False  False  False   True\n",
       "2013-01-04  False  False  False  False  False   True"
      ]
     },
     "execution_count": 116,
     "metadata": {},
     "output_type": "execute_result"
    }
   ],
   "source": [
    "pd.isnull(df1)"
   ]
  },
  {
   "cell_type": "markdown",
   "metadata": {},
   "source": [
    "Operations\n",
    "\n",
    "Operations in general exclude missing data.\n",
    "\n",
    "\n",
    "Performing a descriptive statistic"
   ]
  },
  {
   "cell_type": "code",
   "execution_count": 122,
   "metadata": {
    "collapsed": false
   },
   "outputs": [
    {
     "data": {
      "text/plain": [
       "A   -0.089144\n",
       "B    0.824314\n",
       "C   -0.648668\n",
       "D    5.000000\n",
       "F    3.000000\n",
       "dtype: float64"
      ]
     },
     "execution_count": 122,
     "metadata": {},
     "output_type": "execute_result"
    }
   ],
   "source": [
    "df.mean()"
   ]
  },
  {
   "cell_type": "markdown",
   "metadata": {},
   "source": [
    "Same on other axis"
   ]
  },
  {
   "cell_type": "code",
   "execution_count": 123,
   "metadata": {
    "collapsed": false
   },
   "outputs": [
    {
     "data": {
      "text/plain": [
       "2013-01-01    0.955915\n",
       "2013-01-02    0.941078\n",
       "2013-01-03    1.122878\n",
       "2013-01-04    2.063950\n",
       "2013-01-05    1.952559\n",
       "2013-01-06    2.258606\n",
       "Freq: D, dtype: float64"
      ]
     },
     "execution_count": 123,
     "metadata": {},
     "output_type": "execute_result"
    }
   ],
   "source": [
    "df.mean(1)"
   ]
  },
  {
   "cell_type": "markdown",
   "metadata": {},
   "source": [
    "Operating with objects that have different dimensionality and need alignment. In addition, pandas automatically broadcasts along the specified dimension."
   ]
  },
  {
   "cell_type": "code",
   "execution_count": 125,
   "metadata": {
    "collapsed": false
   },
   "outputs": [
    {
     "data": {
      "text/plain": [
       "2013-01-01    NaN\n",
       "2013-01-02    NaN\n",
       "2013-01-03    1.0\n",
       "2013-01-04    3.0\n",
       "2013-01-05    5.0\n",
       "2013-01-06    NaN\n",
       "Freq: D, dtype: float64"
      ]
     },
     "execution_count": 125,
     "metadata": {},
     "output_type": "execute_result"
    }
   ],
   "source": [
    "s = pd.Series([1,3,5,np.nan,6,8], index=dates).shift(2)\n",
    "s"
   ]
  },
  {
   "cell_type": "code",
   "execution_count": 126,
   "metadata": {
    "collapsed": false
   },
   "outputs": [
    {
     "data": {
      "text/html": [
       "<div>\n",
       "<table border=\"1\" class=\"dataframe\">\n",
       "  <thead>\n",
       "    <tr style=\"text-align: right;\">\n",
       "      <th></th>\n",
       "      <th>A</th>\n",
       "      <th>B</th>\n",
       "      <th>C</th>\n",
       "      <th>D</th>\n",
       "      <th>F</th>\n",
       "    </tr>\n",
       "  </thead>\n",
       "  <tbody>\n",
       "    <tr>\n",
       "      <th>2013-01-01</th>\n",
       "      <td>NaN</td>\n",
       "      <td>NaN</td>\n",
       "      <td>NaN</td>\n",
       "      <td>NaN</td>\n",
       "      <td>NaN</td>\n",
       "    </tr>\n",
       "    <tr>\n",
       "      <th>2013-01-02</th>\n",
       "      <td>NaN</td>\n",
       "      <td>NaN</td>\n",
       "      <td>NaN</td>\n",
       "      <td>NaN</td>\n",
       "      <td>NaN</td>\n",
       "    </tr>\n",
       "    <tr>\n",
       "      <th>2013-01-03</th>\n",
       "      <td>-1.670835</td>\n",
       "      <td>-1.551412</td>\n",
       "      <td>-1.163361</td>\n",
       "      <td>4.0</td>\n",
       "      <td>1.0</td>\n",
       "    </tr>\n",
       "    <tr>\n",
       "      <th>2013-01-04</th>\n",
       "      <td>-2.615353</td>\n",
       "      <td>-1.517988</td>\n",
       "      <td>-2.546908</td>\n",
       "      <td>2.0</td>\n",
       "      <td>0.0</td>\n",
       "    </tr>\n",
       "    <tr>\n",
       "      <th>2013-01-05</th>\n",
       "      <td>-5.689040</td>\n",
       "      <td>-3.147667</td>\n",
       "      <td>-5.400498</td>\n",
       "      <td>0.0</td>\n",
       "      <td>-1.0</td>\n",
       "    </tr>\n",
       "    <tr>\n",
       "      <th>2013-01-06</th>\n",
       "      <td>NaN</td>\n",
       "      <td>NaN</td>\n",
       "      <td>NaN</td>\n",
       "      <td>NaN</td>\n",
       "      <td>NaN</td>\n",
       "    </tr>\n",
       "  </tbody>\n",
       "</table>\n",
       "</div>"
      ],
      "text/plain": [
       "                   A         B         C    D    F\n",
       "2013-01-01       NaN       NaN       NaN  NaN  NaN\n",
       "2013-01-02       NaN       NaN       NaN  NaN  NaN\n",
       "2013-01-03 -1.670835 -1.551412 -1.163361  4.0  1.0\n",
       "2013-01-04 -2.615353 -1.517988 -2.546908  2.0  0.0\n",
       "2013-01-05 -5.689040 -3.147667 -5.400498  0.0 -1.0\n",
       "2013-01-06       NaN       NaN       NaN  NaN  NaN"
      ]
     },
     "execution_count": 126,
     "metadata": {},
     "output_type": "execute_result"
    }
   ],
   "source": [
    "df.sub(s, axis='index')"
   ]
  },
  {
   "cell_type": "markdown",
   "metadata": {},
   "source": [
    "Applying functions to the data"
   ]
  },
  {
   "cell_type": "code",
   "execution_count": 131,
   "metadata": {
    "collapsed": false
   },
   "outputs": [
    {
     "data": {
      "text/html": [
       "<div>\n",
       "<table border=\"1\" class=\"dataframe\">\n",
       "  <thead>\n",
       "    <tr style=\"text-align: right;\">\n",
       "      <th></th>\n",
       "      <th>A</th>\n",
       "      <th>B</th>\n",
       "      <th>C</th>\n",
       "      <th>D</th>\n",
       "      <th>F</th>\n",
       "    </tr>\n",
       "  </thead>\n",
       "  <tbody>\n",
       "    <tr>\n",
       "      <th>2013-01-01</th>\n",
       "      <td>0.000000</td>\n",
       "      <td>0.000000</td>\n",
       "      <td>-1.176340</td>\n",
       "      <td>5</td>\n",
       "      <td>NaN</td>\n",
       "    </tr>\n",
       "    <tr>\n",
       "      <th>2013-01-02</th>\n",
       "      <td>-0.553716</td>\n",
       "      <td>1.247471</td>\n",
       "      <td>-3.164708</td>\n",
       "      <td>10</td>\n",
       "      <td>1.0</td>\n",
       "    </tr>\n",
       "    <tr>\n",
       "      <th>2013-01-03</th>\n",
       "      <td>-1.224551</td>\n",
       "      <td>0.696059</td>\n",
       "      <td>-3.328069</td>\n",
       "      <td>15</td>\n",
       "      <td>3.0</td>\n",
       "    </tr>\n",
       "    <tr>\n",
       "      <th>2013-01-04</th>\n",
       "      <td>-0.839904</td>\n",
       "      <td>2.178071</td>\n",
       "      <td>-2.874977</td>\n",
       "      <td>20</td>\n",
       "      <td>6.0</td>\n",
       "    </tr>\n",
       "    <tr>\n",
       "      <th>2013-01-05</th>\n",
       "      <td>-1.528944</td>\n",
       "      <td>4.030405</td>\n",
       "      <td>-3.275475</td>\n",
       "      <td>25</td>\n",
       "      <td>10.0</td>\n",
       "    </tr>\n",
       "    <tr>\n",
       "      <th>2013-01-06</th>\n",
       "      <td>-0.534863</td>\n",
       "      <td>4.945886</td>\n",
       "      <td>-3.892008</td>\n",
       "      <td>30</td>\n",
       "      <td>15.0</td>\n",
       "    </tr>\n",
       "  </tbody>\n",
       "</table>\n",
       "</div>"
      ],
      "text/plain": [
       "                   A         B         C   D     F\n",
       "2013-01-01  0.000000  0.000000 -1.176340   5   NaN\n",
       "2013-01-02 -0.553716  1.247471 -3.164708  10   1.0\n",
       "2013-01-03 -1.224551  0.696059 -3.328069  15   3.0\n",
       "2013-01-04 -0.839904  2.178071 -2.874977  20   6.0\n",
       "2013-01-05 -1.528944  4.030405 -3.275475  25  10.0\n",
       "2013-01-06 -0.534863  4.945886 -3.892008  30  15.0"
      ]
     },
     "execution_count": 131,
     "metadata": {},
     "output_type": "execute_result"
    }
   ],
   "source": [
    "df.apply(np.cumsum)"
   ]
  },
  {
   "cell_type": "code",
   "execution_count": 132,
   "metadata": {
    "collapsed": false
   },
   "outputs": [
    {
     "data": {
      "text/plain": [
       "A    1.683121\n",
       "B    2.403745\n",
       "C    2.441459\n",
       "D    0.000000\n",
       "F    4.000000\n",
       "dtype: float64"
      ]
     },
     "execution_count": 132,
     "metadata": {},
     "output_type": "execute_result"
    }
   ],
   "source": [
    "df.apply(lambda x: x.max() - x.min())"
   ]
  },
  {
   "cell_type": "markdown",
   "metadata": {},
   "source": [
    "Histogramming"
   ]
  },
  {
   "cell_type": "code",
   "execution_count": 134,
   "metadata": {
    "collapsed": true
   },
   "outputs": [],
   "source": [
    "s = pd.Series(np.random.randint(0, 7, size=10))"
   ]
  },
  {
   "cell_type": "code",
   "execution_count": 135,
   "metadata": {
    "collapsed": false
   },
   "outputs": [
    {
     "data": {
      "text/plain": [
       "0    0\n",
       "1    2\n",
       "2    0\n",
       "3    1\n",
       "4    3\n",
       "5    5\n",
       "6    2\n",
       "7    4\n",
       "8    6\n",
       "9    6\n",
       "dtype: int32"
      ]
     },
     "execution_count": 135,
     "metadata": {},
     "output_type": "execute_result"
    }
   ],
   "source": [
    "s"
   ]
  },
  {
   "cell_type": "code",
   "execution_count": 136,
   "metadata": {
    "collapsed": false
   },
   "outputs": [
    {
     "data": {
      "text/plain": [
       "6    2\n",
       "2    2\n",
       "0    2\n",
       "5    1\n",
       "4    1\n",
       "3    1\n",
       "1    1\n",
       "dtype: int64"
      ]
     },
     "execution_count": 136,
     "metadata": {},
     "output_type": "execute_result"
    }
   ],
   "source": [
    "s.value_counts()"
   ]
  },
  {
   "cell_type": "markdown",
   "metadata": {},
   "source": [
    "Series Methods\n",
    "\n",
    "Series is equipped with a set of string processing methods in the str attribute that make it easy to operate on each element of the array, as in the code snippet below. Note that pattern-matching in str generally uses regular expressions by default (and in some cases always uses them). See more at Vectorized String Methods."
   ]
  },
  {
   "cell_type": "code",
   "execution_count": 137,
   "metadata": {
    "collapsed": true
   },
   "outputs": [],
   "source": [
    "s = pd.Series(['A', 'B', 'C', 'Aaba', 'Baca', np.nan, 'CABA', 'dog', 'cat'])"
   ]
  },
  {
   "cell_type": "code",
   "execution_count": 139,
   "metadata": {
    "collapsed": false
   },
   "outputs": [
    {
     "data": {
      "text/plain": [
       "0       a\n",
       "1       b\n",
       "2       c\n",
       "3    aaba\n",
       "4    baca\n",
       "5     NaN\n",
       "6    caba\n",
       "7     dog\n",
       "8     cat\n",
       "dtype: object"
      ]
     },
     "execution_count": 139,
     "metadata": {},
     "output_type": "execute_result"
    }
   ],
   "source": [
    "s.str.lower()\n",
    "#lower() makes everything lower case"
   ]
  },
  {
   "cell_type": "markdown",
   "metadata": {},
   "source": [
    "Merge/Concatenate\n",
    "\n",
    "pandas provides various facilities for easily combining together Series, DataFrame, and Panel objects with various kinds of set logic for the indexes and relational algebra functionality in the case of join / merge-type operations.\n",
    "\n",
    "See the Merging section\n",
    "\n",
    "Concatenating pandas objects together with concat():"
   ]
  },
  {
   "cell_type": "code",
   "execution_count": 140,
   "metadata": {
    "collapsed": false
   },
   "outputs": [
    {
     "data": {
      "text/html": [
       "<div>\n",
       "<table border=\"1\" class=\"dataframe\">\n",
       "  <thead>\n",
       "    <tr style=\"text-align: right;\">\n",
       "      <th></th>\n",
       "      <th>0</th>\n",
       "      <th>1</th>\n",
       "      <th>2</th>\n",
       "      <th>3</th>\n",
       "    </tr>\n",
       "  </thead>\n",
       "  <tbody>\n",
       "    <tr>\n",
       "      <th>0</th>\n",
       "      <td>0.205443</td>\n",
       "      <td>-0.860459</td>\n",
       "      <td>0.681564</td>\n",
       "      <td>-0.265862</td>\n",
       "    </tr>\n",
       "    <tr>\n",
       "      <th>1</th>\n",
       "      <td>0.474924</td>\n",
       "      <td>1.024937</td>\n",
       "      <td>1.207668</td>\n",
       "      <td>-0.270978</td>\n",
       "    </tr>\n",
       "    <tr>\n",
       "      <th>2</th>\n",
       "      <td>-0.334177</td>\n",
       "      <td>-0.275441</td>\n",
       "      <td>1.422924</td>\n",
       "      <td>-0.753395</td>\n",
       "    </tr>\n",
       "    <tr>\n",
       "      <th>3</th>\n",
       "      <td>-0.257874</td>\n",
       "      <td>-0.036421</td>\n",
       "      <td>0.674942</td>\n",
       "      <td>-0.414084</td>\n",
       "    </tr>\n",
       "    <tr>\n",
       "      <th>4</th>\n",
       "      <td>2.699226</td>\n",
       "      <td>-0.631530</td>\n",
       "      <td>0.914097</td>\n",
       "      <td>-0.779423</td>\n",
       "    </tr>\n",
       "    <tr>\n",
       "      <th>5</th>\n",
       "      <td>0.483161</td>\n",
       "      <td>-1.088239</td>\n",
       "      <td>-0.539259</td>\n",
       "      <td>0.407843</td>\n",
       "    </tr>\n",
       "    <tr>\n",
       "      <th>6</th>\n",
       "      <td>1.313376</td>\n",
       "      <td>-0.476141</td>\n",
       "      <td>2.026150</td>\n",
       "      <td>-0.597566</td>\n",
       "    </tr>\n",
       "    <tr>\n",
       "      <th>7</th>\n",
       "      <td>-0.080038</td>\n",
       "      <td>1.046797</td>\n",
       "      <td>0.428996</td>\n",
       "      <td>0.104484</td>\n",
       "    </tr>\n",
       "    <tr>\n",
       "      <th>8</th>\n",
       "      <td>1.185105</td>\n",
       "      <td>1.034797</td>\n",
       "      <td>-0.055182</td>\n",
       "      <td>1.685591</td>\n",
       "    </tr>\n",
       "    <tr>\n",
       "      <th>9</th>\n",
       "      <td>1.227710</td>\n",
       "      <td>-1.258060</td>\n",
       "      <td>0.390075</td>\n",
       "      <td>0.981106</td>\n",
       "    </tr>\n",
       "  </tbody>\n",
       "</table>\n",
       "</div>"
      ],
      "text/plain": [
       "          0         1         2         3\n",
       "0  0.205443 -0.860459  0.681564 -0.265862\n",
       "1  0.474924  1.024937  1.207668 -0.270978\n",
       "2 -0.334177 -0.275441  1.422924 -0.753395\n",
       "3 -0.257874 -0.036421  0.674942 -0.414084\n",
       "4  2.699226 -0.631530  0.914097 -0.779423\n",
       "5  0.483161 -1.088239 -0.539259  0.407843\n",
       "6  1.313376 -0.476141  2.026150 -0.597566\n",
       "7 -0.080038  1.046797  0.428996  0.104484\n",
       "8  1.185105  1.034797 -0.055182  1.685591\n",
       "9  1.227710 -1.258060  0.390075  0.981106"
      ]
     },
     "execution_count": 140,
     "metadata": {},
     "output_type": "execute_result"
    }
   ],
   "source": [
    "df = pd.DataFrame(np.random.randn(10, 4))\n",
    "\n",
    "df"
   ]
  },
  {
   "cell_type": "code",
   "execution_count": 141,
   "metadata": {
    "collapsed": true
   },
   "outputs": [],
   "source": [
    "# break it into pieces\n",
    "pieces = [df[:3], df[3:7], df[7:]]"
   ]
  },
  {
   "cell_type": "code",
   "execution_count": 142,
   "metadata": {
    "collapsed": false
   },
   "outputs": [
    {
     "data": {
      "text/plain": [
       "[          0         1         2         3\n",
       " 0  0.205443 -0.860459  0.681564 -0.265862\n",
       " 1  0.474924  1.024937  1.207668 -0.270978\n",
       " 2 -0.334177 -0.275441  1.422924 -0.753395,\n",
       "           0         1         2         3\n",
       " 3 -0.257874 -0.036421  0.674942 -0.414084\n",
       " 4  2.699226 -0.631530  0.914097 -0.779423\n",
       " 5  0.483161 -1.088239 -0.539259  0.407843\n",
       " 6  1.313376 -0.476141  2.026150 -0.597566,\n",
       "           0         1         2         3\n",
       " 7 -0.080038  1.046797  0.428996  0.104484\n",
       " 8  1.185105  1.034797 -0.055182  1.685591\n",
       " 9  1.227710 -1.258060  0.390075  0.981106]"
      ]
     },
     "execution_count": 142,
     "metadata": {},
     "output_type": "execute_result"
    }
   ],
   "source": [
    "pieces"
   ]
  },
  {
   "cell_type": "code",
   "execution_count": 143,
   "metadata": {
    "collapsed": false
   },
   "outputs": [
    {
     "data": {
      "text/html": [
       "<div>\n",
       "<table border=\"1\" class=\"dataframe\">\n",
       "  <thead>\n",
       "    <tr style=\"text-align: right;\">\n",
       "      <th></th>\n",
       "      <th>0</th>\n",
       "      <th>1</th>\n",
       "      <th>2</th>\n",
       "      <th>3</th>\n",
       "    </tr>\n",
       "  </thead>\n",
       "  <tbody>\n",
       "    <tr>\n",
       "      <th>0</th>\n",
       "      <td>0.205443</td>\n",
       "      <td>-0.860459</td>\n",
       "      <td>0.681564</td>\n",
       "      <td>-0.265862</td>\n",
       "    </tr>\n",
       "    <tr>\n",
       "      <th>1</th>\n",
       "      <td>0.474924</td>\n",
       "      <td>1.024937</td>\n",
       "      <td>1.207668</td>\n",
       "      <td>-0.270978</td>\n",
       "    </tr>\n",
       "    <tr>\n",
       "      <th>2</th>\n",
       "      <td>-0.334177</td>\n",
       "      <td>-0.275441</td>\n",
       "      <td>1.422924</td>\n",
       "      <td>-0.753395</td>\n",
       "    </tr>\n",
       "    <tr>\n",
       "      <th>3</th>\n",
       "      <td>-0.257874</td>\n",
       "      <td>-0.036421</td>\n",
       "      <td>0.674942</td>\n",
       "      <td>-0.414084</td>\n",
       "    </tr>\n",
       "    <tr>\n",
       "      <th>4</th>\n",
       "      <td>2.699226</td>\n",
       "      <td>-0.631530</td>\n",
       "      <td>0.914097</td>\n",
       "      <td>-0.779423</td>\n",
       "    </tr>\n",
       "    <tr>\n",
       "      <th>5</th>\n",
       "      <td>0.483161</td>\n",
       "      <td>-1.088239</td>\n",
       "      <td>-0.539259</td>\n",
       "      <td>0.407843</td>\n",
       "    </tr>\n",
       "    <tr>\n",
       "      <th>6</th>\n",
       "      <td>1.313376</td>\n",
       "      <td>-0.476141</td>\n",
       "      <td>2.026150</td>\n",
       "      <td>-0.597566</td>\n",
       "    </tr>\n",
       "    <tr>\n",
       "      <th>7</th>\n",
       "      <td>-0.080038</td>\n",
       "      <td>1.046797</td>\n",
       "      <td>0.428996</td>\n",
       "      <td>0.104484</td>\n",
       "    </tr>\n",
       "    <tr>\n",
       "      <th>8</th>\n",
       "      <td>1.185105</td>\n",
       "      <td>1.034797</td>\n",
       "      <td>-0.055182</td>\n",
       "      <td>1.685591</td>\n",
       "    </tr>\n",
       "    <tr>\n",
       "      <th>9</th>\n",
       "      <td>1.227710</td>\n",
       "      <td>-1.258060</td>\n",
       "      <td>0.390075</td>\n",
       "      <td>0.981106</td>\n",
       "    </tr>\n",
       "  </tbody>\n",
       "</table>\n",
       "</div>"
      ],
      "text/plain": [
       "          0         1         2         3\n",
       "0  0.205443 -0.860459  0.681564 -0.265862\n",
       "1  0.474924  1.024937  1.207668 -0.270978\n",
       "2 -0.334177 -0.275441  1.422924 -0.753395\n",
       "3 -0.257874 -0.036421  0.674942 -0.414084\n",
       "4  2.699226 -0.631530  0.914097 -0.779423\n",
       "5  0.483161 -1.088239 -0.539259  0.407843\n",
       "6  1.313376 -0.476141  2.026150 -0.597566\n",
       "7 -0.080038  1.046797  0.428996  0.104484\n",
       "8  1.185105  1.034797 -0.055182  1.685591\n",
       "9  1.227710 -1.258060  0.390075  0.981106"
      ]
     },
     "execution_count": 143,
     "metadata": {},
     "output_type": "execute_result"
    }
   ],
   "source": [
    "pd.concat(pieces)"
   ]
  },
  {
   "cell_type": "markdown",
   "metadata": {},
   "source": [
    "Join"
   ]
  },
  {
   "cell_type": "code",
   "execution_count": 145,
   "metadata": {
    "collapsed": false
   },
   "outputs": [],
   "source": [
    "left = pd.DataFrame({'key': ['foo', 'foo'], 'lval': [1, 2]})\n",
    "\n",
    "right = pd.DataFrame({'key': ['foo', 'foo'], 'rval': [4, 5]})"
   ]
  },
  {
   "cell_type": "code",
   "execution_count": 147,
   "metadata": {
    "collapsed": false
   },
   "outputs": [
    {
     "data": {
      "text/html": [
       "<div>\n",
       "<table border=\"1\" class=\"dataframe\">\n",
       "  <thead>\n",
       "    <tr style=\"text-align: right;\">\n",
       "      <th></th>\n",
       "      <th>key</th>\n",
       "      <th>lval</th>\n",
       "    </tr>\n",
       "  </thead>\n",
       "  <tbody>\n",
       "    <tr>\n",
       "      <th>0</th>\n",
       "      <td>foo</td>\n",
       "      <td>1</td>\n",
       "    </tr>\n",
       "    <tr>\n",
       "      <th>1</th>\n",
       "      <td>foo</td>\n",
       "      <td>2</td>\n",
       "    </tr>\n",
       "  </tbody>\n",
       "</table>\n",
       "</div>"
      ],
      "text/plain": [
       "   key  lval\n",
       "0  foo     1\n",
       "1  foo     2"
      ]
     },
     "execution_count": 147,
     "metadata": {},
     "output_type": "execute_result"
    }
   ],
   "source": [
    "left"
   ]
  },
  {
   "cell_type": "code",
   "execution_count": 148,
   "metadata": {
    "collapsed": false
   },
   "outputs": [
    {
     "data": {
      "text/html": [
       "<div>\n",
       "<table border=\"1\" class=\"dataframe\">\n",
       "  <thead>\n",
       "    <tr style=\"text-align: right;\">\n",
       "      <th></th>\n",
       "      <th>key</th>\n",
       "      <th>rval</th>\n",
       "    </tr>\n",
       "  </thead>\n",
       "  <tbody>\n",
       "    <tr>\n",
       "      <th>0</th>\n",
       "      <td>foo</td>\n",
       "      <td>4</td>\n",
       "    </tr>\n",
       "    <tr>\n",
       "      <th>1</th>\n",
       "      <td>foo</td>\n",
       "      <td>5</td>\n",
       "    </tr>\n",
       "  </tbody>\n",
       "</table>\n",
       "</div>"
      ],
      "text/plain": [
       "   key  rval\n",
       "0  foo     4\n",
       "1  foo     5"
      ]
     },
     "execution_count": 148,
     "metadata": {},
     "output_type": "execute_result"
    }
   ],
   "source": [
    "right"
   ]
  },
  {
   "cell_type": "code",
   "execution_count": 150,
   "metadata": {
    "collapsed": false
   },
   "outputs": [
    {
     "data": {
      "text/html": [
       "<div>\n",
       "<table border=\"1\" class=\"dataframe\">\n",
       "  <thead>\n",
       "    <tr style=\"text-align: right;\">\n",
       "      <th></th>\n",
       "      <th>key</th>\n",
       "      <th>lval</th>\n",
       "      <th>rval</th>\n",
       "    </tr>\n",
       "  </thead>\n",
       "  <tbody>\n",
       "    <tr>\n",
       "      <th>0</th>\n",
       "      <td>foo</td>\n",
       "      <td>1</td>\n",
       "      <td>4</td>\n",
       "    </tr>\n",
       "    <tr>\n",
       "      <th>1</th>\n",
       "      <td>foo</td>\n",
       "      <td>1</td>\n",
       "      <td>5</td>\n",
       "    </tr>\n",
       "    <tr>\n",
       "      <th>2</th>\n",
       "      <td>foo</td>\n",
       "      <td>2</td>\n",
       "      <td>4</td>\n",
       "    </tr>\n",
       "    <tr>\n",
       "      <th>3</th>\n",
       "      <td>foo</td>\n",
       "      <td>2</td>\n",
       "      <td>5</td>\n",
       "    </tr>\n",
       "  </tbody>\n",
       "</table>\n",
       "</div>"
      ],
      "text/plain": [
       "   key  lval  rval\n",
       "0  foo     1     4\n",
       "1  foo     1     5\n",
       "2  foo     2     4\n",
       "3  foo     2     5"
      ]
     },
     "execution_count": 150,
     "metadata": {},
     "output_type": "execute_result"
    }
   ],
   "source": [
    "pd.merge(left,right, on = 'key')"
   ]
  },
  {
   "cell_type": "markdown",
   "metadata": {},
   "source": [
    "Append\n",
    "\n",
    "Append rows to a dataframe. See the Appending"
   ]
  },
  {
   "cell_type": "code",
   "execution_count": 151,
   "metadata": {
    "collapsed": false
   },
   "outputs": [
    {
     "data": {
      "text/html": [
       "<div>\n",
       "<table border=\"1\" class=\"dataframe\">\n",
       "  <thead>\n",
       "    <tr style=\"text-align: right;\">\n",
       "      <th></th>\n",
       "      <th>A</th>\n",
       "      <th>B</th>\n",
       "      <th>C</th>\n",
       "      <th>D</th>\n",
       "    </tr>\n",
       "  </thead>\n",
       "  <tbody>\n",
       "    <tr>\n",
       "      <th>0</th>\n",
       "      <td>-0.681473</td>\n",
       "      <td>0.232656</td>\n",
       "      <td>-0.271286</td>\n",
       "      <td>-1.142345</td>\n",
       "    </tr>\n",
       "    <tr>\n",
       "      <th>1</th>\n",
       "      <td>0.071885</td>\n",
       "      <td>1.277702</td>\n",
       "      <td>0.682111</td>\n",
       "      <td>-1.422700</td>\n",
       "    </tr>\n",
       "    <tr>\n",
       "      <th>2</th>\n",
       "      <td>-1.132614</td>\n",
       "      <td>-0.649178</td>\n",
       "      <td>0.265805</td>\n",
       "      <td>-0.817716</td>\n",
       "    </tr>\n",
       "    <tr>\n",
       "      <th>3</th>\n",
       "      <td>-1.414819</td>\n",
       "      <td>0.843804</td>\n",
       "      <td>-0.575356</td>\n",
       "      <td>1.142347</td>\n",
       "    </tr>\n",
       "    <tr>\n",
       "      <th>4</th>\n",
       "      <td>-0.017996</td>\n",
       "      <td>-0.123055</td>\n",
       "      <td>0.196892</td>\n",
       "      <td>-0.423589</td>\n",
       "    </tr>\n",
       "    <tr>\n",
       "      <th>5</th>\n",
       "      <td>-0.488425</td>\n",
       "      <td>-0.219265</td>\n",
       "      <td>-0.567851</td>\n",
       "      <td>1.537221</td>\n",
       "    </tr>\n",
       "    <tr>\n",
       "      <th>6</th>\n",
       "      <td>-1.091648</td>\n",
       "      <td>-0.932577</td>\n",
       "      <td>0.007561</td>\n",
       "      <td>-0.713309</td>\n",
       "    </tr>\n",
       "    <tr>\n",
       "      <th>7</th>\n",
       "      <td>0.835943</td>\n",
       "      <td>-1.069724</td>\n",
       "      <td>0.498012</td>\n",
       "      <td>-0.841369</td>\n",
       "    </tr>\n",
       "  </tbody>\n",
       "</table>\n",
       "</div>"
      ],
      "text/plain": [
       "          A         B         C         D\n",
       "0 -0.681473  0.232656 -0.271286 -1.142345\n",
       "1  0.071885  1.277702  0.682111 -1.422700\n",
       "2 -1.132614 -0.649178  0.265805 -0.817716\n",
       "3 -1.414819  0.843804 -0.575356  1.142347\n",
       "4 -0.017996 -0.123055  0.196892 -0.423589\n",
       "5 -0.488425 -0.219265 -0.567851  1.537221\n",
       "6 -1.091648 -0.932577  0.007561 -0.713309\n",
       "7  0.835943 -1.069724  0.498012 -0.841369"
      ]
     },
     "execution_count": 151,
     "metadata": {},
     "output_type": "execute_result"
    }
   ],
   "source": [
    "df = pd.DataFrame(np.random.randn(8, 4), columns=['A','B','C','D'])\n",
    "\n",
    "df"
   ]
  },
  {
   "cell_type": "code",
   "execution_count": 152,
   "metadata": {
    "collapsed": true
   },
   "outputs": [],
   "source": [
    "s = df.iloc[3]"
   ]
  },
  {
   "cell_type": "code",
   "execution_count": 153,
   "metadata": {
    "collapsed": false
   },
   "outputs": [
    {
     "data": {
      "text/html": [
       "<div>\n",
       "<table border=\"1\" class=\"dataframe\">\n",
       "  <thead>\n",
       "    <tr style=\"text-align: right;\">\n",
       "      <th></th>\n",
       "      <th>A</th>\n",
       "      <th>B</th>\n",
       "      <th>C</th>\n",
       "      <th>D</th>\n",
       "    </tr>\n",
       "  </thead>\n",
       "  <tbody>\n",
       "    <tr>\n",
       "      <th>0</th>\n",
       "      <td>-0.681473</td>\n",
       "      <td>0.232656</td>\n",
       "      <td>-0.271286</td>\n",
       "      <td>-1.142345</td>\n",
       "    </tr>\n",
       "    <tr>\n",
       "      <th>1</th>\n",
       "      <td>0.071885</td>\n",
       "      <td>1.277702</td>\n",
       "      <td>0.682111</td>\n",
       "      <td>-1.422700</td>\n",
       "    </tr>\n",
       "    <tr>\n",
       "      <th>2</th>\n",
       "      <td>-1.132614</td>\n",
       "      <td>-0.649178</td>\n",
       "      <td>0.265805</td>\n",
       "      <td>-0.817716</td>\n",
       "    </tr>\n",
       "    <tr>\n",
       "      <th>3</th>\n",
       "      <td>-1.414819</td>\n",
       "      <td>0.843804</td>\n",
       "      <td>-0.575356</td>\n",
       "      <td>1.142347</td>\n",
       "    </tr>\n",
       "    <tr>\n",
       "      <th>4</th>\n",
       "      <td>-0.017996</td>\n",
       "      <td>-0.123055</td>\n",
       "      <td>0.196892</td>\n",
       "      <td>-0.423589</td>\n",
       "    </tr>\n",
       "    <tr>\n",
       "      <th>5</th>\n",
       "      <td>-0.488425</td>\n",
       "      <td>-0.219265</td>\n",
       "      <td>-0.567851</td>\n",
       "      <td>1.537221</td>\n",
       "    </tr>\n",
       "    <tr>\n",
       "      <th>6</th>\n",
       "      <td>-1.091648</td>\n",
       "      <td>-0.932577</td>\n",
       "      <td>0.007561</td>\n",
       "      <td>-0.713309</td>\n",
       "    </tr>\n",
       "    <tr>\n",
       "      <th>7</th>\n",
       "      <td>0.835943</td>\n",
       "      <td>-1.069724</td>\n",
       "      <td>0.498012</td>\n",
       "      <td>-0.841369</td>\n",
       "    </tr>\n",
       "    <tr>\n",
       "      <th>8</th>\n",
       "      <td>-1.414819</td>\n",
       "      <td>0.843804</td>\n",
       "      <td>-0.575356</td>\n",
       "      <td>1.142347</td>\n",
       "    </tr>\n",
       "  </tbody>\n",
       "</table>\n",
       "</div>"
      ],
      "text/plain": [
       "          A         B         C         D\n",
       "0 -0.681473  0.232656 -0.271286 -1.142345\n",
       "1  0.071885  1.277702  0.682111 -1.422700\n",
       "2 -1.132614 -0.649178  0.265805 -0.817716\n",
       "3 -1.414819  0.843804 -0.575356  1.142347\n",
       "4 -0.017996 -0.123055  0.196892 -0.423589\n",
       "5 -0.488425 -0.219265 -0.567851  1.537221\n",
       "6 -1.091648 -0.932577  0.007561 -0.713309\n",
       "7  0.835943 -1.069724  0.498012 -0.841369\n",
       "8 -1.414819  0.843804 -0.575356  1.142347"
      ]
     },
     "execution_count": 153,
     "metadata": {},
     "output_type": "execute_result"
    }
   ],
   "source": [
    "df.append(s, ignore_index=True)"
   ]
  },
  {
   "cell_type": "markdown",
   "metadata": {},
   "source": [
    "Grouping\n",
    "\n",
    "By “group by” we are referring to a process involving one or more of the following steps\n",
    "\n",
    "Splitting the data into groups based on some criteria\n",
    "Applying a function to each group independently\n",
    "Combining the results into a data structure"
   ]
  },
  {
   "cell_type": "code",
   "execution_count": 155,
   "metadata": {
    "collapsed": false
   },
   "outputs": [
    {
     "data": {
      "text/html": [
       "<div>\n",
       "<table border=\"1\" class=\"dataframe\">\n",
       "  <thead>\n",
       "    <tr style=\"text-align: right;\">\n",
       "      <th></th>\n",
       "      <th>A</th>\n",
       "      <th>B</th>\n",
       "      <th>C</th>\n",
       "      <th>D</th>\n",
       "    </tr>\n",
       "  </thead>\n",
       "  <tbody>\n",
       "    <tr>\n",
       "      <th>0</th>\n",
       "      <td>foo</td>\n",
       "      <td>one</td>\n",
       "      <td>-0.884892</td>\n",
       "      <td>-0.542452</td>\n",
       "    </tr>\n",
       "    <tr>\n",
       "      <th>1</th>\n",
       "      <td>bar</td>\n",
       "      <td>one</td>\n",
       "      <td>-0.471299</td>\n",
       "      <td>-0.650034</td>\n",
       "    </tr>\n",
       "    <tr>\n",
       "      <th>2</th>\n",
       "      <td>foo</td>\n",
       "      <td>two</td>\n",
       "      <td>0.613544</td>\n",
       "      <td>1.323490</td>\n",
       "    </tr>\n",
       "    <tr>\n",
       "      <th>3</th>\n",
       "      <td>bar</td>\n",
       "      <td>three</td>\n",
       "      <td>1.144898</td>\n",
       "      <td>0.476951</td>\n",
       "    </tr>\n",
       "    <tr>\n",
       "      <th>4</th>\n",
       "      <td>foo</td>\n",
       "      <td>two</td>\n",
       "      <td>0.751191</td>\n",
       "      <td>1.776547</td>\n",
       "    </tr>\n",
       "    <tr>\n",
       "      <th>5</th>\n",
       "      <td>bar</td>\n",
       "      <td>two</td>\n",
       "      <td>0.315752</td>\n",
       "      <td>-1.516059</td>\n",
       "    </tr>\n",
       "    <tr>\n",
       "      <th>6</th>\n",
       "      <td>foo</td>\n",
       "      <td>one</td>\n",
       "      <td>0.321989</td>\n",
       "      <td>-0.493943</td>\n",
       "    </tr>\n",
       "    <tr>\n",
       "      <th>7</th>\n",
       "      <td>foo</td>\n",
       "      <td>three</td>\n",
       "      <td>0.716205</td>\n",
       "      <td>0.517509</td>\n",
       "    </tr>\n",
       "  </tbody>\n",
       "</table>\n",
       "</div>"
      ],
      "text/plain": [
       "     A      B         C         D\n",
       "0  foo    one -0.884892 -0.542452\n",
       "1  bar    one -0.471299 -0.650034\n",
       "2  foo    two  0.613544  1.323490\n",
       "3  bar  three  1.144898  0.476951\n",
       "4  foo    two  0.751191  1.776547\n",
       "5  bar    two  0.315752 -1.516059\n",
       "6  foo    one  0.321989 -0.493943\n",
       "7  foo  three  0.716205  0.517509"
      ]
     },
     "execution_count": 155,
     "metadata": {},
     "output_type": "execute_result"
    }
   ],
   "source": [
    "df = pd.DataFrame({'A' : ['foo', 'bar', 'foo', 'bar',\n",
    "                           'foo', 'bar', 'foo', 'foo'],\n",
    "                   'B' : ['one', 'one', 'two', 'three',\n",
    "                          'two', 'two', 'one', 'three'],\n",
    "                   'C' : np.random.randn(8),\n",
    "                   'D' : np.random.randn(8)})\n",
    "\n",
    "df"
   ]
  },
  {
   "cell_type": "markdown",
   "metadata": {},
   "source": [
    "Grouping and then applying a function sum to the resulting groups."
   ]
  },
  {
   "cell_type": "code",
   "execution_count": 156,
   "metadata": {
    "collapsed": false
   },
   "outputs": [
    {
     "data": {
      "text/html": [
       "<div>\n",
       "<table border=\"1\" class=\"dataframe\">\n",
       "  <thead>\n",
       "    <tr style=\"text-align: right;\">\n",
       "      <th></th>\n",
       "      <th>C</th>\n",
       "      <th>D</th>\n",
       "    </tr>\n",
       "    <tr>\n",
       "      <th>A</th>\n",
       "      <th></th>\n",
       "      <th></th>\n",
       "    </tr>\n",
       "  </thead>\n",
       "  <tbody>\n",
       "    <tr>\n",
       "      <th>bar</th>\n",
       "      <td>0.989350</td>\n",
       "      <td>-1.689141</td>\n",
       "    </tr>\n",
       "    <tr>\n",
       "      <th>foo</th>\n",
       "      <td>1.518037</td>\n",
       "      <td>2.581151</td>\n",
       "    </tr>\n",
       "  </tbody>\n",
       "</table>\n",
       "</div>"
      ],
      "text/plain": [
       "            C         D\n",
       "A                      \n",
       "bar  0.989350 -1.689141\n",
       "foo  1.518037  2.581151"
      ]
     },
     "execution_count": 156,
     "metadata": {},
     "output_type": "execute_result"
    }
   ],
   "source": [
    "df.groupby('A').sum()"
   ]
  },
  {
   "cell_type": "markdown",
   "metadata": {},
   "source": [
    "Grouping by multiple columns forms a hierarchical index, which we then apply the function."
   ]
  },
  {
   "cell_type": "code",
   "execution_count": 157,
   "metadata": {
    "collapsed": false
   },
   "outputs": [
    {
     "data": {
      "text/html": [
       "<div>\n",
       "<table border=\"1\" class=\"dataframe\">\n",
       "  <thead>\n",
       "    <tr style=\"text-align: right;\">\n",
       "      <th></th>\n",
       "      <th></th>\n",
       "      <th>C</th>\n",
       "      <th>D</th>\n",
       "    </tr>\n",
       "    <tr>\n",
       "      <th>A</th>\n",
       "      <th>B</th>\n",
       "      <th></th>\n",
       "      <th></th>\n",
       "    </tr>\n",
       "  </thead>\n",
       "  <tbody>\n",
       "    <tr>\n",
       "      <th rowspan=\"3\" valign=\"top\">bar</th>\n",
       "      <th>one</th>\n",
       "      <td>-0.471299</td>\n",
       "      <td>-0.650034</td>\n",
       "    </tr>\n",
       "    <tr>\n",
       "      <th>three</th>\n",
       "      <td>1.144898</td>\n",
       "      <td>0.476951</td>\n",
       "    </tr>\n",
       "    <tr>\n",
       "      <th>two</th>\n",
       "      <td>0.315752</td>\n",
       "      <td>-1.516059</td>\n",
       "    </tr>\n",
       "    <tr>\n",
       "      <th rowspan=\"3\" valign=\"top\">foo</th>\n",
       "      <th>one</th>\n",
       "      <td>-0.562903</td>\n",
       "      <td>-1.036395</td>\n",
       "    </tr>\n",
       "    <tr>\n",
       "      <th>three</th>\n",
       "      <td>0.716205</td>\n",
       "      <td>0.517509</td>\n",
       "    </tr>\n",
       "    <tr>\n",
       "      <th>two</th>\n",
       "      <td>1.364736</td>\n",
       "      <td>3.100037</td>\n",
       "    </tr>\n",
       "  </tbody>\n",
       "</table>\n",
       "</div>"
      ],
      "text/plain": [
       "                  C         D\n",
       "A   B                        \n",
       "bar one   -0.471299 -0.650034\n",
       "    three  1.144898  0.476951\n",
       "    two    0.315752 -1.516059\n",
       "foo one   -0.562903 -1.036395\n",
       "    three  0.716205  0.517509\n",
       "    two    1.364736  3.100037"
      ]
     },
     "execution_count": 157,
     "metadata": {},
     "output_type": "execute_result"
    }
   ],
   "source": [
    "df.groupby(['A','B']).sum()"
   ]
  },
  {
   "cell_type": "markdown",
   "metadata": {},
   "source": [
    "Reshaping\n",
    "\n",
    "Stack"
   ]
  },
  {
   "cell_type": "code",
   "execution_count": 159,
   "metadata": {
    "collapsed": false
   },
   "outputs": [
    {
     "data": {
      "text/html": [
       "<div>\n",
       "<table border=\"1\" class=\"dataframe\">\n",
       "  <thead>\n",
       "    <tr style=\"text-align: right;\">\n",
       "      <th></th>\n",
       "      <th></th>\n",
       "      <th>A</th>\n",
       "      <th>B</th>\n",
       "    </tr>\n",
       "    <tr>\n",
       "      <th>first</th>\n",
       "      <th>second</th>\n",
       "      <th></th>\n",
       "      <th></th>\n",
       "    </tr>\n",
       "  </thead>\n",
       "  <tbody>\n",
       "    <tr>\n",
       "      <th rowspan=\"2\" valign=\"top\">bar</th>\n",
       "      <th>one</th>\n",
       "      <td>-0.461144</td>\n",
       "      <td>0.669775</td>\n",
       "    </tr>\n",
       "    <tr>\n",
       "      <th>two</th>\n",
       "      <td>1.250632</td>\n",
       "      <td>-2.570573</td>\n",
       "    </tr>\n",
       "    <tr>\n",
       "      <th rowspan=\"2\" valign=\"top\">baz</th>\n",
       "      <th>one</th>\n",
       "      <td>0.782524</td>\n",
       "      <td>-1.165663</td>\n",
       "    </tr>\n",
       "    <tr>\n",
       "      <th>two</th>\n",
       "      <td>1.005232</td>\n",
       "      <td>-1.012559</td>\n",
       "    </tr>\n",
       "  </tbody>\n",
       "</table>\n",
       "</div>"
      ],
      "text/plain": [
       "                     A         B\n",
       "first second                    \n",
       "bar   one    -0.461144  0.669775\n",
       "      two     1.250632 -2.570573\n",
       "baz   one     0.782524 -1.165663\n",
       "      two     1.005232 -1.012559"
      ]
     },
     "execution_count": 159,
     "metadata": {},
     "output_type": "execute_result"
    }
   ],
   "source": [
    "\n",
    "tuples = list(zip(*[['bar', 'bar', 'baz', 'baz',\n",
    "                      'foo', 'foo', 'qux', 'qux'],\n",
    "                    ['one', 'two', 'one', 'two',\n",
    "                      'one', 'two', 'one', 'two']]))\n",
    "\n",
    "index = pd.MultiIndex.from_tuples(tuples, names=['first', 'second'])\n",
    "\n",
    "df = pd.DataFrame(np.random.randn(8, 2), index=index, columns=['A', 'B'])\n",
    "\n",
    "df2 = df[:4]\n",
    "\n",
    "df2"
   ]
  },
  {
   "cell_type": "markdown",
   "metadata": {},
   "source": [
    "The stack() method “compresses” a level in the DataFrame’s columns."
   ]
  },
  {
   "cell_type": "code",
   "execution_count": 160,
   "metadata": {
    "collapsed": false
   },
   "outputs": [
    {
     "data": {
      "text/plain": [
       "first  second   \n",
       "bar    one     A   -0.461144\n",
       "               B    0.669775\n",
       "       two     A    1.250632\n",
       "               B   -2.570573\n",
       "baz    one     A    0.782524\n",
       "               B   -1.165663\n",
       "       two     A    1.005232\n",
       "               B   -1.012559\n",
       "dtype: float64"
      ]
     },
     "execution_count": 160,
     "metadata": {},
     "output_type": "execute_result"
    }
   ],
   "source": [
    "stacked = df2.stack()\n",
    "\n",
    "stacked"
   ]
  },
  {
   "cell_type": "markdown",
   "metadata": {},
   "source": [
    "With a “stacked” DataFrame or Series (having a MultiIndex as the index), the inverse operation of stack() is unstack(), which by default unstacks the last level:"
   ]
  },
  {
   "cell_type": "code",
   "execution_count": 161,
   "metadata": {
    "collapsed": false
   },
   "outputs": [
    {
     "data": {
      "text/html": [
       "<div>\n",
       "<table border=\"1\" class=\"dataframe\">\n",
       "  <thead>\n",
       "    <tr style=\"text-align: right;\">\n",
       "      <th></th>\n",
       "      <th></th>\n",
       "      <th>A</th>\n",
       "      <th>B</th>\n",
       "    </tr>\n",
       "    <tr>\n",
       "      <th>first</th>\n",
       "      <th>second</th>\n",
       "      <th></th>\n",
       "      <th></th>\n",
       "    </tr>\n",
       "  </thead>\n",
       "  <tbody>\n",
       "    <tr>\n",
       "      <th rowspan=\"2\" valign=\"top\">bar</th>\n",
       "      <th>one</th>\n",
       "      <td>-0.461144</td>\n",
       "      <td>0.669775</td>\n",
       "    </tr>\n",
       "    <tr>\n",
       "      <th>two</th>\n",
       "      <td>1.250632</td>\n",
       "      <td>-2.570573</td>\n",
       "    </tr>\n",
       "    <tr>\n",
       "      <th rowspan=\"2\" valign=\"top\">baz</th>\n",
       "      <th>one</th>\n",
       "      <td>0.782524</td>\n",
       "      <td>-1.165663</td>\n",
       "    </tr>\n",
       "    <tr>\n",
       "      <th>two</th>\n",
       "      <td>1.005232</td>\n",
       "      <td>-1.012559</td>\n",
       "    </tr>\n",
       "  </tbody>\n",
       "</table>\n",
       "</div>"
      ],
      "text/plain": [
       "                     A         B\n",
       "first second                    \n",
       "bar   one    -0.461144  0.669775\n",
       "      two     1.250632 -2.570573\n",
       "baz   one     0.782524 -1.165663\n",
       "      two     1.005232 -1.012559"
      ]
     },
     "execution_count": 161,
     "metadata": {},
     "output_type": "execute_result"
    }
   ],
   "source": [
    "stacked.unstack()"
   ]
  },
  {
   "cell_type": "code",
   "execution_count": 162,
   "metadata": {
    "collapsed": false
   },
   "outputs": [
    {
     "data": {
      "text/html": [
       "<div>\n",
       "<table border=\"1\" class=\"dataframe\">\n",
       "  <thead>\n",
       "    <tr style=\"text-align: right;\">\n",
       "      <th></th>\n",
       "      <th>second</th>\n",
       "      <th>one</th>\n",
       "      <th>two</th>\n",
       "    </tr>\n",
       "    <tr>\n",
       "      <th>first</th>\n",
       "      <th></th>\n",
       "      <th></th>\n",
       "      <th></th>\n",
       "    </tr>\n",
       "  </thead>\n",
       "  <tbody>\n",
       "    <tr>\n",
       "      <th rowspan=\"2\" valign=\"top\">bar</th>\n",
       "      <th>A</th>\n",
       "      <td>-0.461144</td>\n",
       "      <td>1.250632</td>\n",
       "    </tr>\n",
       "    <tr>\n",
       "      <th>B</th>\n",
       "      <td>0.669775</td>\n",
       "      <td>-2.570573</td>\n",
       "    </tr>\n",
       "    <tr>\n",
       "      <th rowspan=\"2\" valign=\"top\">baz</th>\n",
       "      <th>A</th>\n",
       "      <td>0.782524</td>\n",
       "      <td>1.005232</td>\n",
       "    </tr>\n",
       "    <tr>\n",
       "      <th>B</th>\n",
       "      <td>-1.165663</td>\n",
       "      <td>-1.012559</td>\n",
       "    </tr>\n",
       "  </tbody>\n",
       "</table>\n",
       "</div>"
      ],
      "text/plain": [
       "second        one       two\n",
       "first                      \n",
       "bar   A -0.461144  1.250632\n",
       "      B  0.669775 -2.570573\n",
       "baz   A  0.782524  1.005232\n",
       "      B -1.165663 -1.012559"
      ]
     },
     "execution_count": 162,
     "metadata": {},
     "output_type": "execute_result"
    }
   ],
   "source": [
    "stacked.unstack(1)"
   ]
  },
  {
   "cell_type": "code",
   "execution_count": 163,
   "metadata": {
    "collapsed": false
   },
   "outputs": [
    {
     "data": {
      "text/html": [
       "<div>\n",
       "<table border=\"1\" class=\"dataframe\">\n",
       "  <thead>\n",
       "    <tr style=\"text-align: right;\">\n",
       "      <th></th>\n",
       "      <th>first</th>\n",
       "      <th>bar</th>\n",
       "      <th>baz</th>\n",
       "    </tr>\n",
       "    <tr>\n",
       "      <th>second</th>\n",
       "      <th></th>\n",
       "      <th></th>\n",
       "      <th></th>\n",
       "    </tr>\n",
       "  </thead>\n",
       "  <tbody>\n",
       "    <tr>\n",
       "      <th rowspan=\"2\" valign=\"top\">one</th>\n",
       "      <th>A</th>\n",
       "      <td>-0.461144</td>\n",
       "      <td>0.782524</td>\n",
       "    </tr>\n",
       "    <tr>\n",
       "      <th>B</th>\n",
       "      <td>0.669775</td>\n",
       "      <td>-1.165663</td>\n",
       "    </tr>\n",
       "    <tr>\n",
       "      <th rowspan=\"2\" valign=\"top\">two</th>\n",
       "      <th>A</th>\n",
       "      <td>1.250632</td>\n",
       "      <td>1.005232</td>\n",
       "    </tr>\n",
       "    <tr>\n",
       "      <th>B</th>\n",
       "      <td>-2.570573</td>\n",
       "      <td>-1.012559</td>\n",
       "    </tr>\n",
       "  </tbody>\n",
       "</table>\n",
       "</div>"
      ],
      "text/plain": [
       "first          bar       baz\n",
       "second                      \n",
       "one    A -0.461144  0.782524\n",
       "       B  0.669775 -1.165663\n",
       "two    A  1.250632  1.005232\n",
       "       B -2.570573 -1.012559"
      ]
     },
     "execution_count": 163,
     "metadata": {},
     "output_type": "execute_result"
    }
   ],
   "source": [
    "stacked.unstack(0)"
   ]
  },
  {
   "cell_type": "markdown",
   "metadata": {},
   "source": [
    "Pivot Tables"
   ]
  },
  {
   "cell_type": "code",
   "execution_count": 164,
   "metadata": {
    "collapsed": true
   },
   "outputs": [],
   "source": [
    "df = pd.DataFrame({'A' : ['one', 'one', 'two', 'three'] * 3,\n",
    "                   'B' : ['A', 'B', 'C'] * 4,\n",
    "                   'C' : ['foo', 'foo', 'foo', 'bar', 'bar', 'bar'] * 2,\n",
    "                   'D' : np.random.randn(12),\n",
    "                   'E' : np.random.randn(12)})"
   ]
  },
  {
   "cell_type": "markdown",
   "metadata": {},
   "source": [
    "Time Series\n",
    "\n",
    "pandas has simple, powerful, and efficient functionality for performing resampling operations during frequency conversion (e.g., converting secondly data into 5-minutely data). This is extremely common in, but not limited to, financial applications. See the Time Series section"
   ]
  },
  {
   "cell_type": "code",
   "execution_count": 165,
   "metadata": {
    "collapsed": false
   },
   "outputs": [
    {
     "data": {
      "text/plain": [
       "2012-01-01    25116\n",
       "Freq: 5T, dtype: int32"
      ]
     },
     "execution_count": 165,
     "metadata": {},
     "output_type": "execute_result"
    }
   ],
   "source": [
    "rng = pd.date_range('1/1/2012', periods=100, freq='S')\n",
    "\n",
    "ts = pd.Series(np.random.randint(0, 500, len(rng)), index=rng)\n",
    "\n",
    "ts.resample('5Min').sum()"
   ]
  },
  {
   "cell_type": "markdown",
   "metadata": {},
   "source": [
    "Time zone representation"
   ]
  },
  {
   "cell_type": "code",
   "execution_count": 167,
   "metadata": {
    "collapsed": false
   },
   "outputs": [
    {
     "data": {
      "text/plain": [
       "2012-03-06   -0.123366\n",
       "2012-03-07    1.399853\n",
       "2012-03-08   -0.689495\n",
       "2012-03-09   -0.393915\n",
       "2012-03-10    1.226280\n",
       "Freq: D, dtype: float64"
      ]
     },
     "execution_count": 167,
     "metadata": {},
     "output_type": "execute_result"
    }
   ],
   "source": [
    "rng = pd.date_range('3/6/2012 00:00', periods=5, freq='D')\n",
    "\n",
    "ts = pd.Series(np.random.randn(len(rng)), rng)\n",
    "\n",
    "ts"
   ]
  },
  {
   "cell_type": "code",
   "execution_count": 168,
   "metadata": {
    "collapsed": false
   },
   "outputs": [
    {
     "data": {
      "text/plain": [
       "2012-03-06 00:00:00+00:00   -0.123366\n",
       "2012-03-07 00:00:00+00:00    1.399853\n",
       "2012-03-08 00:00:00+00:00   -0.689495\n",
       "2012-03-09 00:00:00+00:00   -0.393915\n",
       "2012-03-10 00:00:00+00:00    1.226280\n",
       "Freq: D, dtype: float64"
      ]
     },
     "execution_count": 168,
     "metadata": {},
     "output_type": "execute_result"
    }
   ],
   "source": [
    "ts_utc = ts.tz_localize('UTC')\n",
    "\n",
    "ts_utc"
   ]
  },
  {
   "cell_type": "markdown",
   "metadata": {},
   "source": [
    "Convert to another time zone"
   ]
  },
  {
   "cell_type": "code",
   "execution_count": 169,
   "metadata": {
    "collapsed": false
   },
   "outputs": [
    {
     "data": {
      "text/plain": [
       "2012-03-05 19:00:00-05:00   -0.123366\n",
       "2012-03-06 19:00:00-05:00    1.399853\n",
       "2012-03-07 19:00:00-05:00   -0.689495\n",
       "2012-03-08 19:00:00-05:00   -0.393915\n",
       "2012-03-09 19:00:00-05:00    1.226280\n",
       "Freq: D, dtype: float64"
      ]
     },
     "execution_count": 169,
     "metadata": {},
     "output_type": "execute_result"
    }
   ],
   "source": [
    "ts_utc.tz_convert('US/Eastern')"
   ]
  },
  {
   "cell_type": "markdown",
   "metadata": {},
   "source": [
    "Converting between time span representations"
   ]
  },
  {
   "cell_type": "code",
   "execution_count": 170,
   "metadata": {
    "collapsed": false
   },
   "outputs": [
    {
     "data": {
      "text/plain": [
       "2012-01-31   -0.077360\n",
       "2012-02-29    0.486028\n",
       "2012-03-31    0.159718\n",
       "2012-04-30    1.759349\n",
       "2012-05-31    0.750563\n",
       "Freq: M, dtype: float64"
      ]
     },
     "execution_count": 170,
     "metadata": {},
     "output_type": "execute_result"
    }
   ],
   "source": [
    "rng = pd.date_range('1/1/2012', periods=5, freq='M')\n",
    "\n",
    "ts = pd.Series(np.random.randn(len(rng)), index=rng)\n",
    "\n",
    "ts"
   ]
  },
  {
   "cell_type": "code",
   "execution_count": 171,
   "metadata": {
    "collapsed": false
   },
   "outputs": [
    {
     "data": {
      "text/plain": [
       "2012-01   -0.077360\n",
       "2012-02    0.486028\n",
       "2012-03    0.159718\n",
       "2012-04    1.759349\n",
       "2012-05    0.750563\n",
       "Freq: M, dtype: float64"
      ]
     },
     "execution_count": 171,
     "metadata": {},
     "output_type": "execute_result"
    }
   ],
   "source": [
    "ps = ts.to_period()\n",
    "\n",
    "ps"
   ]
  },
  {
   "cell_type": "code",
   "execution_count": 172,
   "metadata": {
    "collapsed": false
   },
   "outputs": [
    {
     "data": {
      "text/plain": [
       "2012-01-01   -0.077360\n",
       "2012-02-01    0.486028\n",
       "2012-03-01    0.159718\n",
       "2012-04-01    1.759349\n",
       "2012-05-01    0.750563\n",
       "Freq: MS, dtype: float64"
      ]
     },
     "execution_count": 172,
     "metadata": {},
     "output_type": "execute_result"
    }
   ],
   "source": [
    "ps.to_timestamp()"
   ]
  },
  {
   "cell_type": "markdown",
   "metadata": {},
   "source": [
    "Converting between period and timestamp enables some convenient arithmetic functions to be used. In the following example, we convert a quarterly frequency with year ending in November to 9am of the end of the month following the quarter end:"
   ]
  },
  {
   "cell_type": "code",
   "execution_count": 173,
   "metadata": {
    "collapsed": false
   },
   "outputs": [
    {
     "data": {
      "text/plain": [
       "1990-03-01 09:00   -0.814953\n",
       "1990-06-01 09:00    0.665986\n",
       "1990-09-01 09:00    0.246720\n",
       "1990-12-01 09:00    0.178114\n",
       "1991-03-01 09:00    1.122614\n",
       "Freq: H, dtype: float64"
      ]
     },
     "execution_count": 173,
     "metadata": {},
     "output_type": "execute_result"
    }
   ],
   "source": [
    "prng = pd.period_range('1990Q1', '2000Q4', freq='Q-NOV')\n",
    "\n",
    "ts = pd.Series(np.random.randn(len(prng)), prng)\n",
    "\n",
    "ts.index = (prng.asfreq('M', 'e') + 1).asfreq('H', 's') + 9\n",
    "\n",
    "ts.head()"
   ]
  },
  {
   "cell_type": "markdown",
   "metadata": {},
   "source": [
    "Categoricals"
   ]
  },
  {
   "cell_type": "code",
   "execution_count": 175,
   "metadata": {
    "collapsed": false
   },
   "outputs": [
    {
     "data": {
      "text/html": [
       "<div>\n",
       "<table border=\"1\" class=\"dataframe\">\n",
       "  <thead>\n",
       "    <tr style=\"text-align: right;\">\n",
       "      <th></th>\n",
       "      <th>id</th>\n",
       "      <th>raw_grade</th>\n",
       "    </tr>\n",
       "  </thead>\n",
       "  <tbody>\n",
       "    <tr>\n",
       "      <th>0</th>\n",
       "      <td>1</td>\n",
       "      <td>a</td>\n",
       "    </tr>\n",
       "    <tr>\n",
       "      <th>1</th>\n",
       "      <td>2</td>\n",
       "      <td>b</td>\n",
       "    </tr>\n",
       "    <tr>\n",
       "      <th>2</th>\n",
       "      <td>3</td>\n",
       "      <td>b</td>\n",
       "    </tr>\n",
       "    <tr>\n",
       "      <th>3</th>\n",
       "      <td>4</td>\n",
       "      <td>a</td>\n",
       "    </tr>\n",
       "    <tr>\n",
       "      <th>4</th>\n",
       "      <td>5</td>\n",
       "      <td>a</td>\n",
       "    </tr>\n",
       "    <tr>\n",
       "      <th>5</th>\n",
       "      <td>6</td>\n",
       "      <td>e</td>\n",
       "    </tr>\n",
       "  </tbody>\n",
       "</table>\n",
       "</div>"
      ],
      "text/plain": [
       "   id raw_grade\n",
       "0   1         a\n",
       "1   2         b\n",
       "2   3         b\n",
       "3   4         a\n",
       "4   5         a\n",
       "5   6         e"
      ]
     },
     "execution_count": 175,
     "metadata": {},
     "output_type": "execute_result"
    }
   ],
   "source": [
    "df = pd.DataFrame({\"id\":[1,2,3,4,5,6], \"raw_grade\":['a', 'b', 'b', 'a', 'a', 'e']})\n",
    "\n",
    "df"
   ]
  },
  {
   "cell_type": "markdown",
   "metadata": {},
   "source": [
    "Convert the raw grades to a categorical data type."
   ]
  },
  {
   "cell_type": "code",
   "execution_count": 176,
   "metadata": {
    "collapsed": false
   },
   "outputs": [
    {
     "data": {
      "text/plain": [
       "0    a\n",
       "1    b\n",
       "2    b\n",
       "3    a\n",
       "4    a\n",
       "5    e\n",
       "Name: grade, dtype: category\n",
       "Categories (3, object): [a, b, e]"
      ]
     },
     "execution_count": 176,
     "metadata": {},
     "output_type": "execute_result"
    }
   ],
   "source": [
    "df[\"grade\"] = df[\"raw_grade\"].astype(\"category\")\n",
    "\n",
    "df[\"grade\"]"
   ]
  },
  {
   "cell_type": "markdown",
   "metadata": {},
   "source": [
    "Rename the categories to more meaningful names (assigning to Series.cat.categories is inplace!)"
   ]
  },
  {
   "cell_type": "code",
   "execution_count": 178,
   "metadata": {
    "collapsed": false
   },
   "outputs": [
    {
     "data": {
      "text/html": [
       "<div>\n",
       "<table border=\"1\" class=\"dataframe\">\n",
       "  <thead>\n",
       "    <tr style=\"text-align: right;\">\n",
       "      <th></th>\n",
       "      <th>id</th>\n",
       "      <th>raw_grade</th>\n",
       "      <th>grade</th>\n",
       "    </tr>\n",
       "  </thead>\n",
       "  <tbody>\n",
       "    <tr>\n",
       "      <th>0</th>\n",
       "      <td>1</td>\n",
       "      <td>a</td>\n",
       "      <td>very good</td>\n",
       "    </tr>\n",
       "    <tr>\n",
       "      <th>1</th>\n",
       "      <td>2</td>\n",
       "      <td>b</td>\n",
       "      <td>good</td>\n",
       "    </tr>\n",
       "    <tr>\n",
       "      <th>2</th>\n",
       "      <td>3</td>\n",
       "      <td>b</td>\n",
       "      <td>good</td>\n",
       "    </tr>\n",
       "    <tr>\n",
       "      <th>3</th>\n",
       "      <td>4</td>\n",
       "      <td>a</td>\n",
       "      <td>very good</td>\n",
       "    </tr>\n",
       "    <tr>\n",
       "      <th>4</th>\n",
       "      <td>5</td>\n",
       "      <td>a</td>\n",
       "      <td>very good</td>\n",
       "    </tr>\n",
       "    <tr>\n",
       "      <th>5</th>\n",
       "      <td>6</td>\n",
       "      <td>e</td>\n",
       "      <td>very bad</td>\n",
       "    </tr>\n",
       "  </tbody>\n",
       "</table>\n",
       "</div>"
      ],
      "text/plain": [
       "   id raw_grade      grade\n",
       "0   1         a  very good\n",
       "1   2         b       good\n",
       "2   3         b       good\n",
       "3   4         a  very good\n",
       "4   5         a  very good\n",
       "5   6         e   very bad"
      ]
     },
     "execution_count": 178,
     "metadata": {},
     "output_type": "execute_result"
    }
   ],
   "source": [
    "df[\"grade\"].cat.categories = [\"very good\", \"good\", \"very bad\"]\n",
    "\n",
    "df"
   ]
  },
  {
   "cell_type": "markdown",
   "metadata": {},
   "source": [
    "Reorder the categories and simultaneously add the missing categories (methods under Series .cat return a new Series per default)."
   ]
  },
  {
   "cell_type": "code",
   "execution_count": 179,
   "metadata": {
    "collapsed": false
   },
   "outputs": [
    {
     "data": {
      "text/plain": [
       "0    very good\n",
       "1         good\n",
       "2         good\n",
       "3    very good\n",
       "4    very good\n",
       "5     very bad\n",
       "Name: grade, dtype: category\n",
       "Categories (5, object): [very bad, bad, medium, good, very good]"
      ]
     },
     "execution_count": 179,
     "metadata": {},
     "output_type": "execute_result"
    }
   ],
   "source": [
    "df[\"grade\"] = df[\"grade\"].cat.set_categories([\"very bad\", \"bad\", \"medium\", \"good\", \"very good\"])\n",
    "\n",
    "df[\"grade\"]"
   ]
  },
  {
   "cell_type": "markdown",
   "metadata": {},
   "source": [
    "Sorting is per order in the categories, not lexical order."
   ]
  },
  {
   "cell_type": "code",
   "execution_count": 180,
   "metadata": {
    "collapsed": false
   },
   "outputs": [
    {
     "data": {
      "text/html": [
       "<div>\n",
       "<table border=\"1\" class=\"dataframe\">\n",
       "  <thead>\n",
       "    <tr style=\"text-align: right;\">\n",
       "      <th></th>\n",
       "      <th>id</th>\n",
       "      <th>raw_grade</th>\n",
       "      <th>grade</th>\n",
       "    </tr>\n",
       "  </thead>\n",
       "  <tbody>\n",
       "    <tr>\n",
       "      <th>5</th>\n",
       "      <td>6</td>\n",
       "      <td>e</td>\n",
       "      <td>very bad</td>\n",
       "    </tr>\n",
       "    <tr>\n",
       "      <th>1</th>\n",
       "      <td>2</td>\n",
       "      <td>b</td>\n",
       "      <td>good</td>\n",
       "    </tr>\n",
       "    <tr>\n",
       "      <th>2</th>\n",
       "      <td>3</td>\n",
       "      <td>b</td>\n",
       "      <td>good</td>\n",
       "    </tr>\n",
       "    <tr>\n",
       "      <th>0</th>\n",
       "      <td>1</td>\n",
       "      <td>a</td>\n",
       "      <td>very good</td>\n",
       "    </tr>\n",
       "    <tr>\n",
       "      <th>3</th>\n",
       "      <td>4</td>\n",
       "      <td>a</td>\n",
       "      <td>very good</td>\n",
       "    </tr>\n",
       "    <tr>\n",
       "      <th>4</th>\n",
       "      <td>5</td>\n",
       "      <td>a</td>\n",
       "      <td>very good</td>\n",
       "    </tr>\n",
       "  </tbody>\n",
       "</table>\n",
       "</div>"
      ],
      "text/plain": [
       "   id raw_grade      grade\n",
       "5   6         e   very bad\n",
       "1   2         b       good\n",
       "2   3         b       good\n",
       "0   1         a  very good\n",
       "3   4         a  very good\n",
       "4   5         a  very good"
      ]
     },
     "execution_count": 180,
     "metadata": {},
     "output_type": "execute_result"
    }
   ],
   "source": [
    "df.sort_values(by=\"grade\")"
   ]
  },
  {
   "cell_type": "markdown",
   "metadata": {},
   "source": [
    "Grouping by a categorical column shows also empty categories."
   ]
  },
  {
   "cell_type": "code",
   "execution_count": 181,
   "metadata": {
    "collapsed": false
   },
   "outputs": [
    {
     "data": {
      "text/plain": [
       "grade\n",
       "very bad     1\n",
       "bad          0\n",
       "medium       0\n",
       "good         2\n",
       "very good    3\n",
       "dtype: int64"
      ]
     },
     "execution_count": 181,
     "metadata": {},
     "output_type": "execute_result"
    }
   ],
   "source": [
    "df.groupby(\"grade\").size()"
   ]
  },
  {
   "cell_type": "markdown",
   "metadata": {},
   "source": [
    "Plotting"
   ]
  },
  {
   "cell_type": "code",
   "execution_count": 189,
   "metadata": {
    "collapsed": false
   },
   "outputs": [
    {
     "data": {
      "text/plain": [
       "<matplotlib.axes._subplots.AxesSubplot at 0x1bc8f1c3278>"
      ]
     },
     "execution_count": 189,
     "metadata": {},
     "output_type": "execute_result"
    },
    {
     "data": {
      "image/png": "[encoded data removed]",
      "text/plain": [
       "<matplotlib.figure.Figure at 0x1bc8f34fa58>"
      ]
     },
     "metadata": {},
     "output_type": "display_data"
    }
   ],
   "source": [
    "ts = pd.Series(np.random.randn(1000), index=pd.date_range('1/1/2000', periods=1000))\n",
    "\n",
    "ts = ts.cumsum()\n",
    "\n",
    "ts.plot()\n"
   ]
  },
  {
   "cell_type": "markdown",
   "metadata": {},
   "source": [
    "If the index consists of dates, it calls gcf().autofmt_xdate() to try to format the x-axis nicely as per above.\n",
    "\n",
    "On DataFrame, plot() is a convenience to plot all of the columns with labels:"
   ]
  },
  {
   "cell_type": "code",
   "execution_count": 191,
   "metadata": {
    "collapsed": false
   },
   "outputs": [
    {
     "data": {
      "text/plain": [
       "<matplotlib.figure.Figure at 0x1bc8f42dc88>"
      ]
     },
     "metadata": {},
     "output_type": "display_data"
    },
    {
     "data": {
      "image/png": "[encoded data removed]",
      "text/plain": [
       "<matplotlib.figure.Figure at 0x1bc9075f780>"
      ]
     },
     "metadata": {},
     "output_type": "display_data"
    }
   ],
   "source": [
    "df = pd.DataFrame(np.random.randn(1000, 4), index=ts.index, columns=list('ABCD'))\n",
    "\n",
    "df = df.cumsum()\n",
    "\n",
    "plt.figure(); df.plot();"
   ]
  },
  {
   "cell_type": "markdown",
   "metadata": {},
   "source": [
    "You can plot one column versus another using the x and y keywords in plot():"
   ]
  },
  {
   "cell_type": "code",
   "execution_count": 192,
   "metadata": {
    "collapsed": false
   },
   "outputs": [
    {
     "data": {
      "text/plain": [
       "<matplotlib.axes._subplots.AxesSubplot at 0x1bc9075f160>"
      ]
     },
     "execution_count": 192,
     "metadata": {},
     "output_type": "execute_result"
    },
    {
     "data": {
      "image/png": "[encoded data removed]",
      "text/plain": [
       "<matplotlib.figure.Figure at 0x1bc907e6f28>"
      ]
     },
     "metadata": {},
     "output_type": "display_data"
    }
   ],
   "source": [
    "df3 = pd.DataFrame(np.random.randn(1000, 2), columns=['B', 'C']).cumsum()\n",
    "\n",
    "df3['A'] = pd.Series(list(range(len(df))))\n",
    "\n",
    "df3.plot(x='A', y='B')"
   ]
  },
  {
   "cell_type": "markdown",
   "metadata": {},
   "source": [
    "Other Plots\n",
    "\n",
    "Plotting methods allow for a handful of plot styles other than the default Line plot. These methods can be provided as the kind keyword argument to plot(). These include:\n",
    "\n",
    "‘bar’ or ‘barh’ for bar plots\n",
    "\n",
    "‘hist’ for histogram\n",
    "\n",
    "‘box’ for boxplot\n",
    "\n",
    "‘kde’ or 'density' for density plots\n",
    "\n",
    "‘area’ for area plots\n",
    "\n",
    "‘scatter’ for scatter plots\n",
    "\n",
    "‘hexbin’ for hexagonal bin plots\n",
    "\n",
    "‘pie’ for pie plots\n",
    "\n",
    "For example, a bar plot can be created the following way:"
   ]
  },
  {
   "cell_type": "code",
   "execution_count": 193,
   "metadata": {
    "collapsed": false,
    "scrolled": true
   },
   "outputs": [
    {
     "data": {
      "text/plain": [
       "<matplotlib.lines.Line2D at 0x1bc908937b8>"
      ]
     },
     "execution_count": 193,
     "metadata": {},
     "output_type": "execute_result"
    },
    {
     "data": {
      "image/png": "[encoded data removed]",
      "text/plain": [
       "<matplotlib.figure.Figure at 0x1bc8f4217f0>"
      ]
     },
     "metadata": {},
     "output_type": "display_data"
    }
   ],
   "source": [
    "plt.figure();\n",
    "\n",
    "df.ix[5].plot(kind='bar'); plt.axhline(0, color='k')"
   ]
  },
  {
   "cell_type": "markdown",
   "metadata": {},
   "source": [
    "You can also create these other plots using the methods DataFrame.plot.<kind> instead of providing the kind keyword argument. This makes it easier to discover plot methods and the specific arguments they use:\n",
    "\n",
    "In [13]: df = pd.DataFrame()\n",
    "\n",
    "In [14]: df.plot.<TAB>\n",
    "df.plot.area     df.plot.barh     df.plot.density  df.plot.hist     df.plot.line     df.plot.scatter\n",
    "df.plot.bar      df.plot.box      df.plot.hexbin   df.plot.kde      df.plot.pie\n",
    "\n",
    "In addition to these kind s, there are the DataFrame.hist(), and DataFrame.boxplot() methods, which use a separate interface.\n",
    "\n",
    "Finally, there are several plotting functions in pandas.tools.plotting that take a Series or DataFrame as an argument. These include\n",
    "\n",
    "Scatter Matrix\n",
    "Andrews Curves\n",
    "Parallel Coordinates\n",
    "Lag Plot\n",
    "Autocorrelation Plot\n",
    "Bootstrap Plot\n",
    "RadViz\n",
    "Plots may also be adorned with errorbars or tables."
   ]
  },
  {
   "cell_type": "markdown",
   "metadata": {},
   "source": [
    "Getting Data In/Out\n",
    "\n",
    "Writing to a CSV file"
   ]
  },
  {
   "cell_type": "code",
   "execution_count": 197,
   "metadata": {
    "collapsed": true
   },
   "outputs": [],
   "source": [
    "df.to_csv('foo.csv')\n",
    "\n",
    "#The csv appears in the same directory as the notebook."
   ]
  },
  {
   "cell_type": "markdown",
   "metadata": {},
   "source": [
    "Reading from a csv file"
   ]
  },
  {
   "cell_type": "code",
   "execution_count": 196,
   "metadata": {
    "collapsed": false
   },
   "outputs": [
    {
     "data": {
      "text/html": [
       "<div>\n",
       "<table border=\"1\" class=\"dataframe\">\n",
       "  <thead>\n",
       "    <tr style=\"text-align: right;\">\n",
       "      <th></th>\n",
       "      <th>Unnamed: 0</th>\n",
       "      <th>A</th>\n",
       "      <th>B</th>\n",
       "      <th>C</th>\n",
       "      <th>D</th>\n",
       "    </tr>\n",
       "  </thead>\n",
       "  <tbody>\n",
       "    <tr>\n",
       "      <th>0</th>\n",
       "      <td>2000-01-01</td>\n",
       "      <td>0.706620</td>\n",
       "      <td>-1.161688</td>\n",
       "      <td>0.099580</td>\n",
       "      <td>1.910567</td>\n",
       "    </tr>\n",
       "    <tr>\n",
       "      <th>1</th>\n",
       "      <td>2000-01-02</td>\n",
       "      <td>-1.301425</td>\n",
       "      <td>-0.241876</td>\n",
       "      <td>0.505881</td>\n",
       "      <td>0.704413</td>\n",
       "    </tr>\n",
       "    <tr>\n",
       "      <th>2</th>\n",
       "      <td>2000-01-03</td>\n",
       "      <td>-1.466749</td>\n",
       "      <td>-0.714582</td>\n",
       "      <td>1.131817</td>\n",
       "      <td>-0.090220</td>\n",
       "    </tr>\n",
       "    <tr>\n",
       "      <th>3</th>\n",
       "      <td>2000-01-04</td>\n",
       "      <td>-1.268877</td>\n",
       "      <td>-0.674117</td>\n",
       "      <td>1.456098</td>\n",
       "      <td>-0.849111</td>\n",
       "    </tr>\n",
       "    <tr>\n",
       "      <th>4</th>\n",
       "      <td>2000-01-05</td>\n",
       "      <td>-2.817786</td>\n",
       "      <td>-0.974213</td>\n",
       "      <td>1.525343</td>\n",
       "      <td>-1.251521</td>\n",
       "    </tr>\n",
       "    <tr>\n",
       "      <th>5</th>\n",
       "      <td>2000-01-06</td>\n",
       "      <td>-2.912346</td>\n",
       "      <td>-0.284558</td>\n",
       "      <td>1.077543</td>\n",
       "      <td>0.179057</td>\n",
       "    </tr>\n",
       "    <tr>\n",
       "      <th>6</th>\n",
       "      <td>2000-01-07</td>\n",
       "      <td>-3.776506</td>\n",
       "      <td>-0.656286</td>\n",
       "      <td>2.560434</td>\n",
       "      <td>1.176466</td>\n",
       "    </tr>\n",
       "    <tr>\n",
       "      <th>7</th>\n",
       "      <td>2000-01-08</td>\n",
       "      <td>-3.170526</td>\n",
       "      <td>-0.957435</td>\n",
       "      <td>2.705603</td>\n",
       "      <td>1.342401</td>\n",
       "    </tr>\n",
       "    <tr>\n",
       "      <th>8</th>\n",
       "      <td>2000-01-09</td>\n",
       "      <td>-4.737681</td>\n",
       "      <td>-1.133429</td>\n",
       "      <td>2.377678</td>\n",
       "      <td>-1.178586</td>\n",
       "    </tr>\n",
       "    <tr>\n",
       "      <th>9</th>\n",
       "      <td>2000-01-10</td>\n",
       "      <td>-4.305008</td>\n",
       "      <td>-1.526970</td>\n",
       "      <td>2.245310</td>\n",
       "      <td>-2.629415</td>\n",
       "    </tr>\n",
       "    <tr>\n",
       "      <th>10</th>\n",
       "      <td>2000-01-11</td>\n",
       "      <td>-3.729897</td>\n",
       "      <td>0.674250</td>\n",
       "      <td>1.336337</td>\n",
       "      <td>-1.547471</td>\n",
       "    </tr>\n",
       "    <tr>\n",
       "      <th>11</th>\n",
       "      <td>2000-01-12</td>\n",
       "      <td>-5.334674</td>\n",
       "      <td>1.796567</td>\n",
       "      <td>0.902277</td>\n",
       "      <td>-2.723121</td>\n",
       "    </tr>\n",
       "    <tr>\n",
       "      <th>12</th>\n",
       "      <td>2000-01-13</td>\n",
       "      <td>-5.694762</td>\n",
       "      <td>2.569460</td>\n",
       "      <td>1.959433</td>\n",
       "      <td>-1.725348</td>\n",
       "    </tr>\n",
       "    <tr>\n",
       "      <th>13</th>\n",
       "      <td>2000-01-14</td>\n",
       "      <td>-6.661196</td>\n",
       "      <td>3.342312</td>\n",
       "      <td>2.736483</td>\n",
       "      <td>-0.649659</td>\n",
       "    </tr>\n",
       "    <tr>\n",
       "      <th>14</th>\n",
       "      <td>2000-01-15</td>\n",
       "      <td>-4.993180</td>\n",
       "      <td>3.213296</td>\n",
       "      <td>2.238991</td>\n",
       "      <td>-1.354169</td>\n",
       "    </tr>\n",
       "    <tr>\n",
       "      <th>15</th>\n",
       "      <td>2000-01-16</td>\n",
       "      <td>-6.799941</td>\n",
       "      <td>2.212183</td>\n",
       "      <td>1.608175</td>\n",
       "      <td>-1.277753</td>\n",
       "    </tr>\n",
       "    <tr>\n",
       "      <th>16</th>\n",
       "      <td>2000-01-17</td>\n",
       "      <td>-7.328807</td>\n",
       "      <td>0.511402</td>\n",
       "      <td>2.162448</td>\n",
       "      <td>0.328981</td>\n",
       "    </tr>\n",
       "    <tr>\n",
       "      <th>17</th>\n",
       "      <td>2000-01-18</td>\n",
       "      <td>-7.500031</td>\n",
       "      <td>0.783260</td>\n",
       "      <td>1.205494</td>\n",
       "      <td>1.268234</td>\n",
       "    </tr>\n",
       "    <tr>\n",
       "      <th>18</th>\n",
       "      <td>2000-01-19</td>\n",
       "      <td>-9.010483</td>\n",
       "      <td>1.499308</td>\n",
       "      <td>1.592975</td>\n",
       "      <td>2.302878</td>\n",
       "    </tr>\n",
       "    <tr>\n",
       "      <th>19</th>\n",
       "      <td>2000-01-20</td>\n",
       "      <td>-8.939653</td>\n",
       "      <td>0.792277</td>\n",
       "      <td>0.286593</td>\n",
       "      <td>0.784490</td>\n",
       "    </tr>\n",
       "    <tr>\n",
       "      <th>20</th>\n",
       "      <td>2000-01-21</td>\n",
       "      <td>-8.179155</td>\n",
       "      <td>-0.276675</td>\n",
       "      <td>-1.143360</td>\n",
       "      <td>1.458172</td>\n",
       "    </tr>\n",
       "    <tr>\n",
       "      <th>21</th>\n",
       "      <td>2000-01-22</td>\n",
       "      <td>-7.550823</td>\n",
       "      <td>1.366255</td>\n",
       "      <td>-2.010309</td>\n",
       "      <td>0.575013</td>\n",
       "    </tr>\n",
       "    <tr>\n",
       "      <th>22</th>\n",
       "      <td>2000-01-23</td>\n",
       "      <td>-9.199418</td>\n",
       "      <td>4.772757</td>\n",
       "      <td>-2.704189</td>\n",
       "      <td>1.405259</td>\n",
       "    </tr>\n",
       "    <tr>\n",
       "      <th>23</th>\n",
       "      <td>2000-01-24</td>\n",
       "      <td>-9.141139</td>\n",
       "      <td>4.967497</td>\n",
       "      <td>-1.035476</td>\n",
       "      <td>1.490677</td>\n",
       "    </tr>\n",
       "    <tr>\n",
       "      <th>24</th>\n",
       "      <td>2000-01-25</td>\n",
       "      <td>-9.283214</td>\n",
       "      <td>4.609720</td>\n",
       "      <td>-0.918923</td>\n",
       "      <td>1.552612</td>\n",
       "    </tr>\n",
       "    <tr>\n",
       "      <th>25</th>\n",
       "      <td>2000-01-26</td>\n",
       "      <td>-8.758616</td>\n",
       "      <td>5.300362</td>\n",
       "      <td>-0.554971</td>\n",
       "      <td>1.853967</td>\n",
       "    </tr>\n",
       "    <tr>\n",
       "      <th>26</th>\n",
       "      <td>2000-01-27</td>\n",
       "      <td>-10.287713</td>\n",
       "      <td>6.169840</td>\n",
       "      <td>-0.914185</td>\n",
       "      <td>3.303328</td>\n",
       "    </tr>\n",
       "    <tr>\n",
       "      <th>27</th>\n",
       "      <td>2000-01-28</td>\n",
       "      <td>-9.000319</td>\n",
       "      <td>6.093663</td>\n",
       "      <td>0.393662</td>\n",
       "      <td>3.730954</td>\n",
       "    </tr>\n",
       "    <tr>\n",
       "      <th>28</th>\n",
       "      <td>2000-01-29</td>\n",
       "      <td>-9.604198</td>\n",
       "      <td>4.672330</td>\n",
       "      <td>-0.454101</td>\n",
       "      <td>3.370665</td>\n",
       "    </tr>\n",
       "    <tr>\n",
       "      <th>29</th>\n",
       "      <td>2000-01-30</td>\n",
       "      <td>-10.784367</td>\n",
       "      <td>6.032862</td>\n",
       "      <td>-0.716620</td>\n",
       "      <td>3.426032</td>\n",
       "    </tr>\n",
       "    <tr>\n",
       "      <th>...</th>\n",
       "      <td>...</td>\n",
       "      <td>...</td>\n",
       "      <td>...</td>\n",
       "      <td>...</td>\n",
       "      <td>...</td>\n",
       "    </tr>\n",
       "    <tr>\n",
       "      <th>970</th>\n",
       "      <td>2002-08-28</td>\n",
       "      <td>-57.668860</td>\n",
       "      <td>15.398070</td>\n",
       "      <td>-14.077816</td>\n",
       "      <td>29.710941</td>\n",
       "    </tr>\n",
       "    <tr>\n",
       "      <th>971</th>\n",
       "      <td>2002-08-29</td>\n",
       "      <td>-56.633702</td>\n",
       "      <td>15.168808</td>\n",
       "      <td>-13.527704</td>\n",
       "      <td>30.365983</td>\n",
       "    </tr>\n",
       "    <tr>\n",
       "      <th>972</th>\n",
       "      <td>2002-08-30</td>\n",
       "      <td>-56.537090</td>\n",
       "      <td>14.943160</td>\n",
       "      <td>-13.609123</td>\n",
       "      <td>30.330607</td>\n",
       "    </tr>\n",
       "    <tr>\n",
       "      <th>973</th>\n",
       "      <td>2002-08-31</td>\n",
       "      <td>-57.559282</td>\n",
       "      <td>13.910218</td>\n",
       "      <td>-14.284975</td>\n",
       "      <td>29.150292</td>\n",
       "    </tr>\n",
       "    <tr>\n",
       "      <th>974</th>\n",
       "      <td>2002-09-01</td>\n",
       "      <td>-58.036147</td>\n",
       "      <td>12.929889</td>\n",
       "      <td>-14.447755</td>\n",
       "      <td>27.867464</td>\n",
       "    </tr>\n",
       "    <tr>\n",
       "      <th>975</th>\n",
       "      <td>2002-09-02</td>\n",
       "      <td>-57.320502</td>\n",
       "      <td>12.017611</td>\n",
       "      <td>-16.223156</td>\n",
       "      <td>28.545215</td>\n",
       "    </tr>\n",
       "    <tr>\n",
       "      <th>976</th>\n",
       "      <td>2002-09-03</td>\n",
       "      <td>-58.143922</td>\n",
       "      <td>12.266910</td>\n",
       "      <td>-17.017359</td>\n",
       "      <td>29.821777</td>\n",
       "    </tr>\n",
       "    <tr>\n",
       "      <th>977</th>\n",
       "      <td>2002-09-04</td>\n",
       "      <td>-58.728408</td>\n",
       "      <td>11.354085</td>\n",
       "      <td>-16.840088</td>\n",
       "      <td>28.191304</td>\n",
       "    </tr>\n",
       "    <tr>\n",
       "      <th>978</th>\n",
       "      <td>2002-09-05</td>\n",
       "      <td>-58.465295</td>\n",
       "      <td>12.273221</td>\n",
       "      <td>-17.624345</td>\n",
       "      <td>26.033380</td>\n",
       "    </tr>\n",
       "    <tr>\n",
       "      <th>979</th>\n",
       "      <td>2002-09-06</td>\n",
       "      <td>-58.283687</td>\n",
       "      <td>13.087353</td>\n",
       "      <td>-16.675615</td>\n",
       "      <td>26.903275</td>\n",
       "    </tr>\n",
       "    <tr>\n",
       "      <th>980</th>\n",
       "      <td>2002-09-07</td>\n",
       "      <td>-57.934884</td>\n",
       "      <td>14.317789</td>\n",
       "      <td>-15.699499</td>\n",
       "      <td>26.453086</td>\n",
       "    </tr>\n",
       "    <tr>\n",
       "      <th>981</th>\n",
       "      <td>2002-09-08</td>\n",
       "      <td>-56.223404</td>\n",
       "      <td>13.041127</td>\n",
       "      <td>-15.812669</td>\n",
       "      <td>26.632719</td>\n",
       "    </tr>\n",
       "    <tr>\n",
       "      <th>982</th>\n",
       "      <td>2002-09-09</td>\n",
       "      <td>-55.056260</td>\n",
       "      <td>12.833225</td>\n",
       "      <td>-14.875768</td>\n",
       "      <td>24.972226</td>\n",
       "    </tr>\n",
       "    <tr>\n",
       "      <th>983</th>\n",
       "      <td>2002-09-10</td>\n",
       "      <td>-55.071631</td>\n",
       "      <td>11.089189</td>\n",
       "      <td>-14.278374</td>\n",
       "      <td>24.400915</td>\n",
       "    </tr>\n",
       "    <tr>\n",
       "      <th>984</th>\n",
       "      <td>2002-09-11</td>\n",
       "      <td>-54.686072</td>\n",
       "      <td>11.894784</td>\n",
       "      <td>-15.254228</td>\n",
       "      <td>25.564676</td>\n",
       "    </tr>\n",
       "    <tr>\n",
       "      <th>985</th>\n",
       "      <td>2002-09-12</td>\n",
       "      <td>-55.494816</td>\n",
       "      <td>11.945513</td>\n",
       "      <td>-14.586175</td>\n",
       "      <td>25.326629</td>\n",
       "    </tr>\n",
       "    <tr>\n",
       "      <th>986</th>\n",
       "      <td>2002-09-13</td>\n",
       "      <td>-56.292269</td>\n",
       "      <td>13.094245</td>\n",
       "      <td>-14.630408</td>\n",
       "      <td>23.854402</td>\n",
       "    </tr>\n",
       "    <tr>\n",
       "      <th>987</th>\n",
       "      <td>2002-09-14</td>\n",
       "      <td>-55.771357</td>\n",
       "      <td>13.433868</td>\n",
       "      <td>-12.935731</td>\n",
       "      <td>24.113138</td>\n",
       "    </tr>\n",
       "    <tr>\n",
       "      <th>988</th>\n",
       "      <td>2002-09-15</td>\n",
       "      <td>-56.025650</td>\n",
       "      <td>13.531019</td>\n",
       "      <td>-13.386426</td>\n",
       "      <td>24.366636</td>\n",
       "    </tr>\n",
       "    <tr>\n",
       "      <th>989</th>\n",
       "      <td>2002-09-16</td>\n",
       "      <td>-54.930186</td>\n",
       "      <td>13.630470</td>\n",
       "      <td>-13.483327</td>\n",
       "      <td>23.867298</td>\n",
       "    </tr>\n",
       "    <tr>\n",
       "      <th>990</th>\n",
       "      <td>2002-09-17</td>\n",
       "      <td>-56.558076</td>\n",
       "      <td>13.334340</td>\n",
       "      <td>-15.115746</td>\n",
       "      <td>24.854317</td>\n",
       "    </tr>\n",
       "    <tr>\n",
       "      <th>991</th>\n",
       "      <td>2002-09-18</td>\n",
       "      <td>-57.842106</td>\n",
       "      <td>13.636453</td>\n",
       "      <td>-13.631861</td>\n",
       "      <td>26.742453</td>\n",
       "    </tr>\n",
       "    <tr>\n",
       "      <th>992</th>\n",
       "      <td>2002-09-19</td>\n",
       "      <td>-58.019910</td>\n",
       "      <td>13.528588</td>\n",
       "      <td>-12.976779</td>\n",
       "      <td>28.226029</td>\n",
       "    </tr>\n",
       "    <tr>\n",
       "      <th>993</th>\n",
       "      <td>2002-09-20</td>\n",
       "      <td>-56.919370</td>\n",
       "      <td>15.195321</td>\n",
       "      <td>-12.538145</td>\n",
       "      <td>28.255410</td>\n",
       "    </tr>\n",
       "    <tr>\n",
       "      <th>994</th>\n",
       "      <td>2002-09-21</td>\n",
       "      <td>-55.651478</td>\n",
       "      <td>14.423294</td>\n",
       "      <td>-14.045082</td>\n",
       "      <td>28.825694</td>\n",
       "    </tr>\n",
       "    <tr>\n",
       "      <th>995</th>\n",
       "      <td>2002-09-22</td>\n",
       "      <td>-54.481715</td>\n",
       "      <td>13.166432</td>\n",
       "      <td>-14.882690</td>\n",
       "      <td>28.322079</td>\n",
       "    </tr>\n",
       "    <tr>\n",
       "      <th>996</th>\n",
       "      <td>2002-09-23</td>\n",
       "      <td>-55.749541</td>\n",
       "      <td>12.548342</td>\n",
       "      <td>-12.382921</td>\n",
       "      <td>27.489224</td>\n",
       "    </tr>\n",
       "    <tr>\n",
       "      <th>997</th>\n",
       "      <td>2002-09-24</td>\n",
       "      <td>-53.477466</td>\n",
       "      <td>11.712330</td>\n",
       "      <td>-12.136817</td>\n",
       "      <td>27.282859</td>\n",
       "    </tr>\n",
       "    <tr>\n",
       "      <th>998</th>\n",
       "      <td>2002-09-25</td>\n",
       "      <td>-53.040236</td>\n",
       "      <td>11.886699</td>\n",
       "      <td>-13.143011</td>\n",
       "      <td>26.841983</td>\n",
       "    </tr>\n",
       "    <tr>\n",
       "      <th>999</th>\n",
       "      <td>2002-09-26</td>\n",
       "      <td>-52.261962</td>\n",
       "      <td>11.606334</td>\n",
       "      <td>-11.805199</td>\n",
       "      <td>29.581109</td>\n",
       "    </tr>\n",
       "  </tbody>\n",
       "</table>\n",
       "<p>1000 rows × 5 columns</p>\n",
       "</div>"
      ],
      "text/plain": [
       "     Unnamed: 0          A          B          C          D\n",
       "0    2000-01-01   0.706620  -1.161688   0.099580   1.910567\n",
       "1    2000-01-02  -1.301425  -0.241876   0.505881   0.704413\n",
       "2    2000-01-03  -1.466749  -0.714582   1.131817  -0.090220\n",
       "3    2000-01-04  -1.268877  -0.674117   1.456098  -0.849111\n",
       "4    2000-01-05  -2.817786  -0.974213   1.525343  -1.251521\n",
       "5    2000-01-06  -2.912346  -0.284558   1.077543   0.179057\n",
       "6    2000-01-07  -3.776506  -0.656286   2.560434   1.176466\n",
       "7    2000-01-08  -3.170526  -0.957435   2.705603   1.342401\n",
       "8    2000-01-09  -4.737681  -1.133429   2.377678  -1.178586\n",
       "9    2000-01-10  -4.305008  -1.526970   2.245310  -2.629415\n",
       "10   2000-01-11  -3.729897   0.674250   1.336337  -1.547471\n",
       "11   2000-01-12  -5.334674   1.796567   0.902277  -2.723121\n",
       "12   2000-01-13  -5.694762   2.569460   1.959433  -1.725348\n",
       "13   2000-01-14  -6.661196   3.342312   2.736483  -0.649659\n",
       "14   2000-01-15  -4.993180   3.213296   2.238991  -1.354169\n",
       "15   2000-01-16  -6.799941   2.212183   1.608175  -1.277753\n",
       "16   2000-01-17  -7.328807   0.511402   2.162448   0.328981\n",
       "17   2000-01-18  -7.500031   0.783260   1.205494   1.268234\n",
       "18   2000-01-19  -9.010483   1.499308   1.592975   2.302878\n",
       "19   2000-01-20  -8.939653   0.792277   0.286593   0.784490\n",
       "20   2000-01-21  -8.179155  -0.276675  -1.143360   1.458172\n",
       "21   2000-01-22  -7.550823   1.366255  -2.010309   0.575013\n",
       "22   2000-01-23  -9.199418   4.772757  -2.704189   1.405259\n",
       "23   2000-01-24  -9.141139   4.967497  -1.035476   1.490677\n",
       "24   2000-01-25  -9.283214   4.609720  -0.918923   1.552612\n",
       "25   2000-01-26  -8.758616   5.300362  -0.554971   1.853967\n",
       "26   2000-01-27 -10.287713   6.169840  -0.914185   3.303328\n",
       "27   2000-01-28  -9.000319   6.093663   0.393662   3.730954\n",
       "28   2000-01-29  -9.604198   4.672330  -0.454101   3.370665\n",
       "29   2000-01-30 -10.784367   6.032862  -0.716620   3.426032\n",
       "..          ...        ...        ...        ...        ...\n",
       "970  2002-08-28 -57.668860  15.398070 -14.077816  29.710941\n",
       "971  2002-08-29 -56.633702  15.168808 -13.527704  30.365983\n",
       "972  2002-08-30 -56.537090  14.943160 -13.609123  30.330607\n",
       "973  2002-08-31 -57.559282  13.910218 -14.284975  29.150292\n",
       "974  2002-09-01 -58.036147  12.929889 -14.447755  27.867464\n",
       "975  2002-09-02 -57.320502  12.017611 -16.223156  28.545215\n",
       "976  2002-09-03 -58.143922  12.266910 -17.017359  29.821777\n",
       "977  2002-09-04 -58.728408  11.354085 -16.840088  28.191304\n",
       "978  2002-09-05 -58.465295  12.273221 -17.624345  26.033380\n",
       "979  2002-09-06 -58.283687  13.087353 -16.675615  26.903275\n",
       "980  2002-09-07 -57.934884  14.317789 -15.699499  26.453086\n",
       "981  2002-09-08 -56.223404  13.041127 -15.812669  26.632719\n",
       "982  2002-09-09 -55.056260  12.833225 -14.875768  24.972226\n",
       "983  2002-09-10 -55.071631  11.089189 -14.278374  24.400915\n",
       "984  2002-09-11 -54.686072  11.894784 -15.254228  25.564676\n",
       "985  2002-09-12 -55.494816  11.945513 -14.586175  25.326629\n",
       "986  2002-09-13 -56.292269  13.094245 -14.630408  23.854402\n",
       "987  2002-09-14 -55.771357  13.433868 -12.935731  24.113138\n",
       "988  2002-09-15 -56.025650  13.531019 -13.386426  24.366636\n",
       "989  2002-09-16 -54.930186  13.630470 -13.483327  23.867298\n",
       "990  2002-09-17 -56.558076  13.334340 -15.115746  24.854317\n",
       "991  2002-09-18 -57.842106  13.636453 -13.631861  26.742453\n",
       "992  2002-09-19 -58.019910  13.528588 -12.976779  28.226029\n",
       "993  2002-09-20 -56.919370  15.195321 -12.538145  28.255410\n",
       "994  2002-09-21 -55.651478  14.423294 -14.045082  28.825694\n",
       "995  2002-09-22 -54.481715  13.166432 -14.882690  28.322079\n",
       "996  2002-09-23 -55.749541  12.548342 -12.382921  27.489224\n",
       "997  2002-09-24 -53.477466  11.712330 -12.136817  27.282859\n",
       "998  2002-09-25 -53.040236  11.886699 -13.143011  26.841983\n",
       "999  2002-09-26 -52.261962  11.606334 -11.805199  29.581109\n",
       "\n",
       "[1000 rows x 5 columns]"
      ]
     },
     "execution_count": 196,
     "metadata": {},
     "output_type": "execute_result"
    }
   ],
   "source": [
    "pd.read_csv('foo.csv')"
   ]
  },
  {
   "cell_type": "markdown",
   "metadata": {},
   "source": [
    "HDF5\n",
    "\n",
    "Reading and writing to HDFStores\n",
    "\n",
    "Writing to a HDF5 Store"
   ]
  },
  {
   "cell_type": "code",
   "execution_count": 200,
   "metadata": {
    "collapsed": true
   },
   "outputs": [],
   "source": [
    "df.to_hdf('foo.h5','df')"
   ]
  },
  {
   "cell_type": "markdown",
   "metadata": {},
   "source": [
    "Reading from a HDF5 Store"
   ]
  },
  {
   "cell_type": "code",
   "execution_count": 201,
   "metadata": {
    "collapsed": false
   },
   "outputs": [
    {
     "data": {
      "text/html": [
       "<div>\n",
       "<table border=\"1\" class=\"dataframe\">\n",
       "  <thead>\n",
       "    <tr style=\"text-align: right;\">\n",
       "      <th></th>\n",
       "      <th>A</th>\n",
       "      <th>B</th>\n",
       "      <th>C</th>\n",
       "      <th>D</th>\n",
       "    </tr>\n",
       "  </thead>\n",
       "  <tbody>\n",
       "    <tr>\n",
       "      <th>2000-01-01</th>\n",
       "      <td>0.706620</td>\n",
       "      <td>-1.161688</td>\n",
       "      <td>0.099580</td>\n",
       "      <td>1.910567</td>\n",
       "    </tr>\n",
       "    <tr>\n",
       "      <th>2000-01-02</th>\n",
       "      <td>-1.301425</td>\n",
       "      <td>-0.241876</td>\n",
       "      <td>0.505881</td>\n",
       "      <td>0.704413</td>\n",
       "    </tr>\n",
       "    <tr>\n",
       "      <th>2000-01-03</th>\n",
       "      <td>-1.466749</td>\n",
       "      <td>-0.714582</td>\n",
       "      <td>1.131817</td>\n",
       "      <td>-0.090220</td>\n",
       "    </tr>\n",
       "    <tr>\n",
       "      <th>2000-01-04</th>\n",
       "      <td>-1.268877</td>\n",
       "      <td>-0.674117</td>\n",
       "      <td>1.456098</td>\n",
       "      <td>-0.849111</td>\n",
       "    </tr>\n",
       "    <tr>\n",
       "      <th>2000-01-05</th>\n",
       "      <td>-2.817786</td>\n",
       "      <td>-0.974213</td>\n",
       "      <td>1.525343</td>\n",
       "      <td>-1.251521</td>\n",
       "    </tr>\n",
       "    <tr>\n",
       "      <th>2000-01-06</th>\n",
       "      <td>-2.912346</td>\n",
       "      <td>-0.284558</td>\n",
       "      <td>1.077543</td>\n",
       "      <td>0.179057</td>\n",
       "    </tr>\n",
       "    <tr>\n",
       "      <th>2000-01-07</th>\n",
       "      <td>-3.776506</td>\n",
       "      <td>-0.656286</td>\n",
       "      <td>2.560434</td>\n",
       "      <td>1.176466</td>\n",
       "    </tr>\n",
       "    <tr>\n",
       "      <th>2000-01-08</th>\n",
       "      <td>-3.170526</td>\n",
       "      <td>-0.957435</td>\n",
       "      <td>2.705603</td>\n",
       "      <td>1.342401</td>\n",
       "    </tr>\n",
       "    <tr>\n",
       "      <th>2000-01-09</th>\n",
       "      <td>-4.737681</td>\n",
       "      <td>-1.133429</td>\n",
       "      <td>2.377678</td>\n",
       "      <td>-1.178586</td>\n",
       "    </tr>\n",
       "    <tr>\n",
       "      <th>2000-01-10</th>\n",
       "      <td>-4.305008</td>\n",
       "      <td>-1.526970</td>\n",
       "      <td>2.245310</td>\n",
       "      <td>-2.629415</td>\n",
       "    </tr>\n",
       "    <tr>\n",
       "      <th>2000-01-11</th>\n",
       "      <td>-3.729897</td>\n",
       "      <td>0.674250</td>\n",
       "      <td>1.336337</td>\n",
       "      <td>-1.547471</td>\n",
       "    </tr>\n",
       "    <tr>\n",
       "      <th>2000-01-12</th>\n",
       "      <td>-5.334674</td>\n",
       "      <td>1.796567</td>\n",
       "      <td>0.902277</td>\n",
       "      <td>-2.723121</td>\n",
       "    </tr>\n",
       "    <tr>\n",
       "      <th>2000-01-13</th>\n",
       "      <td>-5.694762</td>\n",
       "      <td>2.569460</td>\n",
       "      <td>1.959433</td>\n",
       "      <td>-1.725348</td>\n",
       "    </tr>\n",
       "    <tr>\n",
       "      <th>2000-01-14</th>\n",
       "      <td>-6.661196</td>\n",
       "      <td>3.342312</td>\n",
       "      <td>2.736483</td>\n",
       "      <td>-0.649659</td>\n",
       "    </tr>\n",
       "    <tr>\n",
       "      <th>2000-01-15</th>\n",
       "      <td>-4.993180</td>\n",
       "      <td>3.213296</td>\n",
       "      <td>2.238991</td>\n",
       "      <td>-1.354169</td>\n",
       "    </tr>\n",
       "    <tr>\n",
       "      <th>2000-01-16</th>\n",
       "      <td>-6.799941</td>\n",
       "      <td>2.212183</td>\n",
       "      <td>1.608175</td>\n",
       "      <td>-1.277753</td>\n",
       "    </tr>\n",
       "    <tr>\n",
       "      <th>2000-01-17</th>\n",
       "      <td>-7.328807</td>\n",
       "      <td>0.511402</td>\n",
       "      <td>2.162448</td>\n",
       "      <td>0.328981</td>\n",
       "    </tr>\n",
       "    <tr>\n",
       "      <th>2000-01-18</th>\n",
       "      <td>-7.500031</td>\n",
       "      <td>0.783260</td>\n",
       "      <td>1.205494</td>\n",
       "      <td>1.268234</td>\n",
       "    </tr>\n",
       "    <tr>\n",
       "      <th>2000-01-19</th>\n",
       "      <td>-9.010483</td>\n",
       "      <td>1.499308</td>\n",
       "      <td>1.592975</td>\n",
       "      <td>2.302878</td>\n",
       "    </tr>\n",
       "    <tr>\n",
       "      <th>2000-01-20</th>\n",
       "      <td>-8.939653</td>\n",
       "      <td>0.792277</td>\n",
       "      <td>0.286593</td>\n",
       "      <td>0.784490</td>\n",
       "    </tr>\n",
       "    <tr>\n",
       "      <th>2000-01-21</th>\n",
       "      <td>-8.179155</td>\n",
       "      <td>-0.276675</td>\n",
       "      <td>-1.143360</td>\n",
       "      <td>1.458172</td>\n",
       "    </tr>\n",
       "    <tr>\n",
       "      <th>2000-01-22</th>\n",
       "      <td>-7.550823</td>\n",
       "      <td>1.366255</td>\n",
       "      <td>-2.010309</td>\n",
       "      <td>0.575013</td>\n",
       "    </tr>\n",
       "    <tr>\n",
       "      <th>2000-01-23</th>\n",
       "      <td>-9.199418</td>\n",
       "      <td>4.772757</td>\n",
       "      <td>-2.704189</td>\n",
       "      <td>1.405259</td>\n",
       "    </tr>\n",
       "    <tr>\n",
       "      <th>2000-01-24</th>\n",
       "      <td>-9.141139</td>\n",
       "      <td>4.967497</td>\n",
       "      <td>-1.035476</td>\n",
       "      <td>1.490677</td>\n",
       "    </tr>\n",
       "    <tr>\n",
       "      <th>2000-01-25</th>\n",
       "      <td>-9.283214</td>\n",
       "      <td>4.609720</td>\n",
       "      <td>-0.918923</td>\n",
       "      <td>1.552612</td>\n",
       "    </tr>\n",
       "    <tr>\n",
       "      <th>2000-01-26</th>\n",
       "      <td>-8.758616</td>\n",
       "      <td>5.300362</td>\n",
       "      <td>-0.554971</td>\n",
       "      <td>1.853967</td>\n",
       "    </tr>\n",
       "    <tr>\n",
       "      <th>2000-01-27</th>\n",
       "      <td>-10.287713</td>\n",
       "      <td>6.169840</td>\n",
       "      <td>-0.914185</td>\n",
       "      <td>3.303328</td>\n",
       "    </tr>\n",
       "    <tr>\n",
       "      <th>2000-01-28</th>\n",
       "      <td>-9.000319</td>\n",
       "      <td>6.093663</td>\n",
       "      <td>0.393662</td>\n",
       "      <td>3.730954</td>\n",
       "    </tr>\n",
       "    <tr>\n",
       "      <th>2000-01-29</th>\n",
       "      <td>-9.604198</td>\n",
       "      <td>4.672330</td>\n",
       "      <td>-0.454101</td>\n",
       "      <td>3.370665</td>\n",
       "    </tr>\n",
       "    <tr>\n",
       "      <th>2000-01-30</th>\n",
       "      <td>-10.784367</td>\n",
       "      <td>6.032862</td>\n",
       "      <td>-0.716620</td>\n",
       "      <td>3.426032</td>\n",
       "    </tr>\n",
       "    <tr>\n",
       "      <th>...</th>\n",
       "      <td>...</td>\n",
       "      <td>...</td>\n",
       "      <td>...</td>\n",
       "      <td>...</td>\n",
       "    </tr>\n",
       "    <tr>\n",
       "      <th>2002-08-28</th>\n",
       "      <td>-57.668860</td>\n",
       "      <td>15.398070</td>\n",
       "      <td>-14.077816</td>\n",
       "      <td>29.710941</td>\n",
       "    </tr>\n",
       "    <tr>\n",
       "      <th>2002-08-29</th>\n",
       "      <td>-56.633702</td>\n",
       "      <td>15.168808</td>\n",
       "      <td>-13.527704</td>\n",
       "      <td>30.365983</td>\n",
       "    </tr>\n",
       "    <tr>\n",
       "      <th>2002-08-30</th>\n",
       "      <td>-56.537090</td>\n",
       "      <td>14.943160</td>\n",
       "      <td>-13.609123</td>\n",
       "      <td>30.330607</td>\n",
       "    </tr>\n",
       "    <tr>\n",
       "      <th>2002-08-31</th>\n",
       "      <td>-57.559282</td>\n",
       "      <td>13.910218</td>\n",
       "      <td>-14.284975</td>\n",
       "      <td>29.150292</td>\n",
       "    </tr>\n",
       "    <tr>\n",
       "      <th>2002-09-01</th>\n",
       "      <td>-58.036147</td>\n",
       "      <td>12.929889</td>\n",
       "      <td>-14.447755</td>\n",
       "      <td>27.867464</td>\n",
       "    </tr>\n",
       "    <tr>\n",
       "      <th>2002-09-02</th>\n",
       "      <td>-57.320502</td>\n",
       "      <td>12.017611</td>\n",
       "      <td>-16.223156</td>\n",
       "      <td>28.545215</td>\n",
       "    </tr>\n",
       "    <tr>\n",
       "      <th>2002-09-03</th>\n",
       "      <td>-58.143922</td>\n",
       "      <td>12.266910</td>\n",
       "      <td>-17.017359</td>\n",
       "      <td>29.821777</td>\n",
       "    </tr>\n",
       "    <tr>\n",
       "      <th>2002-09-04</th>\n",
       "      <td>-58.728408</td>\n",
       "      <td>11.354085</td>\n",
       "      <td>-16.840088</td>\n",
       "      <td>28.191304</td>\n",
       "    </tr>\n",
       "    <tr>\n",
       "      <th>2002-09-05</th>\n",
       "      <td>-58.465295</td>\n",
       "      <td>12.273221</td>\n",
       "      <td>-17.624345</td>\n",
       "      <td>26.033380</td>\n",
       "    </tr>\n",
       "    <tr>\n",
       "      <th>2002-09-06</th>\n",
       "      <td>-58.283687</td>\n",
       "      <td>13.087353</td>\n",
       "      <td>-16.675615</td>\n",
       "      <td>26.903275</td>\n",
       "    </tr>\n",
       "    <tr>\n",
       "      <th>2002-09-07</th>\n",
       "      <td>-57.934884</td>\n",
       "      <td>14.317789</td>\n",
       "      <td>-15.699499</td>\n",
       "      <td>26.453086</td>\n",
       "    </tr>\n",
       "    <tr>\n",
       "      <th>2002-09-08</th>\n",
       "      <td>-56.223404</td>\n",
       "      <td>13.041127</td>\n",
       "      <td>-15.812669</td>\n",
       "      <td>26.632719</td>\n",
       "    </tr>\n",
       "    <tr>\n",
       "      <th>2002-09-09</th>\n",
       "      <td>-55.056260</td>\n",
       "      <td>12.833225</td>\n",
       "      <td>-14.875768</td>\n",
       "      <td>24.972226</td>\n",
       "    </tr>\n",
       "    <tr>\n",
       "      <th>2002-09-10</th>\n",
       "      <td>-55.071631</td>\n",
       "      <td>11.089189</td>\n",
       "      <td>-14.278374</td>\n",
       "      <td>24.400915</td>\n",
       "    </tr>\n",
       "    <tr>\n",
       "      <th>2002-09-11</th>\n",
       "      <td>-54.686072</td>\n",
       "      <td>11.894784</td>\n",
       "      <td>-15.254228</td>\n",
       "      <td>25.564676</td>\n",
       "    </tr>\n",
       "    <tr>\n",
       "      <th>2002-09-12</th>\n",
       "      <td>-55.494816</td>\n",
       "      <td>11.945513</td>\n",
       "      <td>-14.586175</td>\n",
       "      <td>25.326629</td>\n",
       "    </tr>\n",
       "    <tr>\n",
       "      <th>2002-09-13</th>\n",
       "      <td>-56.292269</td>\n",
       "      <td>13.094245</td>\n",
       "      <td>-14.630408</td>\n",
       "      <td>23.854402</td>\n",
       "    </tr>\n",
       "    <tr>\n",
       "      <th>2002-09-14</th>\n",
       "      <td>-55.771357</td>\n",
       "      <td>13.433868</td>\n",
       "      <td>-12.935731</td>\n",
       "      <td>24.113138</td>\n",
       "    </tr>\n",
       "    <tr>\n",
       "      <th>2002-09-15</th>\n",
       "      <td>-56.025650</td>\n",
       "      <td>13.531019</td>\n",
       "      <td>-13.386426</td>\n",
       "      <td>24.366636</td>\n",
       "    </tr>\n",
       "    <tr>\n",
       "      <th>2002-09-16</th>\n",
       "      <td>-54.930186</td>\n",
       "      <td>13.630470</td>\n",
       "      <td>-13.483327</td>\n",
       "      <td>23.867298</td>\n",
       "    </tr>\n",
       "    <tr>\n",
       "      <th>2002-09-17</th>\n",
       "      <td>-56.558076</td>\n",
       "      <td>13.334340</td>\n",
       "      <td>-15.115746</td>\n",
       "      <td>24.854317</td>\n",
       "    </tr>\n",
       "    <tr>\n",
       "      <th>2002-09-18</th>\n",
       "      <td>-57.842106</td>\n",
       "      <td>13.636453</td>\n",
       "      <td>-13.631861</td>\n",
       "      <td>26.742453</td>\n",
       "    </tr>\n",
       "    <tr>\n",
       "      <th>2002-09-19</th>\n",
       "      <td>-58.019910</td>\n",
       "      <td>13.528588</td>\n",
       "      <td>-12.976779</td>\n",
       "      <td>28.226029</td>\n",
       "    </tr>\n",
       "    <tr>\n",
       "      <th>2002-09-20</th>\n",
       "      <td>-56.919370</td>\n",
       "      <td>15.195321</td>\n",
       "      <td>-12.538145</td>\n",
       "      <td>28.255410</td>\n",
       "    </tr>\n",
       "    <tr>\n",
       "      <th>2002-09-21</th>\n",
       "      <td>-55.651478</td>\n",
       "      <td>14.423294</td>\n",
       "      <td>-14.045082</td>\n",
       "      <td>28.825694</td>\n",
       "    </tr>\n",
       "    <tr>\n",
       "      <th>2002-09-22</th>\n",
       "      <td>-54.481715</td>\n",
       "      <td>13.166432</td>\n",
       "      <td>-14.882690</td>\n",
       "      <td>28.322079</td>\n",
       "    </tr>\n",
       "    <tr>\n",
       "      <th>2002-09-23</th>\n",
       "      <td>-55.749541</td>\n",
       "      <td>12.548342</td>\n",
       "      <td>-12.382921</td>\n",
       "      <td>27.489224</td>\n",
       "    </tr>\n",
       "    <tr>\n",
       "      <th>2002-09-24</th>\n",
       "      <td>-53.477466</td>\n",
       "      <td>11.712330</td>\n",
       "      <td>-12.136817</td>\n",
       "      <td>27.282859</td>\n",
       "    </tr>\n",
       "    <tr>\n",
       "      <th>2002-09-25</th>\n",
       "      <td>-53.040236</td>\n",
       "      <td>11.886699</td>\n",
       "      <td>-13.143011</td>\n",
       "      <td>26.841983</td>\n",
       "    </tr>\n",
       "    <tr>\n",
       "      <th>2002-09-26</th>\n",
       "      <td>-52.261962</td>\n",
       "      <td>11.606334</td>\n",
       "      <td>-11.805199</td>\n",
       "      <td>29.581109</td>\n",
       "    </tr>\n",
       "  </tbody>\n",
       "</table>\n",
       "<p>1000 rows × 4 columns</p>\n",
       "</div>"
      ],
      "text/plain": [
       "                    A          B          C          D\n",
       "2000-01-01   0.706620  -1.161688   0.099580   1.910567\n",
       "2000-01-02  -1.301425  -0.241876   0.505881   0.704413\n",
       "2000-01-03  -1.466749  -0.714582   1.131817  -0.090220\n",
       "2000-01-04  -1.268877  -0.674117   1.456098  -0.849111\n",
       "2000-01-05  -2.817786  -0.974213   1.525343  -1.251521\n",
       "2000-01-06  -2.912346  -0.284558   1.077543   0.179057\n",
       "2000-01-07  -3.776506  -0.656286   2.560434   1.176466\n",
       "2000-01-08  -3.170526  -0.957435   2.705603   1.342401\n",
       "2000-01-09  -4.737681  -1.133429   2.377678  -1.178586\n",
       "2000-01-10  -4.305008  -1.526970   2.245310  -2.629415\n",
       "2000-01-11  -3.729897   0.674250   1.336337  -1.547471\n",
       "2000-01-12  -5.334674   1.796567   0.902277  -2.723121\n",
       "2000-01-13  -5.694762   2.569460   1.959433  -1.725348\n",
       "2000-01-14  -6.661196   3.342312   2.736483  -0.649659\n",
       "2000-01-15  -4.993180   3.213296   2.238991  -1.354169\n",
       "2000-01-16  -6.799941   2.212183   1.608175  -1.277753\n",
       "2000-01-17  -7.328807   0.511402   2.162448   0.328981\n",
       "2000-01-18  -7.500031   0.783260   1.205494   1.268234\n",
       "2000-01-19  -9.010483   1.499308   1.592975   2.302878\n",
       "2000-01-20  -8.939653   0.792277   0.286593   0.784490\n",
       "2000-01-21  -8.179155  -0.276675  -1.143360   1.458172\n",
       "2000-01-22  -7.550823   1.366255  -2.010309   0.575013\n",
       "2000-01-23  -9.199418   4.772757  -2.704189   1.405259\n",
       "2000-01-24  -9.141139   4.967497  -1.035476   1.490677\n",
       "2000-01-25  -9.283214   4.609720  -0.918923   1.552612\n",
       "2000-01-26  -8.758616   5.300362  -0.554971   1.853967\n",
       "2000-01-27 -10.287713   6.169840  -0.914185   3.303328\n",
       "2000-01-28  -9.000319   6.093663   0.393662   3.730954\n",
       "2000-01-29  -9.604198   4.672330  -0.454101   3.370665\n",
       "2000-01-30 -10.784367   6.032862  -0.716620   3.426032\n",
       "...               ...        ...        ...        ...\n",
       "2002-08-28 -57.668860  15.398070 -14.077816  29.710941\n",
       "2002-08-29 -56.633702  15.168808 -13.527704  30.365983\n",
       "2002-08-30 -56.537090  14.943160 -13.609123  30.330607\n",
       "2002-08-31 -57.559282  13.910218 -14.284975  29.150292\n",
       "2002-09-01 -58.036147  12.929889 -14.447755  27.867464\n",
       "2002-09-02 -57.320502  12.017611 -16.223156  28.545215\n",
       "2002-09-03 -58.143922  12.266910 -17.017359  29.821777\n",
       "2002-09-04 -58.728408  11.354085 -16.840088  28.191304\n",
       "2002-09-05 -58.465295  12.273221 -17.624345  26.033380\n",
       "2002-09-06 -58.283687  13.087353 -16.675615  26.903275\n",
       "2002-09-07 -57.934884  14.317789 -15.699499  26.453086\n",
       "2002-09-08 -56.223404  13.041127 -15.812669  26.632719\n",
       "2002-09-09 -55.056260  12.833225 -14.875768  24.972226\n",
       "2002-09-10 -55.071631  11.089189 -14.278374  24.400915\n",
       "2002-09-11 -54.686072  11.894784 -15.254228  25.564676\n",
       "2002-09-12 -55.494816  11.945513 -14.586175  25.326629\n",
       "2002-09-13 -56.292269  13.094245 -14.630408  23.854402\n",
       "2002-09-14 -55.771357  13.433868 -12.935731  24.113138\n",
       "2002-09-15 -56.025650  13.531019 -13.386426  24.366636\n",
       "2002-09-16 -54.930186  13.630470 -13.483327  23.867298\n",
       "2002-09-17 -56.558076  13.334340 -15.115746  24.854317\n",
       "2002-09-18 -57.842106  13.636453 -13.631861  26.742453\n",
       "2002-09-19 -58.019910  13.528588 -12.976779  28.226029\n",
       "2002-09-20 -56.919370  15.195321 -12.538145  28.255410\n",
       "2002-09-21 -55.651478  14.423294 -14.045082  28.825694\n",
       "2002-09-22 -54.481715  13.166432 -14.882690  28.322079\n",
       "2002-09-23 -55.749541  12.548342 -12.382921  27.489224\n",
       "2002-09-24 -53.477466  11.712330 -12.136817  27.282859\n",
       "2002-09-25 -53.040236  11.886699 -13.143011  26.841983\n",
       "2002-09-26 -52.261962  11.606334 -11.805199  29.581109\n",
       "\n",
       "[1000 rows x 4 columns]"
      ]
     },
     "execution_count": 201,
     "metadata": {},
     "output_type": "execute_result"
    }
   ],
   "source": [
    "pd.read_hdf('foo.h5','df')"
   ]
  },
  {
   "cell_type": "markdown",
   "metadata": {},
   "source": [
    "Reading and writing to MS Excel\n",
    "\n",
    "Writing to an excel file"
   ]
  },
  {
   "cell_type": "code",
   "execution_count": 198,
   "metadata": {
    "collapsed": true
   },
   "outputs": [],
   "source": [
    "df.to_excel('foo.xlsx', sheet_name='Sheet1')"
   ]
  },
  {
   "cell_type": "markdown",
   "metadata": {},
   "source": [
    "Reading from an excel file"
   ]
  },
  {
   "cell_type": "code",
   "execution_count": 199,
   "metadata": {
    "collapsed": false
   },
   "outputs": [
    {
     "data": {
      "text/html": [
       "<div>\n",
       "<table border=\"1\" class=\"dataframe\">\n",
       "  <thead>\n",
       "    <tr style=\"text-align: right;\">\n",
       "      <th></th>\n",
       "      <th>A</th>\n",
       "      <th>B</th>\n",
       "      <th>C</th>\n",
       "      <th>D</th>\n",
       "    </tr>\n",
       "  </thead>\n",
       "  <tbody>\n",
       "    <tr>\n",
       "      <th>2000-01-01</th>\n",
       "      <td>0.706620</td>\n",
       "      <td>-1.161688</td>\n",
       "      <td>0.099580</td>\n",
       "      <td>1.910567</td>\n",
       "    </tr>\n",
       "    <tr>\n",
       "      <th>2000-01-02</th>\n",
       "      <td>-1.301425</td>\n",
       "      <td>-0.241876</td>\n",
       "      <td>0.505881</td>\n",
       "      <td>0.704413</td>\n",
       "    </tr>\n",
       "    <tr>\n",
       "      <th>2000-01-03</th>\n",
       "      <td>-1.466749</td>\n",
       "      <td>-0.714582</td>\n",
       "      <td>1.131817</td>\n",
       "      <td>-0.090220</td>\n",
       "    </tr>\n",
       "    <tr>\n",
       "      <th>2000-01-04</th>\n",
       "      <td>-1.268877</td>\n",
       "      <td>-0.674117</td>\n",
       "      <td>1.456098</td>\n",
       "      <td>-0.849111</td>\n",
       "    </tr>\n",
       "    <tr>\n",
       "      <th>2000-01-05</th>\n",
       "      <td>-2.817786</td>\n",
       "      <td>-0.974213</td>\n",
       "      <td>1.525343</td>\n",
       "      <td>-1.251521</td>\n",
       "    </tr>\n",
       "    <tr>\n",
       "      <th>2000-01-06</th>\n",
       "      <td>-2.912346</td>\n",
       "      <td>-0.284558</td>\n",
       "      <td>1.077543</td>\n",
       "      <td>0.179057</td>\n",
       "    </tr>\n",
       "    <tr>\n",
       "      <th>2000-01-07</th>\n",
       "      <td>-3.776506</td>\n",
       "      <td>-0.656286</td>\n",
       "      <td>2.560434</td>\n",
       "      <td>1.176466</td>\n",
       "    </tr>\n",
       "    <tr>\n",
       "      <th>2000-01-08</th>\n",
       "      <td>-3.170526</td>\n",
       "      <td>-0.957435</td>\n",
       "      <td>2.705603</td>\n",
       "      <td>1.342401</td>\n",
       "    </tr>\n",
       "    <tr>\n",
       "      <th>2000-01-09</th>\n",
       "      <td>-4.737681</td>\n",
       "      <td>-1.133429</td>\n",
       "      <td>2.377678</td>\n",
       "      <td>-1.178586</td>\n",
       "    </tr>\n",
       "    <tr>\n",
       "      <th>2000-01-10</th>\n",
       "      <td>-4.305008</td>\n",
       "      <td>-1.526970</td>\n",
       "      <td>2.245310</td>\n",
       "      <td>-2.629415</td>\n",
       "    </tr>\n",
       "    <tr>\n",
       "      <th>2000-01-11</th>\n",
       "      <td>-3.729897</td>\n",
       "      <td>0.674250</td>\n",
       "      <td>1.336337</td>\n",
       "      <td>-1.547471</td>\n",
       "    </tr>\n",
       "    <tr>\n",
       "      <th>2000-01-12</th>\n",
       "      <td>-5.334674</td>\n",
       "      <td>1.796567</td>\n",
       "      <td>0.902277</td>\n",
       "      <td>-2.723121</td>\n",
       "    </tr>\n",
       "    <tr>\n",
       "      <th>2000-01-13</th>\n",
       "      <td>-5.694762</td>\n",
       "      <td>2.569460</td>\n",
       "      <td>1.959433</td>\n",
       "      <td>-1.725348</td>\n",
       "    </tr>\n",
       "    <tr>\n",
       "      <th>2000-01-14</th>\n",
       "      <td>-6.661196</td>\n",
       "      <td>3.342312</td>\n",
       "      <td>2.736483</td>\n",
       "      <td>-0.649659</td>\n",
       "    </tr>\n",
       "    <tr>\n",
       "      <th>2000-01-15</th>\n",
       "      <td>-4.993180</td>\n",
       "      <td>3.213296</td>\n",
       "      <td>2.238991</td>\n",
       "      <td>-1.354169</td>\n",
       "    </tr>\n",
       "    <tr>\n",
       "      <th>2000-01-16</th>\n",
       "      <td>-6.799941</td>\n",
       "      <td>2.212183</td>\n",
       "      <td>1.608175</td>\n",
       "      <td>-1.277753</td>\n",
       "    </tr>\n",
       "    <tr>\n",
       "      <th>2000-01-17</th>\n",
       "      <td>-7.328807</td>\n",
       "      <td>0.511402</td>\n",
       "      <td>2.162448</td>\n",
       "      <td>0.328981</td>\n",
       "    </tr>\n",
       "    <tr>\n",
       "      <th>2000-01-18</th>\n",
       "      <td>-7.500031</td>\n",
       "      <td>0.783260</td>\n",
       "      <td>1.205494</td>\n",
       "      <td>1.268234</td>\n",
       "    </tr>\n",
       "    <tr>\n",
       "      <th>2000-01-19</th>\n",
       "      <td>-9.010483</td>\n",
       "      <td>1.499308</td>\n",
       "      <td>1.592975</td>\n",
       "      <td>2.302878</td>\n",
       "    </tr>\n",
       "    <tr>\n",
       "      <th>2000-01-20</th>\n",
       "      <td>-8.939653</td>\n",
       "      <td>0.792277</td>\n",
       "      <td>0.286593</td>\n",
       "      <td>0.784490</td>\n",
       "    </tr>\n",
       "    <tr>\n",
       "      <th>2000-01-21</th>\n",
       "      <td>-8.179155</td>\n",
       "      <td>-0.276675</td>\n",
       "      <td>-1.143360</td>\n",
       "      <td>1.458172</td>\n",
       "    </tr>\n",
       "    <tr>\n",
       "      <th>2000-01-22</th>\n",
       "      <td>-7.550823</td>\n",
       "      <td>1.366255</td>\n",
       "      <td>-2.010309</td>\n",
       "      <td>0.575013</td>\n",
       "    </tr>\n",
       "    <tr>\n",
       "      <th>2000-01-23</th>\n",
       "      <td>-9.199418</td>\n",
       "      <td>4.772757</td>\n",
       "      <td>-2.704189</td>\n",
       "      <td>1.405259</td>\n",
       "    </tr>\n",
       "    <tr>\n",
       "      <th>2000-01-24</th>\n",
       "      <td>-9.141139</td>\n",
       "      <td>4.967497</td>\n",
       "      <td>-1.035476</td>\n",
       "      <td>1.490677</td>\n",
       "    </tr>\n",
       "    <tr>\n",
       "      <th>2000-01-25</th>\n",
       "      <td>-9.283214</td>\n",
       "      <td>4.609720</td>\n",
       "      <td>-0.918923</td>\n",
       "      <td>1.552612</td>\n",
       "    </tr>\n",
       "    <tr>\n",
       "      <th>2000-01-26</th>\n",
       "      <td>-8.758616</td>\n",
       "      <td>5.300362</td>\n",
       "      <td>-0.554971</td>\n",
       "      <td>1.853967</td>\n",
       "    </tr>\n",
       "    <tr>\n",
       "      <th>2000-01-27</th>\n",
       "      <td>-10.287713</td>\n",
       "      <td>6.169840</td>\n",
       "      <td>-0.914185</td>\n",
       "      <td>3.303328</td>\n",
       "    </tr>\n",
       "    <tr>\n",
       "      <th>2000-01-28</th>\n",
       "      <td>-9.000319</td>\n",
       "      <td>6.093663</td>\n",
       "      <td>0.393662</td>\n",
       "      <td>3.730954</td>\n",
       "    </tr>\n",
       "    <tr>\n",
       "      <th>2000-01-29</th>\n",
       "      <td>-9.604198</td>\n",
       "      <td>4.672330</td>\n",
       "      <td>-0.454101</td>\n",
       "      <td>3.370665</td>\n",
       "    </tr>\n",
       "    <tr>\n",
       "      <th>2000-01-30</th>\n",
       "      <td>-10.784367</td>\n",
       "      <td>6.032862</td>\n",
       "      <td>-0.716620</td>\n",
       "      <td>3.426032</td>\n",
       "    </tr>\n",
       "    <tr>\n",
       "      <th>...</th>\n",
       "      <td>...</td>\n",
       "      <td>...</td>\n",
       "      <td>...</td>\n",
       "      <td>...</td>\n",
       "    </tr>\n",
       "    <tr>\n",
       "      <th>2002-08-28</th>\n",
       "      <td>-57.668860</td>\n",
       "      <td>15.398070</td>\n",
       "      <td>-14.077816</td>\n",
       "      <td>29.710941</td>\n",
       "    </tr>\n",
       "    <tr>\n",
       "      <th>2002-08-29</th>\n",
       "      <td>-56.633702</td>\n",
       "      <td>15.168808</td>\n",
       "      <td>-13.527704</td>\n",
       "      <td>30.365983</td>\n",
       "    </tr>\n",
       "    <tr>\n",
       "      <th>2002-08-30</th>\n",
       "      <td>-56.537090</td>\n",
       "      <td>14.943160</td>\n",
       "      <td>-13.609123</td>\n",
       "      <td>30.330607</td>\n",
       "    </tr>\n",
       "    <tr>\n",
       "      <th>2002-08-31</th>\n",
       "      <td>-57.559282</td>\n",
       "      <td>13.910218</td>\n",
       "      <td>-14.284975</td>\n",
       "      <td>29.150292</td>\n",
       "    </tr>\n",
       "    <tr>\n",
       "      <th>2002-09-01</th>\n",
       "      <td>-58.036147</td>\n",
       "      <td>12.929889</td>\n",
       "      <td>-14.447755</td>\n",
       "      <td>27.867464</td>\n",
       "    </tr>\n",
       "    <tr>\n",
       "      <th>2002-09-02</th>\n",
       "      <td>-57.320502</td>\n",
       "      <td>12.017611</td>\n",
       "      <td>-16.223156</td>\n",
       "      <td>28.545215</td>\n",
       "    </tr>\n",
       "    <tr>\n",
       "      <th>2002-09-03</th>\n",
       "      <td>-58.143922</td>\n",
       "      <td>12.266910</td>\n",
       "      <td>-17.017359</td>\n",
       "      <td>29.821777</td>\n",
       "    </tr>\n",
       "    <tr>\n",
       "      <th>2002-09-04</th>\n",
       "      <td>-58.728408</td>\n",
       "      <td>11.354085</td>\n",
       "      <td>-16.840088</td>\n",
       "      <td>28.191304</td>\n",
       "    </tr>\n",
       "    <tr>\n",
       "      <th>2002-09-05</th>\n",
       "      <td>-58.465295</td>\n",
       "      <td>12.273221</td>\n",
       "      <td>-17.624345</td>\n",
       "      <td>26.033380</td>\n",
       "    </tr>\n",
       "    <tr>\n",
       "      <th>2002-09-06</th>\n",
       "      <td>-58.283687</td>\n",
       "      <td>13.087353</td>\n",
       "      <td>-16.675615</td>\n",
       "      <td>26.903275</td>\n",
       "    </tr>\n",
       "    <tr>\n",
       "      <th>2002-09-07</th>\n",
       "      <td>-57.934884</td>\n",
       "      <td>14.317789</td>\n",
       "      <td>-15.699499</td>\n",
       "      <td>26.453086</td>\n",
       "    </tr>\n",
       "    <tr>\n",
       "      <th>2002-09-08</th>\n",
       "      <td>-56.223404</td>\n",
       "      <td>13.041127</td>\n",
       "      <td>-15.812669</td>\n",
       "      <td>26.632719</td>\n",
       "    </tr>\n",
       "    <tr>\n",
       "      <th>2002-09-09</th>\n",
       "      <td>-55.056260</td>\n",
       "      <td>12.833225</td>\n",
       "      <td>-14.875768</td>\n",
       "      <td>24.972226</td>\n",
       "    </tr>\n",
       "    <tr>\n",
       "      <th>2002-09-10</th>\n",
       "      <td>-55.071631</td>\n",
       "      <td>11.089189</td>\n",
       "      <td>-14.278374</td>\n",
       "      <td>24.400915</td>\n",
       "    </tr>\n",
       "    <tr>\n",
       "      <th>2002-09-11</th>\n",
       "      <td>-54.686072</td>\n",
       "      <td>11.894784</td>\n",
       "      <td>-15.254228</td>\n",
       "      <td>25.564676</td>\n",
       "    </tr>\n",
       "    <tr>\n",
       "      <th>2002-09-12</th>\n",
       "      <td>-55.494816</td>\n",
       "      <td>11.945513</td>\n",
       "      <td>-14.586175</td>\n",
       "      <td>25.326629</td>\n",
       "    </tr>\n",
       "    <tr>\n",
       "      <th>2002-09-13</th>\n",
       "      <td>-56.292269</td>\n",
       "      <td>13.094245</td>\n",
       "      <td>-14.630408</td>\n",
       "      <td>23.854402</td>\n",
       "    </tr>\n",
       "    <tr>\n",
       "      <th>2002-09-14</th>\n",
       "      <td>-55.771357</td>\n",
       "      <td>13.433868</td>\n",
       "      <td>-12.935731</td>\n",
       "      <td>24.113138</td>\n",
       "    </tr>\n",
       "    <tr>\n",
       "      <th>2002-09-15</th>\n",
       "      <td>-56.025650</td>\n",
       "      <td>13.531019</td>\n",
       "      <td>-13.386426</td>\n",
       "      <td>24.366636</td>\n",
       "    </tr>\n",
       "    <tr>\n",
       "      <th>2002-09-16</th>\n",
       "      <td>-54.930186</td>\n",
       "      <td>13.630470</td>\n",
       "      <td>-13.483327</td>\n",
       "      <td>23.867298</td>\n",
       "    </tr>\n",
       "    <tr>\n",
       "      <th>2002-09-17</th>\n",
       "      <td>-56.558076</td>\n",
       "      <td>13.334340</td>\n",
       "      <td>-15.115746</td>\n",
       "      <td>24.854317</td>\n",
       "    </tr>\n",
       "    <tr>\n",
       "      <th>2002-09-18</th>\n",
       "      <td>-57.842106</td>\n",
       "      <td>13.636453</td>\n",
       "      <td>-13.631861</td>\n",
       "      <td>26.742453</td>\n",
       "    </tr>\n",
       "    <tr>\n",
       "      <th>2002-09-19</th>\n",
       "      <td>-58.019910</td>\n",
       "      <td>13.528588</td>\n",
       "      <td>-12.976779</td>\n",
       "      <td>28.226029</td>\n",
       "    </tr>\n",
       "    <tr>\n",
       "      <th>2002-09-20</th>\n",
       "      <td>-56.919370</td>\n",
       "      <td>15.195321</td>\n",
       "      <td>-12.538145</td>\n",
       "      <td>28.255410</td>\n",
       "    </tr>\n",
       "    <tr>\n",
       "      <th>2002-09-21</th>\n",
       "      <td>-55.651478</td>\n",
       "      <td>14.423294</td>\n",
       "      <td>-14.045082</td>\n",
       "      <td>28.825694</td>\n",
       "    </tr>\n",
       "    <tr>\n",
       "      <th>2002-09-22</th>\n",
       "      <td>-54.481715</td>\n",
       "      <td>13.166432</td>\n",
       "      <td>-14.882690</td>\n",
       "      <td>28.322079</td>\n",
       "    </tr>\n",
       "    <tr>\n",
       "      <th>2002-09-23</th>\n",
       "      <td>-55.749541</td>\n",
       "      <td>12.548342</td>\n",
       "      <td>-12.382921</td>\n",
       "      <td>27.489224</td>\n",
       "    </tr>\n",
       "    <tr>\n",
       "      <th>2002-09-24</th>\n",
       "      <td>-53.477466</td>\n",
       "      <td>11.712330</td>\n",
       "      <td>-12.136817</td>\n",
       "      <td>27.282859</td>\n",
       "    </tr>\n",
       "    <tr>\n",
       "      <th>2002-09-25</th>\n",
       "      <td>-53.040236</td>\n",
       "      <td>11.886699</td>\n",
       "      <td>-13.143011</td>\n",
       "      <td>26.841983</td>\n",
       "    </tr>\n",
       "    <tr>\n",
       "      <th>2002-09-26</th>\n",
       "      <td>-52.261962</td>\n",
       "      <td>11.606334</td>\n",
       "      <td>-11.805199</td>\n",
       "      <td>29.581109</td>\n",
       "    </tr>\n",
       "  </tbody>\n",
       "</table>\n",
       "<p>1000 rows × 4 columns</p>\n",
       "</div>"
      ],
      "text/plain": [
       "                    A          B          C          D\n",
       "2000-01-01   0.706620  -1.161688   0.099580   1.910567\n",
       "2000-01-02  -1.301425  -0.241876   0.505881   0.704413\n",
       "2000-01-03  -1.466749  -0.714582   1.131817  -0.090220\n",
       "2000-01-04  -1.268877  -0.674117   1.456098  -0.849111\n",
       "2000-01-05  -2.817786  -0.974213   1.525343  -1.251521\n",
       "2000-01-06  -2.912346  -0.284558   1.077543   0.179057\n",
       "2000-01-07  -3.776506  -0.656286   2.560434   1.176466\n",
       "2000-01-08  -3.170526  -0.957435   2.705603   1.342401\n",
       "2000-01-09  -4.737681  -1.133429   2.377678  -1.178586\n",
       "2000-01-10  -4.305008  -1.526970   2.245310  -2.629415\n",
       "2000-01-11  -3.729897   0.674250   1.336337  -1.547471\n",
       "2000-01-12  -5.334674   1.796567   0.902277  -2.723121\n",
       "2000-01-13  -5.694762   2.569460   1.959433  -1.725348\n",
       "2000-01-14  -6.661196   3.342312   2.736483  -0.649659\n",
       "2000-01-15  -4.993180   3.213296   2.238991  -1.354169\n",
       "2000-01-16  -6.799941   2.212183   1.608175  -1.277753\n",
       "2000-01-17  -7.328807   0.511402   2.162448   0.328981\n",
       "2000-01-18  -7.500031   0.783260   1.205494   1.268234\n",
       "2000-01-19  -9.010483   1.499308   1.592975   2.302878\n",
       "2000-01-20  -8.939653   0.792277   0.286593   0.784490\n",
       "2000-01-21  -8.179155  -0.276675  -1.143360   1.458172\n",
       "2000-01-22  -7.550823   1.366255  -2.010309   0.575013\n",
       "2000-01-23  -9.199418   4.772757  -2.704189   1.405259\n",
       "2000-01-24  -9.141139   4.967497  -1.035476   1.490677\n",
       "2000-01-25  -9.283214   4.609720  -0.918923   1.552612\n",
       "2000-01-26  -8.758616   5.300362  -0.554971   1.853967\n",
       "2000-01-27 -10.287713   6.169840  -0.914185   3.303328\n",
       "2000-01-28  -9.000319   6.093663   0.393662   3.730954\n",
       "2000-01-29  -9.604198   4.672330  -0.454101   3.370665\n",
       "2000-01-30 -10.784367   6.032862  -0.716620   3.426032\n",
       "...               ...        ...        ...        ...\n",
       "2002-08-28 -57.668860  15.398070 -14.077816  29.710941\n",
       "2002-08-29 -56.633702  15.168808 -13.527704  30.365983\n",
       "2002-08-30 -56.537090  14.943160 -13.609123  30.330607\n",
       "2002-08-31 -57.559282  13.910218 -14.284975  29.150292\n",
       "2002-09-01 -58.036147  12.929889 -14.447755  27.867464\n",
       "2002-09-02 -57.320502  12.017611 -16.223156  28.545215\n",
       "2002-09-03 -58.143922  12.266910 -17.017359  29.821777\n",
       "2002-09-04 -58.728408  11.354085 -16.840088  28.191304\n",
       "2002-09-05 -58.465295  12.273221 -17.624345  26.033380\n",
       "2002-09-06 -58.283687  13.087353 -16.675615  26.903275\n",
       "2002-09-07 -57.934884  14.317789 -15.699499  26.453086\n",
       "2002-09-08 -56.223404  13.041127 -15.812669  26.632719\n",
       "2002-09-09 -55.056260  12.833225 -14.875768  24.972226\n",
       "2002-09-10 -55.071631  11.089189 -14.278374  24.400915\n",
       "2002-09-11 -54.686072  11.894784 -15.254228  25.564676\n",
       "2002-09-12 -55.494816  11.945513 -14.586175  25.326629\n",
       "2002-09-13 -56.292269  13.094245 -14.630408  23.854402\n",
       "2002-09-14 -55.771357  13.433868 -12.935731  24.113138\n",
       "2002-09-15 -56.025650  13.531019 -13.386426  24.366636\n",
       "2002-09-16 -54.930186  13.630470 -13.483327  23.867298\n",
       "2002-09-17 -56.558076  13.334340 -15.115746  24.854317\n",
       "2002-09-18 -57.842106  13.636453 -13.631861  26.742453\n",
       "2002-09-19 -58.019910  13.528588 -12.976779  28.226029\n",
       "2002-09-20 -56.919370  15.195321 -12.538145  28.255410\n",
       "2002-09-21 -55.651478  14.423294 -14.045082  28.825694\n",
       "2002-09-22 -54.481715  13.166432 -14.882690  28.322079\n",
       "2002-09-23 -55.749541  12.548342 -12.382921  27.489224\n",
       "2002-09-24 -53.477466  11.712330 -12.136817  27.282859\n",
       "2002-09-25 -53.040236  11.886699 -13.143011  26.841983\n",
       "2002-09-26 -52.261962  11.606334 -11.805199  29.581109\n",
       "\n",
       "[1000 rows x 4 columns]"
      ]
     },
     "execution_count": 199,
     "metadata": {},
     "output_type": "execute_result"
    }
   ],
   "source": [
    "pd.read_excel('foo.xlsx', 'Sheet1', index_col=None, na_values=['NA'])"
   ]
  },
  {
   "cell_type": "code",
   "execution_count": null,
   "metadata": {
    "collapsed": true
   },
   "outputs": [],
   "source": []
  }
 ],
 "metadata": {
  "kernelspec": {
   "display_name": "Python [Root]",
   "language": "python",
   "name": "Python [Root]"
  },
  "language_info": {
   "codemirror_mode": {
    "name": "ipython",
    "version": 3
   },
   "file_extension": ".py",
   "mimetype": "text/x-python",
   "name": "python",
   "nbconvert_exporter": "python",
   "pygments_lexer": "ipython3",
   "version": "3.5.2"
  }
 },
 "nbformat": 4,
 "nbformat_minor": 0
}
